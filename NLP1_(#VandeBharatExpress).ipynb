{
  "nbformat": 4,
  "nbformat_minor": 0,
  "metadata": {
    "colab": {
      "provenance": [],
      "toc_visible": true,
      "authorship_tag": "ABX9TyPCB5mRvnCcNF/kje2C/lqu",
      "include_colab_link": true
    },
    "kernelspec": {
      "name": "python3",
      "display_name": "Python 3"
    },
    "language_info": {
      "name": "python"
    },
    "widgets": {
      "application/vnd.jupyter.widget-state+json": {
        "fe91f88578d54bf8a45d6c7de5b552a2": {
          "model_module": "@jupyter-widgets/controls",
          "model_name": "HBoxModel",
          "model_module_version": "1.5.0",
          "state": {
            "_dom_classes": [],
            "_model_module": "@jupyter-widgets/controls",
            "_model_module_version": "1.5.0",
            "_model_name": "HBoxModel",
            "_view_count": null,
            "_view_module": "@jupyter-widgets/controls",
            "_view_module_version": "1.5.0",
            "_view_name": "HBoxView",
            "box_style": "",
            "children": [
              "IPY_MODEL_58bbc2431cc04aea9b4c4d5efdc8306f",
              "IPY_MODEL_3d8fd96273854a619bf8ae3a74edada8",
              "IPY_MODEL_478b0e35e2d2497e847092adb3d01092"
            ],
            "layout": "IPY_MODEL_af532b139f2843d6912b2d2853c13d63"
          }
        },
        "58bbc2431cc04aea9b4c4d5efdc8306f": {
          "model_module": "@jupyter-widgets/controls",
          "model_name": "HTMLModel",
          "model_module_version": "1.5.0",
          "state": {
            "_dom_classes": [],
            "_model_module": "@jupyter-widgets/controls",
            "_model_module_version": "1.5.0",
            "_model_name": "HTMLModel",
            "_view_count": null,
            "_view_module": "@jupyter-widgets/controls",
            "_view_module_version": "1.5.0",
            "_view_name": "HTMLView",
            "description": "",
            "description_tooltip": null,
            "layout": "IPY_MODEL_1fbc132e525c4aa2bc52cad6aa2346a4",
            "placeholder": "​",
            "style": "IPY_MODEL_960ad4b33b2042f3882c4d7aef02dc65",
            "value": "Downloading (…)lve/main/config.json: 100%"
          }
        },
        "3d8fd96273854a619bf8ae3a74edada8": {
          "model_module": "@jupyter-widgets/controls",
          "model_name": "FloatProgressModel",
          "model_module_version": "1.5.0",
          "state": {
            "_dom_classes": [],
            "_model_module": "@jupyter-widgets/controls",
            "_model_module_version": "1.5.0",
            "_model_name": "FloatProgressModel",
            "_view_count": null,
            "_view_module": "@jupyter-widgets/controls",
            "_view_module_version": "1.5.0",
            "_view_name": "ProgressView",
            "bar_style": "success",
            "description": "",
            "description_tooltip": null,
            "layout": "IPY_MODEL_4caef614229c4636b9a318b898ccd73a",
            "max": 1208,
            "min": 0,
            "orientation": "horizontal",
            "style": "IPY_MODEL_a9646e3d0a8744459a76871d6c1192a1",
            "value": 1208
          }
        },
        "478b0e35e2d2497e847092adb3d01092": {
          "model_module": "@jupyter-widgets/controls",
          "model_name": "HTMLModel",
          "model_module_version": "1.5.0",
          "state": {
            "_dom_classes": [],
            "_model_module": "@jupyter-widgets/controls",
            "_model_module_version": "1.5.0",
            "_model_name": "HTMLModel",
            "_view_count": null,
            "_view_module": "@jupyter-widgets/controls",
            "_view_module_version": "1.5.0",
            "_view_name": "HTMLView",
            "description": "",
            "description_tooltip": null,
            "layout": "IPY_MODEL_7e34e6ac903c4b84b9882be1beb75bb3",
            "placeholder": "​",
            "style": "IPY_MODEL_50143e84e8db4f658398285c173e706a",
            "value": " 1.21k/1.21k [00:00&lt;00:00, 28.7kB/s]"
          }
        },
        "af532b139f2843d6912b2d2853c13d63": {
          "model_module": "@jupyter-widgets/base",
          "model_name": "LayoutModel",
          "model_module_version": "1.2.0",
          "state": {
            "_model_module": "@jupyter-widgets/base",
            "_model_module_version": "1.2.0",
            "_model_name": "LayoutModel",
            "_view_count": null,
            "_view_module": "@jupyter-widgets/base",
            "_view_module_version": "1.2.0",
            "_view_name": "LayoutView",
            "align_content": null,
            "align_items": null,
            "align_self": null,
            "border": null,
            "bottom": null,
            "display": null,
            "flex": null,
            "flex_flow": null,
            "grid_area": null,
            "grid_auto_columns": null,
            "grid_auto_flow": null,
            "grid_auto_rows": null,
            "grid_column": null,
            "grid_gap": null,
            "grid_row": null,
            "grid_template_areas": null,
            "grid_template_columns": null,
            "grid_template_rows": null,
            "height": null,
            "justify_content": null,
            "justify_items": null,
            "left": null,
            "margin": null,
            "max_height": null,
            "max_width": null,
            "min_height": null,
            "min_width": null,
            "object_fit": null,
            "object_position": null,
            "order": null,
            "overflow": null,
            "overflow_x": null,
            "overflow_y": null,
            "padding": null,
            "right": null,
            "top": null,
            "visibility": null,
            "width": null
          }
        },
        "1fbc132e525c4aa2bc52cad6aa2346a4": {
          "model_module": "@jupyter-widgets/base",
          "model_name": "LayoutModel",
          "model_module_version": "1.2.0",
          "state": {
            "_model_module": "@jupyter-widgets/base",
            "_model_module_version": "1.2.0",
            "_model_name": "LayoutModel",
            "_view_count": null,
            "_view_module": "@jupyter-widgets/base",
            "_view_module_version": "1.2.0",
            "_view_name": "LayoutView",
            "align_content": null,
            "align_items": null,
            "align_self": null,
            "border": null,
            "bottom": null,
            "display": null,
            "flex": null,
            "flex_flow": null,
            "grid_area": null,
            "grid_auto_columns": null,
            "grid_auto_flow": null,
            "grid_auto_rows": null,
            "grid_column": null,
            "grid_gap": null,
            "grid_row": null,
            "grid_template_areas": null,
            "grid_template_columns": null,
            "grid_template_rows": null,
            "height": null,
            "justify_content": null,
            "justify_items": null,
            "left": null,
            "margin": null,
            "max_height": null,
            "max_width": null,
            "min_height": null,
            "min_width": null,
            "object_fit": null,
            "object_position": null,
            "order": null,
            "overflow": null,
            "overflow_x": null,
            "overflow_y": null,
            "padding": null,
            "right": null,
            "top": null,
            "visibility": null,
            "width": null
          }
        },
        "960ad4b33b2042f3882c4d7aef02dc65": {
          "model_module": "@jupyter-widgets/controls",
          "model_name": "DescriptionStyleModel",
          "model_module_version": "1.5.0",
          "state": {
            "_model_module": "@jupyter-widgets/controls",
            "_model_module_version": "1.5.0",
            "_model_name": "DescriptionStyleModel",
            "_view_count": null,
            "_view_module": "@jupyter-widgets/base",
            "_view_module_version": "1.2.0",
            "_view_name": "StyleView",
            "description_width": ""
          }
        },
        "4caef614229c4636b9a318b898ccd73a": {
          "model_module": "@jupyter-widgets/base",
          "model_name": "LayoutModel",
          "model_module_version": "1.2.0",
          "state": {
            "_model_module": "@jupyter-widgets/base",
            "_model_module_version": "1.2.0",
            "_model_name": "LayoutModel",
            "_view_count": null,
            "_view_module": "@jupyter-widgets/base",
            "_view_module_version": "1.2.0",
            "_view_name": "LayoutView",
            "align_content": null,
            "align_items": null,
            "align_self": null,
            "border": null,
            "bottom": null,
            "display": null,
            "flex": null,
            "flex_flow": null,
            "grid_area": null,
            "grid_auto_columns": null,
            "grid_auto_flow": null,
            "grid_auto_rows": null,
            "grid_column": null,
            "grid_gap": null,
            "grid_row": null,
            "grid_template_areas": null,
            "grid_template_columns": null,
            "grid_template_rows": null,
            "height": null,
            "justify_content": null,
            "justify_items": null,
            "left": null,
            "margin": null,
            "max_height": null,
            "max_width": null,
            "min_height": null,
            "min_width": null,
            "object_fit": null,
            "object_position": null,
            "order": null,
            "overflow": null,
            "overflow_x": null,
            "overflow_y": null,
            "padding": null,
            "right": null,
            "top": null,
            "visibility": null,
            "width": null
          }
        },
        "a9646e3d0a8744459a76871d6c1192a1": {
          "model_module": "@jupyter-widgets/controls",
          "model_name": "ProgressStyleModel",
          "model_module_version": "1.5.0",
          "state": {
            "_model_module": "@jupyter-widgets/controls",
            "_model_module_version": "1.5.0",
            "_model_name": "ProgressStyleModel",
            "_view_count": null,
            "_view_module": "@jupyter-widgets/base",
            "_view_module_version": "1.2.0",
            "_view_name": "StyleView",
            "bar_color": null,
            "description_width": ""
          }
        },
        "7e34e6ac903c4b84b9882be1beb75bb3": {
          "model_module": "@jupyter-widgets/base",
          "model_name": "LayoutModel",
          "model_module_version": "1.2.0",
          "state": {
            "_model_module": "@jupyter-widgets/base",
            "_model_module_version": "1.2.0",
            "_model_name": "LayoutModel",
            "_view_count": null,
            "_view_module": "@jupyter-widgets/base",
            "_view_module_version": "1.2.0",
            "_view_name": "LayoutView",
            "align_content": null,
            "align_items": null,
            "align_self": null,
            "border": null,
            "bottom": null,
            "display": null,
            "flex": null,
            "flex_flow": null,
            "grid_area": null,
            "grid_auto_columns": null,
            "grid_auto_flow": null,
            "grid_auto_rows": null,
            "grid_column": null,
            "grid_gap": null,
            "grid_row": null,
            "grid_template_areas": null,
            "grid_template_columns": null,
            "grid_template_rows": null,
            "height": null,
            "justify_content": null,
            "justify_items": null,
            "left": null,
            "margin": null,
            "max_height": null,
            "max_width": null,
            "min_height": null,
            "min_width": null,
            "object_fit": null,
            "object_position": null,
            "order": null,
            "overflow": null,
            "overflow_x": null,
            "overflow_y": null,
            "padding": null,
            "right": null,
            "top": null,
            "visibility": null,
            "width": null
          }
        },
        "50143e84e8db4f658398285c173e706a": {
          "model_module": "@jupyter-widgets/controls",
          "model_name": "DescriptionStyleModel",
          "model_module_version": "1.5.0",
          "state": {
            "_model_module": "@jupyter-widgets/controls",
            "_model_module_version": "1.5.0",
            "_model_name": "DescriptionStyleModel",
            "_view_count": null,
            "_view_module": "@jupyter-widgets/base",
            "_view_module_version": "1.2.0",
            "_view_name": "StyleView",
            "description_width": ""
          }
        },
        "3fb683b0963344ca9e3fb9cb952d476e": {
          "model_module": "@jupyter-widgets/controls",
          "model_name": "HBoxModel",
          "model_module_version": "1.5.0",
          "state": {
            "_dom_classes": [],
            "_model_module": "@jupyter-widgets/controls",
            "_model_module_version": "1.5.0",
            "_model_name": "HBoxModel",
            "_view_count": null,
            "_view_module": "@jupyter-widgets/controls",
            "_view_module_version": "1.5.0",
            "_view_name": "HBoxView",
            "box_style": "",
            "children": [
              "IPY_MODEL_b9f1ab4ffbde4399b4fca43fb6291a79",
              "IPY_MODEL_e329583539164d0cbd40f729ea0d9a87",
              "IPY_MODEL_3a89b6adddd346f1b8ecec0ee18ff622"
            ],
            "layout": "IPY_MODEL_563f148b4ee64ca58f931cdfbde5e3fb"
          }
        },
        "b9f1ab4ffbde4399b4fca43fb6291a79": {
          "model_module": "@jupyter-widgets/controls",
          "model_name": "HTMLModel",
          "model_module_version": "1.5.0",
          "state": {
            "_dom_classes": [],
            "_model_module": "@jupyter-widgets/controls",
            "_model_module_version": "1.5.0",
            "_model_name": "HTMLModel",
            "_view_count": null,
            "_view_module": "@jupyter-widgets/controls",
            "_view_module_version": "1.5.0",
            "_view_name": "HTMLView",
            "description": "",
            "description_tooltip": null,
            "layout": "IPY_MODEL_5ceafb34f7aa4a589def363d123b3afc",
            "placeholder": "​",
            "style": "IPY_MODEL_5fc43355924a4b5e914becba2843888e",
            "value": "Downloading (…)ve/main/spiece.model: 100%"
          }
        },
        "e329583539164d0cbd40f729ea0d9a87": {
          "model_module": "@jupyter-widgets/controls",
          "model_name": "FloatProgressModel",
          "model_module_version": "1.5.0",
          "state": {
            "_dom_classes": [],
            "_model_module": "@jupyter-widgets/controls",
            "_model_module_version": "1.5.0",
            "_model_name": "FloatProgressModel",
            "_view_count": null,
            "_view_module": "@jupyter-widgets/controls",
            "_view_module_version": "1.5.0",
            "_view_name": "ProgressView",
            "bar_style": "success",
            "description": "",
            "description_tooltip": null,
            "layout": "IPY_MODEL_ae8f84db5bcb4f31b84f673e97412cfe",
            "max": 791656,
            "min": 0,
            "orientation": "horizontal",
            "style": "IPY_MODEL_91959da58e92479885baba49d2edb4e9",
            "value": 791656
          }
        },
        "3a89b6adddd346f1b8ecec0ee18ff622": {
          "model_module": "@jupyter-widgets/controls",
          "model_name": "HTMLModel",
          "model_module_version": "1.5.0",
          "state": {
            "_dom_classes": [],
            "_model_module": "@jupyter-widgets/controls",
            "_model_module_version": "1.5.0",
            "_model_name": "HTMLModel",
            "_view_count": null,
            "_view_module": "@jupyter-widgets/controls",
            "_view_module_version": "1.5.0",
            "_view_name": "HTMLView",
            "description": "",
            "description_tooltip": null,
            "layout": "IPY_MODEL_de876c7c6eb64ef0aba756547ddac660",
            "placeholder": "​",
            "style": "IPY_MODEL_d92dcefbe54d43aab7ae946e5cdd3ad1",
            "value": " 792k/792k [00:00&lt;00:00, 11.4MB/s]"
          }
        },
        "563f148b4ee64ca58f931cdfbde5e3fb": {
          "model_module": "@jupyter-widgets/base",
          "model_name": "LayoutModel",
          "model_module_version": "1.2.0",
          "state": {
            "_model_module": "@jupyter-widgets/base",
            "_model_module_version": "1.2.0",
            "_model_name": "LayoutModel",
            "_view_count": null,
            "_view_module": "@jupyter-widgets/base",
            "_view_module_version": "1.2.0",
            "_view_name": "LayoutView",
            "align_content": null,
            "align_items": null,
            "align_self": null,
            "border": null,
            "bottom": null,
            "display": null,
            "flex": null,
            "flex_flow": null,
            "grid_area": null,
            "grid_auto_columns": null,
            "grid_auto_flow": null,
            "grid_auto_rows": null,
            "grid_column": null,
            "grid_gap": null,
            "grid_row": null,
            "grid_template_areas": null,
            "grid_template_columns": null,
            "grid_template_rows": null,
            "height": null,
            "justify_content": null,
            "justify_items": null,
            "left": null,
            "margin": null,
            "max_height": null,
            "max_width": null,
            "min_height": null,
            "min_width": null,
            "object_fit": null,
            "object_position": null,
            "order": null,
            "overflow": null,
            "overflow_x": null,
            "overflow_y": null,
            "padding": null,
            "right": null,
            "top": null,
            "visibility": null,
            "width": null
          }
        },
        "5ceafb34f7aa4a589def363d123b3afc": {
          "model_module": "@jupyter-widgets/base",
          "model_name": "LayoutModel",
          "model_module_version": "1.2.0",
          "state": {
            "_model_module": "@jupyter-widgets/base",
            "_model_module_version": "1.2.0",
            "_model_name": "LayoutModel",
            "_view_count": null,
            "_view_module": "@jupyter-widgets/base",
            "_view_module_version": "1.2.0",
            "_view_name": "LayoutView",
            "align_content": null,
            "align_items": null,
            "align_self": null,
            "border": null,
            "bottom": null,
            "display": null,
            "flex": null,
            "flex_flow": null,
            "grid_area": null,
            "grid_auto_columns": null,
            "grid_auto_flow": null,
            "grid_auto_rows": null,
            "grid_column": null,
            "grid_gap": null,
            "grid_row": null,
            "grid_template_areas": null,
            "grid_template_columns": null,
            "grid_template_rows": null,
            "height": null,
            "justify_content": null,
            "justify_items": null,
            "left": null,
            "margin": null,
            "max_height": null,
            "max_width": null,
            "min_height": null,
            "min_width": null,
            "object_fit": null,
            "object_position": null,
            "order": null,
            "overflow": null,
            "overflow_x": null,
            "overflow_y": null,
            "padding": null,
            "right": null,
            "top": null,
            "visibility": null,
            "width": null
          }
        },
        "5fc43355924a4b5e914becba2843888e": {
          "model_module": "@jupyter-widgets/controls",
          "model_name": "DescriptionStyleModel",
          "model_module_version": "1.5.0",
          "state": {
            "_model_module": "@jupyter-widgets/controls",
            "_model_module_version": "1.5.0",
            "_model_name": "DescriptionStyleModel",
            "_view_count": null,
            "_view_module": "@jupyter-widgets/base",
            "_view_module_version": "1.2.0",
            "_view_name": "StyleView",
            "description_width": ""
          }
        },
        "ae8f84db5bcb4f31b84f673e97412cfe": {
          "model_module": "@jupyter-widgets/base",
          "model_name": "LayoutModel",
          "model_module_version": "1.2.0",
          "state": {
            "_model_module": "@jupyter-widgets/base",
            "_model_module_version": "1.2.0",
            "_model_name": "LayoutModel",
            "_view_count": null,
            "_view_module": "@jupyter-widgets/base",
            "_view_module_version": "1.2.0",
            "_view_name": "LayoutView",
            "align_content": null,
            "align_items": null,
            "align_self": null,
            "border": null,
            "bottom": null,
            "display": null,
            "flex": null,
            "flex_flow": null,
            "grid_area": null,
            "grid_auto_columns": null,
            "grid_auto_flow": null,
            "grid_auto_rows": null,
            "grid_column": null,
            "grid_gap": null,
            "grid_row": null,
            "grid_template_areas": null,
            "grid_template_columns": null,
            "grid_template_rows": null,
            "height": null,
            "justify_content": null,
            "justify_items": null,
            "left": null,
            "margin": null,
            "max_height": null,
            "max_width": null,
            "min_height": null,
            "min_width": null,
            "object_fit": null,
            "object_position": null,
            "order": null,
            "overflow": null,
            "overflow_x": null,
            "overflow_y": null,
            "padding": null,
            "right": null,
            "top": null,
            "visibility": null,
            "width": null
          }
        },
        "91959da58e92479885baba49d2edb4e9": {
          "model_module": "@jupyter-widgets/controls",
          "model_name": "ProgressStyleModel",
          "model_module_version": "1.5.0",
          "state": {
            "_model_module": "@jupyter-widgets/controls",
            "_model_module_version": "1.5.0",
            "_model_name": "ProgressStyleModel",
            "_view_count": null,
            "_view_module": "@jupyter-widgets/base",
            "_view_module_version": "1.2.0",
            "_view_name": "StyleView",
            "bar_color": null,
            "description_width": ""
          }
        },
        "de876c7c6eb64ef0aba756547ddac660": {
          "model_module": "@jupyter-widgets/base",
          "model_name": "LayoutModel",
          "model_module_version": "1.2.0",
          "state": {
            "_model_module": "@jupyter-widgets/base",
            "_model_module_version": "1.2.0",
            "_model_name": "LayoutModel",
            "_view_count": null,
            "_view_module": "@jupyter-widgets/base",
            "_view_module_version": "1.2.0",
            "_view_name": "LayoutView",
            "align_content": null,
            "align_items": null,
            "align_self": null,
            "border": null,
            "bottom": null,
            "display": null,
            "flex": null,
            "flex_flow": null,
            "grid_area": null,
            "grid_auto_columns": null,
            "grid_auto_flow": null,
            "grid_auto_rows": null,
            "grid_column": null,
            "grid_gap": null,
            "grid_row": null,
            "grid_template_areas": null,
            "grid_template_columns": null,
            "grid_template_rows": null,
            "height": null,
            "justify_content": null,
            "justify_items": null,
            "left": null,
            "margin": null,
            "max_height": null,
            "max_width": null,
            "min_height": null,
            "min_width": null,
            "object_fit": null,
            "object_position": null,
            "order": null,
            "overflow": null,
            "overflow_x": null,
            "overflow_y": null,
            "padding": null,
            "right": null,
            "top": null,
            "visibility": null,
            "width": null
          }
        },
        "d92dcefbe54d43aab7ae946e5cdd3ad1": {
          "model_module": "@jupyter-widgets/controls",
          "model_name": "DescriptionStyleModel",
          "model_module_version": "1.5.0",
          "state": {
            "_model_module": "@jupyter-widgets/controls",
            "_model_module_version": "1.5.0",
            "_model_name": "DescriptionStyleModel",
            "_view_count": null,
            "_view_module": "@jupyter-widgets/base",
            "_view_module_version": "1.2.0",
            "_view_name": "StyleView",
            "description_width": ""
          }
        },
        "64a500842b8b4e408b3f5c7c1e25a6b5": {
          "model_module": "@jupyter-widgets/controls",
          "model_name": "HBoxModel",
          "model_module_version": "1.5.0",
          "state": {
            "_dom_classes": [],
            "_model_module": "@jupyter-widgets/controls",
            "_model_module_version": "1.5.0",
            "_model_name": "HBoxModel",
            "_view_count": null,
            "_view_module": "@jupyter-widgets/controls",
            "_view_module_version": "1.5.0",
            "_view_name": "HBoxView",
            "box_style": "",
            "children": [
              "IPY_MODEL_418c43b304ca49b68886593f937e825b",
              "IPY_MODEL_36032954e4f84d38bfebafe28a485d16",
              "IPY_MODEL_34ffa23caa684dbbadffefe96337f374"
            ],
            "layout": "IPY_MODEL_9e6d73b404d6438288e0a42ef7742920"
          }
        },
        "418c43b304ca49b68886593f937e825b": {
          "model_module": "@jupyter-widgets/controls",
          "model_name": "HTMLModel",
          "model_module_version": "1.5.0",
          "state": {
            "_dom_classes": [],
            "_model_module": "@jupyter-widgets/controls",
            "_model_module_version": "1.5.0",
            "_model_name": "HTMLModel",
            "_view_count": null,
            "_view_module": "@jupyter-widgets/controls",
            "_view_module_version": "1.5.0",
            "_view_name": "HTMLView",
            "description": "",
            "description_tooltip": null,
            "layout": "IPY_MODEL_e54fd4ddd30b4748a8160851c07c9304",
            "placeholder": "​",
            "style": "IPY_MODEL_0e2da306bc9c4bcd935337812129b2a1",
            "value": "Downloading (…)/main/tokenizer.json: 100%"
          }
        },
        "36032954e4f84d38bfebafe28a485d16": {
          "model_module": "@jupyter-widgets/controls",
          "model_name": "FloatProgressModel",
          "model_module_version": "1.5.0",
          "state": {
            "_dom_classes": [],
            "_model_module": "@jupyter-widgets/controls",
            "_model_module_version": "1.5.0",
            "_model_name": "FloatProgressModel",
            "_view_count": null,
            "_view_module": "@jupyter-widgets/controls",
            "_view_module_version": "1.5.0",
            "_view_name": "ProgressView",
            "bar_style": "success",
            "description": "",
            "description_tooltip": null,
            "layout": "IPY_MODEL_b00455b721284ca0baddf7b40415321a",
            "max": 1389353,
            "min": 0,
            "orientation": "horizontal",
            "style": "IPY_MODEL_45c65c02b8574d46b9cc6970a3333efd",
            "value": 1389353
          }
        },
        "34ffa23caa684dbbadffefe96337f374": {
          "model_module": "@jupyter-widgets/controls",
          "model_name": "HTMLModel",
          "model_module_version": "1.5.0",
          "state": {
            "_dom_classes": [],
            "_model_module": "@jupyter-widgets/controls",
            "_model_module_version": "1.5.0",
            "_model_name": "HTMLModel",
            "_view_count": null,
            "_view_module": "@jupyter-widgets/controls",
            "_view_module_version": "1.5.0",
            "_view_name": "HTMLView",
            "description": "",
            "description_tooltip": null,
            "layout": "IPY_MODEL_e7347f520d1e4763a7739ff39c4be37d",
            "placeholder": "​",
            "style": "IPY_MODEL_a600a123ebb447dbb096574d556a340d",
            "value": " 1.39M/1.39M [00:00&lt;00:00, 9.30MB/s]"
          }
        },
        "9e6d73b404d6438288e0a42ef7742920": {
          "model_module": "@jupyter-widgets/base",
          "model_name": "LayoutModel",
          "model_module_version": "1.2.0",
          "state": {
            "_model_module": "@jupyter-widgets/base",
            "_model_module_version": "1.2.0",
            "_model_name": "LayoutModel",
            "_view_count": null,
            "_view_module": "@jupyter-widgets/base",
            "_view_module_version": "1.2.0",
            "_view_name": "LayoutView",
            "align_content": null,
            "align_items": null,
            "align_self": null,
            "border": null,
            "bottom": null,
            "display": null,
            "flex": null,
            "flex_flow": null,
            "grid_area": null,
            "grid_auto_columns": null,
            "grid_auto_flow": null,
            "grid_auto_rows": null,
            "grid_column": null,
            "grid_gap": null,
            "grid_row": null,
            "grid_template_areas": null,
            "grid_template_columns": null,
            "grid_template_rows": null,
            "height": null,
            "justify_content": null,
            "justify_items": null,
            "left": null,
            "margin": null,
            "max_height": null,
            "max_width": null,
            "min_height": null,
            "min_width": null,
            "object_fit": null,
            "object_position": null,
            "order": null,
            "overflow": null,
            "overflow_x": null,
            "overflow_y": null,
            "padding": null,
            "right": null,
            "top": null,
            "visibility": null,
            "width": null
          }
        },
        "e54fd4ddd30b4748a8160851c07c9304": {
          "model_module": "@jupyter-widgets/base",
          "model_name": "LayoutModel",
          "model_module_version": "1.2.0",
          "state": {
            "_model_module": "@jupyter-widgets/base",
            "_model_module_version": "1.2.0",
            "_model_name": "LayoutModel",
            "_view_count": null,
            "_view_module": "@jupyter-widgets/base",
            "_view_module_version": "1.2.0",
            "_view_name": "LayoutView",
            "align_content": null,
            "align_items": null,
            "align_self": null,
            "border": null,
            "bottom": null,
            "display": null,
            "flex": null,
            "flex_flow": null,
            "grid_area": null,
            "grid_auto_columns": null,
            "grid_auto_flow": null,
            "grid_auto_rows": null,
            "grid_column": null,
            "grid_gap": null,
            "grid_row": null,
            "grid_template_areas": null,
            "grid_template_columns": null,
            "grid_template_rows": null,
            "height": null,
            "justify_content": null,
            "justify_items": null,
            "left": null,
            "margin": null,
            "max_height": null,
            "max_width": null,
            "min_height": null,
            "min_width": null,
            "object_fit": null,
            "object_position": null,
            "order": null,
            "overflow": null,
            "overflow_x": null,
            "overflow_y": null,
            "padding": null,
            "right": null,
            "top": null,
            "visibility": null,
            "width": null
          }
        },
        "0e2da306bc9c4bcd935337812129b2a1": {
          "model_module": "@jupyter-widgets/controls",
          "model_name": "DescriptionStyleModel",
          "model_module_version": "1.5.0",
          "state": {
            "_model_module": "@jupyter-widgets/controls",
            "_model_module_version": "1.5.0",
            "_model_name": "DescriptionStyleModel",
            "_view_count": null,
            "_view_module": "@jupyter-widgets/base",
            "_view_module_version": "1.2.0",
            "_view_name": "StyleView",
            "description_width": ""
          }
        },
        "b00455b721284ca0baddf7b40415321a": {
          "model_module": "@jupyter-widgets/base",
          "model_name": "LayoutModel",
          "model_module_version": "1.2.0",
          "state": {
            "_model_module": "@jupyter-widgets/base",
            "_model_module_version": "1.2.0",
            "_model_name": "LayoutModel",
            "_view_count": null,
            "_view_module": "@jupyter-widgets/base",
            "_view_module_version": "1.2.0",
            "_view_name": "LayoutView",
            "align_content": null,
            "align_items": null,
            "align_self": null,
            "border": null,
            "bottom": null,
            "display": null,
            "flex": null,
            "flex_flow": null,
            "grid_area": null,
            "grid_auto_columns": null,
            "grid_auto_flow": null,
            "grid_auto_rows": null,
            "grid_column": null,
            "grid_gap": null,
            "grid_row": null,
            "grid_template_areas": null,
            "grid_template_columns": null,
            "grid_template_rows": null,
            "height": null,
            "justify_content": null,
            "justify_items": null,
            "left": null,
            "margin": null,
            "max_height": null,
            "max_width": null,
            "min_height": null,
            "min_width": null,
            "object_fit": null,
            "object_position": null,
            "order": null,
            "overflow": null,
            "overflow_x": null,
            "overflow_y": null,
            "padding": null,
            "right": null,
            "top": null,
            "visibility": null,
            "width": null
          }
        },
        "45c65c02b8574d46b9cc6970a3333efd": {
          "model_module": "@jupyter-widgets/controls",
          "model_name": "ProgressStyleModel",
          "model_module_version": "1.5.0",
          "state": {
            "_model_module": "@jupyter-widgets/controls",
            "_model_module_version": "1.5.0",
            "_model_name": "ProgressStyleModel",
            "_view_count": null,
            "_view_module": "@jupyter-widgets/base",
            "_view_module_version": "1.2.0",
            "_view_name": "StyleView",
            "bar_color": null,
            "description_width": ""
          }
        },
        "e7347f520d1e4763a7739ff39c4be37d": {
          "model_module": "@jupyter-widgets/base",
          "model_name": "LayoutModel",
          "model_module_version": "1.2.0",
          "state": {
            "_model_module": "@jupyter-widgets/base",
            "_model_module_version": "1.2.0",
            "_model_name": "LayoutModel",
            "_view_count": null,
            "_view_module": "@jupyter-widgets/base",
            "_view_module_version": "1.2.0",
            "_view_name": "LayoutView",
            "align_content": null,
            "align_items": null,
            "align_self": null,
            "border": null,
            "bottom": null,
            "display": null,
            "flex": null,
            "flex_flow": null,
            "grid_area": null,
            "grid_auto_columns": null,
            "grid_auto_flow": null,
            "grid_auto_rows": null,
            "grid_column": null,
            "grid_gap": null,
            "grid_row": null,
            "grid_template_areas": null,
            "grid_template_columns": null,
            "grid_template_rows": null,
            "height": null,
            "justify_content": null,
            "justify_items": null,
            "left": null,
            "margin": null,
            "max_height": null,
            "max_width": null,
            "min_height": null,
            "min_width": null,
            "object_fit": null,
            "object_position": null,
            "order": null,
            "overflow": null,
            "overflow_x": null,
            "overflow_y": null,
            "padding": null,
            "right": null,
            "top": null,
            "visibility": null,
            "width": null
          }
        },
        "a600a123ebb447dbb096574d556a340d": {
          "model_module": "@jupyter-widgets/controls",
          "model_name": "DescriptionStyleModel",
          "model_module_version": "1.5.0",
          "state": {
            "_model_module": "@jupyter-widgets/controls",
            "_model_module_version": "1.5.0",
            "_model_name": "DescriptionStyleModel",
            "_view_count": null,
            "_view_module": "@jupyter-widgets/base",
            "_view_module_version": "1.2.0",
            "_view_name": "StyleView",
            "description_width": ""
          }
        },
        "1de69f08f72e4600891cc4cd1977a6e8": {
          "model_module": "@jupyter-widgets/controls",
          "model_name": "HBoxModel",
          "model_module_version": "1.5.0",
          "state": {
            "_dom_classes": [],
            "_model_module": "@jupyter-widgets/controls",
            "_model_module_version": "1.5.0",
            "_model_name": "HBoxModel",
            "_view_count": null,
            "_view_module": "@jupyter-widgets/controls",
            "_view_module_version": "1.5.0",
            "_view_name": "HBoxView",
            "box_style": "",
            "children": [
              "IPY_MODEL_88695747f9094ed79e0a49787dbc2e0a",
              "IPY_MODEL_89ed00a7a15d40d6a44a6b6a4ef92c7f",
              "IPY_MODEL_e5962f16b61f4257b4de86befb00871b"
            ],
            "layout": "IPY_MODEL_c0c8b7f534f04a8190d3afa1bea81497"
          }
        },
        "88695747f9094ed79e0a49787dbc2e0a": {
          "model_module": "@jupyter-widgets/controls",
          "model_name": "HTMLModel",
          "model_module_version": "1.5.0",
          "state": {
            "_dom_classes": [],
            "_model_module": "@jupyter-widgets/controls",
            "_model_module_version": "1.5.0",
            "_model_name": "HTMLModel",
            "_view_count": null,
            "_view_module": "@jupyter-widgets/controls",
            "_view_module_version": "1.5.0",
            "_view_name": "HTMLView",
            "description": "",
            "description_tooltip": null,
            "layout": "IPY_MODEL_dfa3b4cc45494f3d963c6bbbe9e731f5",
            "placeholder": "​",
            "style": "IPY_MODEL_60c0382f708c4389adf5297248425513",
            "value": "Downloading pytorch_model.bin: 100%"
          }
        },
        "89ed00a7a15d40d6a44a6b6a4ef92c7f": {
          "model_module": "@jupyter-widgets/controls",
          "model_name": "FloatProgressModel",
          "model_module_version": "1.5.0",
          "state": {
            "_dom_classes": [],
            "_model_module": "@jupyter-widgets/controls",
            "_model_module_version": "1.5.0",
            "_model_name": "FloatProgressModel",
            "_view_count": null,
            "_view_module": "@jupyter-widgets/controls",
            "_view_module_version": "1.5.0",
            "_view_name": "ProgressView",
            "bar_style": "success",
            "description": "",
            "description_tooltip": null,
            "layout": "IPY_MODEL_5124448caa04440ead699ef954672e83",
            "max": 891691430,
            "min": 0,
            "orientation": "horizontal",
            "style": "IPY_MODEL_347125005aa849b68f5c5f5c9e400dae",
            "value": 891691430
          }
        },
        "e5962f16b61f4257b4de86befb00871b": {
          "model_module": "@jupyter-widgets/controls",
          "model_name": "HTMLModel",
          "model_module_version": "1.5.0",
          "state": {
            "_dom_classes": [],
            "_model_module": "@jupyter-widgets/controls",
            "_model_module_version": "1.5.0",
            "_model_name": "HTMLModel",
            "_view_count": null,
            "_view_module": "@jupyter-widgets/controls",
            "_view_module_version": "1.5.0",
            "_view_name": "HTMLView",
            "description": "",
            "description_tooltip": null,
            "layout": "IPY_MODEL_91360be9ec214ab0a7da26d1cb29b79c",
            "placeholder": "​",
            "style": "IPY_MODEL_bb5ab2dcf4d84f28aa5bfe3bc24906ed",
            "value": " 892M/892M [00:14&lt;00:00, 56.9MB/s]"
          }
        },
        "c0c8b7f534f04a8190d3afa1bea81497": {
          "model_module": "@jupyter-widgets/base",
          "model_name": "LayoutModel",
          "model_module_version": "1.2.0",
          "state": {
            "_model_module": "@jupyter-widgets/base",
            "_model_module_version": "1.2.0",
            "_model_name": "LayoutModel",
            "_view_count": null,
            "_view_module": "@jupyter-widgets/base",
            "_view_module_version": "1.2.0",
            "_view_name": "LayoutView",
            "align_content": null,
            "align_items": null,
            "align_self": null,
            "border": null,
            "bottom": null,
            "display": null,
            "flex": null,
            "flex_flow": null,
            "grid_area": null,
            "grid_auto_columns": null,
            "grid_auto_flow": null,
            "grid_auto_rows": null,
            "grid_column": null,
            "grid_gap": null,
            "grid_row": null,
            "grid_template_areas": null,
            "grid_template_columns": null,
            "grid_template_rows": null,
            "height": null,
            "justify_content": null,
            "justify_items": null,
            "left": null,
            "margin": null,
            "max_height": null,
            "max_width": null,
            "min_height": null,
            "min_width": null,
            "object_fit": null,
            "object_position": null,
            "order": null,
            "overflow": null,
            "overflow_x": null,
            "overflow_y": null,
            "padding": null,
            "right": null,
            "top": null,
            "visibility": null,
            "width": null
          }
        },
        "dfa3b4cc45494f3d963c6bbbe9e731f5": {
          "model_module": "@jupyter-widgets/base",
          "model_name": "LayoutModel",
          "model_module_version": "1.2.0",
          "state": {
            "_model_module": "@jupyter-widgets/base",
            "_model_module_version": "1.2.0",
            "_model_name": "LayoutModel",
            "_view_count": null,
            "_view_module": "@jupyter-widgets/base",
            "_view_module_version": "1.2.0",
            "_view_name": "LayoutView",
            "align_content": null,
            "align_items": null,
            "align_self": null,
            "border": null,
            "bottom": null,
            "display": null,
            "flex": null,
            "flex_flow": null,
            "grid_area": null,
            "grid_auto_columns": null,
            "grid_auto_flow": null,
            "grid_auto_rows": null,
            "grid_column": null,
            "grid_gap": null,
            "grid_row": null,
            "grid_template_areas": null,
            "grid_template_columns": null,
            "grid_template_rows": null,
            "height": null,
            "justify_content": null,
            "justify_items": null,
            "left": null,
            "margin": null,
            "max_height": null,
            "max_width": null,
            "min_height": null,
            "min_width": null,
            "object_fit": null,
            "object_position": null,
            "order": null,
            "overflow": null,
            "overflow_x": null,
            "overflow_y": null,
            "padding": null,
            "right": null,
            "top": null,
            "visibility": null,
            "width": null
          }
        },
        "60c0382f708c4389adf5297248425513": {
          "model_module": "@jupyter-widgets/controls",
          "model_name": "DescriptionStyleModel",
          "model_module_version": "1.5.0",
          "state": {
            "_model_module": "@jupyter-widgets/controls",
            "_model_module_version": "1.5.0",
            "_model_name": "DescriptionStyleModel",
            "_view_count": null,
            "_view_module": "@jupyter-widgets/base",
            "_view_module_version": "1.2.0",
            "_view_name": "StyleView",
            "description_width": ""
          }
        },
        "5124448caa04440ead699ef954672e83": {
          "model_module": "@jupyter-widgets/base",
          "model_name": "LayoutModel",
          "model_module_version": "1.2.0",
          "state": {
            "_model_module": "@jupyter-widgets/base",
            "_model_module_version": "1.2.0",
            "_model_name": "LayoutModel",
            "_view_count": null,
            "_view_module": "@jupyter-widgets/base",
            "_view_module_version": "1.2.0",
            "_view_name": "LayoutView",
            "align_content": null,
            "align_items": null,
            "align_self": null,
            "border": null,
            "bottom": null,
            "display": null,
            "flex": null,
            "flex_flow": null,
            "grid_area": null,
            "grid_auto_columns": null,
            "grid_auto_flow": null,
            "grid_auto_rows": null,
            "grid_column": null,
            "grid_gap": null,
            "grid_row": null,
            "grid_template_areas": null,
            "grid_template_columns": null,
            "grid_template_rows": null,
            "height": null,
            "justify_content": null,
            "justify_items": null,
            "left": null,
            "margin": null,
            "max_height": null,
            "max_width": null,
            "min_height": null,
            "min_width": null,
            "object_fit": null,
            "object_position": null,
            "order": null,
            "overflow": null,
            "overflow_x": null,
            "overflow_y": null,
            "padding": null,
            "right": null,
            "top": null,
            "visibility": null,
            "width": null
          }
        },
        "347125005aa849b68f5c5f5c9e400dae": {
          "model_module": "@jupyter-widgets/controls",
          "model_name": "ProgressStyleModel",
          "model_module_version": "1.5.0",
          "state": {
            "_model_module": "@jupyter-widgets/controls",
            "_model_module_version": "1.5.0",
            "_model_name": "ProgressStyleModel",
            "_view_count": null,
            "_view_module": "@jupyter-widgets/base",
            "_view_module_version": "1.2.0",
            "_view_name": "StyleView",
            "bar_color": null,
            "description_width": ""
          }
        },
        "91360be9ec214ab0a7da26d1cb29b79c": {
          "model_module": "@jupyter-widgets/base",
          "model_name": "LayoutModel",
          "model_module_version": "1.2.0",
          "state": {
            "_model_module": "@jupyter-widgets/base",
            "_model_module_version": "1.2.0",
            "_model_name": "LayoutModel",
            "_view_count": null,
            "_view_module": "@jupyter-widgets/base",
            "_view_module_version": "1.2.0",
            "_view_name": "LayoutView",
            "align_content": null,
            "align_items": null,
            "align_self": null,
            "border": null,
            "bottom": null,
            "display": null,
            "flex": null,
            "flex_flow": null,
            "grid_area": null,
            "grid_auto_columns": null,
            "grid_auto_flow": null,
            "grid_auto_rows": null,
            "grid_column": null,
            "grid_gap": null,
            "grid_row": null,
            "grid_template_areas": null,
            "grid_template_columns": null,
            "grid_template_rows": null,
            "height": null,
            "justify_content": null,
            "justify_items": null,
            "left": null,
            "margin": null,
            "max_height": null,
            "max_width": null,
            "min_height": null,
            "min_width": null,
            "object_fit": null,
            "object_position": null,
            "order": null,
            "overflow": null,
            "overflow_x": null,
            "overflow_y": null,
            "padding": null,
            "right": null,
            "top": null,
            "visibility": null,
            "width": null
          }
        },
        "bb5ab2dcf4d84f28aa5bfe3bc24906ed": {
          "model_module": "@jupyter-widgets/controls",
          "model_name": "DescriptionStyleModel",
          "model_module_version": "1.5.0",
          "state": {
            "_model_module": "@jupyter-widgets/controls",
            "_model_module_version": "1.5.0",
            "_model_name": "DescriptionStyleModel",
            "_view_count": null,
            "_view_module": "@jupyter-widgets/base",
            "_view_module_version": "1.2.0",
            "_view_name": "StyleView",
            "description_width": ""
          }
        },
        "27c4cc74d6394286ad97fae0839399d8": {
          "model_module": "@jupyter-widgets/controls",
          "model_name": "HBoxModel",
          "model_module_version": "1.5.0",
          "state": {
            "_dom_classes": [],
            "_model_module": "@jupyter-widgets/controls",
            "_model_module_version": "1.5.0",
            "_model_name": "HBoxModel",
            "_view_count": null,
            "_view_module": "@jupyter-widgets/controls",
            "_view_module_version": "1.5.0",
            "_view_name": "HBoxView",
            "box_style": "",
            "children": [
              "IPY_MODEL_e0e32a3e297c4e6bbd04f4f2194acf90",
              "IPY_MODEL_140bbc71b27e4a0fb059109bf9eeed2c",
              "IPY_MODEL_33f4470972ad444baddf426067b345ad"
            ],
            "layout": "IPY_MODEL_1a9f1e3fe83e40609d55e5e89b0c19f7"
          }
        },
        "e0e32a3e297c4e6bbd04f4f2194acf90": {
          "model_module": "@jupyter-widgets/controls",
          "model_name": "HTMLModel",
          "model_module_version": "1.5.0",
          "state": {
            "_dom_classes": [],
            "_model_module": "@jupyter-widgets/controls",
            "_model_module_version": "1.5.0",
            "_model_name": "HTMLModel",
            "_view_count": null,
            "_view_module": "@jupyter-widgets/controls",
            "_view_module_version": "1.5.0",
            "_view_name": "HTMLView",
            "description": "",
            "description_tooltip": null,
            "layout": "IPY_MODEL_8aef0aebcf44409b89ac837a1006974d",
            "placeholder": "​",
            "style": "IPY_MODEL_f05a1d35c71244b9b2cde8935155a14f",
            "value": "Downloading (…)neration_config.json: 100%"
          }
        },
        "140bbc71b27e4a0fb059109bf9eeed2c": {
          "model_module": "@jupyter-widgets/controls",
          "model_name": "FloatProgressModel",
          "model_module_version": "1.5.0",
          "state": {
            "_dom_classes": [],
            "_model_module": "@jupyter-widgets/controls",
            "_model_module_version": "1.5.0",
            "_model_name": "FloatProgressModel",
            "_view_count": null,
            "_view_module": "@jupyter-widgets/controls",
            "_view_module_version": "1.5.0",
            "_view_name": "ProgressView",
            "bar_style": "success",
            "description": "",
            "description_tooltip": null,
            "layout": "IPY_MODEL_67efab46cd2543a2bc9dae56b839a392",
            "max": 147,
            "min": 0,
            "orientation": "horizontal",
            "style": "IPY_MODEL_45ebfd4335e14a53a77dfcee6389d037",
            "value": 147
          }
        },
        "33f4470972ad444baddf426067b345ad": {
          "model_module": "@jupyter-widgets/controls",
          "model_name": "HTMLModel",
          "model_module_version": "1.5.0",
          "state": {
            "_dom_classes": [],
            "_model_module": "@jupyter-widgets/controls",
            "_model_module_version": "1.5.0",
            "_model_name": "HTMLModel",
            "_view_count": null,
            "_view_module": "@jupyter-widgets/controls",
            "_view_module_version": "1.5.0",
            "_view_name": "HTMLView",
            "description": "",
            "description_tooltip": null,
            "layout": "IPY_MODEL_b48fbfbe094147c4804ddaf0560db1eb",
            "placeholder": "​",
            "style": "IPY_MODEL_dc9bc47b55a648dea3823b05b27746f0",
            "value": " 147/147 [00:00&lt;00:00, 6.61kB/s]"
          }
        },
        "1a9f1e3fe83e40609d55e5e89b0c19f7": {
          "model_module": "@jupyter-widgets/base",
          "model_name": "LayoutModel",
          "model_module_version": "1.2.0",
          "state": {
            "_model_module": "@jupyter-widgets/base",
            "_model_module_version": "1.2.0",
            "_model_name": "LayoutModel",
            "_view_count": null,
            "_view_module": "@jupyter-widgets/base",
            "_view_module_version": "1.2.0",
            "_view_name": "LayoutView",
            "align_content": null,
            "align_items": null,
            "align_self": null,
            "border": null,
            "bottom": null,
            "display": null,
            "flex": null,
            "flex_flow": null,
            "grid_area": null,
            "grid_auto_columns": null,
            "grid_auto_flow": null,
            "grid_auto_rows": null,
            "grid_column": null,
            "grid_gap": null,
            "grid_row": null,
            "grid_template_areas": null,
            "grid_template_columns": null,
            "grid_template_rows": null,
            "height": null,
            "justify_content": null,
            "justify_items": null,
            "left": null,
            "margin": null,
            "max_height": null,
            "max_width": null,
            "min_height": null,
            "min_width": null,
            "object_fit": null,
            "object_position": null,
            "order": null,
            "overflow": null,
            "overflow_x": null,
            "overflow_y": null,
            "padding": null,
            "right": null,
            "top": null,
            "visibility": null,
            "width": null
          }
        },
        "8aef0aebcf44409b89ac837a1006974d": {
          "model_module": "@jupyter-widgets/base",
          "model_name": "LayoutModel",
          "model_module_version": "1.2.0",
          "state": {
            "_model_module": "@jupyter-widgets/base",
            "_model_module_version": "1.2.0",
            "_model_name": "LayoutModel",
            "_view_count": null,
            "_view_module": "@jupyter-widgets/base",
            "_view_module_version": "1.2.0",
            "_view_name": "LayoutView",
            "align_content": null,
            "align_items": null,
            "align_self": null,
            "border": null,
            "bottom": null,
            "display": null,
            "flex": null,
            "flex_flow": null,
            "grid_area": null,
            "grid_auto_columns": null,
            "grid_auto_flow": null,
            "grid_auto_rows": null,
            "grid_column": null,
            "grid_gap": null,
            "grid_row": null,
            "grid_template_areas": null,
            "grid_template_columns": null,
            "grid_template_rows": null,
            "height": null,
            "justify_content": null,
            "justify_items": null,
            "left": null,
            "margin": null,
            "max_height": null,
            "max_width": null,
            "min_height": null,
            "min_width": null,
            "object_fit": null,
            "object_position": null,
            "order": null,
            "overflow": null,
            "overflow_x": null,
            "overflow_y": null,
            "padding": null,
            "right": null,
            "top": null,
            "visibility": null,
            "width": null
          }
        },
        "f05a1d35c71244b9b2cde8935155a14f": {
          "model_module": "@jupyter-widgets/controls",
          "model_name": "DescriptionStyleModel",
          "model_module_version": "1.5.0",
          "state": {
            "_model_module": "@jupyter-widgets/controls",
            "_model_module_version": "1.5.0",
            "_model_name": "DescriptionStyleModel",
            "_view_count": null,
            "_view_module": "@jupyter-widgets/base",
            "_view_module_version": "1.2.0",
            "_view_name": "StyleView",
            "description_width": ""
          }
        },
        "67efab46cd2543a2bc9dae56b839a392": {
          "model_module": "@jupyter-widgets/base",
          "model_name": "LayoutModel",
          "model_module_version": "1.2.0",
          "state": {
            "_model_module": "@jupyter-widgets/base",
            "_model_module_version": "1.2.0",
            "_model_name": "LayoutModel",
            "_view_count": null,
            "_view_module": "@jupyter-widgets/base",
            "_view_module_version": "1.2.0",
            "_view_name": "LayoutView",
            "align_content": null,
            "align_items": null,
            "align_self": null,
            "border": null,
            "bottom": null,
            "display": null,
            "flex": null,
            "flex_flow": null,
            "grid_area": null,
            "grid_auto_columns": null,
            "grid_auto_flow": null,
            "grid_auto_rows": null,
            "grid_column": null,
            "grid_gap": null,
            "grid_row": null,
            "grid_template_areas": null,
            "grid_template_columns": null,
            "grid_template_rows": null,
            "height": null,
            "justify_content": null,
            "justify_items": null,
            "left": null,
            "margin": null,
            "max_height": null,
            "max_width": null,
            "min_height": null,
            "min_width": null,
            "object_fit": null,
            "object_position": null,
            "order": null,
            "overflow": null,
            "overflow_x": null,
            "overflow_y": null,
            "padding": null,
            "right": null,
            "top": null,
            "visibility": null,
            "width": null
          }
        },
        "45ebfd4335e14a53a77dfcee6389d037": {
          "model_module": "@jupyter-widgets/controls",
          "model_name": "ProgressStyleModel",
          "model_module_version": "1.5.0",
          "state": {
            "_model_module": "@jupyter-widgets/controls",
            "_model_module_version": "1.5.0",
            "_model_name": "ProgressStyleModel",
            "_view_count": null,
            "_view_module": "@jupyter-widgets/base",
            "_view_module_version": "1.2.0",
            "_view_name": "StyleView",
            "bar_color": null,
            "description_width": ""
          }
        },
        "b48fbfbe094147c4804ddaf0560db1eb": {
          "model_module": "@jupyter-widgets/base",
          "model_name": "LayoutModel",
          "model_module_version": "1.2.0",
          "state": {
            "_model_module": "@jupyter-widgets/base",
            "_model_module_version": "1.2.0",
            "_model_name": "LayoutModel",
            "_view_count": null,
            "_view_module": "@jupyter-widgets/base",
            "_view_module_version": "1.2.0",
            "_view_name": "LayoutView",
            "align_content": null,
            "align_items": null,
            "align_self": null,
            "border": null,
            "bottom": null,
            "display": null,
            "flex": null,
            "flex_flow": null,
            "grid_area": null,
            "grid_auto_columns": null,
            "grid_auto_flow": null,
            "grid_auto_rows": null,
            "grid_column": null,
            "grid_gap": null,
            "grid_row": null,
            "grid_template_areas": null,
            "grid_template_columns": null,
            "grid_template_rows": null,
            "height": null,
            "justify_content": null,
            "justify_items": null,
            "left": null,
            "margin": null,
            "max_height": null,
            "max_width": null,
            "min_height": null,
            "min_width": null,
            "object_fit": null,
            "object_position": null,
            "order": null,
            "overflow": null,
            "overflow_x": null,
            "overflow_y": null,
            "padding": null,
            "right": null,
            "top": null,
            "visibility": null,
            "width": null
          }
        },
        "dc9bc47b55a648dea3823b05b27746f0": {
          "model_module": "@jupyter-widgets/controls",
          "model_name": "DescriptionStyleModel",
          "model_module_version": "1.5.0",
          "state": {
            "_model_module": "@jupyter-widgets/controls",
            "_model_module_version": "1.5.0",
            "_model_name": "DescriptionStyleModel",
            "_view_count": null,
            "_view_module": "@jupyter-widgets/base",
            "_view_module_version": "1.2.0",
            "_view_name": "StyleView",
            "description_width": ""
          }
        }
      }
    }
  },
  "cells": [
    {
      "cell_type": "markdown",
      "metadata": {
        "id": "view-in-github",
        "colab_type": "text"
      },
      "source": [
        "<a href=\"https://colab.research.google.com/github/Srivastava-Rani-Aakanksha/NLP-Project-Abstractive-Text-Summarization-/blob/main/NLP1_(%23VandeBharatExpress).ipynb\" target=\"_parent\"><img src=\"https://colab.research.google.com/assets/colab-badge.svg\" alt=\"Open In Colab\"/></a>"
      ]
    },
    {
      "cell_type": "code",
      "execution_count": 82,
      "metadata": {
        "id": "mAZSAy1gSKmT"
      },
      "outputs": [],
      "source": [
        "import pandas as pd\n",
        "import numpy as np"
      ]
    },
    {
      "cell_type": "code",
      "source": [
        "data=pd.read_csv('/content/dataset_twitter-scraper_2023-04-12_06-58-50-413.csv')"
      ],
      "metadata": {
        "id": "X3tIdtqnS-d0"
      },
      "execution_count": 83,
      "outputs": []
    },
    {
      "cell_type": "code",
      "source": [
        "data.head()"
      ],
      "metadata": {
        "colab": {
          "base_uri": "https://localhost:8080/",
          "height": 455
        },
        "id": "CLXzRWXBTv91",
        "outputId": "418b3cd5-d782-419e-a6a5-e07d172f7a31"
      },
      "execution_count": 84,
      "outputs": [
        {
          "output_type": "execute_result",
          "data": {
            "text/plain": [
              "       conversation_id                created_at  favorite_count  \\\n",
              "0  1646043484997001216  2023-04-12T06:52:03.000Z               0   \n",
              "1  1646043483101364225  2023-04-12T06:52:03.000Z               0   \n",
              "2  1646043481826115586  2023-04-12T06:52:02.000Z               0   \n",
              "3  1646043471231459329  2023-04-12T06:52:00.000Z               0   \n",
              "4  1646043435802189824  2023-04-12T06:51:51.000Z               0   \n",
              "\n",
              "                                           full_text   hashtags/0  \\\n",
              "0  Flagging Off of Ajmer-Delhi Cantt. Vande Bhara...  VandeBharat   \n",
              "1  खम्मा घणी\\nराजस्थान\\nअजमेर-दिल्ली कैण्टोंमेंट\\...  VandeBharat   \n",
              "2  খম্মা ঘণী\\nরাজস্থান\\n\\nযাত্রার শুভ সূচনা\\nআজমে...  VandeBharat   \n",
              "3  अजमेर-दिल्ली छावनी वंदे भारत एक्सप्रेस का शुभा...  VandeBharat   \n",
              "4  खम्मा घणी\\nराजस्थान\\nअजमेर-दिल्ली कैण्टोंमेंट\\...  VandeBharat   \n",
              "\n",
              "           hashtags/1 hashtags/2 hashtags/3 hashtags/4 hashtags/5  ...  \\\n",
              "0  VandeBharatExpress        NaN        NaN        NaN        NaN  ...   \n",
              "1  VandeBharatExpress        NaN        NaN        NaN        NaN  ...   \n",
              "2  VandeBharatExpress        NaN        NaN        NaN        NaN  ...   \n",
              "3  VandeBharatExpress        NaN        NaN        NaN        NaN  ...   \n",
              "4  VandeBharatExpress        NaN        NaN        NaN        NaN  ...   \n",
              "\n",
              "  user_mentions/13/screen_name user_mentions/14/id_str user_mentions/14/name  \\\n",
              "0                          NaN                     NaN                   NaN   \n",
              "1                          NaN                     NaN                   NaN   \n",
              "2                          NaN                     NaN                   NaN   \n",
              "3                          NaN                     NaN                   NaN   \n",
              "4                          NaN                     NaN                   NaN   \n",
              "\n",
              "  user_mentions/14/profile user_mentions/14/screen_name  \\\n",
              "0                      NaN                          NaN   \n",
              "1                      NaN                          NaN   \n",
              "2                      NaN                          NaN   \n",
              "3                      NaN                          NaN   \n",
              "4                      NaN                          NaN   \n",
              "\n",
              "  user_mentions/15/id_str user_mentions/15/name user_mentions/15/profile  \\\n",
              "0                     NaN                   NaN                      NaN   \n",
              "1                     NaN                   NaN                      NaN   \n",
              "2                     NaN                   NaN                      NaN   \n",
              "3                     NaN                   NaN                      NaN   \n",
              "4                     NaN                   NaN                      NaN   \n",
              "\n",
              "  user_mentions/15/screen_name view_count  \n",
              "0                          NaN        NaN  \n",
              "1                          NaN        NaN  \n",
              "2                          NaN        NaN  \n",
              "3                          NaN        NaN  \n",
              "4                          NaN        NaN  \n",
              "\n",
              "[5 rows x 320 columns]"
            ],
            "text/html": [
              "\n",
              "  <div id=\"df-27b00474-7a03-4eb7-b364-dadebfab3f8d\">\n",
              "    <div class=\"colab-df-container\">\n",
              "      <div>\n",
              "<style scoped>\n",
              "    .dataframe tbody tr th:only-of-type {\n",
              "        vertical-align: middle;\n",
              "    }\n",
              "\n",
              "    .dataframe tbody tr th {\n",
              "        vertical-align: top;\n",
              "    }\n",
              "\n",
              "    .dataframe thead th {\n",
              "        text-align: right;\n",
              "    }\n",
              "</style>\n",
              "<table border=\"1\" class=\"dataframe\">\n",
              "  <thead>\n",
              "    <tr style=\"text-align: right;\">\n",
              "      <th></th>\n",
              "      <th>conversation_id</th>\n",
              "      <th>created_at</th>\n",
              "      <th>favorite_count</th>\n",
              "      <th>full_text</th>\n",
              "      <th>hashtags/0</th>\n",
              "      <th>hashtags/1</th>\n",
              "      <th>hashtags/2</th>\n",
              "      <th>hashtags/3</th>\n",
              "      <th>hashtags/4</th>\n",
              "      <th>hashtags/5</th>\n",
              "      <th>...</th>\n",
              "      <th>user_mentions/13/screen_name</th>\n",
              "      <th>user_mentions/14/id_str</th>\n",
              "      <th>user_mentions/14/name</th>\n",
              "      <th>user_mentions/14/profile</th>\n",
              "      <th>user_mentions/14/screen_name</th>\n",
              "      <th>user_mentions/15/id_str</th>\n",
              "      <th>user_mentions/15/name</th>\n",
              "      <th>user_mentions/15/profile</th>\n",
              "      <th>user_mentions/15/screen_name</th>\n",
              "      <th>view_count</th>\n",
              "    </tr>\n",
              "  </thead>\n",
              "  <tbody>\n",
              "    <tr>\n",
              "      <th>0</th>\n",
              "      <td>1646043484997001216</td>\n",
              "      <td>2023-04-12T06:52:03.000Z</td>\n",
              "      <td>0</td>\n",
              "      <td>Flagging Off of Ajmer-Delhi Cantt. Vande Bhara...</td>\n",
              "      <td>VandeBharat</td>\n",
              "      <td>VandeBharatExpress</td>\n",
              "      <td>NaN</td>\n",
              "      <td>NaN</td>\n",
              "      <td>NaN</td>\n",
              "      <td>NaN</td>\n",
              "      <td>...</td>\n",
              "      <td>NaN</td>\n",
              "      <td>NaN</td>\n",
              "      <td>NaN</td>\n",
              "      <td>NaN</td>\n",
              "      <td>NaN</td>\n",
              "      <td>NaN</td>\n",
              "      <td>NaN</td>\n",
              "      <td>NaN</td>\n",
              "      <td>NaN</td>\n",
              "      <td>NaN</td>\n",
              "    </tr>\n",
              "    <tr>\n",
              "      <th>1</th>\n",
              "      <td>1646043483101364225</td>\n",
              "      <td>2023-04-12T06:52:03.000Z</td>\n",
              "      <td>0</td>\n",
              "      <td>खम्मा घणी\\nराजस्थान\\nअजमेर-दिल्ली कैण्टोंमेंट\\...</td>\n",
              "      <td>VandeBharat</td>\n",
              "      <td>VandeBharatExpress</td>\n",
              "      <td>NaN</td>\n",
              "      <td>NaN</td>\n",
              "      <td>NaN</td>\n",
              "      <td>NaN</td>\n",
              "      <td>...</td>\n",
              "      <td>NaN</td>\n",
              "      <td>NaN</td>\n",
              "      <td>NaN</td>\n",
              "      <td>NaN</td>\n",
              "      <td>NaN</td>\n",
              "      <td>NaN</td>\n",
              "      <td>NaN</td>\n",
              "      <td>NaN</td>\n",
              "      <td>NaN</td>\n",
              "      <td>NaN</td>\n",
              "    </tr>\n",
              "    <tr>\n",
              "      <th>2</th>\n",
              "      <td>1646043481826115586</td>\n",
              "      <td>2023-04-12T06:52:02.000Z</td>\n",
              "      <td>0</td>\n",
              "      <td>খম্মা ঘণী\\nরাজস্থান\\n\\nযাত্রার শুভ সূচনা\\nআজমে...</td>\n",
              "      <td>VandeBharat</td>\n",
              "      <td>VandeBharatExpress</td>\n",
              "      <td>NaN</td>\n",
              "      <td>NaN</td>\n",
              "      <td>NaN</td>\n",
              "      <td>NaN</td>\n",
              "      <td>...</td>\n",
              "      <td>NaN</td>\n",
              "      <td>NaN</td>\n",
              "      <td>NaN</td>\n",
              "      <td>NaN</td>\n",
              "      <td>NaN</td>\n",
              "      <td>NaN</td>\n",
              "      <td>NaN</td>\n",
              "      <td>NaN</td>\n",
              "      <td>NaN</td>\n",
              "      <td>NaN</td>\n",
              "    </tr>\n",
              "    <tr>\n",
              "      <th>3</th>\n",
              "      <td>1646043471231459329</td>\n",
              "      <td>2023-04-12T06:52:00.000Z</td>\n",
              "      <td>0</td>\n",
              "      <td>अजमेर-दिल्ली छावनी वंदे भारत एक्सप्रेस का शुभा...</td>\n",
              "      <td>VandeBharat</td>\n",
              "      <td>VandeBharatExpress</td>\n",
              "      <td>NaN</td>\n",
              "      <td>NaN</td>\n",
              "      <td>NaN</td>\n",
              "      <td>NaN</td>\n",
              "      <td>...</td>\n",
              "      <td>NaN</td>\n",
              "      <td>NaN</td>\n",
              "      <td>NaN</td>\n",
              "      <td>NaN</td>\n",
              "      <td>NaN</td>\n",
              "      <td>NaN</td>\n",
              "      <td>NaN</td>\n",
              "      <td>NaN</td>\n",
              "      <td>NaN</td>\n",
              "      <td>NaN</td>\n",
              "    </tr>\n",
              "    <tr>\n",
              "      <th>4</th>\n",
              "      <td>1646043435802189824</td>\n",
              "      <td>2023-04-12T06:51:51.000Z</td>\n",
              "      <td>0</td>\n",
              "      <td>खम्मा घणी\\nराजस्थान\\nअजमेर-दिल्ली कैण्टोंमेंट\\...</td>\n",
              "      <td>VandeBharat</td>\n",
              "      <td>VandeBharatExpress</td>\n",
              "      <td>NaN</td>\n",
              "      <td>NaN</td>\n",
              "      <td>NaN</td>\n",
              "      <td>NaN</td>\n",
              "      <td>...</td>\n",
              "      <td>NaN</td>\n",
              "      <td>NaN</td>\n",
              "      <td>NaN</td>\n",
              "      <td>NaN</td>\n",
              "      <td>NaN</td>\n",
              "      <td>NaN</td>\n",
              "      <td>NaN</td>\n",
              "      <td>NaN</td>\n",
              "      <td>NaN</td>\n",
              "      <td>NaN</td>\n",
              "    </tr>\n",
              "  </tbody>\n",
              "</table>\n",
              "<p>5 rows × 320 columns</p>\n",
              "</div>\n",
              "      <button class=\"colab-df-convert\" onclick=\"convertToInteractive('df-27b00474-7a03-4eb7-b364-dadebfab3f8d')\"\n",
              "              title=\"Convert this dataframe to an interactive table.\"\n",
              "              style=\"display:none;\">\n",
              "        \n",
              "  <svg xmlns=\"http://www.w3.org/2000/svg\" height=\"24px\"viewBox=\"0 0 24 24\"\n",
              "       width=\"24px\">\n",
              "    <path d=\"M0 0h24v24H0V0z\" fill=\"none\"/>\n",
              "    <path d=\"M18.56 5.44l.94 2.06.94-2.06 2.06-.94-2.06-.94-.94-2.06-.94 2.06-2.06.94zm-11 1L8.5 8.5l.94-2.06 2.06-.94-2.06-.94L8.5 2.5l-.94 2.06-2.06.94zm10 10l.94 2.06.94-2.06 2.06-.94-2.06-.94-.94-2.06-.94 2.06-2.06.94z\"/><path d=\"M17.41 7.96l-1.37-1.37c-.4-.4-.92-.59-1.43-.59-.52 0-1.04.2-1.43.59L10.3 9.45l-7.72 7.72c-.78.78-.78 2.05 0 2.83L4 21.41c.39.39.9.59 1.41.59.51 0 1.02-.2 1.41-.59l7.78-7.78 2.81-2.81c.8-.78.8-2.07 0-2.86zM5.41 20L4 18.59l7.72-7.72 1.47 1.35L5.41 20z\"/>\n",
              "  </svg>\n",
              "      </button>\n",
              "      \n",
              "  <style>\n",
              "    .colab-df-container {\n",
              "      display:flex;\n",
              "      flex-wrap:wrap;\n",
              "      gap: 12px;\n",
              "    }\n",
              "\n",
              "    .colab-df-convert {\n",
              "      background-color: #E8F0FE;\n",
              "      border: none;\n",
              "      border-radius: 50%;\n",
              "      cursor: pointer;\n",
              "      display: none;\n",
              "      fill: #1967D2;\n",
              "      height: 32px;\n",
              "      padding: 0 0 0 0;\n",
              "      width: 32px;\n",
              "    }\n",
              "\n",
              "    .colab-df-convert:hover {\n",
              "      background-color: #E2EBFA;\n",
              "      box-shadow: 0px 1px 2px rgba(60, 64, 67, 0.3), 0px 1px 3px 1px rgba(60, 64, 67, 0.15);\n",
              "      fill: #174EA6;\n",
              "    }\n",
              "\n",
              "    [theme=dark] .colab-df-convert {\n",
              "      background-color: #3B4455;\n",
              "      fill: #D2E3FC;\n",
              "    }\n",
              "\n",
              "    [theme=dark] .colab-df-convert:hover {\n",
              "      background-color: #434B5C;\n",
              "      box-shadow: 0px 1px 3px 1px rgba(0, 0, 0, 0.15);\n",
              "      filter: drop-shadow(0px 1px 2px rgba(0, 0, 0, 0.3));\n",
              "      fill: #FFFFFF;\n",
              "    }\n",
              "  </style>\n",
              "\n",
              "      <script>\n",
              "        const buttonEl =\n",
              "          document.querySelector('#df-27b00474-7a03-4eb7-b364-dadebfab3f8d button.colab-df-convert');\n",
              "        buttonEl.style.display =\n",
              "          google.colab.kernel.accessAllowed ? 'block' : 'none';\n",
              "\n",
              "        async function convertToInteractive(key) {\n",
              "          const element = document.querySelector('#df-27b00474-7a03-4eb7-b364-dadebfab3f8d');\n",
              "          const dataTable =\n",
              "            await google.colab.kernel.invokeFunction('convertToInteractive',\n",
              "                                                     [key], {});\n",
              "          if (!dataTable) return;\n",
              "\n",
              "          const docLinkHtml = 'Like what you see? Visit the ' +\n",
              "            '<a target=\"_blank\" href=https://colab.research.google.com/notebooks/data_table.ipynb>data table notebook</a>'\n",
              "            + ' to learn more about interactive tables.';\n",
              "          element.innerHTML = '';\n",
              "          dataTable['output_type'] = 'display_data';\n",
              "          await google.colab.output.renderOutput(dataTable, element);\n",
              "          const docLink = document.createElement('div');\n",
              "          docLink.innerHTML = docLinkHtml;\n",
              "          element.appendChild(docLink);\n",
              "        }\n",
              "      </script>\n",
              "    </div>\n",
              "  </div>\n",
              "  "
            ]
          },
          "metadata": {},
          "execution_count": 84
        }
      ]
    },
    {
      "cell_type": "code",
      "source": [
        "data.shape"
      ],
      "metadata": {
        "colab": {
          "base_uri": "https://localhost:8080/"
        },
        "id": "NGZfx17aTzHS",
        "outputId": "37dd138a-b4f1-43fd-acd9-cfced37dd1bc"
      },
      "execution_count": 85,
      "outputs": [
        {
          "output_type": "execute_result",
          "data": {
            "text/plain": [
              "(2000, 320)"
            ]
          },
          "metadata": {},
          "execution_count": 85
        }
      ]
    },
    {
      "cell_type": "code",
      "source": [
        "data.info"
      ],
      "metadata": {
        "colab": {
          "base_uri": "https://localhost:8080/"
        },
        "id": "OQjvhnBGT1n_",
        "outputId": "e2c58d36-191d-4114-8d7e-5710adfed83c"
      },
      "execution_count": 86,
      "outputs": [
        {
          "output_type": "execute_result",
          "data": {
            "text/plain": [
              "<bound method DataFrame.info of           conversation_id                created_at  favorite_count  \\\n",
              "0     1646043484997001216  2023-04-12T06:52:03.000Z               0   \n",
              "1     1646043483101364225  2023-04-12T06:52:03.000Z               0   \n",
              "2     1646043481826115586  2023-04-12T06:52:02.000Z               0   \n",
              "3     1646043471231459329  2023-04-12T06:52:00.000Z               0   \n",
              "4     1646043435802189824  2023-04-12T06:51:51.000Z               0   \n",
              "...                   ...                       ...             ...   \n",
              "1995  1645298769389584384  2023-04-10T05:32:49.000Z              22   \n",
              "1996  1645297641155330051  2023-04-10T05:28:20.000Z               0   \n",
              "1997  1645272233017999360  2023-04-10T05:26:28.000Z              65   \n",
              "1998  1645296407455338497  2023-04-10T05:23:26.000Z               1   \n",
              "1999  1645296379303186432  2023-04-10T05:23:19.000Z               2   \n",
              "\n",
              "                                              full_text          hashtags/0  \\\n",
              "0     Flagging Off of Ajmer-Delhi Cantt. Vande Bhara...         VandeBharat   \n",
              "1     खम्मा घणी\\nराजस्थान\\nअजमेर-दिल्ली कैण्टोंमेंट\\...         VandeBharat   \n",
              "2     খম্মা ঘণী\\nরাজস্থান\\n\\nযাত্রার শুভ সূচনা\\nআজমে...         VandeBharat   \n",
              "3     अजमेर-दिल्ली छावनी वंदे भारत एक्सप्रेस का शुभा...         VandeBharat   \n",
              "4     खम्मा घणी\\nराजस्थान\\nअजमेर-दिल्ली कैण्टोंमेंट\\...         VandeBharat   \n",
              "...                                                 ...                 ...   \n",
              "1995  ‘வந்தே பாரத்’ ரயிலில் விமானத்தில் பயணிப்பது போ...          Coimbatore   \n",
              "1996  @IRCTCofficial @RailMinIndia #VandeBharatExpre...  VandeBharatExpress   \n",
              "1997  @narendramodi भारतीय यात्रियों को #VandeBharat...  VandeBharatExpress   \n",
              "1998  ''चुनावी साल'' में ट्रेनों का चुनावी 'स्टोपेज'...      IndianRailways   \n",
              "1999  Prime Minister, Shri Narendra Modi has express...  VandeBharatExpress   \n",
              "\n",
              "              hashtags/1  hashtags/2 hashtags/3     hashtags/4 hashtags/5  \\\n",
              "0     VandeBharatExpress         NaN        NaN            NaN        NaN   \n",
              "1     VandeBharatExpress         NaN        NaN            NaN        NaN   \n",
              "2     VandeBharatExpress         NaN        NaN            NaN        NaN   \n",
              "3     VandeBharatExpress         NaN        NaN            NaN        NaN   \n",
              "4     VandeBharatExpress         NaN        NaN            NaN        NaN   \n",
              "...                  ...         ...        ...            ...        ...   \n",
              "1995  VandeBharatExpress  experience        NaN            NaN        NaN   \n",
              "1996                 NaN         NaN        NaN            NaN        NaN   \n",
              "1997                 NaN         NaN        NaN            NaN        NaN   \n",
              "1998  VandeBharatExpress         NaN        NaN            NaN        NaN   \n",
              "1999               Salem     Railway  TamilNadu  PrimeMinister        NaN   \n",
              "\n",
              "      ... user_mentions/13/screen_name user_mentions/14/id_str  \\\n",
              "0     ...                          NaN                     NaN   \n",
              "1     ...                          NaN                     NaN   \n",
              "2     ...                          NaN                     NaN   \n",
              "3     ...                          NaN                     NaN   \n",
              "4     ...                          NaN                     NaN   \n",
              "...   ...                          ...                     ...   \n",
              "1995  ...                          NaN                     NaN   \n",
              "1996  ...                          NaN                     NaN   \n",
              "1997  ...                          NaN                     NaN   \n",
              "1998  ...                          NaN                     NaN   \n",
              "1999  ...                          NaN                     NaN   \n",
              "\n",
              "     user_mentions/14/name user_mentions/14/profile  \\\n",
              "0                      NaN                      NaN   \n",
              "1                      NaN                      NaN   \n",
              "2                      NaN                      NaN   \n",
              "3                      NaN                      NaN   \n",
              "4                      NaN                      NaN   \n",
              "...                    ...                      ...   \n",
              "1995                   NaN                      NaN   \n",
              "1996                   NaN                      NaN   \n",
              "1997                   NaN                      NaN   \n",
              "1998                   NaN                      NaN   \n",
              "1999                   NaN                      NaN   \n",
              "\n",
              "     user_mentions/14/screen_name user_mentions/15/id_str  \\\n",
              "0                             NaN                     NaN   \n",
              "1                             NaN                     NaN   \n",
              "2                             NaN                     NaN   \n",
              "3                             NaN                     NaN   \n",
              "4                             NaN                     NaN   \n",
              "...                           ...                     ...   \n",
              "1995                          NaN                     NaN   \n",
              "1996                          NaN                     NaN   \n",
              "1997                          NaN                     NaN   \n",
              "1998                          NaN                     NaN   \n",
              "1999                          NaN                     NaN   \n",
              "\n",
              "     user_mentions/15/name user_mentions/15/profile  \\\n",
              "0                      NaN                      NaN   \n",
              "1                      NaN                      NaN   \n",
              "2                      NaN                      NaN   \n",
              "3                      NaN                      NaN   \n",
              "4                      NaN                      NaN   \n",
              "...                    ...                      ...   \n",
              "1995                   NaN                      NaN   \n",
              "1996                   NaN                      NaN   \n",
              "1997                   NaN                      NaN   \n",
              "1998                   NaN                      NaN   \n",
              "1999                   NaN                      NaN   \n",
              "\n",
              "     user_mentions/15/screen_name view_count  \n",
              "0                             NaN        NaN  \n",
              "1                             NaN        NaN  \n",
              "2                             NaN        NaN  \n",
              "3                             NaN        NaN  \n",
              "4                             NaN        NaN  \n",
              "...                           ...        ...  \n",
              "1995                          NaN     5551.0  \n",
              "1996                          NaN       40.0  \n",
              "1997                          NaN    25832.0  \n",
              "1998                          NaN      142.0  \n",
              "1999                          NaN      145.0  \n",
              "\n",
              "[2000 rows x 320 columns]>"
            ]
          },
          "metadata": {},
          "execution_count": 86
        }
      ]
    },
    {
      "cell_type": "code",
      "source": [
        "data=data.drop(['conversation_id','created_at','favorite_count'],axis=1)"
      ],
      "metadata": {
        "id": "MZtJDkkxT3ey"
      },
      "execution_count": 87,
      "outputs": []
    },
    {
      "cell_type": "code",
      "source": [
        "data.head()"
      ],
      "metadata": {
        "colab": {
          "base_uri": "https://localhost:8080/",
          "height": 455
        },
        "id": "ESZdmTQbT-NV",
        "outputId": "12afb4eb-32e6-433d-c5e0-4e4d0711005b"
      },
      "execution_count": 88,
      "outputs": [
        {
          "output_type": "execute_result",
          "data": {
            "text/plain": [
              "                                           full_text   hashtags/0  \\\n",
              "0  Flagging Off of Ajmer-Delhi Cantt. Vande Bhara...  VandeBharat   \n",
              "1  खम्मा घणी\\nराजस्थान\\nअजमेर-दिल्ली कैण्टोंमेंट\\...  VandeBharat   \n",
              "2  খম্মা ঘণী\\nরাজস্থান\\n\\nযাত্রার শুভ সূচনা\\nআজমে...  VandeBharat   \n",
              "3  अजमेर-दिल्ली छावनी वंदे भारत एक्सप्रेस का शुभा...  VandeBharat   \n",
              "4  खम्मा घणी\\nराजस्थान\\nअजमेर-दिल्ली कैण्टोंमेंट\\...  VandeBharat   \n",
              "\n",
              "           hashtags/1 hashtags/2 hashtags/3 hashtags/4 hashtags/5 hashtags/6  \\\n",
              "0  VandeBharatExpress        NaN        NaN        NaN        NaN        NaN   \n",
              "1  VandeBharatExpress        NaN        NaN        NaN        NaN        NaN   \n",
              "2  VandeBharatExpress        NaN        NaN        NaN        NaN        NaN   \n",
              "3  VandeBharatExpress        NaN        NaN        NaN        NaN        NaN   \n",
              "4  VandeBharatExpress        NaN        NaN        NaN        NaN        NaN   \n",
              "\n",
              "  hashtags/7 hashtags/8  ... user_mentions/13/screen_name  \\\n",
              "0        NaN        NaN  ...                          NaN   \n",
              "1        NaN        NaN  ...                          NaN   \n",
              "2        NaN        NaN  ...                          NaN   \n",
              "3        NaN        NaN  ...                          NaN   \n",
              "4        NaN        NaN  ...                          NaN   \n",
              "\n",
              "  user_mentions/14/id_str user_mentions/14/name user_mentions/14/profile  \\\n",
              "0                     NaN                   NaN                      NaN   \n",
              "1                     NaN                   NaN                      NaN   \n",
              "2                     NaN                   NaN                      NaN   \n",
              "3                     NaN                   NaN                      NaN   \n",
              "4                     NaN                   NaN                      NaN   \n",
              "\n",
              "  user_mentions/14/screen_name user_mentions/15/id_str user_mentions/15/name  \\\n",
              "0                          NaN                     NaN                   NaN   \n",
              "1                          NaN                     NaN                   NaN   \n",
              "2                          NaN                     NaN                   NaN   \n",
              "3                          NaN                     NaN                   NaN   \n",
              "4                          NaN                     NaN                   NaN   \n",
              "\n",
              "  user_mentions/15/profile user_mentions/15/screen_name  view_count  \n",
              "0                      NaN                          NaN         NaN  \n",
              "1                      NaN                          NaN         NaN  \n",
              "2                      NaN                          NaN         NaN  \n",
              "3                      NaN                          NaN         NaN  \n",
              "4                      NaN                          NaN         NaN  \n",
              "\n",
              "[5 rows x 317 columns]"
            ],
            "text/html": [
              "\n",
              "  <div id=\"df-795b6f07-60ab-47d5-89dd-3393426bc9c7\">\n",
              "    <div class=\"colab-df-container\">\n",
              "      <div>\n",
              "<style scoped>\n",
              "    .dataframe tbody tr th:only-of-type {\n",
              "        vertical-align: middle;\n",
              "    }\n",
              "\n",
              "    .dataframe tbody tr th {\n",
              "        vertical-align: top;\n",
              "    }\n",
              "\n",
              "    .dataframe thead th {\n",
              "        text-align: right;\n",
              "    }\n",
              "</style>\n",
              "<table border=\"1\" class=\"dataframe\">\n",
              "  <thead>\n",
              "    <tr style=\"text-align: right;\">\n",
              "      <th></th>\n",
              "      <th>full_text</th>\n",
              "      <th>hashtags/0</th>\n",
              "      <th>hashtags/1</th>\n",
              "      <th>hashtags/2</th>\n",
              "      <th>hashtags/3</th>\n",
              "      <th>hashtags/4</th>\n",
              "      <th>hashtags/5</th>\n",
              "      <th>hashtags/6</th>\n",
              "      <th>hashtags/7</th>\n",
              "      <th>hashtags/8</th>\n",
              "      <th>...</th>\n",
              "      <th>user_mentions/13/screen_name</th>\n",
              "      <th>user_mentions/14/id_str</th>\n",
              "      <th>user_mentions/14/name</th>\n",
              "      <th>user_mentions/14/profile</th>\n",
              "      <th>user_mentions/14/screen_name</th>\n",
              "      <th>user_mentions/15/id_str</th>\n",
              "      <th>user_mentions/15/name</th>\n",
              "      <th>user_mentions/15/profile</th>\n",
              "      <th>user_mentions/15/screen_name</th>\n",
              "      <th>view_count</th>\n",
              "    </tr>\n",
              "  </thead>\n",
              "  <tbody>\n",
              "    <tr>\n",
              "      <th>0</th>\n",
              "      <td>Flagging Off of Ajmer-Delhi Cantt. Vande Bhara...</td>\n",
              "      <td>VandeBharat</td>\n",
              "      <td>VandeBharatExpress</td>\n",
              "      <td>NaN</td>\n",
              "      <td>NaN</td>\n",
              "      <td>NaN</td>\n",
              "      <td>NaN</td>\n",
              "      <td>NaN</td>\n",
              "      <td>NaN</td>\n",
              "      <td>NaN</td>\n",
              "      <td>...</td>\n",
              "      <td>NaN</td>\n",
              "      <td>NaN</td>\n",
              "      <td>NaN</td>\n",
              "      <td>NaN</td>\n",
              "      <td>NaN</td>\n",
              "      <td>NaN</td>\n",
              "      <td>NaN</td>\n",
              "      <td>NaN</td>\n",
              "      <td>NaN</td>\n",
              "      <td>NaN</td>\n",
              "    </tr>\n",
              "    <tr>\n",
              "      <th>1</th>\n",
              "      <td>खम्मा घणी\\nराजस्थान\\nअजमेर-दिल्ली कैण्टोंमेंट\\...</td>\n",
              "      <td>VandeBharat</td>\n",
              "      <td>VandeBharatExpress</td>\n",
              "      <td>NaN</td>\n",
              "      <td>NaN</td>\n",
              "      <td>NaN</td>\n",
              "      <td>NaN</td>\n",
              "      <td>NaN</td>\n",
              "      <td>NaN</td>\n",
              "      <td>NaN</td>\n",
              "      <td>...</td>\n",
              "      <td>NaN</td>\n",
              "      <td>NaN</td>\n",
              "      <td>NaN</td>\n",
              "      <td>NaN</td>\n",
              "      <td>NaN</td>\n",
              "      <td>NaN</td>\n",
              "      <td>NaN</td>\n",
              "      <td>NaN</td>\n",
              "      <td>NaN</td>\n",
              "      <td>NaN</td>\n",
              "    </tr>\n",
              "    <tr>\n",
              "      <th>2</th>\n",
              "      <td>খম্মা ঘণী\\nরাজস্থান\\n\\nযাত্রার শুভ সূচনা\\nআজমে...</td>\n",
              "      <td>VandeBharat</td>\n",
              "      <td>VandeBharatExpress</td>\n",
              "      <td>NaN</td>\n",
              "      <td>NaN</td>\n",
              "      <td>NaN</td>\n",
              "      <td>NaN</td>\n",
              "      <td>NaN</td>\n",
              "      <td>NaN</td>\n",
              "      <td>NaN</td>\n",
              "      <td>...</td>\n",
              "      <td>NaN</td>\n",
              "      <td>NaN</td>\n",
              "      <td>NaN</td>\n",
              "      <td>NaN</td>\n",
              "      <td>NaN</td>\n",
              "      <td>NaN</td>\n",
              "      <td>NaN</td>\n",
              "      <td>NaN</td>\n",
              "      <td>NaN</td>\n",
              "      <td>NaN</td>\n",
              "    </tr>\n",
              "    <tr>\n",
              "      <th>3</th>\n",
              "      <td>अजमेर-दिल्ली छावनी वंदे भारत एक्सप्रेस का शुभा...</td>\n",
              "      <td>VandeBharat</td>\n",
              "      <td>VandeBharatExpress</td>\n",
              "      <td>NaN</td>\n",
              "      <td>NaN</td>\n",
              "      <td>NaN</td>\n",
              "      <td>NaN</td>\n",
              "      <td>NaN</td>\n",
              "      <td>NaN</td>\n",
              "      <td>NaN</td>\n",
              "      <td>...</td>\n",
              "      <td>NaN</td>\n",
              "      <td>NaN</td>\n",
              "      <td>NaN</td>\n",
              "      <td>NaN</td>\n",
              "      <td>NaN</td>\n",
              "      <td>NaN</td>\n",
              "      <td>NaN</td>\n",
              "      <td>NaN</td>\n",
              "      <td>NaN</td>\n",
              "      <td>NaN</td>\n",
              "    </tr>\n",
              "    <tr>\n",
              "      <th>4</th>\n",
              "      <td>खम्मा घणी\\nराजस्थान\\nअजमेर-दिल्ली कैण्टोंमेंट\\...</td>\n",
              "      <td>VandeBharat</td>\n",
              "      <td>VandeBharatExpress</td>\n",
              "      <td>NaN</td>\n",
              "      <td>NaN</td>\n",
              "      <td>NaN</td>\n",
              "      <td>NaN</td>\n",
              "      <td>NaN</td>\n",
              "      <td>NaN</td>\n",
              "      <td>NaN</td>\n",
              "      <td>...</td>\n",
              "      <td>NaN</td>\n",
              "      <td>NaN</td>\n",
              "      <td>NaN</td>\n",
              "      <td>NaN</td>\n",
              "      <td>NaN</td>\n",
              "      <td>NaN</td>\n",
              "      <td>NaN</td>\n",
              "      <td>NaN</td>\n",
              "      <td>NaN</td>\n",
              "      <td>NaN</td>\n",
              "    </tr>\n",
              "  </tbody>\n",
              "</table>\n",
              "<p>5 rows × 317 columns</p>\n",
              "</div>\n",
              "      <button class=\"colab-df-convert\" onclick=\"convertToInteractive('df-795b6f07-60ab-47d5-89dd-3393426bc9c7')\"\n",
              "              title=\"Convert this dataframe to an interactive table.\"\n",
              "              style=\"display:none;\">\n",
              "        \n",
              "  <svg xmlns=\"http://www.w3.org/2000/svg\" height=\"24px\"viewBox=\"0 0 24 24\"\n",
              "       width=\"24px\">\n",
              "    <path d=\"M0 0h24v24H0V0z\" fill=\"none\"/>\n",
              "    <path d=\"M18.56 5.44l.94 2.06.94-2.06 2.06-.94-2.06-.94-.94-2.06-.94 2.06-2.06.94zm-11 1L8.5 8.5l.94-2.06 2.06-.94-2.06-.94L8.5 2.5l-.94 2.06-2.06.94zm10 10l.94 2.06.94-2.06 2.06-.94-2.06-.94-.94-2.06-.94 2.06-2.06.94z\"/><path d=\"M17.41 7.96l-1.37-1.37c-.4-.4-.92-.59-1.43-.59-.52 0-1.04.2-1.43.59L10.3 9.45l-7.72 7.72c-.78.78-.78 2.05 0 2.83L4 21.41c.39.39.9.59 1.41.59.51 0 1.02-.2 1.41-.59l7.78-7.78 2.81-2.81c.8-.78.8-2.07 0-2.86zM5.41 20L4 18.59l7.72-7.72 1.47 1.35L5.41 20z\"/>\n",
              "  </svg>\n",
              "      </button>\n",
              "      \n",
              "  <style>\n",
              "    .colab-df-container {\n",
              "      display:flex;\n",
              "      flex-wrap:wrap;\n",
              "      gap: 12px;\n",
              "    }\n",
              "\n",
              "    .colab-df-convert {\n",
              "      background-color: #E8F0FE;\n",
              "      border: none;\n",
              "      border-radius: 50%;\n",
              "      cursor: pointer;\n",
              "      display: none;\n",
              "      fill: #1967D2;\n",
              "      height: 32px;\n",
              "      padding: 0 0 0 0;\n",
              "      width: 32px;\n",
              "    }\n",
              "\n",
              "    .colab-df-convert:hover {\n",
              "      background-color: #E2EBFA;\n",
              "      box-shadow: 0px 1px 2px rgba(60, 64, 67, 0.3), 0px 1px 3px 1px rgba(60, 64, 67, 0.15);\n",
              "      fill: #174EA6;\n",
              "    }\n",
              "\n",
              "    [theme=dark] .colab-df-convert {\n",
              "      background-color: #3B4455;\n",
              "      fill: #D2E3FC;\n",
              "    }\n",
              "\n",
              "    [theme=dark] .colab-df-convert:hover {\n",
              "      background-color: #434B5C;\n",
              "      box-shadow: 0px 1px 3px 1px rgba(0, 0, 0, 0.15);\n",
              "      filter: drop-shadow(0px 1px 2px rgba(0, 0, 0, 0.3));\n",
              "      fill: #FFFFFF;\n",
              "    }\n",
              "  </style>\n",
              "\n",
              "      <script>\n",
              "        const buttonEl =\n",
              "          document.querySelector('#df-795b6f07-60ab-47d5-89dd-3393426bc9c7 button.colab-df-convert');\n",
              "        buttonEl.style.display =\n",
              "          google.colab.kernel.accessAllowed ? 'block' : 'none';\n",
              "\n",
              "        async function convertToInteractive(key) {\n",
              "          const element = document.querySelector('#df-795b6f07-60ab-47d5-89dd-3393426bc9c7');\n",
              "          const dataTable =\n",
              "            await google.colab.kernel.invokeFunction('convertToInteractive',\n",
              "                                                     [key], {});\n",
              "          if (!dataTable) return;\n",
              "\n",
              "          const docLinkHtml = 'Like what you see? Visit the ' +\n",
              "            '<a target=\"_blank\" href=https://colab.research.google.com/notebooks/data_table.ipynb>data table notebook</a>'\n",
              "            + ' to learn more about interactive tables.';\n",
              "          element.innerHTML = '';\n",
              "          dataTable['output_type'] = 'display_data';\n",
              "          await google.colab.output.renderOutput(dataTable, element);\n",
              "          const docLink = document.createElement('div');\n",
              "          docLink.innerHTML = docLinkHtml;\n",
              "          element.appendChild(docLink);\n",
              "        }\n",
              "      </script>\n",
              "    </div>\n",
              "  </div>\n",
              "  "
            ]
          },
          "metadata": {},
          "execution_count": 88
        }
      ]
    },
    {
      "cell_type": "code",
      "source": [
        "data=data.drop(data.iloc[:, 1:], axis=1)"
      ],
      "metadata": {
        "id": "rvMiH8YNUAcQ"
      },
      "execution_count": 102,
      "outputs": []
    },
    {
      "cell_type": "code",
      "source": [
        "data.head()"
      ],
      "metadata": {
        "colab": {
          "base_uri": "https://localhost:8080/",
          "height": 206
        },
        "id": "LfjoAdNqUFDF",
        "outputId": "80c1add0-c84a-4b50-9ace-d68e0bc2594b"
      },
      "execution_count": 103,
      "outputs": [
        {
          "output_type": "execute_result",
          "data": {
            "text/plain": [
              "                                           full_text\n",
              "0  Flagging Off of Ajmer-Delhi Cantt. Vande Bhara...\n",
              "1  खम्मा घणी\\nराजस्थान\\nअजमेर-दिल्ली कैण्टोंमेंट\\...\n",
              "2  খম্মা ঘণী\\nরাজস্থান\\n\\nযাত্রার শুভ সূচনা\\nআজমে...\n",
              "3  अजमेर-दिल्ली छावनी वंदे भारत एक्सप्रेस का शुभा...\n",
              "4  खम्मा घणी\\nराजस्थान\\nअजमेर-दिल्ली कैण्टोंमेंट\\..."
            ],
            "text/html": [
              "\n",
              "  <div id=\"df-b99b79ff-0303-4970-94cf-681d989715b3\">\n",
              "    <div class=\"colab-df-container\">\n",
              "      <div>\n",
              "<style scoped>\n",
              "    .dataframe tbody tr th:only-of-type {\n",
              "        vertical-align: middle;\n",
              "    }\n",
              "\n",
              "    .dataframe tbody tr th {\n",
              "        vertical-align: top;\n",
              "    }\n",
              "\n",
              "    .dataframe thead th {\n",
              "        text-align: right;\n",
              "    }\n",
              "</style>\n",
              "<table border=\"1\" class=\"dataframe\">\n",
              "  <thead>\n",
              "    <tr style=\"text-align: right;\">\n",
              "      <th></th>\n",
              "      <th>full_text</th>\n",
              "    </tr>\n",
              "  </thead>\n",
              "  <tbody>\n",
              "    <tr>\n",
              "      <th>0</th>\n",
              "      <td>Flagging Off of Ajmer-Delhi Cantt. Vande Bhara...</td>\n",
              "    </tr>\n",
              "    <tr>\n",
              "      <th>1</th>\n",
              "      <td>खम्मा घणी\\nराजस्थान\\nअजमेर-दिल्ली कैण्टोंमेंट\\...</td>\n",
              "    </tr>\n",
              "    <tr>\n",
              "      <th>2</th>\n",
              "      <td>খম্মা ঘণী\\nরাজস্থান\\n\\nযাত্রার শুভ সূচনা\\nআজমে...</td>\n",
              "    </tr>\n",
              "    <tr>\n",
              "      <th>3</th>\n",
              "      <td>अजमेर-दिल्ली छावनी वंदे भारत एक्सप्रेस का शुभा...</td>\n",
              "    </tr>\n",
              "    <tr>\n",
              "      <th>4</th>\n",
              "      <td>खम्मा घणी\\nराजस्थान\\nअजमेर-दिल्ली कैण्टोंमेंट\\...</td>\n",
              "    </tr>\n",
              "  </tbody>\n",
              "</table>\n",
              "</div>\n",
              "      <button class=\"colab-df-convert\" onclick=\"convertToInteractive('df-b99b79ff-0303-4970-94cf-681d989715b3')\"\n",
              "              title=\"Convert this dataframe to an interactive table.\"\n",
              "              style=\"display:none;\">\n",
              "        \n",
              "  <svg xmlns=\"http://www.w3.org/2000/svg\" height=\"24px\"viewBox=\"0 0 24 24\"\n",
              "       width=\"24px\">\n",
              "    <path d=\"M0 0h24v24H0V0z\" fill=\"none\"/>\n",
              "    <path d=\"M18.56 5.44l.94 2.06.94-2.06 2.06-.94-2.06-.94-.94-2.06-.94 2.06-2.06.94zm-11 1L8.5 8.5l.94-2.06 2.06-.94-2.06-.94L8.5 2.5l-.94 2.06-2.06.94zm10 10l.94 2.06.94-2.06 2.06-.94-2.06-.94-.94-2.06-.94 2.06-2.06.94z\"/><path d=\"M17.41 7.96l-1.37-1.37c-.4-.4-.92-.59-1.43-.59-.52 0-1.04.2-1.43.59L10.3 9.45l-7.72 7.72c-.78.78-.78 2.05 0 2.83L4 21.41c.39.39.9.59 1.41.59.51 0 1.02-.2 1.41-.59l7.78-7.78 2.81-2.81c.8-.78.8-2.07 0-2.86zM5.41 20L4 18.59l7.72-7.72 1.47 1.35L5.41 20z\"/>\n",
              "  </svg>\n",
              "      </button>\n",
              "      \n",
              "  <style>\n",
              "    .colab-df-container {\n",
              "      display:flex;\n",
              "      flex-wrap:wrap;\n",
              "      gap: 12px;\n",
              "    }\n",
              "\n",
              "    .colab-df-convert {\n",
              "      background-color: #E8F0FE;\n",
              "      border: none;\n",
              "      border-radius: 50%;\n",
              "      cursor: pointer;\n",
              "      display: none;\n",
              "      fill: #1967D2;\n",
              "      height: 32px;\n",
              "      padding: 0 0 0 0;\n",
              "      width: 32px;\n",
              "    }\n",
              "\n",
              "    .colab-df-convert:hover {\n",
              "      background-color: #E2EBFA;\n",
              "      box-shadow: 0px 1px 2px rgba(60, 64, 67, 0.3), 0px 1px 3px 1px rgba(60, 64, 67, 0.15);\n",
              "      fill: #174EA6;\n",
              "    }\n",
              "\n",
              "    [theme=dark] .colab-df-convert {\n",
              "      background-color: #3B4455;\n",
              "      fill: #D2E3FC;\n",
              "    }\n",
              "\n",
              "    [theme=dark] .colab-df-convert:hover {\n",
              "      background-color: #434B5C;\n",
              "      box-shadow: 0px 1px 3px 1px rgba(0, 0, 0, 0.15);\n",
              "      filter: drop-shadow(0px 1px 2px rgba(0, 0, 0, 0.3));\n",
              "      fill: #FFFFFF;\n",
              "    }\n",
              "  </style>\n",
              "\n",
              "      <script>\n",
              "        const buttonEl =\n",
              "          document.querySelector('#df-b99b79ff-0303-4970-94cf-681d989715b3 button.colab-df-convert');\n",
              "        buttonEl.style.display =\n",
              "          google.colab.kernel.accessAllowed ? 'block' : 'none';\n",
              "\n",
              "        async function convertToInteractive(key) {\n",
              "          const element = document.querySelector('#df-b99b79ff-0303-4970-94cf-681d989715b3');\n",
              "          const dataTable =\n",
              "            await google.colab.kernel.invokeFunction('convertToInteractive',\n",
              "                                                     [key], {});\n",
              "          if (!dataTable) return;\n",
              "\n",
              "          const docLinkHtml = 'Like what you see? Visit the ' +\n",
              "            '<a target=\"_blank\" href=https://colab.research.google.com/notebooks/data_table.ipynb>data table notebook</a>'\n",
              "            + ' to learn more about interactive tables.';\n",
              "          element.innerHTML = '';\n",
              "          dataTable['output_type'] = 'display_data';\n",
              "          await google.colab.output.renderOutput(dataTable, element);\n",
              "          const docLink = document.createElement('div');\n",
              "          docLink.innerHTML = docLinkHtml;\n",
              "          element.appendChild(docLink);\n",
              "        }\n",
              "      </script>\n",
              "    </div>\n",
              "  </div>\n",
              "  "
            ]
          },
          "metadata": {},
          "execution_count": 103
        }
      ]
    },
    {
      "cell_type": "code",
      "source": [
        "\n",
        "data.shape\n"
      ],
      "metadata": {
        "colab": {
          "base_uri": "https://localhost:8080/"
        },
        "id": "nFSfSHHJUG9J",
        "outputId": "c6347454-0b64-4a49-a810-1d8c1aaca7cf"
      },
      "execution_count": 104,
      "outputs": [
        {
          "output_type": "execute_result",
          "data": {
            "text/plain": [
              "(2000, 1)"
            ]
          },
          "metadata": {},
          "execution_count": 104
        }
      ]
    },
    {
      "cell_type": "code",
      "source": [
        "import nltk\n",
        "import re\n",
        "nltk.download('stopwords')\n",
        "nltk.download('omw-1.4')\n",
        "# nltk.download('punkt')\n",
        "from nltk.corpus import stopwords"
      ],
      "metadata": {
        "colab": {
          "base_uri": "https://localhost:8080/"
        },
        "id": "y-xYKJCwUJ-y",
        "outputId": "d327b676-af5f-4516-d101-81651de5c648"
      },
      "execution_count": 105,
      "outputs": [
        {
          "output_type": "stream",
          "name": "stderr",
          "text": [
            "[nltk_data] Downloading package stopwords to /root/nltk_data...\n",
            "[nltk_data]   Package stopwords is already up-to-date!\n",
            "[nltk_data] Downloading package omw-1.4 to /root/nltk_data...\n",
            "[nltk_data]   Package omw-1.4 is already up-to-date!\n"
          ]
        }
      ]
    },
    {
      "cell_type": "code",
      "source": [
        "pip install clean-text"
      ],
      "metadata": {
        "colab": {
          "base_uri": "https://localhost:8080/"
        },
        "id": "XUVkuN2sUNqF",
        "outputId": "8c461046-958e-400b-c188-b61fefb81e32"
      },
      "execution_count": 106,
      "outputs": [
        {
          "output_type": "stream",
          "name": "stdout",
          "text": [
            "Looking in indexes: https://pypi.org/simple, https://us-python.pkg.dev/colab-wheels/public/simple/\n",
            "Requirement already satisfied: clean-text in /usr/local/lib/python3.9/dist-packages (0.6.0)\n",
            "Requirement already satisfied: emoji<2.0.0,>=1.0.0 in /usr/local/lib/python3.9/dist-packages (from clean-text) (1.7.0)\n",
            "Requirement already satisfied: ftfy<7.0,>=6.0 in /usr/local/lib/python3.9/dist-packages (from clean-text) (6.1.1)\n",
            "Requirement already satisfied: wcwidth>=0.2.5 in /usr/local/lib/python3.9/dist-packages (from ftfy<7.0,>=6.0->clean-text) (0.2.6)\n"
          ]
        }
      ]
    },
    {
      "cell_type": "code",
      "source": [
        "from cleantext import clean"
      ],
      "metadata": {
        "id": "C33e0fNpUQXI"
      },
      "execution_count": 107,
      "outputs": []
    },
    {
      "cell_type": "code",
      "source": [
        "#Converting into lower case\n",
        "def lower_case(text):\n",
        "    text_l=text.lower()\n",
        "    return text_l"
      ],
      "metadata": {
        "id": "j7nNPi1xUS7S"
      },
      "execution_count": 108,
      "outputs": []
    },
    {
      "cell_type": "code",
      "source": [
        " # Remove all the occurrences of text that ends with .https and .com\n",
        "def remove_links(text):\n",
        "  remove_https = re.sub(r'http\\S+', '', text)\n",
        "  remove_com = re.sub(r\"\\[A-Za-z]*\\.com\", \"\", remove_https)\n",
        "  return remove_https"
      ],
      "metadata": {
        "id": "ww6aF3U7UUxi"
      },
      "execution_count": 109,
      "outputs": []
    },
    {
      "cell_type": "code",
      "source": [
        "\n",
        " # Remove all hashtags\n",
        "def remove_hashtags(text):\n",
        "  remove_hashtags =re.sub(\"#[A-Za-z0-9_]+\",\"\", text)\n",
        "  remove_hashtags_c =re.sub(\"@[A-Za-z0-9_]+\",\"\", remove_hashtags )\n",
        "  return remove_hashtags_c"
      ],
      "metadata": {
        "id": "gqYCIn3UUXGh"
      },
      "execution_count": 110,
      "outputs": []
    },
    {
      "cell_type": "code",
      "source": [
        "def remove_emojis(text):\n",
        "  text=clean(text, no_emoji=True)\n",
        "  return text\n"
      ],
      "metadata": {
        "id": "Io-DR3nRUZDi"
      },
      "execution_count": 111,
      "outputs": []
    },
    {
      "cell_type": "code",
      "source": [
        "#Remove stop words \n",
        "def remove_stopword(text):\n",
        "    text=[word for word in text if not word in stopwords.words('english')]\n",
        "    return text"
      ],
      "metadata": {
        "id": "mVlkeP3nUa0u"
      },
      "execution_count": 112,
      "outputs": []
    },
    {
      "cell_type": "code",
      "source": [
        "# Remove punctuations , full stops etc\n",
        "def remove_punctuations(text):\n",
        "  remove_punc = [re.sub(r'[^\\w\\s]','',word) for word in text]\n",
        "  return remove_punc\n"
      ],
      "metadata": {
        "id": "gWmu5hv_v_t-"
      },
      "execution_count": 113,
      "outputs": []
    },
    {
      "cell_type": "code",
      "source": [
        "def processing(text):\n",
        "    text=lower_case(text)\n",
        "    text=remove_emojis(text)\n",
        "    text=remove_links(text)\n",
        "    text=remove_hashtags(text)\n",
        "    text=remove_punctuations(text)\n",
        "    text=\"\".join(text)\n",
        "    #text=remove_stopword(text)\n",
        "    return text"
      ],
      "metadata": {
        "id": "cvqVFJiXUc3Z"
      },
      "execution_count": 114,
      "outputs": []
    },
    {
      "cell_type": "code",
      "source": [
        "#sample example\n",
        "processing(\"How tommorrow ? ,  https://www.freecodecamp.org/news/python-web-scraping-tutorial/ #rammm @rammm 😂 ⤵️\")"
      ],
      "metadata": {
        "colab": {
          "base_uri": "https://localhost:8080/",
          "height": 36
        },
        "id": "1-JLYRWnUe6E",
        "outputId": "2bc54f67-9050-44e9-9b52-d682af1d8092"
      },
      "execution_count": 115,
      "outputs": [
        {
          "output_type": "execute_result",
          "data": {
            "text/plain": [
              "'how tommorrow     '"
            ],
            "application/vnd.google.colaboratory.intrinsic+json": {
              "type": "string"
            }
          },
          "metadata": {},
          "execution_count": 115
        }
      ]
    },
    {
      "cell_type": "code",
      "source": [
        "processed_data=[]\n",
        "for i in range(len(data)):\n",
        "      processed_data.append(processing(data['full_text'][i]))"
      ],
      "metadata": {
        "id": "ZqokXPBsUhRe"
      },
      "execution_count": 116,
      "outputs": []
    },
    {
      "cell_type": "code",
      "source": [
        "!pip install langdetect"
      ],
      "metadata": {
        "colab": {
          "base_uri": "https://localhost:8080/"
        },
        "id": "rwYcXpv1UjkR",
        "outputId": "09f81b7c-b32e-4afb-b1a8-53be4a611d35"
      },
      "execution_count": 117,
      "outputs": [
        {
          "output_type": "stream",
          "name": "stdout",
          "text": [
            "Looking in indexes: https://pypi.org/simple, https://us-python.pkg.dev/colab-wheels/public/simple/\n",
            "Requirement already satisfied: langdetect in /usr/local/lib/python3.9/dist-packages (1.0.9)\n",
            "Requirement already satisfied: six in /usr/local/lib/python3.9/dist-packages (from langdetect) (1.16.0)\n"
          ]
        }
      ]
    },
    {
      "cell_type": "code",
      "source": [
        "from langdetect import detect\n",
        "from langdetect import DetectorFactory\n",
        "DetectorFactory.seed = 0"
      ],
      "metadata": {
        "id": "nJy_zUcdUl-5"
      },
      "execution_count": 120,
      "outputs": []
    },
    {
      "cell_type": "code",
      "source": [
        "def is_english_tweet(x):\n",
        "    try:\n",
        "        lang = detect(x)\n",
        "        return lang == 'en'\n",
        "    except:\n",
        "        return False"
      ],
      "metadata": {
        "id": "HssdeyhcUog9"
      },
      "execution_count": 121,
      "outputs": []
    },
    {
      "cell_type": "code",
      "source": [
        "final_processed_data=[]\n",
        "for x in processed_data:\n",
        "    if is_english_tweet(x):\n",
        "        final_processed_data.append(x)"
      ],
      "metadata": {
        "id": "52D-M1aIUqWR"
      },
      "execution_count": 122,
      "outputs": []
    },
    {
      "cell_type": "code",
      "source": [
        "n =len(final_processed_data)"
      ],
      "metadata": {
        "id": "5aXX6RAjUumJ"
      },
      "execution_count": 123,
      "outputs": []
    },
    {
      "cell_type": "code",
      "source": [
        "n\n"
      ],
      "metadata": {
        "colab": {
          "base_uri": "https://localhost:8080/"
        },
        "id": "rGL4yinpUy_o",
        "outputId": "5cd9f460-1962-42c9-ffd6-d96edf212da4"
      },
      "execution_count": 124,
      "outputs": [
        {
          "output_type": "execute_result",
          "data": {
            "text/plain": [
              "865"
            ]
          },
          "metadata": {},
          "execution_count": 124
        }
      ]
    },
    {
      "cell_type": "code",
      "source": [
        "df = pd.DataFrame(final_processed_data)\n",
        "df"
      ],
      "metadata": {
        "colab": {
          "base_uri": "https://localhost:8080/",
          "height": 423
        },
        "id": "Q1z8bDlDU2I5",
        "outputId": "32874080-6c6e-4a2b-890d-eb03ba0b5496"
      },
      "execution_count": 125,
      "outputs": [
        {
          "output_type": "execute_result",
          "data": {
            "text/plain": [
              "                                                     0\n",
              "0    flagging off of ajmerdelhi cantt vande bharat ...\n",
              "1    operating 6 days a week except wednesday the  ...\n",
              "2    journey through the heart of india from the ho...\n",
              "3    the honble pm shri\\n\\nji virtually flagsoff aj...\n",
              "4    15th vande bharat express train between ajmer ...\n",
              "..                                                 ...\n",
              "860  why should we fear when there is  ji  exclaime...\n",
              "861       effect of cambridge university degree\\n     \n",
              "862   from   soon\\nbjp leaders and workers have bee...\n",
              "863     a great experience amazing hospitality in t...\n",
              "864  prime minister shri narendra modi has expresse...\n",
              "\n",
              "[865 rows x 1 columns]"
            ],
            "text/html": [
              "\n",
              "  <div id=\"df-3ce779a7-9f3b-4933-ba00-eb7343db962b\">\n",
              "    <div class=\"colab-df-container\">\n",
              "      <div>\n",
              "<style scoped>\n",
              "    .dataframe tbody tr th:only-of-type {\n",
              "        vertical-align: middle;\n",
              "    }\n",
              "\n",
              "    .dataframe tbody tr th {\n",
              "        vertical-align: top;\n",
              "    }\n",
              "\n",
              "    .dataframe thead th {\n",
              "        text-align: right;\n",
              "    }\n",
              "</style>\n",
              "<table border=\"1\" class=\"dataframe\">\n",
              "  <thead>\n",
              "    <tr style=\"text-align: right;\">\n",
              "      <th></th>\n",
              "      <th>0</th>\n",
              "    </tr>\n",
              "  </thead>\n",
              "  <tbody>\n",
              "    <tr>\n",
              "      <th>0</th>\n",
              "      <td>flagging off of ajmerdelhi cantt vande bharat ...</td>\n",
              "    </tr>\n",
              "    <tr>\n",
              "      <th>1</th>\n",
              "      <td>operating 6 days a week except wednesday the  ...</td>\n",
              "    </tr>\n",
              "    <tr>\n",
              "      <th>2</th>\n",
              "      <td>journey through the heart of india from the ho...</td>\n",
              "    </tr>\n",
              "    <tr>\n",
              "      <th>3</th>\n",
              "      <td>the honble pm shri\\n\\nji virtually flagsoff aj...</td>\n",
              "    </tr>\n",
              "    <tr>\n",
              "      <th>4</th>\n",
              "      <td>15th vande bharat express train between ajmer ...</td>\n",
              "    </tr>\n",
              "    <tr>\n",
              "      <th>...</th>\n",
              "      <td>...</td>\n",
              "    </tr>\n",
              "    <tr>\n",
              "      <th>860</th>\n",
              "      <td>why should we fear when there is  ji  exclaime...</td>\n",
              "    </tr>\n",
              "    <tr>\n",
              "      <th>861</th>\n",
              "      <td>effect of cambridge university degree\\n</td>\n",
              "    </tr>\n",
              "    <tr>\n",
              "      <th>862</th>\n",
              "      <td>from   soon\\nbjp leaders and workers have bee...</td>\n",
              "    </tr>\n",
              "    <tr>\n",
              "      <th>863</th>\n",
              "      <td>a great experience amazing hospitality in t...</td>\n",
              "    </tr>\n",
              "    <tr>\n",
              "      <th>864</th>\n",
              "      <td>prime minister shri narendra modi has expresse...</td>\n",
              "    </tr>\n",
              "  </tbody>\n",
              "</table>\n",
              "<p>865 rows × 1 columns</p>\n",
              "</div>\n",
              "      <button class=\"colab-df-convert\" onclick=\"convertToInteractive('df-3ce779a7-9f3b-4933-ba00-eb7343db962b')\"\n",
              "              title=\"Convert this dataframe to an interactive table.\"\n",
              "              style=\"display:none;\">\n",
              "        \n",
              "  <svg xmlns=\"http://www.w3.org/2000/svg\" height=\"24px\"viewBox=\"0 0 24 24\"\n",
              "       width=\"24px\">\n",
              "    <path d=\"M0 0h24v24H0V0z\" fill=\"none\"/>\n",
              "    <path d=\"M18.56 5.44l.94 2.06.94-2.06 2.06-.94-2.06-.94-.94-2.06-.94 2.06-2.06.94zm-11 1L8.5 8.5l.94-2.06 2.06-.94-2.06-.94L8.5 2.5l-.94 2.06-2.06.94zm10 10l.94 2.06.94-2.06 2.06-.94-2.06-.94-.94-2.06-.94 2.06-2.06.94z\"/><path d=\"M17.41 7.96l-1.37-1.37c-.4-.4-.92-.59-1.43-.59-.52 0-1.04.2-1.43.59L10.3 9.45l-7.72 7.72c-.78.78-.78 2.05 0 2.83L4 21.41c.39.39.9.59 1.41.59.51 0 1.02-.2 1.41-.59l7.78-7.78 2.81-2.81c.8-.78.8-2.07 0-2.86zM5.41 20L4 18.59l7.72-7.72 1.47 1.35L5.41 20z\"/>\n",
              "  </svg>\n",
              "      </button>\n",
              "      \n",
              "  <style>\n",
              "    .colab-df-container {\n",
              "      display:flex;\n",
              "      flex-wrap:wrap;\n",
              "      gap: 12px;\n",
              "    }\n",
              "\n",
              "    .colab-df-convert {\n",
              "      background-color: #E8F0FE;\n",
              "      border: none;\n",
              "      border-radius: 50%;\n",
              "      cursor: pointer;\n",
              "      display: none;\n",
              "      fill: #1967D2;\n",
              "      height: 32px;\n",
              "      padding: 0 0 0 0;\n",
              "      width: 32px;\n",
              "    }\n",
              "\n",
              "    .colab-df-convert:hover {\n",
              "      background-color: #E2EBFA;\n",
              "      box-shadow: 0px 1px 2px rgba(60, 64, 67, 0.3), 0px 1px 3px 1px rgba(60, 64, 67, 0.15);\n",
              "      fill: #174EA6;\n",
              "    }\n",
              "\n",
              "    [theme=dark] .colab-df-convert {\n",
              "      background-color: #3B4455;\n",
              "      fill: #D2E3FC;\n",
              "    }\n",
              "\n",
              "    [theme=dark] .colab-df-convert:hover {\n",
              "      background-color: #434B5C;\n",
              "      box-shadow: 0px 1px 3px 1px rgba(0, 0, 0, 0.15);\n",
              "      filter: drop-shadow(0px 1px 2px rgba(0, 0, 0, 0.3));\n",
              "      fill: #FFFFFF;\n",
              "    }\n",
              "  </style>\n",
              "\n",
              "      <script>\n",
              "        const buttonEl =\n",
              "          document.querySelector('#df-3ce779a7-9f3b-4933-ba00-eb7343db962b button.colab-df-convert');\n",
              "        buttonEl.style.display =\n",
              "          google.colab.kernel.accessAllowed ? 'block' : 'none';\n",
              "\n",
              "        async function convertToInteractive(key) {\n",
              "          const element = document.querySelector('#df-3ce779a7-9f3b-4933-ba00-eb7343db962b');\n",
              "          const dataTable =\n",
              "            await google.colab.kernel.invokeFunction('convertToInteractive',\n",
              "                                                     [key], {});\n",
              "          if (!dataTable) return;\n",
              "\n",
              "          const docLinkHtml = 'Like what you see? Visit the ' +\n",
              "            '<a target=\"_blank\" href=https://colab.research.google.com/notebooks/data_table.ipynb>data table notebook</a>'\n",
              "            + ' to learn more about interactive tables.';\n",
              "          element.innerHTML = '';\n",
              "          dataTable['output_type'] = 'display_data';\n",
              "          await google.colab.output.renderOutput(dataTable, element);\n",
              "          const docLink = document.createElement('div');\n",
              "          docLink.innerHTML = docLinkHtml;\n",
              "          element.appendChild(docLink);\n",
              "        }\n",
              "      </script>\n",
              "    </div>\n",
              "  </div>\n",
              "  "
            ]
          },
          "metadata": {},
          "execution_count": 125
        }
      ]
    },
    {
      "cell_type": "code",
      "source": [
        "df.to_csv(\"dataset_vandebharatexpress_p.csv\")"
      ],
      "metadata": {
        "id": "FzOrLbikU4u1"
      },
      "execution_count": 29,
      "outputs": []
    },
    {
      "cell_type": "code",
      "source": [
        "import nltk\n",
        "nltk.download('punkt')"
      ],
      "metadata": {
        "colab": {
          "base_uri": "https://localhost:8080/"
        },
        "id": "RAVtL98jVANG",
        "outputId": "5ac19a91-a31f-4708-c92e-6c2c02ff2b20"
      },
      "execution_count": 126,
      "outputs": [
        {
          "output_type": "stream",
          "name": "stderr",
          "text": [
            "[nltk_data] Downloading package punkt to /root/nltk_data...\n",
            "[nltk_data]   Package punkt is already up-to-date!\n"
          ]
        },
        {
          "output_type": "execute_result",
          "data": {
            "text/plain": [
              "True"
            ]
          },
          "metadata": {},
          "execution_count": 126
        }
      ]
    },
    {
      "cell_type": "code",
      "source": [
        "\n",
        "from nltk.tokenize import word_tokenize"
      ],
      "metadata": {
        "id": "N4BnD7W_VG6V"
      },
      "execution_count": 127,
      "outputs": []
    },
    {
      "cell_type": "code",
      "source": [
        "t_processed_data=[]\n",
        "for x in final_processed_data:\n",
        "  y=word_tokenize(x) \n",
        "  t_processed_data.append(y)"
      ],
      "metadata": {
        "id": "U2IcrZrvVJb4"
      },
      "execution_count": 128,
      "outputs": []
    },
    {
      "cell_type": "code",
      "source": [
        "len(t_processed_data)"
      ],
      "metadata": {
        "colab": {
          "base_uri": "https://localhost:8080/"
        },
        "id": "3vMe-6SlVLZy",
        "outputId": "7c12d723-0a4b-4cd9-9b81-21d00433751d"
      },
      "execution_count": 129,
      "outputs": [
        {
          "output_type": "execute_result",
          "data": {
            "text/plain": [
              "865"
            ]
          },
          "metadata": {},
          "execution_count": 129
        }
      ]
    },
    {
      "cell_type": "code",
      "source": [
        "t_processed_data[0]"
      ],
      "metadata": {
        "colab": {
          "base_uri": "https://localhost:8080/"
        },
        "id": "RDaRCkRcVNsu",
        "outputId": "d2959b94-7c5c-4e39-ae85-4b1447662858"
      },
      "execution_count": 130,
      "outputs": [
        {
          "output_type": "execute_result",
          "data": {
            "text/plain": [
              "['flagging',\n",
              " 'off',\n",
              " 'of',\n",
              " 'ajmerdelhi',\n",
              " 'cantt',\n",
              " 'vande',\n",
              " 'bharat',\n",
              " 'express',\n",
              " 'by',\n",
              " 'honble',\n",
              " 'prime',\n",
              " 'minister',\n",
              " 'shri',\n",
              " 'narendra',\n",
              " 'modi',\n",
              " 'on',\n",
              " '12042023',\n",
              " 'via',\n",
              " 'video',\n",
              " 'conferencing']"
            ]
          },
          "metadata": {},
          "execution_count": 130
        }
      ]
    },
    {
      "cell_type": "markdown",
      "source": [
        "# POS tagging"
      ],
      "metadata": {
        "id": "6gaYBo7zwojg"
      }
    },
    {
      "cell_type": "code",
      "source": [
        "nltk.download('averaged_perceptron_tagger')"
      ],
      "metadata": {
        "colab": {
          "base_uri": "https://localhost:8080/"
        },
        "id": "R7PtuJ63VQA9",
        "outputId": "af8337ed-3d55-4136-bd6e-a094eda96d84"
      },
      "execution_count": 44,
      "outputs": [
        {
          "output_type": "stream",
          "name": "stderr",
          "text": [
            "[nltk_data] Downloading package averaged_perceptron_tagger to\n",
            "[nltk_data]     /root/nltk_data...\n",
            "[nltk_data]   Unzipping taggers/averaged_perceptron_tagger.zip.\n"
          ]
        },
        {
          "output_type": "execute_result",
          "data": {
            "text/plain": [
              "True"
            ]
          },
          "metadata": {},
          "execution_count": 44
        }
      ]
    },
    {
      "cell_type": "code",
      "source": [
        "POS_processed_data=[]\n",
        "for x in f_processed_data :\n",
        "  tokens = word_tokenize(x)\n",
        "  pos_tags = nltk.pos_tag(tokens)\n",
        "  POS_processed_data.append(pos_tags)"
      ],
      "metadata": {
        "id": "0guDk-lOVSxD"
      },
      "execution_count": 45,
      "outputs": []
    },
    {
      "cell_type": "code",
      "source": [
        "POS_processed_data[0]"
      ],
      "metadata": {
        "colab": {
          "base_uri": "https://localhost:8080/"
        },
        "id": "yla0QH-xVVV_",
        "outputId": "6d8c1758-05cd-486d-cfad-b0b3f3888e57"
      },
      "execution_count": 46,
      "outputs": [
        {
          "output_type": "execute_result",
          "data": {
            "text/plain": [
              "[('flagging', 'VBG'),\n",
              " ('off', 'IN'),\n",
              " ('of', 'IN'),\n",
              " ('ajmerdelhi', 'NN'),\n",
              " ('cantt', 'NN'),\n",
              " ('vande', 'NN'),\n",
              " ('bharat', 'NN'),\n",
              " ('express', 'NN'),\n",
              " ('by', 'IN'),\n",
              " ('honble', 'JJ'),\n",
              " ('prime', 'JJ'),\n",
              " ('minister', 'NN'),\n",
              " ('shri', 'NN'),\n",
              " ('narendra', 'FW'),\n",
              " ('modi', 'NN'),\n",
              " ('on', 'IN'),\n",
              " ('12042023', 'CD'),\n",
              " ('via', 'IN'),\n",
              " ('video', 'NN'),\n",
              " ('conferencing', 'VBG')]"
            ]
          },
          "metadata": {},
          "execution_count": 46
        }
      ]
    },
    {
      "cell_type": "code",
      "source": [
        " from nltk.stem import WordNetLemmatizer"
      ],
      "metadata": {
        "id": "1N8BXIMEw3pv"
      },
      "execution_count": 131,
      "outputs": []
    },
    {
      "cell_type": "code",
      "source": [
        "nltk.download('wordnet')\n",
        "nltk.download('stopwords')"
      ],
      "metadata": {
        "colab": {
          "base_uri": "https://localhost:8080/"
        },
        "id": "2dg2wTaDw4-i",
        "outputId": "32445e16-24e8-492a-c7b1-1d25d6647b2d"
      },
      "execution_count": 132,
      "outputs": [
        {
          "output_type": "stream",
          "name": "stderr",
          "text": [
            "[nltk_data] Downloading package wordnet to /root/nltk_data...\n",
            "[nltk_data]   Package wordnet is already up-to-date!\n",
            "[nltk_data] Downloading package stopwords to /root/nltk_data...\n",
            "[nltk_data]   Package stopwords is already up-to-date!\n"
          ]
        },
        {
          "output_type": "execute_result",
          "data": {
            "text/plain": [
              "True"
            ]
          },
          "metadata": {},
          "execution_count": 132
        }
      ]
    },
    {
      "cell_type": "code",
      "source": [
        "lemmatizer = WordNetLemmatizer()\n",
        "stop_words = set(stopwords.words('english'))\n"
      ],
      "metadata": {
        "id": "X27O7Notw_zB"
      },
      "execution_count": 146,
      "outputs": []
    },
    {
      "cell_type": "code",
      "source": [
        "def lemmatize_tweet(tweet):\n",
        "    # Tokenize the tweet\n",
        "    words = nltk.word_tokenize(tweet.lower())\n",
        "    \n",
        "    # Remove stop words and lemmatize each word\n",
        "    lemmatized_words = [lemmatizer.lemmatize(word) for word in words if word not in stop_words]\n",
        "    \n",
        "    # Join the lemmatized words back into a string\n",
        "    lemmatized_tweet = ' '.join(lemmatized_words)\n",
        "    \n",
        "    return lemmatized_tweet"
      ],
      "metadata": {
        "id": "P-0rEAqZw_mT"
      },
      "execution_count": 134,
      "outputs": []
    },
    {
      "cell_type": "code",
      "source": [
        "l_processed_data=[]\n",
        "for x in final_processed_data:\n",
        "  y=lemmatize_tweet(x) \n",
        "  l_processed_data.append(y)"
      ],
      "metadata": {
        "id": "PgMoDYUsxGdO"
      },
      "execution_count": 135,
      "outputs": []
    },
    {
      "cell_type": "code",
      "source": [
        "l_processed_data[0:50]"
      ],
      "metadata": {
        "colab": {
          "base_uri": "https://localhost:8080/"
        },
        "id": "hPcYyiD7xJ-l",
        "outputId": "6809f9b0-3139-4402-ba33-6f885e77103a"
      },
      "execution_count": 137,
      "outputs": [
        {
          "output_type": "execute_result",
          "data": {
            "text/plain": [
              "['flagging ajmerdelhi cantt vande bharat express honble prime minister shri narendra modi 12042023 via video conferencing',\n",
              " 'operating 6 day week except wednesday train provide chance reach ajmer delhi cantt 5 hour 15 minute',\n",
              " 'journey heart india holy city vibrant street true celebration india diversity progress',\n",
              " 'honble pm shri ji virtually flagsoff ajmer delhi cantt train today',\n",
              " '15th vande bharat express train ajmer delhi cantt get boost industry tourism education medical facility economic activity',\n",
              " 'new ajmer delhi cantt vande bharat express train real game changer boosting industry tourism education medical economic sector delhi haryana rajasthan',\n",
              " 'join u howtoguide build streaming etl mysql postgres based flink cdc',\n",
              " '15th vande bharat express train ajmer delhi cantt',\n",
              " 'india 15th train ajmerdelhi cantt provide additional spur religious tourism act boon industry region',\n",
              " 'flagging ajmerdelhi cantt vande bharat express honble prime minister shri narendra modi 12042023 via video conferencing',\n",
              " 'thank pm shri promoting indigenous technology boosting economy indian railway express',\n",
              " 'new ajmer delhi cantt vande bharat express train real game changer boosting industry tourism education medical economic sector delhi haryana rajasthan',\n",
              " 'journey heart india holy city vibrant street true celebration india diversity progress',\n",
              " 'ajmer delhi cantt act catalyst expansion industry upscale employment opportunity en route area',\n",
              " 'home wall roof risk serious damage garage door fails high wind protect home getting windrated door',\n",
              " 'flagging ajmerdelhi cantt vande bharat express honble prime minister shri narendra modi 12042023 via video conferencing',\n",
              " 'flagging ajmerdelhi cantt benefit route area expansion industry employment opportunity',\n",
              " 'journey heart india holy city vibrant street true celebration india diversity progress',\n",
              " 'ajmerdelhi cantt vande bharat express benefit route area expansion industry employment opportunity',\n",
              " 'thank pm shri promoting indigenous technology boosting economy indian railway express',\n",
              " 'industry tourism education medical facility economic activity state get boost ajmer delhi cantt',\n",
              " 'india 15th train ajmerdelhi cantt provide additional spur religious tourism act boon industry region',\n",
              " 'express train wellequipped divyangjanfriendly facility make train journey comfortable one',\n",
              " 'express train wellequipped divyangjanfriendly facility make train journey comfortable one',\n",
              " 'flag',\n",
              " 'introducing successful womxn community show nft collection real world snitch woman support coaching mastermind discount giveaway join waitlist 500 available date drop announced soon',\n",
              " 'vande bharat travel experience ajmer delhi route',\n",
              " 'ajmer delhi express testimony talent capability indian engineer',\n",
              " 'welcome rajasthan',\n",
              " 'thank pm shri promoting indigenous technology boosting economy indian railway express',\n",
              " '15th vande bharat express train ajmer delhi cantt connect important tourist destination',\n",
              " 'new ajmer delhi cantt vande bharat express train real game changer boosting industry tourism education medical economic sector delhi haryana rajasthan',\n",
              " 'operating 6 day week except wednesday train provide chance reach ajmer delhi cantt 5 hour 15 minute',\n",
              " 'dont know attack surface could lead next breach submit domain well rest get copy new improved attack surface assessment report today',\n",
              " 'since two funeral home exactly alike made customization flexibility hallmark answering service larger multilocation firm smaller funeral home rural area asd solution place every size firm call scenario',\n",
              " 'journey heart india holy city vibrant street true celebration india diversity progress',\n",
              " 'enhance passenger experience comfort ajmer delhi cantt yardstick quality enhancing passenger safety',\n",
              " '15th vande bharat express train ajmer delhi cantt flagged honble prime minister shri narendra modi ji jaipur railway station video conferencing',\n",
              " 'ajmer delhi cantt act catalyst expansion industry upscale employment opportunity en route area',\n",
              " 'sit back relax enjoy scenic beauty comfort',\n",
              " 'anticipated model rocket year',\n",
              " 'operating 6 day week except wednesday train provide chance reach ajmer delhi cantt 5 hour 15 minute',\n",
              " 'india 15th train ajmerdelhi cantt provide additional spur religious tourism act boon industry region',\n",
              " 'pm modi flag ajmerdelhi cantt vande bharat express train',\n",
              " 'honble prime minister shri narendra modi flag vande bharat express train ajmer delhi cantt',\n",
              " 'operating 6 day week except wednesday train provide chance reach ajmer delhi cantt 5 hour 15 minute',\n",
              " 'wellequipped modern latest amenity like biovacuum toilet led light charging point beneath every seat etc salient feature make travelling new train comfortable journey',\n",
              " 'prime minister shri flag rajasthans first train 12th april 2023 via videoconferencing',\n",
              " 'express train wellequipped divyangjanfriendly facility make train journey comfortable one',\n",
              " '15th vande bharat express train ajmer delhi cantt benefit route area expansion industry employment opportunity']"
            ]
          },
          "metadata": {},
          "execution_count": 137
        }
      ]
    },
    {
      "cell_type": "markdown",
      "source": [
        "# Embedding using Spacy"
      ],
      "metadata": {
        "id": "9KoQiz0txUG8"
      }
    },
    {
      "cell_type": "code",
      "source": [
        "import spacy\n",
        "\n",
        "# Load the pre-trained spaCy model\n",
        "nlp = spacy.load(\"en_core_web_sm\")"
      ],
      "metadata": {
        "id": "8UC5IkhYVX4J"
      },
      "execution_count": 54,
      "outputs": []
    },
    {
      "cell_type": "code",
      "source": [
        "def get_word_embeddings(text):\n",
        "    doc = nlp(text)\n",
        "    embeddings = []\n",
        "    for token in doc:\n",
        "        if not token.is_stop:\n",
        "          embeddings.append(token.vector)\n",
        "    return embeddings"
      ],
      "metadata": {
        "id": "22ejNO_dVbmv"
      },
      "execution_count": 55,
      "outputs": []
    },
    {
      "cell_type": "code",
      "source": [
        "we_processed_data=[]\n",
        "for sentence in l_processed_data:\n",
        "  we_processed_data.append(get_word_embeddings(sentence))"
      ],
      "metadata": {
        "id": "VpAmcAtAVhZG"
      },
      "execution_count": 56,
      "outputs": []
    },
    {
      "cell_type": "code",
      "source": [
        "m1=len(we_processed_data)\n",
        "m2=len(we_processed_data[2])\n",
        "m3=len(l_processed_data)"
      ],
      "metadata": {
        "id": "WagK2kyTV_pQ"
      },
      "execution_count": 57,
      "outputs": []
    },
    {
      "cell_type": "code",
      "source": [
        "m1\n"
      ],
      "metadata": {
        "colab": {
          "base_uri": "https://localhost:8080/"
        },
        "id": "N-CYPHxCxiMK",
        "outputId": "8cb781e2-3e51-41d0-b872-093cb078ce93"
      },
      "execution_count": 58,
      "outputs": [
        {
          "output_type": "execute_result",
          "data": {
            "text/plain": [
              "865"
            ]
          },
          "metadata": {},
          "execution_count": 58
        }
      ]
    },
    {
      "cell_type": "code",
      "source": [
        "l_processed_data[2]"
      ],
      "metadata": {
        "colab": {
          "base_uri": "https://localhost:8080/",
          "height": 53
        },
        "id": "WZAvm52wxpXD",
        "outputId": "44823297-aae2-45ec-bb18-a806edaed848"
      },
      "execution_count": 62,
      "outputs": [
        {
          "output_type": "execute_result",
          "data": {
            "text/plain": [
              "'journey heart india holy city vibrant street true celebration india diversity progress'"
            ],
            "application/vnd.google.colaboratory.intrinsic+json": {
              "type": "string"
            }
          },
          "metadata": {},
          "execution_count": 62
        }
      ]
    },
    {
      "cell_type": "code",
      "source": [
        "m2"
      ],
      "metadata": {
        "colab": {
          "base_uri": "https://localhost:8080/"
        },
        "id": "Eu5kx5mkxjmm",
        "outputId": "f8fab265-ceb8-495f-c214-62edf3998118"
      },
      "execution_count": 59,
      "outputs": [
        {
          "output_type": "execute_result",
          "data": {
            "text/plain": [
              "12"
            ]
          },
          "metadata": {},
          "execution_count": 59
        }
      ]
    },
    {
      "cell_type": "code",
      "source": [
        "m3"
      ],
      "metadata": {
        "colab": {
          "base_uri": "https://localhost:8080/"
        },
        "id": "rDc1Gsx4xkbi",
        "outputId": "2fedd935-2f4f-40be-8a01-561c5fad9128"
      },
      "execution_count": 60,
      "outputs": [
        {
          "output_type": "execute_result",
          "data": {
            "text/plain": [
              "865"
            ]
          },
          "metadata": {},
          "execution_count": 60
        }
      ]
    },
    {
      "cell_type": "code",
      "source": [
        "pip install transformers --upgrade\n"
      ],
      "metadata": {
        "colab": {
          "base_uri": "https://localhost:8080/"
        },
        "id": "XxhasOZjxlZ3",
        "outputId": "ad1e771c-a452-47b9-a13b-cad576bcc1e6"
      },
      "execution_count": 63,
      "outputs": [
        {
          "output_type": "stream",
          "name": "stdout",
          "text": [
            "Looking in indexes: https://pypi.org/simple, https://us-python.pkg.dev/colab-wheels/public/simple/\n",
            "Collecting transformers\n",
            "  Downloading transformers-4.27.4-py3-none-any.whl (6.8 MB)\n",
            "\u001b[2K     \u001b[90m━━━━━━━━━━━━━━━━━━━━━━━━━━━━━━━━━━━━━━━━\u001b[0m \u001b[32m6.8/6.8 MB\u001b[0m \u001b[31m53.9 MB/s\u001b[0m eta \u001b[36m0:00:00\u001b[0m\n",
            "\u001b[?25hCollecting tokenizers!=0.11.3,<0.14,>=0.11.1\n",
            "  Downloading tokenizers-0.13.3-cp39-cp39-manylinux_2_17_x86_64.manylinux2014_x86_64.whl (7.8 MB)\n",
            "\u001b[2K     \u001b[90m━━━━━━━━━━━━━━━━━━━━━━━━━━━━━━━━━━━━━━━━\u001b[0m \u001b[32m7.8/7.8 MB\u001b[0m \u001b[31m103.5 MB/s\u001b[0m eta \u001b[36m0:00:00\u001b[0m\n",
            "\u001b[?25hRequirement already satisfied: pyyaml>=5.1 in /usr/local/lib/python3.9/dist-packages (from transformers) (6.0)\n",
            "Requirement already satisfied: requests in /usr/local/lib/python3.9/dist-packages (from transformers) (2.27.1)\n",
            "Requirement already satisfied: tqdm>=4.27 in /usr/local/lib/python3.9/dist-packages (from transformers) (4.65.0)\n",
            "Requirement already satisfied: packaging>=20.0 in /usr/local/lib/python3.9/dist-packages (from transformers) (23.0)\n",
            "Collecting huggingface-hub<1.0,>=0.11.0\n",
            "  Downloading huggingface_hub-0.13.4-py3-none-any.whl (200 kB)\n",
            "\u001b[2K     \u001b[90m━━━━━━━━━━━━━━━━━━━━━━━━━━━━━━━━━━━━━━\u001b[0m \u001b[32m200.1/200.1 kB\u001b[0m \u001b[31m21.6 MB/s\u001b[0m eta \u001b[36m0:00:00\u001b[0m\n",
            "\u001b[?25hRequirement already satisfied: filelock in /usr/local/lib/python3.9/dist-packages (from transformers) (3.11.0)\n",
            "Requirement already satisfied: regex!=2019.12.17 in /usr/local/lib/python3.9/dist-packages (from transformers) (2022.10.31)\n",
            "Requirement already satisfied: numpy>=1.17 in /usr/local/lib/python3.9/dist-packages (from transformers) (1.22.4)\n",
            "Requirement already satisfied: typing-extensions>=3.7.4.3 in /usr/local/lib/python3.9/dist-packages (from huggingface-hub<1.0,>=0.11.0->transformers) (4.5.0)\n",
            "Requirement already satisfied: idna<4,>=2.5 in /usr/local/lib/python3.9/dist-packages (from requests->transformers) (3.4)\n",
            "Requirement already satisfied: charset-normalizer~=2.0.0 in /usr/local/lib/python3.9/dist-packages (from requests->transformers) (2.0.12)\n",
            "Requirement already satisfied: certifi>=2017.4.17 in /usr/local/lib/python3.9/dist-packages (from requests->transformers) (2022.12.7)\n",
            "Requirement already satisfied: urllib3<1.27,>=1.21.1 in /usr/local/lib/python3.9/dist-packages (from requests->transformers) (1.26.15)\n",
            "Installing collected packages: tokenizers, huggingface-hub, transformers\n",
            "Successfully installed huggingface-hub-0.13.4 tokenizers-0.13.3 transformers-4.27.4\n"
          ]
        }
      ]
    },
    {
      "cell_type": "code",
      "source": [
        "pip show transformers"
      ],
      "metadata": {
        "colab": {
          "base_uri": "https://localhost:8080/"
        },
        "id": "qS5SkJJYx82J",
        "outputId": "c27e1d8b-522d-43ef-e080-9a92afb6addf"
      },
      "execution_count": 64,
      "outputs": [
        {
          "output_type": "stream",
          "name": "stdout",
          "text": [
            "Name: transformers\n",
            "Version: 4.27.4\n",
            "Summary: State-of-the-art Machine Learning for JAX, PyTorch and TensorFlow\n",
            "Home-page: https://github.com/huggingface/transformers\n",
            "Author: The Hugging Face team (past and future) with the help of all our contributors (https://github.com/huggingface/transformers/graphs/contributors)\n",
            "Author-email: transformers@huggingface.co\n",
            "License: Apache 2.0 License\n",
            "Location: /usr/local/lib/python3.9/dist-packages\n",
            "Requires: filelock, huggingface-hub, numpy, packaging, pyyaml, regex, requests, tokenizers, tqdm\n",
            "Required-by: \n"
          ]
        }
      ]
    },
    {
      "cell_type": "code",
      "source": [
        "pip install sentencepiece"
      ],
      "metadata": {
        "colab": {
          "base_uri": "https://localhost:8080/"
        },
        "id": "G-FskNVMx_yf",
        "outputId": "bdc65863-5c16-4c4b-d2f5-afe9ad2fbe6a"
      },
      "execution_count": 65,
      "outputs": [
        {
          "output_type": "stream",
          "name": "stdout",
          "text": [
            "Looking in indexes: https://pypi.org/simple, https://us-python.pkg.dev/colab-wheels/public/simple/\n",
            "Collecting sentencepiece\n",
            "  Downloading sentencepiece-0.1.98-cp39-cp39-manylinux_2_17_x86_64.manylinux2014_x86_64.whl (1.3 MB)\n",
            "\u001b[2K     \u001b[90m━━━━━━━━━━━━━━━━━━━━━━━━━━━━━━━━━━━━━━━━\u001b[0m \u001b[32m1.3/1.3 MB\u001b[0m \u001b[31m17.2 MB/s\u001b[0m eta \u001b[36m0:00:00\u001b[0m\n",
            "\u001b[?25hInstalling collected packages: sentencepiece\n",
            "Successfully installed sentencepiece-0.1.98\n"
          ]
        }
      ]
    },
    {
      "cell_type": "code",
      "source": [
        "from transformers import AutoTokenizer, T5ForConditionalGeneration\n",
        "\n",
        "tokenizer = AutoTokenizer.from_pretrained(\"t5-base\")\n",
        "model = T5ForConditionalGeneration.from_pretrained(\"t5-base\")\n"
      ],
      "metadata": {
        "colab": {
          "base_uri": "https://localhost:8080/",
          "height": 441,
          "referenced_widgets": [
            "fe91f88578d54bf8a45d6c7de5b552a2",
            "58bbc2431cc04aea9b4c4d5efdc8306f",
            "3d8fd96273854a619bf8ae3a74edada8",
            "478b0e35e2d2497e847092adb3d01092",
            "af532b139f2843d6912b2d2853c13d63",
            "1fbc132e525c4aa2bc52cad6aa2346a4",
            "960ad4b33b2042f3882c4d7aef02dc65",
            "4caef614229c4636b9a318b898ccd73a",
            "a9646e3d0a8744459a76871d6c1192a1",
            "7e34e6ac903c4b84b9882be1beb75bb3",
            "50143e84e8db4f658398285c173e706a",
            "3fb683b0963344ca9e3fb9cb952d476e",
            "b9f1ab4ffbde4399b4fca43fb6291a79",
            "e329583539164d0cbd40f729ea0d9a87",
            "3a89b6adddd346f1b8ecec0ee18ff622",
            "563f148b4ee64ca58f931cdfbde5e3fb",
            "5ceafb34f7aa4a589def363d123b3afc",
            "5fc43355924a4b5e914becba2843888e",
            "ae8f84db5bcb4f31b84f673e97412cfe",
            "91959da58e92479885baba49d2edb4e9",
            "de876c7c6eb64ef0aba756547ddac660",
            "d92dcefbe54d43aab7ae946e5cdd3ad1",
            "64a500842b8b4e408b3f5c7c1e25a6b5",
            "418c43b304ca49b68886593f937e825b",
            "36032954e4f84d38bfebafe28a485d16",
            "34ffa23caa684dbbadffefe96337f374",
            "9e6d73b404d6438288e0a42ef7742920",
            "e54fd4ddd30b4748a8160851c07c9304",
            "0e2da306bc9c4bcd935337812129b2a1",
            "b00455b721284ca0baddf7b40415321a",
            "45c65c02b8574d46b9cc6970a3333efd",
            "e7347f520d1e4763a7739ff39c4be37d",
            "a600a123ebb447dbb096574d556a340d",
            "1de69f08f72e4600891cc4cd1977a6e8",
            "88695747f9094ed79e0a49787dbc2e0a",
            "89ed00a7a15d40d6a44a6b6a4ef92c7f",
            "e5962f16b61f4257b4de86befb00871b",
            "c0c8b7f534f04a8190d3afa1bea81497",
            "dfa3b4cc45494f3d963c6bbbe9e731f5",
            "60c0382f708c4389adf5297248425513",
            "5124448caa04440ead699ef954672e83",
            "347125005aa849b68f5c5f5c9e400dae",
            "91360be9ec214ab0a7da26d1cb29b79c",
            "bb5ab2dcf4d84f28aa5bfe3bc24906ed",
            "27c4cc74d6394286ad97fae0839399d8",
            "e0e32a3e297c4e6bbd04f4f2194acf90",
            "140bbc71b27e4a0fb059109bf9eeed2c",
            "33f4470972ad444baddf426067b345ad",
            "1a9f1e3fe83e40609d55e5e89b0c19f7",
            "8aef0aebcf44409b89ac837a1006974d",
            "f05a1d35c71244b9b2cde8935155a14f",
            "67efab46cd2543a2bc9dae56b839a392",
            "45ebfd4335e14a53a77dfcee6389d037",
            "b48fbfbe094147c4804ddaf0560db1eb",
            "dc9bc47b55a648dea3823b05b27746f0"
          ]
        },
        "id": "2jQISYE3yCMn",
        "outputId": "8e49125f-e14d-4d78-aff3-9f5a54f48b4a"
      },
      "execution_count": 148,
      "outputs": [
        {
          "output_type": "display_data",
          "data": {
            "text/plain": [
              "Downloading (…)lve/main/config.json:   0%|          | 0.00/1.21k [00:00<?, ?B/s]"
            ],
            "application/vnd.jupyter.widget-view+json": {
              "version_major": 2,
              "version_minor": 0,
              "model_id": "fe91f88578d54bf8a45d6c7de5b552a2"
            }
          },
          "metadata": {}
        },
        {
          "output_type": "display_data",
          "data": {
            "text/plain": [
              "Downloading (…)ve/main/spiece.model:   0%|          | 0.00/792k [00:00<?, ?B/s]"
            ],
            "application/vnd.jupyter.widget-view+json": {
              "version_major": 2,
              "version_minor": 0,
              "model_id": "3fb683b0963344ca9e3fb9cb952d476e"
            }
          },
          "metadata": {}
        },
        {
          "output_type": "display_data",
          "data": {
            "text/plain": [
              "Downloading (…)/main/tokenizer.json:   0%|          | 0.00/1.39M [00:00<?, ?B/s]"
            ],
            "application/vnd.jupyter.widget-view+json": {
              "version_major": 2,
              "version_minor": 0,
              "model_id": "64a500842b8b4e408b3f5c7c1e25a6b5"
            }
          },
          "metadata": {}
        },
        {
          "output_type": "stream",
          "name": "stderr",
          "text": [
            "/usr/local/lib/python3.9/dist-packages/transformers/models/t5/tokenization_t5_fast.py:155: FutureWarning: This tokenizer was incorrectly instantiated with a model max length of 512 which will be corrected in Transformers v5.\n",
            "For now, this behavior is kept to avoid breaking backwards compatibility when padding/encoding with `truncation is True`.\n",
            "- Be aware that you SHOULD NOT rely on t5-base automatically truncating your input to 512 when padding/encoding.\n",
            "- If you want to encode/pad to sequences longer than 512 you can either instantiate this tokenizer with `model_max_length` or pass `max_length` when encoding/padding.\n",
            "- To avoid this warning, please instantiate this tokenizer with `model_max_length` set to your preferred value.\n",
            "  warnings.warn(\n"
          ]
        },
        {
          "output_type": "display_data",
          "data": {
            "text/plain": [
              "Downloading pytorch_model.bin:   0%|          | 0.00/892M [00:00<?, ?B/s]"
            ],
            "application/vnd.jupyter.widget-view+json": {
              "version_major": 2,
              "version_minor": 0,
              "model_id": "1de69f08f72e4600891cc4cd1977a6e8"
            }
          },
          "metadata": {}
        },
        {
          "output_type": "display_data",
          "data": {
            "text/plain": [
              "Downloading (…)neration_config.json:   0%|          | 0.00/147 [00:00<?, ?B/s]"
            ],
            "application/vnd.jupyter.widget-view+json": {
              "version_major": 2,
              "version_minor": 0,
              "model_id": "27c4cc74d6394286ad97fae0839399d8"
            }
          },
          "metadata": {}
        }
      ]
    },
    {
      "cell_type": "code",
      "source": [
        "temp=l_processed_data[:50]"
      ],
      "metadata": {
        "id": "YUKCmP9WyNu6"
      },
      "execution_count": 149,
      "outputs": []
    },
    {
      "cell_type": "code",
      "source": [
        "len(temp)"
      ],
      "metadata": {
        "colab": {
          "base_uri": "https://localhost:8080/"
        },
        "id": "ENee4hwqyf5A",
        "outputId": "c1f11b3c-6759-4e28-ba4e-062b06c87d91"
      },
      "execution_count": 150,
      "outputs": [
        {
          "output_type": "execute_result",
          "data": {
            "text/plain": [
              "50"
            ]
          },
          "metadata": {},
          "execution_count": 150
        }
      ]
    },
    {
      "cell_type": "code",
      "source": [
        "# text = \"Input text for summarization. Abstractive summarization we are doing here\"\n",
        "final_summary=\"\"\n",
        "for text in temp:\n",
        "  inputs = tokenizer.encode(text, return_tensors=\"pt\", max_length=512, truncation=True)\n",
        "  summary_ids = model.generate(inputs, max_length=150, min_length=40, length_penalty=2.0,num_beams=4)\n",
        "  summary = tokenizer.decode(summary_ids[0], skip_special_tokens=True)\n",
        "  final_summary=summary+final_summary"
      ],
      "metadata": {
        "id": "NPEtTc9vyE89"
      },
      "execution_count": 151,
      "outputs": []
    },
    {
      "cell_type": "code",
      "source": [
        "print(final_summary)"
      ],
      "metadata": {
        "colab": {
          "base_uri": "https://localhost:8080/"
        },
        "id": "mDy2ILc2zFVX",
        "outputId": "13263555-9825-4c5f-ec91-0b53522b4a1e"
      },
      "execution_count": 152,
      "outputs": [
        {
          "output_type": "stream",
          "name": "stdout",
          "text": [
            "vande bharat express train ajmer delhi cantt benefit route area expansion industry employment opportunity industry employment opportunities industry employment opportunities industry employment opportunities industry employment opportunities industry employment opportunities industry employment opportunities industry employment opportunities industry employment opportunities industry employment opportunities industry employment opportunities industry employment opportunities industry employment opportunities industry employment opportunities industry employment opportunities industry employment opportunities industry employment opportunities industry employment opportunities industry employment opportunities industry employment opportunities industry employment opportunities industry employment opportunities industry employment opportunities industry employment opportunities industry employment opportunities industry employment opportunities industry employment opportunities industry employment opportunities industry employment opportunities industry employmentexpress train wellequipped divyangjanfriendly facility make train journey comfortable one can take express train wellequipped divyangjanfriendly facility make train journey comfortable one can take express train wellequipped divyangjanfriendly facility make train journey comfortable one can take express train wellequipped divyangjanfriendly facility make train journey comfortable one can take express train wellequipped divyangjanfriendly facility make train journey comfortable one can take express train wellequipped divyangjanfriendly facility make train journey comfortable one can take express train wellequippedshri flag rajasthans first train 12th april 2023 via videoconferencing shri flag rajasthans first train 12th april 2023 via videoconferencing shri flag rajasthans first train 12th april 2023 via videoconferencing shri flag rajasthans first train 12th april 2023 via videoconferencing shri flag rajasthans first train 12th april 2023 via videoconferencing shriwellequipped modern latest amenity like biovacuum toilet led light charging point beneath every seat etc salient feature make travelling new train comfortable journey like biovacuum toilet led light charging point beneath every seat etc salient feature make travelling new train comfortable journey like biovacuum toilet led light charging point beneath every seat etc salient feature make travelling new train comfortable journey like biovacuum toilet led light charging point beneath every seat etc salient feature make travelling new train comfortable journey like biovacuum toilet led light charging point beneath every seattrain operating 7 day week except wednesday train provide chance reach ajmer delhi cantt operating 6 day week except wednesday train provide chance to reach ajmer delhi cantt operating 6 day week except wednesday train provide chance to reach ajmer delhi cantt operating 6 day week except wednesday train provide chance to reach ajmer delhi cantt operating 6 day week except wednesday train provideshri narendra modi flag vande bharat express train ajmer delhi cantt ajmer delhi cantt ajmer delhi cantt ajmer delhi cantt ajmer delhi cantt ajmer delhi cantt ajmer delhi cantt ajmer delhi cantt ajmer delhflag ajmerdelhi cantt vande bharat express train ajmerdelhi cantt vande bharat express train ajmerdelhi cantt vande bharat express train ajmerdelhi cantt vande bharat express train ajmerdelhi cantt vande bharat express train ajmerdelhi cantt vande bharacantt provide additional spur religious tourism act boon industry region in india 15th train ajmerdelhi cantt provide additional spur religious tourism act boon industry region in india 15th train ajmerdelhi cantt provide additional spur religious tourism act boon industry region in india 15th train ajmerdelhi cantt provide additional spur religious tourism act boon industry region in india 15th train ajmerdelhi cantt provide additional spur religious tourismtrain operating 7 day week except wednesday train provide chance reach ajmer delhi cantt operating 6 day week except wednesday train provide chance to reach ajmer delhi cantt operating 6 day week except wednesday train provide chance to reach ajmer delhi cantt operating 6 day week except wednesday train provide chance to reach ajmer delhi cantt operating 6 day week except wednesday train providemodel rocket year model rocket year model rocket year model rocket year model rocket year model rocket year model rocket year model rocket year model rocket year model rocket year model rocket year model rocket year model rocket year model rocket year model rocket year model rocket year model rocket year model rocket year model rocket year model rocket year model rocket year model rocket year model rocket year model rocket year model rocket year model rocket year model rocket year model rocket year model rocket year model rocket year model rocket year model rocket year model rocket year model rocket year model rocket year model rocket yearenjoy scenic beauty enjoy scenic beauty sit back relax enjoy scenic beauty enjoy scenic beauty sit back relax enjoy scenic beauty enjoy scenic beauty sit back relax enjoy scenic beauty sit back relax enjoy scenic beauty enjoy scenic beauty sit back relax enjoy scenic beauty enjoy scenic beauty sit back relax enjoy scenic beauty enjoy scenic beauty sit back relax enjoy scenic beauty enjoy scenic beauty sit back relax enjoy scenic beauty enjoy scenic beauty sit back relax enjoy scenic beauty enjoy scenic beauty sit back relax enjoy scenic beauty enjoy scenic beauty sit back relax enjoy scenic beauty enjoy scenic beauty sit back relax enjoy scenic beauty enjoy scenic beauty comfortajmer delhi cantt act catalyst expansion industry upscale employment opportunity en route area ajmer delhi cantt act catalyst expansion industry upscale employment opportunity en route area ajmer delhi cantt act catalyst expansion industry upscale employment opportunity en route area ajmer delhi cantt act catalyst expansion industry upscale employment opportunity en route area ajmer delhi cantt act catalyst expansion industry upscale employment opportunity cantt flagged honble prime minister shri narendra modi ji jaipur railway station video conferencing honble prime minister shri narendra modi ji jaipur railway station video conferencing honble prime minister shri narendra modi ji jaipur railway station video conferencing honble prime minister shri narendra modi ji jaipur railway station video conferencing honble prime minister shri narendracantt yardstick quality enhancing passenger experience ajmer delhi cantt yardstick quality enhancing passenger experience ajmer delhi cantt yardstick quality enhancing passenger experience ajmer delhi cantt yardstick quality enhancing passenger experience ajmer delhi cantt yardstick quality enhancing passenger experience ajmer delhi cantt yardstick quality enhancing passenger experience ajmer delhi cantt yardholy city holy city holy city holy city holy city holy city holy city holy city holy city holy city holy city holy city holy city holy city holy city holy city holy city holy city holy city holy city holy city holy city holy city holy city holy city holy city holy city holy city holy city holy city vibrant street true celebration india diversity progress india diversity progress india diversity progress india diversity progress india diversity progress india diversity progress india diversity progress india diversity progress india diversity progress india diversity progress india diversity progress india diversity progress india diversity progress india diversity progress india diversity progress india diversity progressfuneral home exactly alike made customization flexibility flexibility hallmark answering service larger multilocation firm smaller funeral home exactly alike made customization flexibility flexibility hallmark answering service larger funeral home exactly alike made customization flexibility flexibility hallmark answering service larger funeral home exactly alike made customization flexibility flexibility hallmark answering service larger funeral home exactly alike made customization flexibility flexibility hallmark answering service larger funeral home exactly alike made customization flexibility flexibility hallmark answering service larger funeral home exactly alike made customization flexibility flexibility hallmark answering service larger funeral home exactly alike made customization flexibility flexibility hallmark answering service larger funeral home exactly alike made customization flexibility flexibility hallmark answering service largerattack surface could lead next breach submit domain well rest get copy attack surface could lead next breach submit domain well rest get copy attack surface could lead next breach submit domain well rest get copy attack surface could lead next breach submit domain well rest get copy attack surface could lead next breach submit domain well rest get copy attack surface could lead next breach submit domain well rest get copy attack surface could lead next breach submit domain well rest get copy attack surface could lead next breach submit domain well rest get copy attack surface could lead next breach submit domain well rest get copy attack surface could leadtrain operating 7 day week except wednesday train provide chance reach ajmer delhi cantt operating 6 day week except wednesday train provide chance to reach ajmer delhi cantt operating 6 day week except wednesday train provide chance to reach ajmer delhi cantt operating 6 day week except wednesday train provide chance to reach ajmer delhi cantt operating 6 day week except wednesday train providecantt vande bharat express train real game changer boosting industry tourism education medical economic sector delhi cantt vande bharat express train real game changer boosting industry tourism education medical economic sector delhi cantt vande bharat express train real game changer boosting industry tourism education medical economic sector delhi cantt vande bharat express train real game changer boosting industry tourism education medical economic sector delhi haryana rajasthanvande bharat express train ajmer delhi cantt connect important tourist destination ajmer delhi cantt connect important tourist destination ajmer delhi cantt connect important tourist destination ajmer delhi cantt connect important tourist destination ajmer delhi cantt connect important tourist destination ajmer delhi cantt connect important tourist destination ajmer delhi cantt connect important touristshri shri shri shri shri shri shri shri shri shri shri shri shri shri shri shri shri shri shri shri shri shri shri shri shri shri shri shri shri shri shri shri shri shri shri shri shri shri shri shri shri shri shri shri shri shri shri shri shri shri shri shri shri shri shri shrirajasthan rajasthan rajasthan welcome rajasthan welcome rajasthan welcome rajasthan welcome rajasthan welcome rajasthan welcome rajasthan welcome rajasthan welcome rajasthan welcome rajasthan welcome rajasthan welcome rajasthan welcome rajasthan welcome rajasthan welcome rajasthan welcome rajasthan welcome rajasthanexpress testimony talent capability indian engineer indian engineer indian engineer indian engineer indian engineer indian engineer indian engineer indian engineer indian engineer indian engineer indian engineer indian engineer indian engineer indian engineer indian engineer indian engineer indian engineer indian engineer indian engineer indian engineer indian engineer indian engineer indian engineer indian engineer indian engineer indian engineer indian engineer indian engineer indian engineer indian engineer indian engineer indian engineer indian engineer indian engineer indian engineer indian engineerajmer delhi route ajmer delhi route ajmer delhi route ajmer delhi route ajmer delhi route ajmer delhi route ajmer delhi route ajmer delhi route ajmer delhi route ajmer delhi route ajmer delhi route ajmer delhi route ajmersuccessful womxn community show nft collection real world snitch woman support coaching mastermind discount giveaway join waitlist 500 available date drop announced soon 500 available date drop announced soon 500 available date drop announced soon 500 available date drop announced soon 500 available date drop announced soon 500 available date drop announced soon 500 available date drop announced soon 500 available date drop announced soon 500 available date drop announced soon 500 available date drop announced soon 500 available date drop announced soon 500 available date drop announced soon 500 available date drop announced soon 500 available date drop announced soon. flag flag flag. flag flag. flag. flag. flag. flag. flag. flag. flag. flag. flag. flag. flag. flag. flag. flag. flag. flag. flag. flag. flag. flag. flag. flag. flag. flag. flag. flag. flag. flag. flag. flag. flag. flag. flag. flag. flag. flag. flag. flag. flag. flag. flag. flag. flag. flag. flag. flag. flag.express train wellequipped divyangjanfriendly facility make train journey comfortable one can take express train wellequipped divyangjanfriendly facility make train journey comfortable one can take express train wellequipped divyangjanfriendly facility make train journey comfortable one can take express train wellequipped divyangjanfriendly facility make train journey comfortable one can take express train wellequipped divyangjanfriendly facility make train journey comfortable one can take express train wellequipped divyangjanfriendly facility make train journey comfortable one can take express train wellequippedexpress train wellequipped divyangjanfriendly facility make train journey comfortable one can take express train wellequipped divyangjanfriendly facility make train journey comfortable one can take express train wellequipped divyangjanfriendly facility make train journey comfortable one can take express train wellequipped divyangjanfriendly facility make train journey comfortable one can take express train wellequipped divyangjanfriendly facility make train journey comfortable one can take express train wellequipped divyangjanfriendly facility make train journey comfortable one can take express train wellequippedcantt provide additional spur religious tourism act boon industry region in india 15th train ajmerdelhi cantt provide additional spur religious tourism act boon industry region in india 15th train ajmerdelhi cantt provide additional spur religious tourism act boon industry region in india 15th train ajmerdelhi cantt provide additional spur religious tourism act boon industry region in india 15th train ajmerdelhi cantt provide additional spur religious tourismtourism education medical facility economic activity state get boost ajmer delhi cantt delhi cantt delhi cantt delhi cantt delhi cantt delhi cantt delhi cantt delhi cantt delhi cantt delhi cantt delhi cantt delhi cantt delhi cantt delhi cantt deshri shri shri shri shri shri shri shri shri shri shri shri shri shri shri shri shri shri shri shri shri shri shri shri shri shri shri shri shri shri shri shri shri shri shri shri shri shri shri shri shri shri shri shri shri shri shri shri shri shri shri shri shri shri shri shricantt vande bharat express benefit route area expansion industry employment opportunity ajmerdelhi cantt vande bharat express benefit route area expansion industry employment opportunity ajmerdelhi cantt vande bharat express benefit route area expansion industry employment opportunity ajmerdelhi cantt vande bharat express benefit route area expansion industry employment opportunity ajmerdelhi cantt vande bharat express benefit routeholy city holy city holy city holy city holy city holy city holy city holy city holy city holy city holy city holy city holy city holy city holy city holy city holy city holy city holy city holy city holy city holy city holy city holy city holy city holy city holy city holy city holy city holy city vibrant street true celebration india diversity progress india diversity progress india diversity progress india diversity progress india diversity progress india diversity progress india diversity progress india diversity progress india diversity progress india diversity progress india diversity progress india diversity progress india diversity progress india diversity progress india diversity progress india diversity progresscantt benefit route area expansion industry employment opportunity ajmerdelhi cantt benefit route area expansion industry employment opportunity ajmerdelhi cantt benefit route area expansion industry employment opportunity ajmerdelhi cantt benefit route area expansion industry employment opportunity ajmerdelhi cantt benefit route area expansion industry employment opportunity ajmerdelhi cantt benefit route area expansion industry employment opportunity ajmerdelhi cantt benefitshri narendra modi 12042023 shri narendra modi 12042023 shri narendra modi 12042023 shri narendra modi 12042023 shri narendra modi 12042023 shri narendra modi 12042023 shri narendra modi 12042023 shri narendra modi 12042023 shri narendra modi 12042023 shri narendra modi 12042023 shrihome wall roof risk serious damage garage door fails high wind protect home wall roof risk serious damage garage door fails high wind protect home wall roof risk serious damage garage door fails high wind protect home wall roof risk serious damage garage door fails high wind protect home wall roof risk serious damage garage door fails high wind protect home wall roof risk serious damage garage door fails high wind protect home wall roof risk serious damage garage door fails high wind protect home wall roof risk serious damage garage door fails high wind protect home wall roof risk serious damage garage door fails high wind protect home wall roof riskajmer delhi cantt act catalyst expansion industry upscale employment opportunity en route area ajmer delhi cantt act catalyst expansion industry upscale employment opportunity en route area ajmer delhi cantt act catalyst expansion industry upscale employment opportunity en route area ajmer delhi cantt act catalyst expansion industry upscale employment opportunity en route area ajmer delhi cantt act catalyst expansion industry upscale employment opportunity holy city holy city holy city holy city holy city holy city holy city holy city holy city holy city holy city holy city holy city holy city holy city holy city holy city holy city holy city holy city holy city holy city holy city holy city holy city holy city holy city holy city holy city holy city vibrant street true celebration india diversity progress india diversity progress india diversity progress india diversity progress india diversity progress india diversity progress india diversity progress india diversity progress india diversity progress india diversity progress india diversity progress india diversity progress india diversity progress india diversity progress india diversity progress india diversity progresscantt vande bharat express train real game changer boosting industry tourism education medical economic sector delhi cantt vande bharat express train real game changer boosting industry tourism education medical economic sector delhi cantt vande bharat express train real game changer boosting industry tourism education medical economic sector delhi cantt vande bharat express train real game changer boosting industry tourism education medical economic sector delhi haryana rajasthanshri shri shri shri shri shri shri shri shri shri shri shri shri shri shri shri shri shri shri shri shri shri shri shri shri shri shri shri shri shri shri shri shri shri shri shri shri shri shri shri shri shri shri shri shri shri shri shri shri shri shri shri shri shri shri shrishri narendra modi 12042023 shri narendra modi 12042023 shri narendra modi 12042023 shri narendra modi 12042023 shri narendra modi 12042023 shri narendra modi 12042023 shri narendra modi 12042023 shri narendra modi 12042023 shri narendra modi 12042023 shri narendra modi 12042023 shricantt provide additional spur religious tourism act boon industry region in india 15th train ajmerdelhi cantt provide additional spur religious tourism act boon industry region in india 15th train ajmerdelhi cantt provide additional spur religious tourism act boon industry region in india 15th train ajmerdelhi cantt provide additional spur religious tourism act boon industry region in india 15th train ajmerdelhi cantt provide additional spur religious tourism15th vande bharat express train ajmer delhi cantt delhi cantt delhi cantt delhi cantt delhi cantt delhi cantt delhi cantt delhi cantt delhi cantt delhi cantt delhi cantt delhi cantt delhi cantt delhi cantttoguide build streaming etl mysql mysql postgres based flink cdc cdc cdc cdc cdc cdc cdc cdc cdc cdc cdc cdc cdc cdc cdc cdc cdc cdc cdc cdc cdc cdc cantt vande bharat express train real game changer boosting industry tourism education medical economic sector delhi cantt vande bharat express train real game changer boosting industry tourism education medical economic sector delhi cantt vande bharat express train real game changer boosting industry tourism education medical economic sector delhi cantt vande bharat express train real game changer boosting industry tourism education medical economic sector delhi haryana rajasthanexpress train ajmer delhi cantt get boost industry tourism education medical facility economic activity ajmer delhi cantt get boost industry tourism education medical facility economic activity ajmer delhi cantt get boost industry tourism education medical facility economic activity ajmer delhi cantt get boost industry tourism education medical facility economic activity ajmer delhi cantt get boost industry tourism education medical facility economic activity ajmer delhi cantshri ji flagsoff ajmer delhi cantt train today shri ji flagsoff ajmer delhi cantt train today shri ji flagsoff ajmer delhi cantt train today shri ji flagsoff ajmer delhi cantt train today shri ji flagsoff ajmer delhi cantt train today shri ji flagsholy city holy city holy city holy city holy city holy city holy city holy city holy city holy city holy city holy city holy city holy city holy city holy city holy city holy city holy city holy city holy city holy city holy city holy city holy city holy city holy city holy city holy city holy city vibrant street true celebration india diversity progress india diversity progress india diversity progress india diversity progress india diversity progress india diversity progress india diversity progress india diversity progress india diversity progress india diversity progress india diversity progress india diversity progress india diversity progress india diversity progress india diversity progress india diversity progresstrain operating 7 day week except wednesday train provide chance reach ajmer delhi cantt operating 6 day week except wednesday train provide chance to reach ajmer delhi cantt operating 6 day week except wednesday train provide chance to reach ajmer delhi cantt operating 6 day week except wednesday train provide chance to reach ajmer delhi cantt operating 6 day week except wednesday train provideshri narendra modi 12042023 shri narendra modi 12042023 shri narendra modi 12042023 shri narendra modi 12042023 shri narendra modi 12042023 shri narendra modi 12042023 shri narendra modi 12042023 shri narendra modi 12042023 shri narendra modi 12042023 shri narendra modi 12042023 shri\n"
          ]
        }
      ]
    },
    {
      "cell_type": "code",
      "source": [],
      "metadata": {
        "id": "jnPcZ-gyzWi-"
      },
      "execution_count": null,
      "outputs": []
    }
  ]
}