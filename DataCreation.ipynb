{
  "nbformat": 4,
  "nbformat_minor": 0,
  "metadata": {
    "colab": {
      "provenance": [],
      "authorship_tag": "ABX9TyPXHp5/OTwVTq92HbuPEjgT",
      "include_colab_link": true
    },
    "kernelspec": {
      "name": "python3",
      "display_name": "Python 3"
    },
    "language_info": {
      "name": "python"
    }
  },
  "cells": [
    {
      "cell_type": "markdown",
      "metadata": {
        "id": "view-in-github",
        "colab_type": "text"
      },
      "source": [
        "<a href=\"https://colab.research.google.com/github/Srivastava-Rani-Aakanksha/NLP-Project-Abstractive-Text-Summarization-/blob/main/DataCreation.ipynb\" target=\"_parent\"><img src=\"https://colab.research.google.com/assets/colab-badge.svg\" alt=\"Open In Colab\"/></a>"
      ]
    },
    {
      "cell_type": "markdown",
      "source": [
        "# **Building Corpus (Preprocessing)**"
      ],
      "metadata": {
        "id": "RiavSTltwuej"
      }
    },
    {
      "cell_type": "code",
      "source": [
        "#We are doing this same set of steps of preprocessing on scrapped tweets of every topic "
      ],
      "metadata": {
        "id": "LMgTi1gLjhhb"
      },
      "execution_count": null,
      "outputs": []
    },
    {
      "cell_type": "markdown",
      "source": [
        "# Importing Necessary libraries\n"
      ],
      "metadata": {
        "id": "BmqcoEBhwjay"
      }
    },
    {
      "cell_type": "code",
      "execution_count": 231,
      "metadata": {
        "id": "mAZSAy1gSKmT"
      },
      "outputs": [],
      "source": [
        "import pandas as pd\n",
        "import numpy as np"
      ]
    },
    {
      "cell_type": "code",
      "source": [
        "# Here uploading different csv files containing tweets of trending topics\n",
        "# A csv file here contains tweet of a particular trending topic\n",
        "data=pd.read_csv('/content/dataset_twitter-scraper_pakmilitary.csv')"
      ],
      "metadata": {
        "id": "X3tIdtqnS-d0"
      },
      "execution_count": 289,
      "outputs": []
    },
    {
      "cell_type": "code",
      "source": [
        "data.head()"
      ],
      "metadata": {
        "colab": {
          "base_uri": "https://localhost:8080/",
          "height": 386
        },
        "id": "CLXzRWXBTv91",
        "outputId": "df8a4a49-6dd9-4e21-887a-0674cbb4248c"
      },
      "execution_count": 290,
      "outputs": [
        {
          "output_type": "execute_result",
          "data": {
            "text/plain": [
              "       conversation_id                created_at  favorite_count  \\\n",
              "0  1646810565371891714  2023-04-14T09:40:09.000Z               0   \n",
              "1  1646810564210069505  2023-04-14T09:40:09.000Z               0   \n",
              "2  1646810337172414465  2023-04-14T09:40:08.000Z               0   \n",
              "3  1646810558006722561  2023-04-14T09:40:07.000Z               0   \n",
              "4  1646810557385953280  2023-04-14T09:40:07.000Z               0   \n",
              "\n",
              "                                           full_text               hashtags/0  \\\n",
              "0   #PakMilitaryMillionaires https://t.co/6MWF2RuJZC  PakMilitaryMillionaires   \n",
              "1  All kinds of economic activities and decision ...  PakMilitaryMillionaires   \n",
              "2   #PakMilitaryMillionaires https://t.co/YhZk3eKPsX  PakMilitaryMillionaires   \n",
              "3  #PakMilitaryMillionaires\\nDirectly i dont care...  PakMilitaryMillionaires   \n",
              "4   #PakMilitaryMillionaires https://t.co/6shvTNV12G  PakMilitaryMillionaires   \n",
              "\n",
              "  hashtags/1 hashtags/2 hashtags/3 hashtags/4 hashtags/5  ...  \\\n",
              "0        NaN        NaN        NaN        NaN        NaN  ...   \n",
              "1        NaN        NaN        NaN        NaN        NaN  ...   \n",
              "2        NaN        NaN        NaN        NaN        NaN  ...   \n",
              "3        NaN        NaN        NaN        NaN        NaN  ...   \n",
              "4        NaN        NaN        NaN        NaN        NaN  ...   \n",
              "\n",
              "  user_mentions/2/screen_name user_mentions/3/id_str user_mentions/3/name  \\\n",
              "0                         NaN                    NaN                  NaN   \n",
              "1                         NaN                    NaN                  NaN   \n",
              "2                         NaN                    NaN                  NaN   \n",
              "3                         NaN                    NaN                  NaN   \n",
              "4                         NaN                    NaN                  NaN   \n",
              "\n",
              "  user_mentions/3/profile user_mentions/3/screen_name user_mentions/4/id_str  \\\n",
              "0                     NaN                         NaN                    NaN   \n",
              "1                     NaN                         NaN                    NaN   \n",
              "2                     NaN                         NaN                    NaN   \n",
              "3                     NaN                         NaN                    NaN   \n",
              "4                     NaN                         NaN                    NaN   \n",
              "\n",
              "   user_mentions/4/name  user_mentions/4/profile  user_mentions/4/screen_name  \\\n",
              "0                   NaN                      NaN                          NaN   \n",
              "1                   NaN                      NaN                          NaN   \n",
              "2                   NaN                      NaN                          NaN   \n",
              "3                   NaN                      NaN                          NaN   \n",
              "4                   NaN                      NaN                          NaN   \n",
              "\n",
              "  view_count  \n",
              "0        NaN  \n",
              "1        NaN  \n",
              "2        NaN  \n",
              "3        NaN  \n",
              "4        NaN  \n",
              "\n",
              "[5 rows x 206 columns]"
            ],
            "text/html": [
              "\n",
              "  <div id=\"df-28b2d758-65a6-455d-bdc9-5176d7f2ad39\">\n",
              "    <div class=\"colab-df-container\">\n",
              "      <div>\n",
              "<style scoped>\n",
              "    .dataframe tbody tr th:only-of-type {\n",
              "        vertical-align: middle;\n",
              "    }\n",
              "\n",
              "    .dataframe tbody tr th {\n",
              "        vertical-align: top;\n",
              "    }\n",
              "\n",
              "    .dataframe thead th {\n",
              "        text-align: right;\n",
              "    }\n",
              "</style>\n",
              "<table border=\"1\" class=\"dataframe\">\n",
              "  <thead>\n",
              "    <tr style=\"text-align: right;\">\n",
              "      <th></th>\n",
              "      <th>conversation_id</th>\n",
              "      <th>created_at</th>\n",
              "      <th>favorite_count</th>\n",
              "      <th>full_text</th>\n",
              "      <th>hashtags/0</th>\n",
              "      <th>hashtags/1</th>\n",
              "      <th>hashtags/2</th>\n",
              "      <th>hashtags/3</th>\n",
              "      <th>hashtags/4</th>\n",
              "      <th>hashtags/5</th>\n",
              "      <th>...</th>\n",
              "      <th>user_mentions/2/screen_name</th>\n",
              "      <th>user_mentions/3/id_str</th>\n",
              "      <th>user_mentions/3/name</th>\n",
              "      <th>user_mentions/3/profile</th>\n",
              "      <th>user_mentions/3/screen_name</th>\n",
              "      <th>user_mentions/4/id_str</th>\n",
              "      <th>user_mentions/4/name</th>\n",
              "      <th>user_mentions/4/profile</th>\n",
              "      <th>user_mentions/4/screen_name</th>\n",
              "      <th>view_count</th>\n",
              "    </tr>\n",
              "  </thead>\n",
              "  <tbody>\n",
              "    <tr>\n",
              "      <th>0</th>\n",
              "      <td>1646810565371891714</td>\n",
              "      <td>2023-04-14T09:40:09.000Z</td>\n",
              "      <td>0</td>\n",
              "      <td>#PakMilitaryMillionaires https://t.co/6MWF2RuJZC</td>\n",
              "      <td>PakMilitaryMillionaires</td>\n",
              "      <td>NaN</td>\n",
              "      <td>NaN</td>\n",
              "      <td>NaN</td>\n",
              "      <td>NaN</td>\n",
              "      <td>NaN</td>\n",
              "      <td>...</td>\n",
              "      <td>NaN</td>\n",
              "      <td>NaN</td>\n",
              "      <td>NaN</td>\n",
              "      <td>NaN</td>\n",
              "      <td>NaN</td>\n",
              "      <td>NaN</td>\n",
              "      <td>NaN</td>\n",
              "      <td>NaN</td>\n",
              "      <td>NaN</td>\n",
              "      <td>NaN</td>\n",
              "    </tr>\n",
              "    <tr>\n",
              "      <th>1</th>\n",
              "      <td>1646810564210069505</td>\n",
              "      <td>2023-04-14T09:40:09.000Z</td>\n",
              "      <td>0</td>\n",
              "      <td>All kinds of economic activities and decision ...</td>\n",
              "      <td>PakMilitaryMillionaires</td>\n",
              "      <td>NaN</td>\n",
              "      <td>NaN</td>\n",
              "      <td>NaN</td>\n",
              "      <td>NaN</td>\n",
              "      <td>NaN</td>\n",
              "      <td>...</td>\n",
              "      <td>NaN</td>\n",
              "      <td>NaN</td>\n",
              "      <td>NaN</td>\n",
              "      <td>NaN</td>\n",
              "      <td>NaN</td>\n",
              "      <td>NaN</td>\n",
              "      <td>NaN</td>\n",
              "      <td>NaN</td>\n",
              "      <td>NaN</td>\n",
              "      <td>NaN</td>\n",
              "    </tr>\n",
              "    <tr>\n",
              "      <th>2</th>\n",
              "      <td>1646810337172414465</td>\n",
              "      <td>2023-04-14T09:40:08.000Z</td>\n",
              "      <td>0</td>\n",
              "      <td>#PakMilitaryMillionaires https://t.co/YhZk3eKPsX</td>\n",
              "      <td>PakMilitaryMillionaires</td>\n",
              "      <td>NaN</td>\n",
              "      <td>NaN</td>\n",
              "      <td>NaN</td>\n",
              "      <td>NaN</td>\n",
              "      <td>NaN</td>\n",
              "      <td>...</td>\n",
              "      <td>NaN</td>\n",
              "      <td>NaN</td>\n",
              "      <td>NaN</td>\n",
              "      <td>NaN</td>\n",
              "      <td>NaN</td>\n",
              "      <td>NaN</td>\n",
              "      <td>NaN</td>\n",
              "      <td>NaN</td>\n",
              "      <td>NaN</td>\n",
              "      <td>NaN</td>\n",
              "    </tr>\n",
              "    <tr>\n",
              "      <th>3</th>\n",
              "      <td>1646810558006722561</td>\n",
              "      <td>2023-04-14T09:40:07.000Z</td>\n",
              "      <td>0</td>\n",
              "      <td>#PakMilitaryMillionaires\\nDirectly i dont care...</td>\n",
              "      <td>PakMilitaryMillionaires</td>\n",
              "      <td>NaN</td>\n",
              "      <td>NaN</td>\n",
              "      <td>NaN</td>\n",
              "      <td>NaN</td>\n",
              "      <td>NaN</td>\n",
              "      <td>...</td>\n",
              "      <td>NaN</td>\n",
              "      <td>NaN</td>\n",
              "      <td>NaN</td>\n",
              "      <td>NaN</td>\n",
              "      <td>NaN</td>\n",
              "      <td>NaN</td>\n",
              "      <td>NaN</td>\n",
              "      <td>NaN</td>\n",
              "      <td>NaN</td>\n",
              "      <td>NaN</td>\n",
              "    </tr>\n",
              "    <tr>\n",
              "      <th>4</th>\n",
              "      <td>1646810557385953280</td>\n",
              "      <td>2023-04-14T09:40:07.000Z</td>\n",
              "      <td>0</td>\n",
              "      <td>#PakMilitaryMillionaires https://t.co/6shvTNV12G</td>\n",
              "      <td>PakMilitaryMillionaires</td>\n",
              "      <td>NaN</td>\n",
              "      <td>NaN</td>\n",
              "      <td>NaN</td>\n",
              "      <td>NaN</td>\n",
              "      <td>NaN</td>\n",
              "      <td>...</td>\n",
              "      <td>NaN</td>\n",
              "      <td>NaN</td>\n",
              "      <td>NaN</td>\n",
              "      <td>NaN</td>\n",
              "      <td>NaN</td>\n",
              "      <td>NaN</td>\n",
              "      <td>NaN</td>\n",
              "      <td>NaN</td>\n",
              "      <td>NaN</td>\n",
              "      <td>NaN</td>\n",
              "    </tr>\n",
              "  </tbody>\n",
              "</table>\n",
              "<p>5 rows × 206 columns</p>\n",
              "</div>\n",
              "      <button class=\"colab-df-convert\" onclick=\"convertToInteractive('df-28b2d758-65a6-455d-bdc9-5176d7f2ad39')\"\n",
              "              title=\"Convert this dataframe to an interactive table.\"\n",
              "              style=\"display:none;\">\n",
              "        \n",
              "  <svg xmlns=\"http://www.w3.org/2000/svg\" height=\"24px\"viewBox=\"0 0 24 24\"\n",
              "       width=\"24px\">\n",
              "    <path d=\"M0 0h24v24H0V0z\" fill=\"none\"/>\n",
              "    <path d=\"M18.56 5.44l.94 2.06.94-2.06 2.06-.94-2.06-.94-.94-2.06-.94 2.06-2.06.94zm-11 1L8.5 8.5l.94-2.06 2.06-.94-2.06-.94L8.5 2.5l-.94 2.06-2.06.94zm10 10l.94 2.06.94-2.06 2.06-.94-2.06-.94-.94-2.06-.94 2.06-2.06.94z\"/><path d=\"M17.41 7.96l-1.37-1.37c-.4-.4-.92-.59-1.43-.59-.52 0-1.04.2-1.43.59L10.3 9.45l-7.72 7.72c-.78.78-.78 2.05 0 2.83L4 21.41c.39.39.9.59 1.41.59.51 0 1.02-.2 1.41-.59l7.78-7.78 2.81-2.81c.8-.78.8-2.07 0-2.86zM5.41 20L4 18.59l7.72-7.72 1.47 1.35L5.41 20z\"/>\n",
              "  </svg>\n",
              "      </button>\n",
              "      \n",
              "  <style>\n",
              "    .colab-df-container {\n",
              "      display:flex;\n",
              "      flex-wrap:wrap;\n",
              "      gap: 12px;\n",
              "    }\n",
              "\n",
              "    .colab-df-convert {\n",
              "      background-color: #E8F0FE;\n",
              "      border: none;\n",
              "      border-radius: 50%;\n",
              "      cursor: pointer;\n",
              "      display: none;\n",
              "      fill: #1967D2;\n",
              "      height: 32px;\n",
              "      padding: 0 0 0 0;\n",
              "      width: 32px;\n",
              "    }\n",
              "\n",
              "    .colab-df-convert:hover {\n",
              "      background-color: #E2EBFA;\n",
              "      box-shadow: 0px 1px 2px rgba(60, 64, 67, 0.3), 0px 1px 3px 1px rgba(60, 64, 67, 0.15);\n",
              "      fill: #174EA6;\n",
              "    }\n",
              "\n",
              "    [theme=dark] .colab-df-convert {\n",
              "      background-color: #3B4455;\n",
              "      fill: #D2E3FC;\n",
              "    }\n",
              "\n",
              "    [theme=dark] .colab-df-convert:hover {\n",
              "      background-color: #434B5C;\n",
              "      box-shadow: 0px 1px 3px 1px rgba(0, 0, 0, 0.15);\n",
              "      filter: drop-shadow(0px 1px 2px rgba(0, 0, 0, 0.3));\n",
              "      fill: #FFFFFF;\n",
              "    }\n",
              "  </style>\n",
              "\n",
              "      <script>\n",
              "        const buttonEl =\n",
              "          document.querySelector('#df-28b2d758-65a6-455d-bdc9-5176d7f2ad39 button.colab-df-convert');\n",
              "        buttonEl.style.display =\n",
              "          google.colab.kernel.accessAllowed ? 'block' : 'none';\n",
              "\n",
              "        async function convertToInteractive(key) {\n",
              "          const element = document.querySelector('#df-28b2d758-65a6-455d-bdc9-5176d7f2ad39');\n",
              "          const dataTable =\n",
              "            await google.colab.kernel.invokeFunction('convertToInteractive',\n",
              "                                                     [key], {});\n",
              "          if (!dataTable) return;\n",
              "\n",
              "          const docLinkHtml = 'Like what you see? Visit the ' +\n",
              "            '<a target=\"_blank\" href=https://colab.research.google.com/notebooks/data_table.ipynb>data table notebook</a>'\n",
              "            + ' to learn more about interactive tables.';\n",
              "          element.innerHTML = '';\n",
              "          dataTable['output_type'] = 'display_data';\n",
              "          await google.colab.output.renderOutput(dataTable, element);\n",
              "          const docLink = document.createElement('div');\n",
              "          docLink.innerHTML = docLinkHtml;\n",
              "          element.appendChild(docLink);\n",
              "        }\n",
              "      </script>\n",
              "    </div>\n",
              "  </div>\n",
              "  "
            ]
          },
          "metadata": {},
          "execution_count": 290
        }
      ]
    },
    {
      "cell_type": "code",
      "source": [
        "data.shape"
      ],
      "metadata": {
        "colab": {
          "base_uri": "https://localhost:8080/"
        },
        "id": "NGZfx17aTzHS",
        "outputId": "cd0e4cd7-8757-4f83-f7ab-46f215fe2c11"
      },
      "execution_count": 291,
      "outputs": [
        {
          "output_type": "execute_result",
          "data": {
            "text/plain": [
              "(1160, 206)"
            ]
          },
          "metadata": {},
          "execution_count": 291
        }
      ]
    },
    {
      "cell_type": "code",
      "source": [
        "data.info"
      ],
      "metadata": {
        "colab": {
          "base_uri": "https://localhost:8080/"
        },
        "id": "OQjvhnBGT1n_",
        "outputId": "9a2d2ef8-7059-42aa-a751-c94d244a4fda"
      },
      "execution_count": 292,
      "outputs": [
        {
          "output_type": "execute_result",
          "data": {
            "text/plain": [
              "<bound method DataFrame.info of           conversation_id                created_at  favorite_count  \\\n",
              "0     1646810565371891714  2023-04-14T09:40:09.000Z               0   \n",
              "1     1646810564210069505  2023-04-14T09:40:09.000Z               0   \n",
              "2     1646810337172414465  2023-04-14T09:40:08.000Z               0   \n",
              "3     1646810558006722561  2023-04-14T09:40:07.000Z               0   \n",
              "4     1646810557385953280  2023-04-14T09:40:07.000Z               0   \n",
              "...                   ...                       ...             ...   \n",
              "1155  1646794809489907712  2023-04-14T08:37:33.000Z               1   \n",
              "1156  1646794782709260289  2023-04-14T08:37:26.000Z               0   \n",
              "1157  1646794778066178053  2023-04-14T08:37:25.000Z               1   \n",
              "1158  1646794777684512768  2023-04-14T08:37:25.000Z               1   \n",
              "1159  1646794747816869888  2023-04-14T08:37:18.000Z               1   \n",
              "\n",
              "                                              full_text  \\\n",
              "0      #PakMilitaryMillionaires https://t.co/6MWF2RuJZC   \n",
              "1     All kinds of economic activities and decision ...   \n",
              "2      #PakMilitaryMillionaires https://t.co/YhZk3eKPsX   \n",
              "3     #PakMilitaryMillionaires\\nDirectly i dont care...   \n",
              "4      #PakMilitaryMillionaires https://t.co/6shvTNV12G   \n",
              "...                                                 ...   \n",
              "1155   #PakMilitaryMillionaires https://t.co/4lyI9TiAOX   \n",
              "1156  The dog's tail will remain crooked!\\nPakistan ...   \n",
              "1157   #PakMilitaryMillionaires https://t.co/jOkIvqMnQ8   \n",
              "1158   #PakMilitaryMillionaires https://t.co/ZTHHJx05e4   \n",
              "1159   #PakMilitaryMillionaires https://t.co/LBsEKN5mYZ   \n",
              "\n",
              "                   hashtags/0 hashtags/1 hashtags/2 hashtags/3 hashtags/4  \\\n",
              "0     PakMilitaryMillionaires        NaN        NaN        NaN        NaN   \n",
              "1     PakMilitaryMillionaires        NaN        NaN        NaN        NaN   \n",
              "2     PakMilitaryMillionaires        NaN        NaN        NaN        NaN   \n",
              "3     PakMilitaryMillionaires        NaN        NaN        NaN        NaN   \n",
              "4     PakMilitaryMillionaires        NaN        NaN        NaN        NaN   \n",
              "...                       ...        ...        ...        ...        ...   \n",
              "1155  PakMilitaryMillionaires        NaN        NaN        NaN        NaN   \n",
              "1156  PakMilitaryMillionaires        NaN        NaN        NaN        NaN   \n",
              "1157  PakMilitaryMillionaires        NaN        NaN        NaN        NaN   \n",
              "1158  PakMilitaryMillionaires        NaN        NaN        NaN        NaN   \n",
              "1159  PakMilitaryMillionaires        NaN        NaN        NaN        NaN   \n",
              "\n",
              "     hashtags/5  ... user_mentions/2/screen_name user_mentions/3/id_str  \\\n",
              "0           NaN  ...                         NaN                    NaN   \n",
              "1           NaN  ...                         NaN                    NaN   \n",
              "2           NaN  ...                         NaN                    NaN   \n",
              "3           NaN  ...                         NaN                    NaN   \n",
              "4           NaN  ...                         NaN                    NaN   \n",
              "...         ...  ...                         ...                    ...   \n",
              "1155        NaN  ...                         NaN                    NaN   \n",
              "1156        NaN  ...                         NaN                    NaN   \n",
              "1157        NaN  ...                         NaN                    NaN   \n",
              "1158        NaN  ...                         NaN                    NaN   \n",
              "1159        NaN  ...                         NaN                    NaN   \n",
              "\n",
              "     user_mentions/3/name user_mentions/3/profile user_mentions/3/screen_name  \\\n",
              "0                     NaN                     NaN                         NaN   \n",
              "1                     NaN                     NaN                         NaN   \n",
              "2                     NaN                     NaN                         NaN   \n",
              "3                     NaN                     NaN                         NaN   \n",
              "4                     NaN                     NaN                         NaN   \n",
              "...                   ...                     ...                         ...   \n",
              "1155                  NaN                     NaN                         NaN   \n",
              "1156                  NaN                     NaN                         NaN   \n",
              "1157                  NaN                     NaN                         NaN   \n",
              "1158                  NaN                     NaN                         NaN   \n",
              "1159                  NaN                     NaN                         NaN   \n",
              "\n",
              "     user_mentions/4/id_str  user_mentions/4/name  user_mentions/4/profile  \\\n",
              "0                       NaN                   NaN                      NaN   \n",
              "1                       NaN                   NaN                      NaN   \n",
              "2                       NaN                   NaN                      NaN   \n",
              "3                       NaN                   NaN                      NaN   \n",
              "4                       NaN                   NaN                      NaN   \n",
              "...                     ...                   ...                      ...   \n",
              "1155                    NaN                   NaN                      NaN   \n",
              "1156                    NaN                   NaN                      NaN   \n",
              "1157                    NaN                   NaN                      NaN   \n",
              "1158                    NaN                   NaN                      NaN   \n",
              "1159                    NaN                   NaN                      NaN   \n",
              "\n",
              "      user_mentions/4/screen_name view_count  \n",
              "0                             NaN        NaN  \n",
              "1                             NaN        NaN  \n",
              "2                             NaN        NaN  \n",
              "3                             NaN        NaN  \n",
              "4                             NaN        NaN  \n",
              "...                           ...        ...  \n",
              "1155                          NaN        4.0  \n",
              "1156                          NaN       16.0  \n",
              "1157                          NaN        6.0  \n",
              "1158                          NaN        7.0  \n",
              "1159                          NaN        5.0  \n",
              "\n",
              "[1160 rows x 206 columns]>"
            ]
          },
          "metadata": {},
          "execution_count": 292
        }
      ]
    },
    {
      "cell_type": "code",
      "source": [
        "data=data.drop(['conversation_id','created_at','favorite_count'],axis=1)"
      ],
      "metadata": {
        "id": "MZtJDkkxT3ey"
      },
      "execution_count": 293,
      "outputs": []
    },
    {
      "cell_type": "code",
      "source": [
        "data=data.drop(data.iloc[:, 1:], axis=1)"
      ],
      "metadata": {
        "id": "rvMiH8YNUAcQ"
      },
      "execution_count": 294,
      "outputs": []
    },
    {
      "cell_type": "code",
      "source": [
        "data.head()"
      ],
      "metadata": {
        "colab": {
          "base_uri": "https://localhost:8080/",
          "height": 206
        },
        "id": "LfjoAdNqUFDF",
        "outputId": "b2c36fe3-342b-45f7-a07b-a1cbcb2dc827"
      },
      "execution_count": 295,
      "outputs": [
        {
          "output_type": "execute_result",
          "data": {
            "text/plain": [
              "                                           full_text\n",
              "0   #PakMilitaryMillionaires https://t.co/6MWF2RuJZC\n",
              "1  All kinds of economic activities and decision ...\n",
              "2   #PakMilitaryMillionaires https://t.co/YhZk3eKPsX\n",
              "3  #PakMilitaryMillionaires\\nDirectly i dont care...\n",
              "4   #PakMilitaryMillionaires https://t.co/6shvTNV12G"
            ],
            "text/html": [
              "\n",
              "  <div id=\"df-976442bb-5987-48ec-adf7-a06914696066\">\n",
              "    <div class=\"colab-df-container\">\n",
              "      <div>\n",
              "<style scoped>\n",
              "    .dataframe tbody tr th:only-of-type {\n",
              "        vertical-align: middle;\n",
              "    }\n",
              "\n",
              "    .dataframe tbody tr th {\n",
              "        vertical-align: top;\n",
              "    }\n",
              "\n",
              "    .dataframe thead th {\n",
              "        text-align: right;\n",
              "    }\n",
              "</style>\n",
              "<table border=\"1\" class=\"dataframe\">\n",
              "  <thead>\n",
              "    <tr style=\"text-align: right;\">\n",
              "      <th></th>\n",
              "      <th>full_text</th>\n",
              "    </tr>\n",
              "  </thead>\n",
              "  <tbody>\n",
              "    <tr>\n",
              "      <th>0</th>\n",
              "      <td>#PakMilitaryMillionaires https://t.co/6MWF2RuJZC</td>\n",
              "    </tr>\n",
              "    <tr>\n",
              "      <th>1</th>\n",
              "      <td>All kinds of economic activities and decision ...</td>\n",
              "    </tr>\n",
              "    <tr>\n",
              "      <th>2</th>\n",
              "      <td>#PakMilitaryMillionaires https://t.co/YhZk3eKPsX</td>\n",
              "    </tr>\n",
              "    <tr>\n",
              "      <th>3</th>\n",
              "      <td>#PakMilitaryMillionaires\\nDirectly i dont care...</td>\n",
              "    </tr>\n",
              "    <tr>\n",
              "      <th>4</th>\n",
              "      <td>#PakMilitaryMillionaires https://t.co/6shvTNV12G</td>\n",
              "    </tr>\n",
              "  </tbody>\n",
              "</table>\n",
              "</div>\n",
              "      <button class=\"colab-df-convert\" onclick=\"convertToInteractive('df-976442bb-5987-48ec-adf7-a06914696066')\"\n",
              "              title=\"Convert this dataframe to an interactive table.\"\n",
              "              style=\"display:none;\">\n",
              "        \n",
              "  <svg xmlns=\"http://www.w3.org/2000/svg\" height=\"24px\"viewBox=\"0 0 24 24\"\n",
              "       width=\"24px\">\n",
              "    <path d=\"M0 0h24v24H0V0z\" fill=\"none\"/>\n",
              "    <path d=\"M18.56 5.44l.94 2.06.94-2.06 2.06-.94-2.06-.94-.94-2.06-.94 2.06-2.06.94zm-11 1L8.5 8.5l.94-2.06 2.06-.94-2.06-.94L8.5 2.5l-.94 2.06-2.06.94zm10 10l.94 2.06.94-2.06 2.06-.94-2.06-.94-.94-2.06-.94 2.06-2.06.94z\"/><path d=\"M17.41 7.96l-1.37-1.37c-.4-.4-.92-.59-1.43-.59-.52 0-1.04.2-1.43.59L10.3 9.45l-7.72 7.72c-.78.78-.78 2.05 0 2.83L4 21.41c.39.39.9.59 1.41.59.51 0 1.02-.2 1.41-.59l7.78-7.78 2.81-2.81c.8-.78.8-2.07 0-2.86zM5.41 20L4 18.59l7.72-7.72 1.47 1.35L5.41 20z\"/>\n",
              "  </svg>\n",
              "      </button>\n",
              "      \n",
              "  <style>\n",
              "    .colab-df-container {\n",
              "      display:flex;\n",
              "      flex-wrap:wrap;\n",
              "      gap: 12px;\n",
              "    }\n",
              "\n",
              "    .colab-df-convert {\n",
              "      background-color: #E8F0FE;\n",
              "      border: none;\n",
              "      border-radius: 50%;\n",
              "      cursor: pointer;\n",
              "      display: none;\n",
              "      fill: #1967D2;\n",
              "      height: 32px;\n",
              "      padding: 0 0 0 0;\n",
              "      width: 32px;\n",
              "    }\n",
              "\n",
              "    .colab-df-convert:hover {\n",
              "      background-color: #E2EBFA;\n",
              "      box-shadow: 0px 1px 2px rgba(60, 64, 67, 0.3), 0px 1px 3px 1px rgba(60, 64, 67, 0.15);\n",
              "      fill: #174EA6;\n",
              "    }\n",
              "\n",
              "    [theme=dark] .colab-df-convert {\n",
              "      background-color: #3B4455;\n",
              "      fill: #D2E3FC;\n",
              "    }\n",
              "\n",
              "    [theme=dark] .colab-df-convert:hover {\n",
              "      background-color: #434B5C;\n",
              "      box-shadow: 0px 1px 3px 1px rgba(0, 0, 0, 0.15);\n",
              "      filter: drop-shadow(0px 1px 2px rgba(0, 0, 0, 0.3));\n",
              "      fill: #FFFFFF;\n",
              "    }\n",
              "  </style>\n",
              "\n",
              "      <script>\n",
              "        const buttonEl =\n",
              "          document.querySelector('#df-976442bb-5987-48ec-adf7-a06914696066 button.colab-df-convert');\n",
              "        buttonEl.style.display =\n",
              "          google.colab.kernel.accessAllowed ? 'block' : 'none';\n",
              "\n",
              "        async function convertToInteractive(key) {\n",
              "          const element = document.querySelector('#df-976442bb-5987-48ec-adf7-a06914696066');\n",
              "          const dataTable =\n",
              "            await google.colab.kernel.invokeFunction('convertToInteractive',\n",
              "                                                     [key], {});\n",
              "          if (!dataTable) return;\n",
              "\n",
              "          const docLinkHtml = 'Like what you see? Visit the ' +\n",
              "            '<a target=\"_blank\" href=https://colab.research.google.com/notebooks/data_table.ipynb>data table notebook</a>'\n",
              "            + ' to learn more about interactive tables.';\n",
              "          element.innerHTML = '';\n",
              "          dataTable['output_type'] = 'display_data';\n",
              "          await google.colab.output.renderOutput(dataTable, element);\n",
              "          const docLink = document.createElement('div');\n",
              "          docLink.innerHTML = docLinkHtml;\n",
              "          element.appendChild(docLink);\n",
              "        }\n",
              "      </script>\n",
              "    </div>\n",
              "  </div>\n",
              "  "
            ]
          },
          "metadata": {},
          "execution_count": 295
        }
      ]
    },
    {
      "cell_type": "code",
      "source": [
        "\n",
        "data.shape\n"
      ],
      "metadata": {
        "colab": {
          "base_uri": "https://localhost:8080/"
        },
        "id": "nFSfSHHJUG9J",
        "outputId": "571f8fd0-1f98-41a3-cb7c-83c411393989"
      },
      "execution_count": 296,
      "outputs": [
        {
          "output_type": "execute_result",
          "data": {
            "text/plain": [
              "(1160, 1)"
            ]
          },
          "metadata": {},
          "execution_count": 296
        }
      ]
    },
    {
      "cell_type": "markdown",
      "source": [
        "# Data Preprocessing"
      ],
      "metadata": {
        "id": "jdMA_kmlxPUS"
      }
    },
    {
      "cell_type": "code",
      "source": [
        "import nltk\n",
        "import re\n",
        "nltk.download('stopwords')\n",
        "nltk.download('omw-1.4')\n",
        "from nltk.corpus import stopwords"
      ],
      "metadata": {
        "colab": {
          "base_uri": "https://localhost:8080/"
        },
        "id": "y-xYKJCwUJ-y",
        "outputId": "30cbab8d-18a8-4db2-be2a-6e6ce815bbd2"
      },
      "execution_count": 297,
      "outputs": [
        {
          "output_type": "stream",
          "name": "stderr",
          "text": [
            "[nltk_data] Downloading package stopwords to /root/nltk_data...\n",
            "[nltk_data]   Package stopwords is already up-to-date!\n",
            "[nltk_data] Downloading package omw-1.4 to /root/nltk_data...\n",
            "[nltk_data]   Package omw-1.4 is already up-to-date!\n"
          ]
        }
      ]
    },
    {
      "cell_type": "code",
      "source": [
        "pip install clean-text"
      ],
      "metadata": {
        "colab": {
          "base_uri": "https://localhost:8080/"
        },
        "id": "XUVkuN2sUNqF",
        "outputId": "dc6241a6-10d7-473b-f87f-e548e2793527"
      },
      "execution_count": 186,
      "outputs": [
        {
          "output_type": "stream",
          "name": "stdout",
          "text": [
            "Looking in indexes: https://pypi.org/simple, https://us-python.pkg.dev/colab-wheels/public/simple/\n",
            "Requirement already satisfied: clean-text in /usr/local/lib/python3.10/dist-packages (0.6.0)\n",
            "Requirement already satisfied: ftfy<7.0,>=6.0 in /usr/local/lib/python3.10/dist-packages (from clean-text) (6.1.1)\n",
            "Requirement already satisfied: emoji<2.0.0,>=1.0.0 in /usr/local/lib/python3.10/dist-packages (from clean-text) (1.7.0)\n",
            "Requirement already satisfied: wcwidth>=0.2.5 in /usr/local/lib/python3.10/dist-packages (from ftfy<7.0,>=6.0->clean-text) (0.2.6)\n"
          ]
        }
      ]
    },
    {
      "cell_type": "code",
      "source": [
        "from cleantext import clean"
      ],
      "metadata": {
        "id": "C33e0fNpUQXI"
      },
      "execution_count": 187,
      "outputs": []
    },
    {
      "cell_type": "code",
      "source": [
        "#Converting into lower case\n",
        "def lower_case(text):\n",
        "    text_l=text.lower()\n",
        "    return text_l"
      ],
      "metadata": {
        "id": "j7nNPi1xUS7S"
      },
      "execution_count": 190,
      "outputs": []
    },
    {
      "cell_type": "code",
      "source": [
        " # Remove all the occurrences of text that ends with .https and .com\n",
        "def remove_links(text):\n",
        "  remove_https = re.sub(r'http\\S+', '', text)\n",
        "  remove_com = re.sub(r\"\\[A-Za-z]*\\.com\", \"\", remove_https)\n",
        "  return remove_https"
      ],
      "metadata": {
        "id": "ww6aF3U7UUxi"
      },
      "execution_count": 191,
      "outputs": []
    },
    {
      "cell_type": "code",
      "source": [
        " # Remove all hashtags\n",
        "def remove_hashtags(text):\n",
        "  remove_hashtags =re.sub(\"#[A-Za-z0-9_]+\",\"\", text)\n",
        "  remove_hashtags_c =re.sub(\"@[A-Za-z0-9_]+\",\"\", remove_hashtags )\n",
        "  return remove_hashtags_c"
      ],
      "metadata": {
        "id": "gqYCIn3UUXGh"
      },
      "execution_count": 192,
      "outputs": []
    },
    {
      "cell_type": "code",
      "source": [
        "# Remove all emojis\n",
        "def remove_emojis(text):\n",
        "  text=clean(text, no_emoji=True)\n",
        "  return text\n"
      ],
      "metadata": {
        "id": "Io-DR3nRUZDi"
      },
      "execution_count": 193,
      "outputs": []
    },
    {
      "cell_type": "code",
      "source": [
        "#Remove stop words \n",
        "def remove_stopword(text):\n",
        "    text=[word for word in text if not word in stopwords.words('english')]\n",
        "    return text"
      ],
      "metadata": {
        "id": "mVlkeP3nUa0u"
      },
      "execution_count": 194,
      "outputs": []
    },
    {
      "cell_type": "code",
      "source": [
        "# Remove punctuations , full stops etc\n",
        "def remove_punctuations(text):\n",
        "  remove_punc = [re.sub(r'[^\\w\\s]','',word) for word in text]\n",
        "  return remove_punc\n"
      ],
      "metadata": {
        "id": "gWmu5hv_v_t-"
      },
      "execution_count": 195,
      "outputs": []
    },
    {
      "cell_type": "code",
      "source": [
        "def processing(text):\n",
        "    text=lower_case(text)\n",
        "    text=remove_emojis(text)\n",
        "    text=remove_links(text)\n",
        "    text=remove_hashtags(text)\n",
        "    text=remove_punctuations(text)\n",
        "    text=\"\".join(text)\n",
        "    return text"
      ],
      "metadata": {
        "id": "cvqVFJiXUc3Z"
      },
      "execution_count": 217,
      "outputs": []
    },
    {
      "cell_type": "code",
      "source": [
        "#sample example\n",
        "processing(\"How tommorrow ? ,  https://www.freecodecamp.org/news/python-web-scraping-tutorial/ #rammm @rammm 😂 ⤵️\\n \\n\")"
      ],
      "metadata": {
        "colab": {
          "base_uri": "https://localhost:8080/",
          "height": 36
        },
        "id": "1-JLYRWnUe6E",
        "outputId": "3f968802-69ba-4a9a-eb5d-867e3756da0c"
      },
      "execution_count": 240,
      "outputs": [
        {
          "output_type": "execute_result",
          "data": {
            "text/plain": [
              "'how tommorrow     '"
            ],
            "application/vnd.google.colaboratory.intrinsic+json": {
              "type": "string"
            }
          },
          "metadata": {},
          "execution_count": 240
        }
      ]
    },
    {
      "cell_type": "code",
      "source": [
        "processed_data=[]\n",
        "for i in range(len(data)):\n",
        "      processed_data.append(processing(data['full_text'][i]))"
      ],
      "metadata": {
        "id": "ZqokXPBsUhRe"
      },
      "execution_count": 298,
      "outputs": []
    },
    {
      "cell_type": "code",
      "source": [
        "!pip install langdetect"
      ],
      "metadata": {
        "colab": {
          "base_uri": "https://localhost:8080/"
        },
        "id": "rwYcXpv1UjkR",
        "outputId": "9bf65759-ed7c-4998-8f61-a81ec8cad0f7"
      },
      "execution_count": 199,
      "outputs": [
        {
          "output_type": "stream",
          "name": "stdout",
          "text": [
            "Looking in indexes: https://pypi.org/simple, https://us-python.pkg.dev/colab-wheels/public/simple/\n",
            "Requirement already satisfied: langdetect in /usr/local/lib/python3.10/dist-packages (1.0.9)\n",
            "Requirement already satisfied: six in /usr/local/lib/python3.10/dist-packages (from langdetect) (1.16.0)\n"
          ]
        }
      ]
    },
    {
      "cell_type": "code",
      "source": [
        "from langdetect import detect\n",
        "from langdetect import DetectorFactory\n",
        "DetectorFactory.seed = 0"
      ],
      "metadata": {
        "id": "nJy_zUcdUl-5"
      },
      "execution_count": 262,
      "outputs": []
    },
    {
      "cell_type": "code",
      "source": [
        "# To select only tweets written in english language from all tweets \n",
        "def is_english_tweet(x):\n",
        "    try:\n",
        "        lang = detect(x)\n",
        "        return lang == 'en'\n",
        "    except:\n",
        "        return False"
      ],
      "metadata": {
        "id": "HssdeyhcUog9"
      },
      "execution_count": 299,
      "outputs": []
    },
    {
      "cell_type": "code",
      "source": [
        "final_processed_data=[]\n",
        "for x in processed_data:\n",
        "    if is_english_tweet(x):\n",
        "        final_processed_data.append(x)"
      ],
      "metadata": {
        "id": "52D-M1aIUqWR"
      },
      "execution_count": 300,
      "outputs": []
    },
    {
      "cell_type": "code",
      "source": [
        "len(final_processed_data)\n"
      ],
      "metadata": {
        "id": "5aXX6RAjUumJ",
        "colab": {
          "base_uri": "https://localhost:8080/"
        },
        "outputId": "c2341891-d131-451e-ce4b-877826005bc0"
      },
      "execution_count": 301,
      "outputs": [
        {
          "output_type": "execute_result",
          "data": {
            "text/plain": [
              "188"
            ]
          },
          "metadata": {},
          "execution_count": 301
        }
      ]
    },
    {
      "cell_type": "code",
      "source": [
        "final_processed_data1 = []\n",
        "for x in final_processed_data:\n",
        "    temp = x.replace('\\n', '')\n",
        "    final_processed_data1.append(temp)"
      ],
      "metadata": {
        "id": "gK3EB6mIdRIP"
      },
      "execution_count": 302,
      "outputs": []
    },
    {
      "cell_type": "code",
      "source": [
        "len(final_processed_data1)"
      ],
      "metadata": {
        "id": "QwOxsnlTdQ-_",
        "outputId": "17e0850f-1da0-4b1f-afec-850c630919e4",
        "colab": {
          "base_uri": "https://localhost:8080/"
        }
      },
      "execution_count": 303,
      "outputs": [
        {
          "output_type": "execute_result",
          "data": {
            "text/plain": [
              "188"
            ]
          },
          "metadata": {},
          "execution_count": 303
        }
      ]
    },
    {
      "cell_type": "code",
      "source": [
        "len(set(final_processed_data1))"
      ],
      "metadata": {
        "id": "z9m5A9FqbXXn",
        "outputId": "1fbbc57d-2267-4ee9-f9ac-55eb493c291a",
        "colab": {
          "base_uri": "https://localhost:8080/"
        }
      },
      "execution_count": 304,
      "outputs": [
        {
          "output_type": "execute_result",
          "data": {
            "text/plain": [
              "123"
            ]
          },
          "metadata": {},
          "execution_count": 304
        }
      ]
    },
    {
      "cell_type": "code",
      "source": [
        "pdFinal=list(set(final_processed_data1))"
      ],
      "metadata": {
        "id": "IZVEKlupjFuo"
      },
      "execution_count": 305,
      "outputs": []
    },
    {
      "cell_type": "code",
      "source": [
        "pdFinal"
      ],
      "metadata": {
        "id": "ziAvr2OcjpSW",
        "outputId": "44b8981c-322c-4035-c5f3-af4feb71fff0",
        "colab": {
          "base_uri": "https://localhost:8080/"
        }
      },
      "execution_count": 306,
      "outputs": [
        {
          "output_type": "execute_result",
          "data": {
            "text/plain": [
              "['because the freedom of our nations is not only their emancipation from the yoke of slavery but will also be proved as the precursor to world peace',\n",
              " 'pakistan is starving and country is in under the huge foreign debt and on the other hand pakistan military class is enjoying by amassing wealth over the years by corruption and political interference  ',\n",
              " 'chairman of cpec lt gen retd asim saleem bajwa gained notoriety as general papa jones or general pizza after an expose of tens of millions of dollars worth papa johns pizza chain in the us and his sons were given lucrative contracts ',\n",
              " ' karm and niyati reality which cant be erased from the history ',\n",
              " 'government employee and defense employee of pakistan have been traditionally exempted from excise and taxation  ',\n",
              " 'we make handmade gourmet marshmallows in small batches',\n",
              " 'inflation is at a highest level of around 40 per cent and is expected to increase further the trade deficit is 278 billion despite these troubling figures the pak military is notexpanding its business but also expanding its budgetary allocation  ',\n",
              " 'the pak navys bahria foundation is no less it owns schools and colleges where the fees can be afforded by few in the country bahria also deals in real estate  ',\n",
              " 'pakistan army is a corporate army which always first look for business and thencountry situation pak army always talks about increasing military budget every timewhereas large population of the country is living in poverty  ',\n",
              " 'the purpose of life is to gain the higher consciousness of the universe to inspire the lives of helpless people and to bring smiles on the withered faceskarl marx',\n",
              " 'pakistan has become a poorer country but pakistan army and its leader are milliners and value pf life of a common pakistani is less than a bag of flour 27 people have died so far in long ques for a bag of flour and a bottle of cooking oil  ',\n",
              " 'the daughterinlaw of the coas gen qamar javed bajwa owned one grand hayat islamabad apartment current market value rs 70 million  15000 shares in a company incorporated in 2014 la residence pvt ltd with declared value rs 15 million  ',\n",
              " 'pakistan in heavily dependent on imported fuel cooking oil food grains and machinery but nothing left in the name of foreign reserves still pak army wants its as usual share from the deteriorating economy  ',\n",
              " 'pakistan army terrorist policies has forced the low foreign investments in the country pakistan is becoming poorer day by day and constantly getting caught in new troubles of economic distress  ',\n",
              " 'business of pakistan army from petrol pump to bakery is worth rs 15 lakh crore pak army officers earn rs 80000 crore from these businesses because of which today pakistan is facing the situation of starvation  ',\n",
              " 'in several housing societies land is given to military officers at highly subsidised rates on retirement a maj gen who usually owns a mercedes car receive a present of 240 acres of farmland worth 673411  a residential plot worth 700k in punjab  ',\n",
              " 'pakistan is currently facing a serious economic crisis pakistani people are livingbelow poverty line on the other hand the pakistani army is becoming very prosperous  ',\n",
              " 'oneplus nord ce 3 lite 5g chromatic gray 8gb ram 128gb storageat 19999       ',\n",
              " 'foreign reserves of pakistan are depleting day by day and govt does not have resources to by basics commodities like essential medicine for its people but pak army armtwisting its govt to increase defence budget ',\n",
              " 'click on the link to watch incredible story of hardik pandyabcci ban  indian cricketer hardik pandya  untold story    ',\n",
              " 'the defense sector of pakistan continues to enjoy government grants subsidies and loans despite the financial crunches in the country  ',\n",
              " 'pakistan army calls all the shots in pakistan and spreading its business empire in whole pakistan it seems that entire population of pakistan is subject to army which rules them with impunity ',\n",
              " 'the average property of every top pak army officer is about 281 crore this wealth which belongs to poor pakistani people goes to foreign countries in creating assets for families of pak army officers  ',\n",
              " 'pakistan army has been behaving like colonial master since 1947  looting the common hungry masses with full enthusiasm selling the wealth of pak people for own luxurious life  ',\n",
              " 'pakistan is using its foreign exchange reserves more quickly than previously anticipated because prices of foreign goods are going up and country is going to bankruptcy  ',\n",
              " 'the dark scene of the business empire of the pakistan army is very socking because if the 13rd part of the earning will use or put on the starving people then the fate of the country will be change  ',\n",
              " 'people of pakistan are starving dying for a bag of flour and cooking oil and deep state is involved in mass corruption with no one to check it  ',\n",
              " 'they are misuseing peoples money so its not good for pakistan ',\n",
              " 'pakistan army ruled and interfere three times directly in the country and remaining time ruled from behind puppet govt which is the prime cause of failed economy of pakistan  ',\n",
              " 'pakistan army is not a military force it is a multibrand business house which has itsown enterprises  ',\n",
              " 'the recent budget of pakistan army has been increased despite economic crises and is good enough to put the country further in financial trouble ',\n",
              " 'save 30 off m1k9 collars today',\n",
              " 'the people of pakistan are getting poorer while the army there is continuouslymaking money under many different names it has allegedly taken over all the profitablebusinesses of the country  ',\n",
              " 'the pakistan army has also created private sector charitable trusts which areactually corporate houses the army welfare trust awt is run exclusively by both retiredand serving senior military officers of pakistan  ',\n",
              " 'clazkit 2 in 1 push chopper push and chop chopper vegetable and fruit cutter chopper with easy pushat 189          ',\n",
              " 'pakistan needs economic reforms to take loan from international monetary fund saudi arabia and uae are also refusing to give more loans  ',\n",
              " ' haha youve got a point there  not only do these military millionaires live the high life but they also seem to have a knack for creating their own elite club poor politicians always getting outplayed  ',\n",
              " 'weekly inflation rate of pakistan has raised up to 3183 due to surging prices of food items particularly vegetables wheat lpg and milk still only one class ie military seems relaxed  ',\n",
              " 'attention music educatorselevate your choral conducting skills with an immersive summer program at the nec summer choral conducting institute network with fellow professionals and gain valuable experience conducting a choirspace is limitedapply today',\n",
              " 'if you or a loved one are a survivor of sexual assault in the military know that confidential  anonymous support is available read more about the safe helpline team and types of support available today at ',\n",
              " 'when qamar javed bajwa became a lt gen of pak army within 6 yrs his family become billionaires started an international business purchased multiple foreign properties started transferring capital abroad become owners of commercial plots  plazas in  ',\n",
              " 'army is the most important institution pakistan taking advantage of this opportunity the pakistan army under the name fauji foundation took over each profitable business  ',\n",
              " 'a number of cases have come to notice in last few months that pakistan army is doing land grabbing and looting the province people property to its comfort  ',\n",
              " 'pakistan is a country of idiots and its leader tearing the clothes of common pakistani with the help of heavy debt by imf  ',\n",
              " 'pakistans economic crisis was at the centre of a political standoff between prime minister shahbaz sharif and his predecessor imran khan in 2022 which led to khans ouster in april 2022',\n",
              " 'pakistani army is lalas shop and lalas empire the army has increasingly focusedits efforts on acquiring land for property development and setting up various businesses  ',\n",
              " 'the government of pakistan is struggling with economic crisis but the irony is that whatever amount govt receives in aid goes to the pockets the boys deep state and corrupt politicians nothing left for reforms and common masses  ',\n",
              " 'the rising inflation rate in pakistan is a big challenge for the pakistan government ifthe corrective measures are not taken then country might plunge into an economic crisislike sri lanka  ',\n",
              " 'pakistan in heavily dependent on imported fuel cooking oil food grains andmachinery but nothing left in the name of foreign reserves still pak army wants its as usualshare from the deteriorating economy  ',\n",
              " 'fauji foundations mission is to serve the people of pakistan but it has established acompany named pakistan maroc phosphor sa in morocco for its own benefit  ',\n",
              " 'pakistan is bringing loan by begging from muslim  european countries in the name of people but the entire amount is gobbled by military and political class  ',\n",
              " 'the political instability in pakistan over the past few months impacted the poverty and high currency devolution pak military is using every pak govt as its puppet  ',\n",
              " 'pakistan army calls all the shots in pakistan and spreading its business empire in whole pakistan it seems that entire population of pakistan is subject to army which rules them with impunity  ',\n",
              " 'united states marine corps custom derby cover for harleydavidson motorcycles hand made to order in my omaha shop',\n",
              " 'pakistan army officers also run their own hospitals like the combined militaryhospitals in all major cities of pakistan through which they earn huge profits by looting thepoor people  ',\n",
              " 'madras university distance education procedurefor more details       ',\n",
              " ' is the only solution to upskilling your career without compromising your daily routinesread the full blog          ',\n",
              " 'the government of pakistan is crying for inflation and poverty in front of the wholeworld on the other hand it is announcing the budget from the parliament to repair thebungalows of its mps and addition funds for defence  ',\n",
              " ' pakistan army is the biggest enemy of its own people greed of pak army is such that it absorbing all the resources of the country leaving nothing for the people common pakistani is forced to stand in line and eventually die for a bag of flour  ',\n",
              " 'foreign reserves of pakistan are depleting day by day and govt does not have resources to by basics commodities like essential medicine for its people but pak army armtwisting its govt to increase defence budget  ',\n",
              " 'pak armed forces are reported to own nearly 12 million acres of land thats a lot of land this is the best option for the pak govt to take command of business entities from incapable retired military officer  ',\n",
              " ' why pakistan is in deteriorating condition because leader and army of pakistan is sucking the blood of common people  ',\n",
              " 'what a downfall of military officials of pakistan cant be more awful than this  ',\n",
              " 'according to a credit suisse report dated oct 2021 at least 25 retired officers of the pakistan army have swiss bank accounts these accounts have accumulated undeclared assets of around rs 80000 crore ',\n",
              " 'the arbitrary roots of the business of pakistan army have spread not only in pakistan but also outside the country on one hand the country is becoming poorer and on the other pak army looting the country ',\n",
              " 'the state bank of pakistans produced a report that the countrys overall economic growth dropped below three percent for the first time in history  ',\n",
              " 'in 2007 in the book military incinside pak mil economy ayesha siddiqui claimedthat the profit of the army from all eco activities is 20 bn in 2015 the pak army admittedthat net worth of its businesses is over 100 bn with no accountability  ',\n",
              " 'p international airlines is sinking into a sea of losses and debt of 14bnpia is not only facing economic issues but also has a bad reputation for its poor services    ',\n",
              " 'pak armed forces are reported to own nearly 12 million acres of land thats a lot of land however this is the best option for the pak govt to take command of business entities from incapable retired military officer  ',\n",
              " ' reality of the paxtan armys top officials they dont care about pakistan they only wanted money in the name of india  kashmiri',\n",
              " 'pakistan is starving and country is in under the huge foreign debt and on the other hand pakistan military class is enjoying by amassing wealth over the years by corruption and political interference ',\n",
              " 'what are the best  healthiest dogs foods for your special dog use our ai search tools to find out',\n",
              " '16000 acres of land in islamabad and 12000 acres of land in karachi are wrongfully occupied by pakistan army and illegally sold to common people and are enjoying huge amount of land themselves   ',\n",
              " 'all kinds of economic activities and decision cannot be taken without concurrence of pak army ',\n",
              " 'we make exceptional custom military challenge coins for our brave men and women serving our country let us design your next challenge coin call 8773129794designed to last a lifetimelowest price guaranteefast  free shipping',\n",
              " 'pak armed forces are reported to own nearly 12 million acres of land thats a lot of land which can revive pakistans economy crisis by effectively utilizing it however this is the best option for the pak govt to take comm  ',\n",
              " 'the average property of every top pak army officer is about 281 crore this wealth which belongs to poor pakistani people goes to foreign countries in creating assets for families of pak army officers ',\n",
              " 'all kinds of business deals are settled by pakistan army and are being controlled fully or partially by deep state and thats why the economic condition of pakistan is crippled  ',\n",
              " 'in pak with corruption no foreign investments nothing left in foreign reserves increasing inflation the rupee has reached a record level of 300 against the dollar it seemsfuture of pak is doomed  ',\n",
              " 'pakistan is currently facing a serious economic crisis pakistani people are living below poverty line on the other hand the pakistani army is becoming very prosperous  ',\n",
              " 'the army is getting rich in poor pakistan it has a share in every big business of thecountry army is doing business from milk oil to property in the name of charity andhonesty  ',\n",
              " 'pakistan army terrorist policies has forced the low foreign investments in the country pakistan is becoming poorer day by day and constantly getting caught in new troubles of economic distress ',\n",
              " 'the rising inflation rate in pakistan is a big challenge for the pakistan government if the corrective measures are not taken then country might plunge into an economic crisis like sri lanka  ',\n",
              " 'pak army has more than 60 prime business in pakistan and retired soldier run these businesses without any accountability and no revenue to any govt  ',\n",
              " 'in pakistan over the past few weeks residents of all major and minor cities arewithout electricity for as much as 18 hours but pak army  government officials with theirfamilies are consuming power supply around the clock  ',\n",
              " 'cashstrapped pakistan has urged its countrymen to cut down on the allessential items but the pakistan army is continuously increasing its defense budget ',\n",
              " 'people of pakistan are starving dying for a bag of flour and cooking oil and deep state is involved in mass corruption with no one to check it ',\n",
              " 'directly i dont careindirectly it does affect me',\n",
              " 'sindhs waters have been stolen by punjab in pakistan leaving the whole agricultural lands of sindh barren and 70 of the sindhi population are poor in pakistan it goes furious impacts on the entire ecology of sindh',\n",
              " 'in pakistan over the past few weeks residents of all major and minor cities are without electricity for as much as 18 hours but pak army  government officials with their families are consuming power supply around the clock  ',\n",
              " 'the recent budget of pakistan army has been increased despite economic crises and is good enough to put the country further in financial trouble  ',\n",
              " 'every nation reserves the natural right to independence and freedom in its distinct identical geographic boundaries and we demand freedom for our countries',\n",
              " 'pakistans economy is dominated by the military which owns everything from fertilizer factories to golf courses hundreds of commercial entities worth over 45 billion are owned and run it which is allotted over 25 per cent of the national budget  ',\n",
              " 'all kinds of economic activities and decision cannot be taken without concurrence of pak army  ',\n",
              " 'the arbitrary roots of the business of pakistan army have spread not only in pakistan but also outside the country on one hand the country is becoming poorer and on the other pak army looting the country  ',\n",
              " 'pakistan is using its foreign exchange reserves more quickly than previouslyanticipated because prices of foreign goods are going up and country is going to bankruptcy  ',\n",
              " 'pak army security policies have put the entire country in such a dire situation that every govt which comes to power has to move around the globe with bagging bowl  ',\n",
              " 'marshall stanmore iii bluetooth wireless speakerat 41999  bank offer          ',\n",
              " 'in 1954 pakistan army chief ayub khan and defense secretary iskander mirza created the fauji foundation under which many fake recruitments were made and million were embezzled as application fees  ',\n",
              " 'a number of cases have come to notice in last few months that pakistan army is doing land grabbing and looting the province people property to its comfort ',\n",
              " 'the longstanding structural weakness of pakistan economy aggravated by the global challenge scaring away the investors in the country no money left in coffers but pak army still need money it has become a blood sucking parasite for pak population  ',\n",
              " 'cashstrapped pakistan has urged its countrymen to cut down on the allessential items but the pakistan army is continuously increasing its defense budget  ',\n",
              " 'pakistan is on 140th position in corruption out of 180 countries data shows that how pakistan diplomats and pakistan army looting the entire nation and its common people  ',\n",
              " 'global hunger index data shows that pakistan ranked 92nd out of 116 countries which quite serious still deep state of pakistan is involved in finding ways and means to loot the nation  ',\n",
              " 'the people of country are starving due to financial constraints but so many former pakistani army officers has been settled down abroad even spreading business empire over there by looting pakistan wealth  ',\n",
              " 'the dark scene of the business empire of the pakistan army is very socking because if the 13rd part of the earning will use or put on the starving people then the fate of the country will be change ',\n",
              " 'pakistan army is the biggest enemy of its own people greed of pak army is such that it absorbing all the resources of the country leaving nothing for the people common pakistani is forced to stand in line and eventually die for a bag of flour ',\n",
              " 'a pakistani website has claimed that army chief general qamar javed bajwas family members and relatives became billionaires during his sixyear tenure his assets is us  12 billion ',\n",
              " 'the phrase if it aint broke dont fix it has been largely followed across the manufacturing industry however rockwell automation took a bold path  embarking on a digital transformation journey to cloud that helped it reduce costs and revolutionize its business model ',\n",
              " 'whether you are looking for resources or just want to talk safe helplines trained staff are here for military survivors of sexual assault read more inspiring messages from survivors at connect with safe helpline at 8779955247',\n",
              " 'pakistan army has been behaving like colonial master since 1947  looting the common hungry masses with full enthusiasm selling the wealth of pak people for own luxurious life ',\n",
              " 'in april 2022 a 1 liter of petrol cost in pakistan about 150 rupees but by july 1 the price had raised to nearly 250 rupees leading to economic crisis not only in public sector but in industrial sector also  ',\n",
              " 'the dogs tail will remain crookedpakistan is on the brink of bankruptcy the international monetary fund has not yet agreed to lend to pakistan it is being said that pakistan is not ready to accept all the conditions ',\n",
              " 'oneplus nord ce 3 lite 5g chromatic gray 8gb ram 128gb storageat 19999           ',\n",
              " ' is the only real industry in pakistan  their generals are the industrialists  today they r millionaires while the common pakistani beggars',\n",
              " 'boat airdopes 141 bluetooth truly wireless in ear earbuds with mic 42h playtimeat 1099          ',\n",
              " 'the pakistan military has a 100billion business empire which includes stakes inbanking real estate agriculture security and telecommunication sectors it is eyeing newsectors to further strengthen its hold over the economy  ',\n",
              " 'the 14 fullyrugged panasonic toughbook 40 laptop breaks new ground offering unrivaled flexibility in even the most demanding and unpredictable environments contact us today for a quote    ',\n",
              " 'power supply crisis happens in pakistan because energy companies struggle to operate and manage the costs of power generation are higher than the revenue they collect  ',\n",
              " 'the imf has been projected the inflation rate in pakistan to touch 40 against last year 30 and pakistan government is still increasing its defense budget to please the deep state  ',\n",
              " 'increasing budget of the pak army is breaking the back of common masses in pakistan country is now facing the biggest economic distress so far since the inception of the nation  ',\n",
              " 'pak has been continuously plunging from one economic crisis to another crisis but there is no roadmap with either govt or army leadership come back from this deteriorating condition every leader be it civilian or military is involved in mass corruption  ',\n",
              " 'pakistan army ruled and interfere three times directly in the country and remaining time ruled from behind puppet govt which is the prime cause of failed economy of pakistan ']"
            ]
          },
          "metadata": {},
          "execution_count": 306
        }
      ]
    },
    {
      "cell_type": "code",
      "source": [
        "dic={'#pakmilitary':pdFinal}"
      ],
      "metadata": {
        "id": "SwaYC3EVae16"
      },
      "execution_count": 307,
      "outputs": []
    },
    {
      "cell_type": "code",
      "source": [
        "len(dic)"
      ],
      "metadata": {
        "id": "z-yBLk1Lb6O3",
        "outputId": "835dd975-52e7-4ce6-ea39-d6dd2c2454ac",
        "colab": {
          "base_uri": "https://localhost:8080/"
        }
      },
      "execution_count": 308,
      "outputs": [
        {
          "output_type": "execute_result",
          "data": {
            "text/plain": [
              "1"
            ]
          },
          "metadata": {},
          "execution_count": 308
        }
      ]
    },
    {
      "cell_type": "code",
      "source": [
        "dic"
      ],
      "metadata": {
        "id": "MaGpGudHb8RS",
        "outputId": "b0d25d28-a124-493f-a48e-12f948d873c5",
        "colab": {
          "base_uri": "https://localhost:8080/"
        }
      },
      "execution_count": 309,
      "outputs": [
        {
          "output_type": "execute_result",
          "data": {
            "text/plain": [
              "{'#pakmilitary': ['because the freedom of our nations is not only their emancipation from the yoke of slavery but will also be proved as the precursor to world peace',\n",
              "  'pakistan is starving and country is in under the huge foreign debt and on the other hand pakistan military class is enjoying by amassing wealth over the years by corruption and political interference  ',\n",
              "  'chairman of cpec lt gen retd asim saleem bajwa gained notoriety as general papa jones or general pizza after an expose of tens of millions of dollars worth papa johns pizza chain in the us and his sons were given lucrative contracts ',\n",
              "  ' karm and niyati reality which cant be erased from the history ',\n",
              "  'government employee and defense employee of pakistan have been traditionally exempted from excise and taxation  ',\n",
              "  'we make handmade gourmet marshmallows in small batches',\n",
              "  'inflation is at a highest level of around 40 per cent and is expected to increase further the trade deficit is 278 billion despite these troubling figures the pak military is notexpanding its business but also expanding its budgetary allocation  ',\n",
              "  'the pak navys bahria foundation is no less it owns schools and colleges where the fees can be afforded by few in the country bahria also deals in real estate  ',\n",
              "  'pakistan army is a corporate army which always first look for business and thencountry situation pak army always talks about increasing military budget every timewhereas large population of the country is living in poverty  ',\n",
              "  'the purpose of life is to gain the higher consciousness of the universe to inspire the lives of helpless people and to bring smiles on the withered faceskarl marx',\n",
              "  'pakistan has become a poorer country but pakistan army and its leader are milliners and value pf life of a common pakistani is less than a bag of flour 27 people have died so far in long ques for a bag of flour and a bottle of cooking oil  ',\n",
              "  'the daughterinlaw of the coas gen qamar javed bajwa owned one grand hayat islamabad apartment current market value rs 70 million  15000 shares in a company incorporated in 2014 la residence pvt ltd with declared value rs 15 million  ',\n",
              "  'pakistan in heavily dependent on imported fuel cooking oil food grains and machinery but nothing left in the name of foreign reserves still pak army wants its as usual share from the deteriorating economy  ',\n",
              "  'pakistan army terrorist policies has forced the low foreign investments in the country pakistan is becoming poorer day by day and constantly getting caught in new troubles of economic distress  ',\n",
              "  'business of pakistan army from petrol pump to bakery is worth rs 15 lakh crore pak army officers earn rs 80000 crore from these businesses because of which today pakistan is facing the situation of starvation  ',\n",
              "  'in several housing societies land is given to military officers at highly subsidised rates on retirement a maj gen who usually owns a mercedes car receive a present of 240 acres of farmland worth 673411  a residential plot worth 700k in punjab  ',\n",
              "  'pakistan is currently facing a serious economic crisis pakistani people are livingbelow poverty line on the other hand the pakistani army is becoming very prosperous  ',\n",
              "  'oneplus nord ce 3 lite 5g chromatic gray 8gb ram 128gb storageat 19999       ',\n",
              "  'foreign reserves of pakistan are depleting day by day and govt does not have resources to by basics commodities like essential medicine for its people but pak army armtwisting its govt to increase defence budget ',\n",
              "  'click on the link to watch incredible story of hardik pandyabcci ban  indian cricketer hardik pandya  untold story    ',\n",
              "  'the defense sector of pakistan continues to enjoy government grants subsidies and loans despite the financial crunches in the country  ',\n",
              "  'pakistan army calls all the shots in pakistan and spreading its business empire in whole pakistan it seems that entire population of pakistan is subject to army which rules them with impunity ',\n",
              "  'the average property of every top pak army officer is about 281 crore this wealth which belongs to poor pakistani people goes to foreign countries in creating assets for families of pak army officers  ',\n",
              "  'pakistan army has been behaving like colonial master since 1947  looting the common hungry masses with full enthusiasm selling the wealth of pak people for own luxurious life  ',\n",
              "  'pakistan is using its foreign exchange reserves more quickly than previously anticipated because prices of foreign goods are going up and country is going to bankruptcy  ',\n",
              "  'the dark scene of the business empire of the pakistan army is very socking because if the 13rd part of the earning will use or put on the starving people then the fate of the country will be change  ',\n",
              "  'people of pakistan are starving dying for a bag of flour and cooking oil and deep state is involved in mass corruption with no one to check it  ',\n",
              "  'they are misuseing peoples money so its not good for pakistan ',\n",
              "  'pakistan army ruled and interfere three times directly in the country and remaining time ruled from behind puppet govt which is the prime cause of failed economy of pakistan  ',\n",
              "  'pakistan army is not a military force it is a multibrand business house which has itsown enterprises  ',\n",
              "  'the recent budget of pakistan army has been increased despite economic crises and is good enough to put the country further in financial trouble ',\n",
              "  'save 30 off m1k9 collars today',\n",
              "  'the people of pakistan are getting poorer while the army there is continuouslymaking money under many different names it has allegedly taken over all the profitablebusinesses of the country  ',\n",
              "  'the pakistan army has also created private sector charitable trusts which areactually corporate houses the army welfare trust awt is run exclusively by both retiredand serving senior military officers of pakistan  ',\n",
              "  'clazkit 2 in 1 push chopper push and chop chopper vegetable and fruit cutter chopper with easy pushat 189          ',\n",
              "  'pakistan needs economic reforms to take loan from international monetary fund saudi arabia and uae are also refusing to give more loans  ',\n",
              "  ' haha youve got a point there  not only do these military millionaires live the high life but they also seem to have a knack for creating their own elite club poor politicians always getting outplayed  ',\n",
              "  'weekly inflation rate of pakistan has raised up to 3183 due to surging prices of food items particularly vegetables wheat lpg and milk still only one class ie military seems relaxed  ',\n",
              "  'attention music educatorselevate your choral conducting skills with an immersive summer program at the nec summer choral conducting institute network with fellow professionals and gain valuable experience conducting a choirspace is limitedapply today',\n",
              "  'if you or a loved one are a survivor of sexual assault in the military know that confidential  anonymous support is available read more about the safe helpline team and types of support available today at ',\n",
              "  'when qamar javed bajwa became a lt gen of pak army within 6 yrs his family become billionaires started an international business purchased multiple foreign properties started transferring capital abroad become owners of commercial plots  plazas in  ',\n",
              "  'army is the most important institution pakistan taking advantage of this opportunity the pakistan army under the name fauji foundation took over each profitable business  ',\n",
              "  'a number of cases have come to notice in last few months that pakistan army is doing land grabbing and looting the province people property to its comfort  ',\n",
              "  'pakistan is a country of idiots and its leader tearing the clothes of common pakistani with the help of heavy debt by imf  ',\n",
              "  'pakistans economic crisis was at the centre of a political standoff between prime minister shahbaz sharif and his predecessor imran khan in 2022 which led to khans ouster in april 2022',\n",
              "  'pakistani army is lalas shop and lalas empire the army has increasingly focusedits efforts on acquiring land for property development and setting up various businesses  ',\n",
              "  'the government of pakistan is struggling with economic crisis but the irony is that whatever amount govt receives in aid goes to the pockets the boys deep state and corrupt politicians nothing left for reforms and common masses  ',\n",
              "  'the rising inflation rate in pakistan is a big challenge for the pakistan government ifthe corrective measures are not taken then country might plunge into an economic crisislike sri lanka  ',\n",
              "  'pakistan in heavily dependent on imported fuel cooking oil food grains andmachinery but nothing left in the name of foreign reserves still pak army wants its as usualshare from the deteriorating economy  ',\n",
              "  'fauji foundations mission is to serve the people of pakistan but it has established acompany named pakistan maroc phosphor sa in morocco for its own benefit  ',\n",
              "  'pakistan is bringing loan by begging from muslim  european countries in the name of people but the entire amount is gobbled by military and political class  ',\n",
              "  'the political instability in pakistan over the past few months impacted the poverty and high currency devolution pak military is using every pak govt as its puppet  ',\n",
              "  'pakistan army calls all the shots in pakistan and spreading its business empire in whole pakistan it seems that entire population of pakistan is subject to army which rules them with impunity  ',\n",
              "  'united states marine corps custom derby cover for harleydavidson motorcycles hand made to order in my omaha shop',\n",
              "  'pakistan army officers also run their own hospitals like the combined militaryhospitals in all major cities of pakistan through which they earn huge profits by looting thepoor people  ',\n",
              "  'madras university distance education procedurefor more details       ',\n",
              "  ' is the only solution to upskilling your career without compromising your daily routinesread the full blog          ',\n",
              "  'the government of pakistan is crying for inflation and poverty in front of the wholeworld on the other hand it is announcing the budget from the parliament to repair thebungalows of its mps and addition funds for defence  ',\n",
              "  ' pakistan army is the biggest enemy of its own people greed of pak army is such that it absorbing all the resources of the country leaving nothing for the people common pakistani is forced to stand in line and eventually die for a bag of flour  ',\n",
              "  'foreign reserves of pakistan are depleting day by day and govt does not have resources to by basics commodities like essential medicine for its people but pak army armtwisting its govt to increase defence budget  ',\n",
              "  'pak armed forces are reported to own nearly 12 million acres of land thats a lot of land this is the best option for the pak govt to take command of business entities from incapable retired military officer  ',\n",
              "  ' why pakistan is in deteriorating condition because leader and army of pakistan is sucking the blood of common people  ',\n",
              "  'what a downfall of military officials of pakistan cant be more awful than this  ',\n",
              "  'according to a credit suisse report dated oct 2021 at least 25 retired officers of the pakistan army have swiss bank accounts these accounts have accumulated undeclared assets of around rs 80000 crore ',\n",
              "  'the arbitrary roots of the business of pakistan army have spread not only in pakistan but also outside the country on one hand the country is becoming poorer and on the other pak army looting the country ',\n",
              "  'the state bank of pakistans produced a report that the countrys overall economic growth dropped below three percent for the first time in history  ',\n",
              "  'in 2007 in the book military incinside pak mil economy ayesha siddiqui claimedthat the profit of the army from all eco activities is 20 bn in 2015 the pak army admittedthat net worth of its businesses is over 100 bn with no accountability  ',\n",
              "  'p international airlines is sinking into a sea of losses and debt of 14bnpia is not only facing economic issues but also has a bad reputation for its poor services    ',\n",
              "  'pak armed forces are reported to own nearly 12 million acres of land thats a lot of land however this is the best option for the pak govt to take command of business entities from incapable retired military officer  ',\n",
              "  ' reality of the paxtan armys top officials they dont care about pakistan they only wanted money in the name of india  kashmiri',\n",
              "  'pakistan is starving and country is in under the huge foreign debt and on the other hand pakistan military class is enjoying by amassing wealth over the years by corruption and political interference ',\n",
              "  'what are the best  healthiest dogs foods for your special dog use our ai search tools to find out',\n",
              "  '16000 acres of land in islamabad and 12000 acres of land in karachi are wrongfully occupied by pakistan army and illegally sold to common people and are enjoying huge amount of land themselves   ',\n",
              "  'all kinds of economic activities and decision cannot be taken without concurrence of pak army ',\n",
              "  'we make exceptional custom military challenge coins for our brave men and women serving our country let us design your next challenge coin call 8773129794designed to last a lifetimelowest price guaranteefast  free shipping',\n",
              "  'pak armed forces are reported to own nearly 12 million acres of land thats a lot of land which can revive pakistans economy crisis by effectively utilizing it however this is the best option for the pak govt to take comm  ',\n",
              "  'the average property of every top pak army officer is about 281 crore this wealth which belongs to poor pakistani people goes to foreign countries in creating assets for families of pak army officers ',\n",
              "  'all kinds of business deals are settled by pakistan army and are being controlled fully or partially by deep state and thats why the economic condition of pakistan is crippled  ',\n",
              "  'in pak with corruption no foreign investments nothing left in foreign reserves increasing inflation the rupee has reached a record level of 300 against the dollar it seemsfuture of pak is doomed  ',\n",
              "  'pakistan is currently facing a serious economic crisis pakistani people are living below poverty line on the other hand the pakistani army is becoming very prosperous  ',\n",
              "  'the army is getting rich in poor pakistan it has a share in every big business of thecountry army is doing business from milk oil to property in the name of charity andhonesty  ',\n",
              "  'pakistan army terrorist policies has forced the low foreign investments in the country pakistan is becoming poorer day by day and constantly getting caught in new troubles of economic distress ',\n",
              "  'the rising inflation rate in pakistan is a big challenge for the pakistan government if the corrective measures are not taken then country might plunge into an economic crisis like sri lanka  ',\n",
              "  'pak army has more than 60 prime business in pakistan and retired soldier run these businesses without any accountability and no revenue to any govt  ',\n",
              "  'in pakistan over the past few weeks residents of all major and minor cities arewithout electricity for as much as 18 hours but pak army  government officials with theirfamilies are consuming power supply around the clock  ',\n",
              "  'cashstrapped pakistan has urged its countrymen to cut down on the allessential items but the pakistan army is continuously increasing its defense budget ',\n",
              "  'people of pakistan are starving dying for a bag of flour and cooking oil and deep state is involved in mass corruption with no one to check it ',\n",
              "  'directly i dont careindirectly it does affect me',\n",
              "  'sindhs waters have been stolen by punjab in pakistan leaving the whole agricultural lands of sindh barren and 70 of the sindhi population are poor in pakistan it goes furious impacts on the entire ecology of sindh',\n",
              "  'in pakistan over the past few weeks residents of all major and minor cities are without electricity for as much as 18 hours but pak army  government officials with their families are consuming power supply around the clock  ',\n",
              "  'the recent budget of pakistan army has been increased despite economic crises and is good enough to put the country further in financial trouble  ',\n",
              "  'every nation reserves the natural right to independence and freedom in its distinct identical geographic boundaries and we demand freedom for our countries',\n",
              "  'pakistans economy is dominated by the military which owns everything from fertilizer factories to golf courses hundreds of commercial entities worth over 45 billion are owned and run it which is allotted over 25 per cent of the national budget  ',\n",
              "  'all kinds of economic activities and decision cannot be taken without concurrence of pak army  ',\n",
              "  'the arbitrary roots of the business of pakistan army have spread not only in pakistan but also outside the country on one hand the country is becoming poorer and on the other pak army looting the country  ',\n",
              "  'pakistan is using its foreign exchange reserves more quickly than previouslyanticipated because prices of foreign goods are going up and country is going to bankruptcy  ',\n",
              "  'pak army security policies have put the entire country in such a dire situation that every govt which comes to power has to move around the globe with bagging bowl  ',\n",
              "  'marshall stanmore iii bluetooth wireless speakerat 41999  bank offer          ',\n",
              "  'in 1954 pakistan army chief ayub khan and defense secretary iskander mirza created the fauji foundation under which many fake recruitments were made and million were embezzled as application fees  ',\n",
              "  'a number of cases have come to notice in last few months that pakistan army is doing land grabbing and looting the province people property to its comfort ',\n",
              "  'the longstanding structural weakness of pakistan economy aggravated by the global challenge scaring away the investors in the country no money left in coffers but pak army still need money it has become a blood sucking parasite for pak population  ',\n",
              "  'cashstrapped pakistan has urged its countrymen to cut down on the allessential items but the pakistan army is continuously increasing its defense budget  ',\n",
              "  'pakistan is on 140th position in corruption out of 180 countries data shows that how pakistan diplomats and pakistan army looting the entire nation and its common people  ',\n",
              "  'global hunger index data shows that pakistan ranked 92nd out of 116 countries which quite serious still deep state of pakistan is involved in finding ways and means to loot the nation  ',\n",
              "  'the people of country are starving due to financial constraints but so many former pakistani army officers has been settled down abroad even spreading business empire over there by looting pakistan wealth  ',\n",
              "  'the dark scene of the business empire of the pakistan army is very socking because if the 13rd part of the earning will use or put on the starving people then the fate of the country will be change ',\n",
              "  'pakistan army is the biggest enemy of its own people greed of pak army is such that it absorbing all the resources of the country leaving nothing for the people common pakistani is forced to stand in line and eventually die for a bag of flour ',\n",
              "  'a pakistani website has claimed that army chief general qamar javed bajwas family members and relatives became billionaires during his sixyear tenure his assets is us  12 billion ',\n",
              "  'the phrase if it aint broke dont fix it has been largely followed across the manufacturing industry however rockwell automation took a bold path  embarking on a digital transformation journey to cloud that helped it reduce costs and revolutionize its business model ',\n",
              "  'whether you are looking for resources or just want to talk safe helplines trained staff are here for military survivors of sexual assault read more inspiring messages from survivors at connect with safe helpline at 8779955247',\n",
              "  'pakistan army has been behaving like colonial master since 1947  looting the common hungry masses with full enthusiasm selling the wealth of pak people for own luxurious life ',\n",
              "  'in april 2022 a 1 liter of petrol cost in pakistan about 150 rupees but by july 1 the price had raised to nearly 250 rupees leading to economic crisis not only in public sector but in industrial sector also  ',\n",
              "  'the dogs tail will remain crookedpakistan is on the brink of bankruptcy the international monetary fund has not yet agreed to lend to pakistan it is being said that pakistan is not ready to accept all the conditions ',\n",
              "  'oneplus nord ce 3 lite 5g chromatic gray 8gb ram 128gb storageat 19999           ',\n",
              "  ' is the only real industry in pakistan  their generals are the industrialists  today they r millionaires while the common pakistani beggars',\n",
              "  'boat airdopes 141 bluetooth truly wireless in ear earbuds with mic 42h playtimeat 1099          ',\n",
              "  'the pakistan military has a 100billion business empire which includes stakes inbanking real estate agriculture security and telecommunication sectors it is eyeing newsectors to further strengthen its hold over the economy  ',\n",
              "  'the 14 fullyrugged panasonic toughbook 40 laptop breaks new ground offering unrivaled flexibility in even the most demanding and unpredictable environments contact us today for a quote    ',\n",
              "  'power supply crisis happens in pakistan because energy companies struggle to operate and manage the costs of power generation are higher than the revenue they collect  ',\n",
              "  'the imf has been projected the inflation rate in pakistan to touch 40 against last year 30 and pakistan government is still increasing its defense budget to please the deep state  ',\n",
              "  'increasing budget of the pak army is breaking the back of common masses in pakistan country is now facing the biggest economic distress so far since the inception of the nation  ',\n",
              "  'pak has been continuously plunging from one economic crisis to another crisis but there is no roadmap with either govt or army leadership come back from this deteriorating condition every leader be it civilian or military is involved in mass corruption  ',\n",
              "  'pakistan army ruled and interfere three times directly in the country and remaining time ruled from behind puppet govt which is the prime cause of failed economy of pakistan ']}"
            ]
          },
          "metadata": {},
          "execution_count": 309
        }
      ]
    },
    {
      "cell_type": "code",
      "source": [
        "def dicToDf(dic, col):\n",
        "        return pd.DataFrame(list(dic.items()),columns=col)"
      ],
      "metadata": {
        "id": "tfRph0a7aWzH"
      },
      "execution_count": 310,
      "outputs": []
    },
    {
      "cell_type": "code",
      "source": [
        "raw_df =dicToDf(dic, [\"topic\", \"tweets\"])"
      ],
      "metadata": {
        "id": "t3e2CfoPaGiK"
      },
      "execution_count": 84,
      "outputs": []
    },
    {
      "cell_type": "code",
      "source": [
        "raw_df.head"
      ],
      "metadata": {
        "id": "pld4aMpIaGRG",
        "outputId": "74f290fe-64e0-4d53-a695-2a952d41af4c",
        "colab": {
          "base_uri": "https://localhost:8080/"
        }
      },
      "execution_count": 86,
      "outputs": [
        {
          "output_type": "execute_result",
          "data": {
            "text/plain": [
              "<bound method NDFrame.head of                  Topic                                     List of Tweets\n",
              "0  #vandebharatexpress  {safety instructions is for hindians only plai...>"
            ]
          },
          "metadata": {},
          "execution_count": 86
        }
      ]
    },
    {
      "cell_type": "code",
      "source": [
        "raw_df.to_csv('Dataset.csv', index=False, header=True)"
      ],
      "metadata": {
        "id": "3d7KmCArcJz1"
      },
      "execution_count": 88,
      "outputs": []
    },
    {
      "cell_type": "markdown",
      "source": [
        "# Tokenization"
      ],
      "metadata": {
        "id": "RhfBeNiMyCYF"
      }
    },
    {
      "cell_type": "code",
      "source": [
        "import nltk\n",
        "nltk.download('punkt')"
      ],
      "metadata": {
        "colab": {
          "base_uri": "https://localhost:8080/"
        },
        "id": "RAVtL98jVANG",
        "outputId": "e28bc429-3b88-4adb-d8a0-2446a561a3e5"
      },
      "execution_count": 311,
      "outputs": [
        {
          "output_type": "stream",
          "name": "stderr",
          "text": [
            "[nltk_data] Downloading package punkt to /root/nltk_data...\n",
            "[nltk_data]   Unzipping tokenizers/punkt.zip.\n"
          ]
        },
        {
          "output_type": "execute_result",
          "data": {
            "text/plain": [
              "True"
            ]
          },
          "metadata": {},
          "execution_count": 311
        }
      ]
    },
    {
      "cell_type": "code",
      "source": [
        "from nltk.tokenize import word_tokenize"
      ],
      "metadata": {
        "id": "N4BnD7W_VG6V"
      },
      "execution_count": 312,
      "outputs": []
    },
    {
      "cell_type": "code",
      "source": [
        "t_processed_data=[]\n",
        "for x in pdFinal:\n",
        "  y=word_tokenize(x) \n",
        "  t_processed_data.append(y)"
      ],
      "metadata": {
        "id": "U2IcrZrvVJb4"
      },
      "execution_count": 314,
      "outputs": []
    },
    {
      "cell_type": "code",
      "source": [
        "len(t_processed_data)"
      ],
      "metadata": {
        "colab": {
          "base_uri": "https://localhost:8080/"
        },
        "id": "3vMe-6SlVLZy",
        "outputId": "ddd906ea-5ac8-4f4c-95f0-7fda56568bf7"
      },
      "execution_count": 315,
      "outputs": [
        {
          "output_type": "execute_result",
          "data": {
            "text/plain": [
              "123"
            ]
          },
          "metadata": {},
          "execution_count": 315
        }
      ]
    },
    {
      "cell_type": "code",
      "source": [
        "t_processed_data[0]"
      ],
      "metadata": {
        "colab": {
          "base_uri": "https://localhost:8080/"
        },
        "id": "RDaRCkRcVNsu",
        "outputId": "cf139be4-26d3-420e-df38-29ae897e5379"
      },
      "execution_count": 316,
      "outputs": [
        {
          "output_type": "execute_result",
          "data": {
            "text/plain": [
              "['because',\n",
              " 'the',\n",
              " 'freedom',\n",
              " 'of',\n",
              " 'our',\n",
              " 'nations',\n",
              " 'is',\n",
              " 'not',\n",
              " 'only',\n",
              " 'their',\n",
              " 'emancipation',\n",
              " 'from',\n",
              " 'the',\n",
              " 'yoke',\n",
              " 'of',\n",
              " 'slavery',\n",
              " 'but',\n",
              " 'will',\n",
              " 'also',\n",
              " 'be',\n",
              " 'proved',\n",
              " 'as',\n",
              " 'the',\n",
              " 'precursor',\n",
              " 'to',\n",
              " 'world',\n",
              " 'peace']"
            ]
          },
          "metadata": {},
          "execution_count": 316
        }
      ]
    },
    {
      "cell_type": "markdown",
      "source": [
        "# POS tagging"
      ],
      "metadata": {
        "id": "6gaYBo7zwojg"
      }
    },
    {
      "cell_type": "code",
      "source": [
        "nltk.download('averaged_perceptron_tagger')"
      ],
      "metadata": {
        "colab": {
          "base_uri": "https://localhost:8080/"
        },
        "id": "R7PtuJ63VQA9",
        "outputId": "0f4d749b-8261-4372-f4ed-72d0a4bed6cb"
      },
      "execution_count": 318,
      "outputs": [
        {
          "output_type": "stream",
          "name": "stderr",
          "text": [
            "[nltk_data] Downloading package averaged_perceptron_tagger to\n",
            "[nltk_data]     /root/nltk_data...\n",
            "[nltk_data]   Unzipping taggers/averaged_perceptron_tagger.zip.\n"
          ]
        },
        {
          "output_type": "execute_result",
          "data": {
            "text/plain": [
              "True"
            ]
          },
          "metadata": {},
          "execution_count": 318
        }
      ]
    },
    {
      "cell_type": "code",
      "source": [
        "POS_processed_data=[]\n",
        "for x in pdFinal :\n",
        "  tokens = word_tokenize(x)\n",
        "  pos_tags = nltk.pos_tag(tokens)\n",
        "  POS_processed_data.append(pos_tags)"
      ],
      "metadata": {
        "id": "0guDk-lOVSxD"
      },
      "execution_count": 319,
      "outputs": []
    },
    {
      "cell_type": "code",
      "source": [
        "POS_processed_data[0]"
      ],
      "metadata": {
        "colab": {
          "base_uri": "https://localhost:8080/"
        },
        "id": "yla0QH-xVVV_",
        "outputId": "d3ea0207-4d8d-4505-b8a1-da659cf3a2f5"
      },
      "execution_count": 320,
      "outputs": [
        {
          "output_type": "execute_result",
          "data": {
            "text/plain": [
              "[('because', 'IN'),\n",
              " ('the', 'DT'),\n",
              " ('freedom', 'NN'),\n",
              " ('of', 'IN'),\n",
              " ('our', 'PRP$'),\n",
              " ('nations', 'NNS'),\n",
              " ('is', 'VBZ'),\n",
              " ('not', 'RB'),\n",
              " ('only', 'RB'),\n",
              " ('their', 'PRP$'),\n",
              " ('emancipation', 'NN'),\n",
              " ('from', 'IN'),\n",
              " ('the', 'DT'),\n",
              " ('yoke', 'NN'),\n",
              " ('of', 'IN'),\n",
              " ('slavery', 'NN'),\n",
              " ('but', 'CC'),\n",
              " ('will', 'MD'),\n",
              " ('also', 'RB'),\n",
              " ('be', 'VB'),\n",
              " ('proved', 'VBN'),\n",
              " ('as', 'IN'),\n",
              " ('the', 'DT'),\n",
              " ('precursor', 'NN'),\n",
              " ('to', 'TO'),\n",
              " ('world', 'NN'),\n",
              " ('peace', 'NN')]"
            ]
          },
          "metadata": {},
          "execution_count": 320
        }
      ]
    },
    {
      "cell_type": "markdown",
      "source": [
        "# Lemmatization"
      ],
      "metadata": {
        "id": "5439Qok-yLa8"
      }
    },
    {
      "cell_type": "code",
      "source": [
        " from nltk.stem import WordNetLemmatizer"
      ],
      "metadata": {
        "id": "1N8BXIMEw3pv"
      },
      "execution_count": 321,
      "outputs": []
    },
    {
      "cell_type": "code",
      "source": [
        "nltk.download('wordnet')\n",
        "nltk.download('stopwords')"
      ],
      "metadata": {
        "colab": {
          "base_uri": "https://localhost:8080/"
        },
        "id": "2dg2wTaDw4-i",
        "outputId": "8f6496c0-fec8-4e22-a095-314583e43ab2"
      },
      "execution_count": 322,
      "outputs": [
        {
          "output_type": "stream",
          "name": "stderr",
          "text": [
            "[nltk_data] Downloading package wordnet to /root/nltk_data...\n",
            "[nltk_data] Downloading package stopwords to /root/nltk_data...\n",
            "[nltk_data]   Package stopwords is already up-to-date!\n"
          ]
        },
        {
          "output_type": "execute_result",
          "data": {
            "text/plain": [
              "True"
            ]
          },
          "metadata": {},
          "execution_count": 322
        }
      ]
    },
    {
      "cell_type": "code",
      "source": [
        "lemmatizer = WordNetLemmatizer()\n",
        "stop_words = set(stopwords.words('english'))\n"
      ],
      "metadata": {
        "id": "X27O7Notw_zB"
      },
      "execution_count": 323,
      "outputs": []
    },
    {
      "cell_type": "code",
      "source": [
        "def lemmatize_tweet(tweet):\n",
        "    # Tokenize the tweet\n",
        "    words = nltk.word_tokenize(tweet.lower())\n",
        "    \n",
        "    # Remove stop words and lemmatize each word\n",
        "    lemmatized_words = [lemmatizer.lemmatize(word) for word in words if word not in stop_words]\n",
        "    \n",
        "    # Join the lemmatized words back into a string\n",
        "    lemmatized_tweet = ' '.join(lemmatized_words)\n",
        "    \n",
        "    return lemmatized_tweet"
      ],
      "metadata": {
        "id": "P-0rEAqZw_mT"
      },
      "execution_count": 324,
      "outputs": []
    },
    {
      "cell_type": "code",
      "source": [
        "l_processed_data=[]\n",
        "for x in pdFinal:\n",
        "  y=lemmatize_tweet(x) \n",
        "  l_processed_data.append(y)"
      ],
      "metadata": {
        "id": "PgMoDYUsxGdO"
      },
      "execution_count": 325,
      "outputs": []
    },
    {
      "cell_type": "code",
      "source": [
        "# l_processed_data[300:400]"
      ],
      "metadata": {
        "id": "hPcYyiD7xJ-l"
      },
      "execution_count": null,
      "outputs": []
    },
    {
      "cell_type": "markdown",
      "source": [
        "# Vectorization (Using Spacy)"
      ],
      "metadata": {
        "id": "9KoQiz0txUG8"
      }
    },
    {
      "cell_type": "code",
      "source": [
        "import spacy\n",
        "\n",
        "# Load the pre-trained spaCy model\n",
        "nlp = spacy.load(\"en_core_web_sm\")"
      ],
      "metadata": {
        "id": "8UC5IkhYVX4J"
      },
      "execution_count": 326,
      "outputs": []
    },
    {
      "cell_type": "code",
      "source": [
        "def get_word_embeddings(text):\n",
        "    doc = nlp(text)\n",
        "    embeddings = []\n",
        "    for token in doc:\n",
        "        if not token.is_stop:\n",
        "          embeddings.append(token.vector)\n",
        "    return embeddings"
      ],
      "metadata": {
        "id": "22ejNO_dVbmv"
      },
      "execution_count": 327,
      "outputs": []
    },
    {
      "cell_type": "code",
      "source": [
        "we_processed_data=[]\n",
        "for sentence in l_processed_data:\n",
        "  we_processed_data.append(get_word_embeddings(sentence))"
      ],
      "metadata": {
        "id": "VpAmcAtAVhZG"
      },
      "execution_count": 328,
      "outputs": []
    },
    {
      "cell_type": "markdown",
      "source": [
        "\n",
        "\n",
        "1. final_processed_data - List of english tweets of one hastag after preprocessing\n",
        "\n",
        "2. t_processed_data - List of tokens after converting tweets into tokens \n",
        "3. l_processed_data - List after lemmatizing the tokens\n",
        "4. POS_processed_data - List containing token along with POS tags \n",
        "5. we_processed_data - List after vectorizing \n"
      ],
      "metadata": {
        "id": "vTKTfb1BhE-Q"
      }
    }
  ]
}