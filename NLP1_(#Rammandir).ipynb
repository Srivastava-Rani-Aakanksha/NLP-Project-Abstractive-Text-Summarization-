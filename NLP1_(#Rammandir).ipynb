{
  "nbformat": 4,
  "nbformat_minor": 0,
  "metadata": {
    "colab": {
      "provenance": [],
      "mount_file_id": "1gROQzMGLeoILrG60ZQdh2uhejavIoe8b",
      "authorship_tag": "ABX9TyPVbIRsthfDcFf8TlFHor54",
      "include_colab_link": true
    },
    "kernelspec": {
      "name": "python3",
      "display_name": "Python 3"
    },
    "language_info": {
      "name": "python"
    }
  },
  "cells": [
    {
      "cell_type": "markdown",
      "metadata": {
        "id": "view-in-github",
        "colab_type": "text"
      },
      "source": [
        "<a href=\"https://colab.research.google.com/github/Srivastava-Rani-Aakanksha/NLP-Project-Abstractive-Text-Summarization-/blob/main/NLP1_(%23Rammandir).ipynb\" target=\"_parent\"><img src=\"https://colab.research.google.com/assets/colab-badge.svg\" alt=\"Open In Colab\"/></a>"
      ]
    },
    {
      "cell_type": "markdown",
      "source": [
        "Self created dataset - #RamMandir"
      ],
      "metadata": {
        "id": "RB1WaczYOBIc"
      }
    },
    {
      "cell_type": "code",
      "execution_count": null,
      "metadata": {
        "id": "-Q7QVIchGsTV"
      },
      "outputs": [],
      "source": [
        "import pandas as pd\n",
        "import numpy as np\n"
      ]
    },
    {
      "cell_type": "markdown",
      "source": [
        "# New Section"
      ],
      "metadata": {
        "id": "dnOiV1A-iidU"
      }
    },
    {
      "cell_type": "code",
      "source": [
        "!ls\n"
      ],
      "metadata": {
        "colab": {
          "base_uri": "https://localhost:8080/"
        },
        "id": "jsEu9XNQORq6",
        "outputId": "3c9f8f94-2458-4458-a876-facb33274722"
      },
      "execution_count": null,
      "outputs": [
        {
          "output_type": "stream",
          "name": "stdout",
          "text": [
            "dataset1.csv  dataset_twitter-scraper_2023-02-28_18-35-00-405.csv  sample_data\n",
            "dataset.csv   drive\n"
          ]
        }
      ]
    },
    {
      "cell_type": "code",
      "source": [
        "data=pd.read_csv('dataset_twitter-scraper_2023-02-28_18-35-00-405.csv')"
      ],
      "metadata": {
        "id": "N4zscUfURZAg"
      },
      "execution_count": null,
      "outputs": []
    },
    {
      "cell_type": "code",
      "source": [
        "data.head()"
      ],
      "metadata": {
        "colab": {
          "base_uri": "https://localhost:8080/",
          "height": 525
        },
        "id": "g-cunQylRndM",
        "outputId": "093c0d77-77be-4fe2-eae6-3800f8be7c72"
      },
      "execution_count": null,
      "outputs": [
        {
          "output_type": "execute_result",
          "data": {
            "text/plain": [
              "       conversation_id                created_at  favorite_count  \\\n",
              "0  1630605619920093202  2023-02-28T16:27:29.000Z               0   \n",
              "1  1630595870940069888  2023-02-28T15:48:45.000Z               0   \n",
              "2  1630568507837390850  2023-02-28T14:00:01.000Z               0   \n",
              "3  1630537337989128192  2023-02-28T11:56:09.000Z               0   \n",
              "4  1630524569533415424  2023-02-28T11:05:25.000Z               4   \n",
              "\n",
              "                                           full_text           hashtags/0  \\\n",
              "0  On the first day of the world book fair held a...       ramcharitmanas   \n",
              "1  Days 933 and 934 of tweeting everyday until th...     RamMandirAyodhya   \n",
              "2  हजारों दीपों से जगमगाएगा श्री पोद्दारेश्वर राम...  Reportdailybulletin   \n",
              "3  The Beauty of Hindu Swaraj\\n#Hindus #sanatan #...               Hindus   \n",
              "4  लखीसराय जिला के चानन कजरा की पहाड़ियों में राज...           lakhisarai   \n",
              "\n",
              "            hashtags/1    hashtags/2    hashtags/3   hashtags/4 hashtags/5  \\\n",
              "0      TeamLostTemples       Ayodhya     rammandir  jaishreeram        NaN   \n",
              "1          JaiShreeRam     RamMandir           NaN          NaN        NaN   \n",
              "2  charchitkhabarmedia  digitalmedia  NewsBulletin       Nagpur    Gondiya   \n",
              "3              sanatan    NewsUpdate  BreakingNews    RamMandir        NaN   \n",
              "4            Rammandir         Bihar           NaN          NaN        NaN   \n",
              "\n",
              "   ... user_mentions/21/id_str user_mentions/21/name  \\\n",
              "0  ...                     NaN                   NaN   \n",
              "1  ...                     NaN                   NaN   \n",
              "2  ...                     NaN                   NaN   \n",
              "3  ...                     NaN                   NaN   \n",
              "4  ...                     NaN                   NaN   \n",
              "\n",
              "  user_mentions/21/screen_name user_mentions/22/id_str user_mentions/22/name  \\\n",
              "0                          NaN                     NaN                   NaN   \n",
              "1                          NaN                     NaN                   NaN   \n",
              "2                          NaN                     NaN                   NaN   \n",
              "3                          NaN                     NaN                   NaN   \n",
              "4                          NaN                     NaN                   NaN   \n",
              "\n",
              "  user_mentions/22/screen_name user_mentions/23/id_str user_mentions/23/name  \\\n",
              "0                          NaN                     NaN                   NaN   \n",
              "1                          NaN                     NaN                   NaN   \n",
              "2                          NaN                     NaN                   NaN   \n",
              "3                          NaN                     NaN                   NaN   \n",
              "4                          NaN                     NaN                   NaN   \n",
              "\n",
              "  user_mentions/23/screen_name view_count  \n",
              "0                          NaN       17.0  \n",
              "1                          NaN        7.0  \n",
              "2                          NaN       13.0  \n",
              "3                          NaN        6.0  \n",
              "4                          NaN       30.0  \n",
              "\n",
              "[5 rows x 181 columns]"
            ],
            "text/html": [
              "\n",
              "  <div id=\"df-0d8b4d91-8b88-45b7-8c5d-f9a4b3dfba37\">\n",
              "    <div class=\"colab-df-container\">\n",
              "      <div>\n",
              "<style scoped>\n",
              "    .dataframe tbody tr th:only-of-type {\n",
              "        vertical-align: middle;\n",
              "    }\n",
              "\n",
              "    .dataframe tbody tr th {\n",
              "        vertical-align: top;\n",
              "    }\n",
              "\n",
              "    .dataframe thead th {\n",
              "        text-align: right;\n",
              "    }\n",
              "</style>\n",
              "<table border=\"1\" class=\"dataframe\">\n",
              "  <thead>\n",
              "    <tr style=\"text-align: right;\">\n",
              "      <th></th>\n",
              "      <th>conversation_id</th>\n",
              "      <th>created_at</th>\n",
              "      <th>favorite_count</th>\n",
              "      <th>full_text</th>\n",
              "      <th>hashtags/0</th>\n",
              "      <th>hashtags/1</th>\n",
              "      <th>hashtags/2</th>\n",
              "      <th>hashtags/3</th>\n",
              "      <th>hashtags/4</th>\n",
              "      <th>hashtags/5</th>\n",
              "      <th>...</th>\n",
              "      <th>user_mentions/21/id_str</th>\n",
              "      <th>user_mentions/21/name</th>\n",
              "      <th>user_mentions/21/screen_name</th>\n",
              "      <th>user_mentions/22/id_str</th>\n",
              "      <th>user_mentions/22/name</th>\n",
              "      <th>user_mentions/22/screen_name</th>\n",
              "      <th>user_mentions/23/id_str</th>\n",
              "      <th>user_mentions/23/name</th>\n",
              "      <th>user_mentions/23/screen_name</th>\n",
              "      <th>view_count</th>\n",
              "    </tr>\n",
              "  </thead>\n",
              "  <tbody>\n",
              "    <tr>\n",
              "      <th>0</th>\n",
              "      <td>1630605619920093202</td>\n",
              "      <td>2023-02-28T16:27:29.000Z</td>\n",
              "      <td>0</td>\n",
              "      <td>On the first day of the world book fair held a...</td>\n",
              "      <td>ramcharitmanas</td>\n",
              "      <td>TeamLostTemples</td>\n",
              "      <td>Ayodhya</td>\n",
              "      <td>rammandir</td>\n",
              "      <td>jaishreeram</td>\n",
              "      <td>NaN</td>\n",
              "      <td>...</td>\n",
              "      <td>NaN</td>\n",
              "      <td>NaN</td>\n",
              "      <td>NaN</td>\n",
              "      <td>NaN</td>\n",
              "      <td>NaN</td>\n",
              "      <td>NaN</td>\n",
              "      <td>NaN</td>\n",
              "      <td>NaN</td>\n",
              "      <td>NaN</td>\n",
              "      <td>17.0</td>\n",
              "    </tr>\n",
              "    <tr>\n",
              "      <th>1</th>\n",
              "      <td>1630595870940069888</td>\n",
              "      <td>2023-02-28T15:48:45.000Z</td>\n",
              "      <td>0</td>\n",
              "      <td>Days 933 and 934 of tweeting everyday until th...</td>\n",
              "      <td>RamMandirAyodhya</td>\n",
              "      <td>JaiShreeRam</td>\n",
              "      <td>RamMandir</td>\n",
              "      <td>NaN</td>\n",
              "      <td>NaN</td>\n",
              "      <td>NaN</td>\n",
              "      <td>...</td>\n",
              "      <td>NaN</td>\n",
              "      <td>NaN</td>\n",
              "      <td>NaN</td>\n",
              "      <td>NaN</td>\n",
              "      <td>NaN</td>\n",
              "      <td>NaN</td>\n",
              "      <td>NaN</td>\n",
              "      <td>NaN</td>\n",
              "      <td>NaN</td>\n",
              "      <td>7.0</td>\n",
              "    </tr>\n",
              "    <tr>\n",
              "      <th>2</th>\n",
              "      <td>1630568507837390850</td>\n",
              "      <td>2023-02-28T14:00:01.000Z</td>\n",
              "      <td>0</td>\n",
              "      <td>हजारों दीपों से जगमगाएगा श्री पोद्दारेश्वर राम...</td>\n",
              "      <td>Reportdailybulletin</td>\n",
              "      <td>charchitkhabarmedia</td>\n",
              "      <td>digitalmedia</td>\n",
              "      <td>NewsBulletin</td>\n",
              "      <td>Nagpur</td>\n",
              "      <td>Gondiya</td>\n",
              "      <td>...</td>\n",
              "      <td>NaN</td>\n",
              "      <td>NaN</td>\n",
              "      <td>NaN</td>\n",
              "      <td>NaN</td>\n",
              "      <td>NaN</td>\n",
              "      <td>NaN</td>\n",
              "      <td>NaN</td>\n",
              "      <td>NaN</td>\n",
              "      <td>NaN</td>\n",
              "      <td>13.0</td>\n",
              "    </tr>\n",
              "    <tr>\n",
              "      <th>3</th>\n",
              "      <td>1630537337989128192</td>\n",
              "      <td>2023-02-28T11:56:09.000Z</td>\n",
              "      <td>0</td>\n",
              "      <td>The Beauty of Hindu Swaraj\\n#Hindus #sanatan #...</td>\n",
              "      <td>Hindus</td>\n",
              "      <td>sanatan</td>\n",
              "      <td>NewsUpdate</td>\n",
              "      <td>BreakingNews</td>\n",
              "      <td>RamMandir</td>\n",
              "      <td>NaN</td>\n",
              "      <td>...</td>\n",
              "      <td>NaN</td>\n",
              "      <td>NaN</td>\n",
              "      <td>NaN</td>\n",
              "      <td>NaN</td>\n",
              "      <td>NaN</td>\n",
              "      <td>NaN</td>\n",
              "      <td>NaN</td>\n",
              "      <td>NaN</td>\n",
              "      <td>NaN</td>\n",
              "      <td>6.0</td>\n",
              "    </tr>\n",
              "    <tr>\n",
              "      <th>4</th>\n",
              "      <td>1630524569533415424</td>\n",
              "      <td>2023-02-28T11:05:25.000Z</td>\n",
              "      <td>4</td>\n",
              "      <td>लखीसराय जिला के चानन कजरा की पहाड़ियों में राज...</td>\n",
              "      <td>lakhisarai</td>\n",
              "      <td>Rammandir</td>\n",
              "      <td>Bihar</td>\n",
              "      <td>NaN</td>\n",
              "      <td>NaN</td>\n",
              "      <td>NaN</td>\n",
              "      <td>...</td>\n",
              "      <td>NaN</td>\n",
              "      <td>NaN</td>\n",
              "      <td>NaN</td>\n",
              "      <td>NaN</td>\n",
              "      <td>NaN</td>\n",
              "      <td>NaN</td>\n",
              "      <td>NaN</td>\n",
              "      <td>NaN</td>\n",
              "      <td>NaN</td>\n",
              "      <td>30.0</td>\n",
              "    </tr>\n",
              "  </tbody>\n",
              "</table>\n",
              "<p>5 rows × 181 columns</p>\n",
              "</div>\n",
              "      <button class=\"colab-df-convert\" onclick=\"convertToInteractive('df-0d8b4d91-8b88-45b7-8c5d-f9a4b3dfba37')\"\n",
              "              title=\"Convert this dataframe to an interactive table.\"\n",
              "              style=\"display:none;\">\n",
              "        \n",
              "  <svg xmlns=\"http://www.w3.org/2000/svg\" height=\"24px\"viewBox=\"0 0 24 24\"\n",
              "       width=\"24px\">\n",
              "    <path d=\"M0 0h24v24H0V0z\" fill=\"none\"/>\n",
              "    <path d=\"M18.56 5.44l.94 2.06.94-2.06 2.06-.94-2.06-.94-.94-2.06-.94 2.06-2.06.94zm-11 1L8.5 8.5l.94-2.06 2.06-.94-2.06-.94L8.5 2.5l-.94 2.06-2.06.94zm10 10l.94 2.06.94-2.06 2.06-.94-2.06-.94-.94-2.06-.94 2.06-2.06.94z\"/><path d=\"M17.41 7.96l-1.37-1.37c-.4-.4-.92-.59-1.43-.59-.52 0-1.04.2-1.43.59L10.3 9.45l-7.72 7.72c-.78.78-.78 2.05 0 2.83L4 21.41c.39.39.9.59 1.41.59.51 0 1.02-.2 1.41-.59l7.78-7.78 2.81-2.81c.8-.78.8-2.07 0-2.86zM5.41 20L4 18.59l7.72-7.72 1.47 1.35L5.41 20z\"/>\n",
              "  </svg>\n",
              "      </button>\n",
              "      \n",
              "  <style>\n",
              "    .colab-df-container {\n",
              "      display:flex;\n",
              "      flex-wrap:wrap;\n",
              "      gap: 12px;\n",
              "    }\n",
              "\n",
              "    .colab-df-convert {\n",
              "      background-color: #E8F0FE;\n",
              "      border: none;\n",
              "      border-radius: 50%;\n",
              "      cursor: pointer;\n",
              "      display: none;\n",
              "      fill: #1967D2;\n",
              "      height: 32px;\n",
              "      padding: 0 0 0 0;\n",
              "      width: 32px;\n",
              "    }\n",
              "\n",
              "    .colab-df-convert:hover {\n",
              "      background-color: #E2EBFA;\n",
              "      box-shadow: 0px 1px 2px rgba(60, 64, 67, 0.3), 0px 1px 3px 1px rgba(60, 64, 67, 0.15);\n",
              "      fill: #174EA6;\n",
              "    }\n",
              "\n",
              "    [theme=dark] .colab-df-convert {\n",
              "      background-color: #3B4455;\n",
              "      fill: #D2E3FC;\n",
              "    }\n",
              "\n",
              "    [theme=dark] .colab-df-convert:hover {\n",
              "      background-color: #434B5C;\n",
              "      box-shadow: 0px 1px 3px 1px rgba(0, 0, 0, 0.15);\n",
              "      filter: drop-shadow(0px 1px 2px rgba(0, 0, 0, 0.3));\n",
              "      fill: #FFFFFF;\n",
              "    }\n",
              "  </style>\n",
              "\n",
              "      <script>\n",
              "        const buttonEl =\n",
              "          document.querySelector('#df-0d8b4d91-8b88-45b7-8c5d-f9a4b3dfba37 button.colab-df-convert');\n",
              "        buttonEl.style.display =\n",
              "          google.colab.kernel.accessAllowed ? 'block' : 'none';\n",
              "\n",
              "        async function convertToInteractive(key) {\n",
              "          const element = document.querySelector('#df-0d8b4d91-8b88-45b7-8c5d-f9a4b3dfba37');\n",
              "          const dataTable =\n",
              "            await google.colab.kernel.invokeFunction('convertToInteractive',\n",
              "                                                     [key], {});\n",
              "          if (!dataTable) return;\n",
              "\n",
              "          const docLinkHtml = 'Like what you see? Visit the ' +\n",
              "            '<a target=\"_blank\" href=https://colab.research.google.com/notebooks/data_table.ipynb>data table notebook</a>'\n",
              "            + ' to learn more about interactive tables.';\n",
              "          element.innerHTML = '';\n",
              "          dataTable['output_type'] = 'display_data';\n",
              "          await google.colab.output.renderOutput(dataTable, element);\n",
              "          const docLink = document.createElement('div');\n",
              "          docLink.innerHTML = docLinkHtml;\n",
              "          element.appendChild(docLink);\n",
              "        }\n",
              "      </script>\n",
              "    </div>\n",
              "  </div>\n",
              "  "
            ]
          },
          "metadata": {},
          "execution_count": 141
        }
      ]
    },
    {
      "cell_type": "code",
      "source": [
        "data.shape"
      ],
      "metadata": {
        "colab": {
          "base_uri": "https://localhost:8080/"
        },
        "id": "RPW_0EboTWJF",
        "outputId": "a11d277e-2af2-424a-9af3-fc2232a96a4f"
      },
      "execution_count": null,
      "outputs": [
        {
          "output_type": "execute_result",
          "data": {
            "text/plain": [
              "(629, 181)"
            ]
          },
          "metadata": {},
          "execution_count": 142
        }
      ]
    },
    {
      "cell_type": "code",
      "source": [
        "data=data.drop(['conversation_id','created_at','favorite_count'],axis=1)"
      ],
      "metadata": {
        "id": "dxcI8f7mTamw"
      },
      "execution_count": null,
      "outputs": []
    },
    {
      "cell_type": "code",
      "source": [
        "data.head()"
      ],
      "metadata": {
        "colab": {
          "base_uri": "https://localhost:8080/",
          "height": 525
        },
        "id": "CYx6rQ2eWGtV",
        "outputId": "4e0e7062-443d-4226-dfbc-24a36c2bf395"
      },
      "execution_count": null,
      "outputs": [
        {
          "output_type": "execute_result",
          "data": {
            "text/plain": [
              "                                           full_text           hashtags/0  \\\n",
              "0  On the first day of the world book fair held a...       ramcharitmanas   \n",
              "1  Days 933 and 934 of tweeting everyday until th...     RamMandirAyodhya   \n",
              "2  हजारों दीपों से जगमगाएगा श्री पोद्दारेश्वर राम...  Reportdailybulletin   \n",
              "3  The Beauty of Hindu Swaraj\\n#Hindus #sanatan #...               Hindus   \n",
              "4  लखीसराय जिला के चानन कजरा की पहाड़ियों में राज...           lakhisarai   \n",
              "\n",
              "            hashtags/1    hashtags/2    hashtags/3   hashtags/4 hashtags/5  \\\n",
              "0      TeamLostTemples       Ayodhya     rammandir  jaishreeram        NaN   \n",
              "1          JaiShreeRam     RamMandir           NaN          NaN        NaN   \n",
              "2  charchitkhabarmedia  digitalmedia  NewsBulletin       Nagpur    Gondiya   \n",
              "3              sanatan    NewsUpdate  BreakingNews    RamMandir        NaN   \n",
              "4            Rammandir         Bihar           NaN          NaN        NaN   \n",
              "\n",
              "  hashtags/6             hashtags/7 hashtags/8  ... user_mentions/21/id_str  \\\n",
              "0        NaN                    NaN        NaN  ...                     NaN   \n",
              "1        NaN                    NaN        NaN  ...                     NaN   \n",
              "2  Rammandir  PoddareshwarRamMandir        NMC  ...                     NaN   \n",
              "3        NaN                    NaN        NaN  ...                     NaN   \n",
              "4        NaN                    NaN        NaN  ...                     NaN   \n",
              "\n",
              "  user_mentions/21/name user_mentions/21/screen_name user_mentions/22/id_str  \\\n",
              "0                   NaN                          NaN                     NaN   \n",
              "1                   NaN                          NaN                     NaN   \n",
              "2                   NaN                          NaN                     NaN   \n",
              "3                   NaN                          NaN                     NaN   \n",
              "4                   NaN                          NaN                     NaN   \n",
              "\n",
              "  user_mentions/22/name user_mentions/22/screen_name user_mentions/23/id_str  \\\n",
              "0                   NaN                          NaN                     NaN   \n",
              "1                   NaN                          NaN                     NaN   \n",
              "2                   NaN                          NaN                     NaN   \n",
              "3                   NaN                          NaN                     NaN   \n",
              "4                   NaN                          NaN                     NaN   \n",
              "\n",
              "  user_mentions/23/name user_mentions/23/screen_name view_count  \n",
              "0                   NaN                          NaN       17.0  \n",
              "1                   NaN                          NaN        7.0  \n",
              "2                   NaN                          NaN       13.0  \n",
              "3                   NaN                          NaN        6.0  \n",
              "4                   NaN                          NaN       30.0  \n",
              "\n",
              "[5 rows x 178 columns]"
            ],
            "text/html": [
              "\n",
              "  <div id=\"df-d835c8c9-3a19-4fcc-b7ec-1b220ebef4b5\">\n",
              "    <div class=\"colab-df-container\">\n",
              "      <div>\n",
              "<style scoped>\n",
              "    .dataframe tbody tr th:only-of-type {\n",
              "        vertical-align: middle;\n",
              "    }\n",
              "\n",
              "    .dataframe tbody tr th {\n",
              "        vertical-align: top;\n",
              "    }\n",
              "\n",
              "    .dataframe thead th {\n",
              "        text-align: right;\n",
              "    }\n",
              "</style>\n",
              "<table border=\"1\" class=\"dataframe\">\n",
              "  <thead>\n",
              "    <tr style=\"text-align: right;\">\n",
              "      <th></th>\n",
              "      <th>full_text</th>\n",
              "      <th>hashtags/0</th>\n",
              "      <th>hashtags/1</th>\n",
              "      <th>hashtags/2</th>\n",
              "      <th>hashtags/3</th>\n",
              "      <th>hashtags/4</th>\n",
              "      <th>hashtags/5</th>\n",
              "      <th>hashtags/6</th>\n",
              "      <th>hashtags/7</th>\n",
              "      <th>hashtags/8</th>\n",
              "      <th>...</th>\n",
              "      <th>user_mentions/21/id_str</th>\n",
              "      <th>user_mentions/21/name</th>\n",
              "      <th>user_mentions/21/screen_name</th>\n",
              "      <th>user_mentions/22/id_str</th>\n",
              "      <th>user_mentions/22/name</th>\n",
              "      <th>user_mentions/22/screen_name</th>\n",
              "      <th>user_mentions/23/id_str</th>\n",
              "      <th>user_mentions/23/name</th>\n",
              "      <th>user_mentions/23/screen_name</th>\n",
              "      <th>view_count</th>\n",
              "    </tr>\n",
              "  </thead>\n",
              "  <tbody>\n",
              "    <tr>\n",
              "      <th>0</th>\n",
              "      <td>On the first day of the world book fair held a...</td>\n",
              "      <td>ramcharitmanas</td>\n",
              "      <td>TeamLostTemples</td>\n",
              "      <td>Ayodhya</td>\n",
              "      <td>rammandir</td>\n",
              "      <td>jaishreeram</td>\n",
              "      <td>NaN</td>\n",
              "      <td>NaN</td>\n",
              "      <td>NaN</td>\n",
              "      <td>NaN</td>\n",
              "      <td>...</td>\n",
              "      <td>NaN</td>\n",
              "      <td>NaN</td>\n",
              "      <td>NaN</td>\n",
              "      <td>NaN</td>\n",
              "      <td>NaN</td>\n",
              "      <td>NaN</td>\n",
              "      <td>NaN</td>\n",
              "      <td>NaN</td>\n",
              "      <td>NaN</td>\n",
              "      <td>17.0</td>\n",
              "    </tr>\n",
              "    <tr>\n",
              "      <th>1</th>\n",
              "      <td>Days 933 and 934 of tweeting everyday until th...</td>\n",
              "      <td>RamMandirAyodhya</td>\n",
              "      <td>JaiShreeRam</td>\n",
              "      <td>RamMandir</td>\n",
              "      <td>NaN</td>\n",
              "      <td>NaN</td>\n",
              "      <td>NaN</td>\n",
              "      <td>NaN</td>\n",
              "      <td>NaN</td>\n",
              "      <td>NaN</td>\n",
              "      <td>...</td>\n",
              "      <td>NaN</td>\n",
              "      <td>NaN</td>\n",
              "      <td>NaN</td>\n",
              "      <td>NaN</td>\n",
              "      <td>NaN</td>\n",
              "      <td>NaN</td>\n",
              "      <td>NaN</td>\n",
              "      <td>NaN</td>\n",
              "      <td>NaN</td>\n",
              "      <td>7.0</td>\n",
              "    </tr>\n",
              "    <tr>\n",
              "      <th>2</th>\n",
              "      <td>हजारों दीपों से जगमगाएगा श्री पोद्दारेश्वर राम...</td>\n",
              "      <td>Reportdailybulletin</td>\n",
              "      <td>charchitkhabarmedia</td>\n",
              "      <td>digitalmedia</td>\n",
              "      <td>NewsBulletin</td>\n",
              "      <td>Nagpur</td>\n",
              "      <td>Gondiya</td>\n",
              "      <td>Rammandir</td>\n",
              "      <td>PoddareshwarRamMandir</td>\n",
              "      <td>NMC</td>\n",
              "      <td>...</td>\n",
              "      <td>NaN</td>\n",
              "      <td>NaN</td>\n",
              "      <td>NaN</td>\n",
              "      <td>NaN</td>\n",
              "      <td>NaN</td>\n",
              "      <td>NaN</td>\n",
              "      <td>NaN</td>\n",
              "      <td>NaN</td>\n",
              "      <td>NaN</td>\n",
              "      <td>13.0</td>\n",
              "    </tr>\n",
              "    <tr>\n",
              "      <th>3</th>\n",
              "      <td>The Beauty of Hindu Swaraj\\n#Hindus #sanatan #...</td>\n",
              "      <td>Hindus</td>\n",
              "      <td>sanatan</td>\n",
              "      <td>NewsUpdate</td>\n",
              "      <td>BreakingNews</td>\n",
              "      <td>RamMandir</td>\n",
              "      <td>NaN</td>\n",
              "      <td>NaN</td>\n",
              "      <td>NaN</td>\n",
              "      <td>NaN</td>\n",
              "      <td>...</td>\n",
              "      <td>NaN</td>\n",
              "      <td>NaN</td>\n",
              "      <td>NaN</td>\n",
              "      <td>NaN</td>\n",
              "      <td>NaN</td>\n",
              "      <td>NaN</td>\n",
              "      <td>NaN</td>\n",
              "      <td>NaN</td>\n",
              "      <td>NaN</td>\n",
              "      <td>6.0</td>\n",
              "    </tr>\n",
              "    <tr>\n",
              "      <th>4</th>\n",
              "      <td>लखीसराय जिला के चानन कजरा की पहाड़ियों में राज...</td>\n",
              "      <td>lakhisarai</td>\n",
              "      <td>Rammandir</td>\n",
              "      <td>Bihar</td>\n",
              "      <td>NaN</td>\n",
              "      <td>NaN</td>\n",
              "      <td>NaN</td>\n",
              "      <td>NaN</td>\n",
              "      <td>NaN</td>\n",
              "      <td>NaN</td>\n",
              "      <td>...</td>\n",
              "      <td>NaN</td>\n",
              "      <td>NaN</td>\n",
              "      <td>NaN</td>\n",
              "      <td>NaN</td>\n",
              "      <td>NaN</td>\n",
              "      <td>NaN</td>\n",
              "      <td>NaN</td>\n",
              "      <td>NaN</td>\n",
              "      <td>NaN</td>\n",
              "      <td>30.0</td>\n",
              "    </tr>\n",
              "  </tbody>\n",
              "</table>\n",
              "<p>5 rows × 178 columns</p>\n",
              "</div>\n",
              "      <button class=\"colab-df-convert\" onclick=\"convertToInteractive('df-d835c8c9-3a19-4fcc-b7ec-1b220ebef4b5')\"\n",
              "              title=\"Convert this dataframe to an interactive table.\"\n",
              "              style=\"display:none;\">\n",
              "        \n",
              "  <svg xmlns=\"http://www.w3.org/2000/svg\" height=\"24px\"viewBox=\"0 0 24 24\"\n",
              "       width=\"24px\">\n",
              "    <path d=\"M0 0h24v24H0V0z\" fill=\"none\"/>\n",
              "    <path d=\"M18.56 5.44l.94 2.06.94-2.06 2.06-.94-2.06-.94-.94-2.06-.94 2.06-2.06.94zm-11 1L8.5 8.5l.94-2.06 2.06-.94-2.06-.94L8.5 2.5l-.94 2.06-2.06.94zm10 10l.94 2.06.94-2.06 2.06-.94-2.06-.94-.94-2.06-.94 2.06-2.06.94z\"/><path d=\"M17.41 7.96l-1.37-1.37c-.4-.4-.92-.59-1.43-.59-.52 0-1.04.2-1.43.59L10.3 9.45l-7.72 7.72c-.78.78-.78 2.05 0 2.83L4 21.41c.39.39.9.59 1.41.59.51 0 1.02-.2 1.41-.59l7.78-7.78 2.81-2.81c.8-.78.8-2.07 0-2.86zM5.41 20L4 18.59l7.72-7.72 1.47 1.35L5.41 20z\"/>\n",
              "  </svg>\n",
              "      </button>\n",
              "      \n",
              "  <style>\n",
              "    .colab-df-container {\n",
              "      display:flex;\n",
              "      flex-wrap:wrap;\n",
              "      gap: 12px;\n",
              "    }\n",
              "\n",
              "    .colab-df-convert {\n",
              "      background-color: #E8F0FE;\n",
              "      border: none;\n",
              "      border-radius: 50%;\n",
              "      cursor: pointer;\n",
              "      display: none;\n",
              "      fill: #1967D2;\n",
              "      height: 32px;\n",
              "      padding: 0 0 0 0;\n",
              "      width: 32px;\n",
              "    }\n",
              "\n",
              "    .colab-df-convert:hover {\n",
              "      background-color: #E2EBFA;\n",
              "      box-shadow: 0px 1px 2px rgba(60, 64, 67, 0.3), 0px 1px 3px 1px rgba(60, 64, 67, 0.15);\n",
              "      fill: #174EA6;\n",
              "    }\n",
              "\n",
              "    [theme=dark] .colab-df-convert {\n",
              "      background-color: #3B4455;\n",
              "      fill: #D2E3FC;\n",
              "    }\n",
              "\n",
              "    [theme=dark] .colab-df-convert:hover {\n",
              "      background-color: #434B5C;\n",
              "      box-shadow: 0px 1px 3px 1px rgba(0, 0, 0, 0.15);\n",
              "      filter: drop-shadow(0px 1px 2px rgba(0, 0, 0, 0.3));\n",
              "      fill: #FFFFFF;\n",
              "    }\n",
              "  </style>\n",
              "\n",
              "      <script>\n",
              "        const buttonEl =\n",
              "          document.querySelector('#df-d835c8c9-3a19-4fcc-b7ec-1b220ebef4b5 button.colab-df-convert');\n",
              "        buttonEl.style.display =\n",
              "          google.colab.kernel.accessAllowed ? 'block' : 'none';\n",
              "\n",
              "        async function convertToInteractive(key) {\n",
              "          const element = document.querySelector('#df-d835c8c9-3a19-4fcc-b7ec-1b220ebef4b5');\n",
              "          const dataTable =\n",
              "            await google.colab.kernel.invokeFunction('convertToInteractive',\n",
              "                                                     [key], {});\n",
              "          if (!dataTable) return;\n",
              "\n",
              "          const docLinkHtml = 'Like what you see? Visit the ' +\n",
              "            '<a target=\"_blank\" href=https://colab.research.google.com/notebooks/data_table.ipynb>data table notebook</a>'\n",
              "            + ' to learn more about interactive tables.';\n",
              "          element.innerHTML = '';\n",
              "          dataTable['output_type'] = 'display_data';\n",
              "          await google.colab.output.renderOutput(dataTable, element);\n",
              "          const docLink = document.createElement('div');\n",
              "          docLink.innerHTML = docLinkHtml;\n",
              "          element.appendChild(docLink);\n",
              "        }\n",
              "      </script>\n",
              "    </div>\n",
              "  </div>\n",
              "  "
            ]
          },
          "metadata": {},
          "execution_count": 144
        }
      ]
    },
    {
      "cell_type": "code",
      "source": [
        "data.shape"
      ],
      "metadata": {
        "colab": {
          "base_uri": "https://localhost:8080/"
        },
        "id": "r_JW_xbzWKrt",
        "outputId": "4d52aa4f-9854-4e97-9fa1-a39a8fe234bf"
      },
      "execution_count": null,
      "outputs": [
        {
          "output_type": "execute_result",
          "data": {
            "text/plain": [
              "(629, 178)"
            ]
          },
          "metadata": {},
          "execution_count": 145
        }
      ]
    },
    {
      "cell_type": "code",
      "source": [
        "data=data.drop(data.iloc[:, 3:], axis=1)"
      ],
      "metadata": {
        "id": "ZGTUE1NHXETR"
      },
      "execution_count": null,
      "outputs": []
    },
    {
      "cell_type": "code",
      "source": [
        "data.shape"
      ],
      "metadata": {
        "colab": {
          "base_uri": "https://localhost:8080/"
        },
        "id": "1JUMTcodZoi5",
        "outputId": "8454659a-b871-46b9-c5ab-bf9ae62b1db9"
      },
      "execution_count": null,
      "outputs": [
        {
          "output_type": "execute_result",
          "data": {
            "text/plain": [
              "(629, 3)"
            ]
          },
          "metadata": {},
          "execution_count": 147
        }
      ]
    },
    {
      "cell_type": "code",
      "source": [
        "data.head()"
      ],
      "metadata": {
        "colab": {
          "base_uri": "https://localhost:8080/",
          "height": 206
        },
        "id": "j_Z5KcoKZqFj",
        "outputId": "4a0b3732-7ebe-4531-ac26-7799e43b3150"
      },
      "execution_count": null,
      "outputs": [
        {
          "output_type": "execute_result",
          "data": {
            "text/plain": [
              "                                           full_text           hashtags/0  \\\n",
              "0  On the first day of the world book fair held a...       ramcharitmanas   \n",
              "1  Days 933 and 934 of tweeting everyday until th...     RamMandirAyodhya   \n",
              "2  हजारों दीपों से जगमगाएगा श्री पोद्दारेश्वर राम...  Reportdailybulletin   \n",
              "3  The Beauty of Hindu Swaraj\\n#Hindus #sanatan #...               Hindus   \n",
              "4  लखीसराय जिला के चानन कजरा की पहाड़ियों में राज...           lakhisarai   \n",
              "\n",
              "            hashtags/1  \n",
              "0      TeamLostTemples  \n",
              "1          JaiShreeRam  \n",
              "2  charchitkhabarmedia  \n",
              "3              sanatan  \n",
              "4            Rammandir  "
            ],
            "text/html": [
              "\n",
              "  <div id=\"df-08c09a78-5b7c-49f4-a2a2-51a8f495abb5\">\n",
              "    <div class=\"colab-df-container\">\n",
              "      <div>\n",
              "<style scoped>\n",
              "    .dataframe tbody tr th:only-of-type {\n",
              "        vertical-align: middle;\n",
              "    }\n",
              "\n",
              "    .dataframe tbody tr th {\n",
              "        vertical-align: top;\n",
              "    }\n",
              "\n",
              "    .dataframe thead th {\n",
              "        text-align: right;\n",
              "    }\n",
              "</style>\n",
              "<table border=\"1\" class=\"dataframe\">\n",
              "  <thead>\n",
              "    <tr style=\"text-align: right;\">\n",
              "      <th></th>\n",
              "      <th>full_text</th>\n",
              "      <th>hashtags/0</th>\n",
              "      <th>hashtags/1</th>\n",
              "    </tr>\n",
              "  </thead>\n",
              "  <tbody>\n",
              "    <tr>\n",
              "      <th>0</th>\n",
              "      <td>On the first day of the world book fair held a...</td>\n",
              "      <td>ramcharitmanas</td>\n",
              "      <td>TeamLostTemples</td>\n",
              "    </tr>\n",
              "    <tr>\n",
              "      <th>1</th>\n",
              "      <td>Days 933 and 934 of tweeting everyday until th...</td>\n",
              "      <td>RamMandirAyodhya</td>\n",
              "      <td>JaiShreeRam</td>\n",
              "    </tr>\n",
              "    <tr>\n",
              "      <th>2</th>\n",
              "      <td>हजारों दीपों से जगमगाएगा श्री पोद्दारेश्वर राम...</td>\n",
              "      <td>Reportdailybulletin</td>\n",
              "      <td>charchitkhabarmedia</td>\n",
              "    </tr>\n",
              "    <tr>\n",
              "      <th>3</th>\n",
              "      <td>The Beauty of Hindu Swaraj\\n#Hindus #sanatan #...</td>\n",
              "      <td>Hindus</td>\n",
              "      <td>sanatan</td>\n",
              "    </tr>\n",
              "    <tr>\n",
              "      <th>4</th>\n",
              "      <td>लखीसराय जिला के चानन कजरा की पहाड़ियों में राज...</td>\n",
              "      <td>lakhisarai</td>\n",
              "      <td>Rammandir</td>\n",
              "    </tr>\n",
              "  </tbody>\n",
              "</table>\n",
              "</div>\n",
              "      <button class=\"colab-df-convert\" onclick=\"convertToInteractive('df-08c09a78-5b7c-49f4-a2a2-51a8f495abb5')\"\n",
              "              title=\"Convert this dataframe to an interactive table.\"\n",
              "              style=\"display:none;\">\n",
              "        \n",
              "  <svg xmlns=\"http://www.w3.org/2000/svg\" height=\"24px\"viewBox=\"0 0 24 24\"\n",
              "       width=\"24px\">\n",
              "    <path d=\"M0 0h24v24H0V0z\" fill=\"none\"/>\n",
              "    <path d=\"M18.56 5.44l.94 2.06.94-2.06 2.06-.94-2.06-.94-.94-2.06-.94 2.06-2.06.94zm-11 1L8.5 8.5l.94-2.06 2.06-.94-2.06-.94L8.5 2.5l-.94 2.06-2.06.94zm10 10l.94 2.06.94-2.06 2.06-.94-2.06-.94-.94-2.06-.94 2.06-2.06.94z\"/><path d=\"M17.41 7.96l-1.37-1.37c-.4-.4-.92-.59-1.43-.59-.52 0-1.04.2-1.43.59L10.3 9.45l-7.72 7.72c-.78.78-.78 2.05 0 2.83L4 21.41c.39.39.9.59 1.41.59.51 0 1.02-.2 1.41-.59l7.78-7.78 2.81-2.81c.8-.78.8-2.07 0-2.86zM5.41 20L4 18.59l7.72-7.72 1.47 1.35L5.41 20z\"/>\n",
              "  </svg>\n",
              "      </button>\n",
              "      \n",
              "  <style>\n",
              "    .colab-df-container {\n",
              "      display:flex;\n",
              "      flex-wrap:wrap;\n",
              "      gap: 12px;\n",
              "    }\n",
              "\n",
              "    .colab-df-convert {\n",
              "      background-color: #E8F0FE;\n",
              "      border: none;\n",
              "      border-radius: 50%;\n",
              "      cursor: pointer;\n",
              "      display: none;\n",
              "      fill: #1967D2;\n",
              "      height: 32px;\n",
              "      padding: 0 0 0 0;\n",
              "      width: 32px;\n",
              "    }\n",
              "\n",
              "    .colab-df-convert:hover {\n",
              "      background-color: #E2EBFA;\n",
              "      box-shadow: 0px 1px 2px rgba(60, 64, 67, 0.3), 0px 1px 3px 1px rgba(60, 64, 67, 0.15);\n",
              "      fill: #174EA6;\n",
              "    }\n",
              "\n",
              "    [theme=dark] .colab-df-convert {\n",
              "      background-color: #3B4455;\n",
              "      fill: #D2E3FC;\n",
              "    }\n",
              "\n",
              "    [theme=dark] .colab-df-convert:hover {\n",
              "      background-color: #434B5C;\n",
              "      box-shadow: 0px 1px 3px 1px rgba(0, 0, 0, 0.15);\n",
              "      filter: drop-shadow(0px 1px 2px rgba(0, 0, 0, 0.3));\n",
              "      fill: #FFFFFF;\n",
              "    }\n",
              "  </style>\n",
              "\n",
              "      <script>\n",
              "        const buttonEl =\n",
              "          document.querySelector('#df-08c09a78-5b7c-49f4-a2a2-51a8f495abb5 button.colab-df-convert');\n",
              "        buttonEl.style.display =\n",
              "          google.colab.kernel.accessAllowed ? 'block' : 'none';\n",
              "\n",
              "        async function convertToInteractive(key) {\n",
              "          const element = document.querySelector('#df-08c09a78-5b7c-49f4-a2a2-51a8f495abb5');\n",
              "          const dataTable =\n",
              "            await google.colab.kernel.invokeFunction('convertToInteractive',\n",
              "                                                     [key], {});\n",
              "          if (!dataTable) return;\n",
              "\n",
              "          const docLinkHtml = 'Like what you see? Visit the ' +\n",
              "            '<a target=\"_blank\" href=https://colab.research.google.com/notebooks/data_table.ipynb>data table notebook</a>'\n",
              "            + ' to learn more about interactive tables.';\n",
              "          element.innerHTML = '';\n",
              "          dataTable['output_type'] = 'display_data';\n",
              "          await google.colab.output.renderOutput(dataTable, element);\n",
              "          const docLink = document.createElement('div');\n",
              "          docLink.innerHTML = docLinkHtml;\n",
              "          element.appendChild(docLink);\n",
              "        }\n",
              "      </script>\n",
              "    </div>\n",
              "  </div>\n",
              "  "
            ]
          },
          "metadata": {},
          "execution_count": 148
        }
      ]
    },
    {
      "cell_type": "code",
      "source": [
        "data=data.drop(data.iloc[:,1:],axis=1)"
      ],
      "metadata": {
        "id": "lqyBkU3lZ3SI"
      },
      "execution_count": null,
      "outputs": []
    },
    {
      "cell_type": "code",
      "source": [
        "data.head()"
      ],
      "metadata": {
        "colab": {
          "base_uri": "https://localhost:8080/",
          "height": 206
        },
        "id": "1dBdPGrCaVwM",
        "outputId": "8081181b-ac15-433c-87f4-ab18045630d3"
      },
      "execution_count": null,
      "outputs": [
        {
          "output_type": "execute_result",
          "data": {
            "text/plain": [
              "                                           full_text\n",
              "0  On the first day of the world book fair held a...\n",
              "1  Days 933 and 934 of tweeting everyday until th...\n",
              "2  हजारों दीपों से जगमगाएगा श्री पोद्दारेश्वर राम...\n",
              "3  The Beauty of Hindu Swaraj\\n#Hindus #sanatan #...\n",
              "4  लखीसराय जिला के चानन कजरा की पहाड़ियों में राज..."
            ],
            "text/html": [
              "\n",
              "  <div id=\"df-771c8d89-e0a9-4868-85a1-07ad372921c3\">\n",
              "    <div class=\"colab-df-container\">\n",
              "      <div>\n",
              "<style scoped>\n",
              "    .dataframe tbody tr th:only-of-type {\n",
              "        vertical-align: middle;\n",
              "    }\n",
              "\n",
              "    .dataframe tbody tr th {\n",
              "        vertical-align: top;\n",
              "    }\n",
              "\n",
              "    .dataframe thead th {\n",
              "        text-align: right;\n",
              "    }\n",
              "</style>\n",
              "<table border=\"1\" class=\"dataframe\">\n",
              "  <thead>\n",
              "    <tr style=\"text-align: right;\">\n",
              "      <th></th>\n",
              "      <th>full_text</th>\n",
              "    </tr>\n",
              "  </thead>\n",
              "  <tbody>\n",
              "    <tr>\n",
              "      <th>0</th>\n",
              "      <td>On the first day of the world book fair held a...</td>\n",
              "    </tr>\n",
              "    <tr>\n",
              "      <th>1</th>\n",
              "      <td>Days 933 and 934 of tweeting everyday until th...</td>\n",
              "    </tr>\n",
              "    <tr>\n",
              "      <th>2</th>\n",
              "      <td>हजारों दीपों से जगमगाएगा श्री पोद्दारेश्वर राम...</td>\n",
              "    </tr>\n",
              "    <tr>\n",
              "      <th>3</th>\n",
              "      <td>The Beauty of Hindu Swaraj\\n#Hindus #sanatan #...</td>\n",
              "    </tr>\n",
              "    <tr>\n",
              "      <th>4</th>\n",
              "      <td>लखीसराय जिला के चानन कजरा की पहाड़ियों में राज...</td>\n",
              "    </tr>\n",
              "  </tbody>\n",
              "</table>\n",
              "</div>\n",
              "      <button class=\"colab-df-convert\" onclick=\"convertToInteractive('df-771c8d89-e0a9-4868-85a1-07ad372921c3')\"\n",
              "              title=\"Convert this dataframe to an interactive table.\"\n",
              "              style=\"display:none;\">\n",
              "        \n",
              "  <svg xmlns=\"http://www.w3.org/2000/svg\" height=\"24px\"viewBox=\"0 0 24 24\"\n",
              "       width=\"24px\">\n",
              "    <path d=\"M0 0h24v24H0V0z\" fill=\"none\"/>\n",
              "    <path d=\"M18.56 5.44l.94 2.06.94-2.06 2.06-.94-2.06-.94-.94-2.06-.94 2.06-2.06.94zm-11 1L8.5 8.5l.94-2.06 2.06-.94-2.06-.94L8.5 2.5l-.94 2.06-2.06.94zm10 10l.94 2.06.94-2.06 2.06-.94-2.06-.94-.94-2.06-.94 2.06-2.06.94z\"/><path d=\"M17.41 7.96l-1.37-1.37c-.4-.4-.92-.59-1.43-.59-.52 0-1.04.2-1.43.59L10.3 9.45l-7.72 7.72c-.78.78-.78 2.05 0 2.83L4 21.41c.39.39.9.59 1.41.59.51 0 1.02-.2 1.41-.59l7.78-7.78 2.81-2.81c.8-.78.8-2.07 0-2.86zM5.41 20L4 18.59l7.72-7.72 1.47 1.35L5.41 20z\"/>\n",
              "  </svg>\n",
              "      </button>\n",
              "      \n",
              "  <style>\n",
              "    .colab-df-container {\n",
              "      display:flex;\n",
              "      flex-wrap:wrap;\n",
              "      gap: 12px;\n",
              "    }\n",
              "\n",
              "    .colab-df-convert {\n",
              "      background-color: #E8F0FE;\n",
              "      border: none;\n",
              "      border-radius: 50%;\n",
              "      cursor: pointer;\n",
              "      display: none;\n",
              "      fill: #1967D2;\n",
              "      height: 32px;\n",
              "      padding: 0 0 0 0;\n",
              "      width: 32px;\n",
              "    }\n",
              "\n",
              "    .colab-df-convert:hover {\n",
              "      background-color: #E2EBFA;\n",
              "      box-shadow: 0px 1px 2px rgba(60, 64, 67, 0.3), 0px 1px 3px 1px rgba(60, 64, 67, 0.15);\n",
              "      fill: #174EA6;\n",
              "    }\n",
              "\n",
              "    [theme=dark] .colab-df-convert {\n",
              "      background-color: #3B4455;\n",
              "      fill: #D2E3FC;\n",
              "    }\n",
              "\n",
              "    [theme=dark] .colab-df-convert:hover {\n",
              "      background-color: #434B5C;\n",
              "      box-shadow: 0px 1px 3px 1px rgba(0, 0, 0, 0.15);\n",
              "      filter: drop-shadow(0px 1px 2px rgba(0, 0, 0, 0.3));\n",
              "      fill: #FFFFFF;\n",
              "    }\n",
              "  </style>\n",
              "\n",
              "      <script>\n",
              "        const buttonEl =\n",
              "          document.querySelector('#df-771c8d89-e0a9-4868-85a1-07ad372921c3 button.colab-df-convert');\n",
              "        buttonEl.style.display =\n",
              "          google.colab.kernel.accessAllowed ? 'block' : 'none';\n",
              "\n",
              "        async function convertToInteractive(key) {\n",
              "          const element = document.querySelector('#df-771c8d89-e0a9-4868-85a1-07ad372921c3');\n",
              "          const dataTable =\n",
              "            await google.colab.kernel.invokeFunction('convertToInteractive',\n",
              "                                                     [key], {});\n",
              "          if (!dataTable) return;\n",
              "\n",
              "          const docLinkHtml = 'Like what you see? Visit the ' +\n",
              "            '<a target=\"_blank\" href=https://colab.research.google.com/notebooks/data_table.ipynb>data table notebook</a>'\n",
              "            + ' to learn more about interactive tables.';\n",
              "          element.innerHTML = '';\n",
              "          dataTable['output_type'] = 'display_data';\n",
              "          await google.colab.output.renderOutput(dataTable, element);\n",
              "          const docLink = document.createElement('div');\n",
              "          docLink.innerHTML = docLinkHtml;\n",
              "          element.appendChild(docLink);\n",
              "        }\n",
              "      </script>\n",
              "    </div>\n",
              "  </div>\n",
              "  "
            ]
          },
          "metadata": {},
          "execution_count": 172
        }
      ]
    },
    {
      "cell_type": "code",
      "source": [
        "data.shape\n",
        "data.to_csv(\"dataset3.csv\")"
      ],
      "metadata": {
        "id": "CQFYiqFRaXlF"
      },
      "execution_count": null,
      "outputs": []
    },
    {
      "cell_type": "code",
      "source": [
        "import pickle"
      ],
      "metadata": {
        "id": "nIpu9am1iThl"
      },
      "execution_count": null,
      "outputs": []
    },
    {
      "cell_type": "code",
      "source": [
        "import nltk\n",
        "import re\n",
        "nltk.download('stopwords')\n",
        "nltk.download('omw-1.4')\n",
        "# nltk.download('punkt')\n",
        "from nltk.corpus import stopwords\n",
        "from nltk.stem.porter import PorterStemmer\n",
        "from nltk.stem import WordNetLemmatizer\n",
        "\n",
        "ob=PorterStemmer()\n",
        "lt=WordNetLemmatizer()"
      ],
      "metadata": {
        "colab": {
          "base_uri": "https://localhost:8080/"
        },
        "id": "H0IMcGbJ1BqW",
        "outputId": "f28e2d9f-0aec-4096-9071-231de8d9ea66"
      },
      "execution_count": null,
      "outputs": [
        {
          "output_type": "stream",
          "name": "stderr",
          "text": [
            "[nltk_data] Downloading package stopwords to /root/nltk_data...\n",
            "[nltk_data]   Package stopwords is already up-to-date!\n",
            "[nltk_data] Downloading package omw-1.4 to /root/nltk_data...\n",
            "[nltk_data]   Package omw-1.4 is already up-to-date!\n"
          ]
        }
      ]
    },
    {
      "cell_type": "code",
      "source": [
        "def lower_case(text):\n",
        "    text_l=text.lower()\n",
        "    #print(text)\n",
        "    return text_l"
      ],
      "metadata": {
        "id": "PqeFAIFA1-vJ"
      },
      "execution_count": null,
      "outputs": []
    },
    {
      "cell_type": "code",
      "source": [
        "def remove_links(text):\n",
        "   # Remove all the occurrences of text that ends with .https and .com\n",
        "  remove_https = re.sub(r'http\\S+', '', text)\n",
        "  remove_com = re.sub(r\"\\[A-Za-z]*\\.com\", \"\", remove_https)\n",
        "  return remove_https"
      ],
      "metadata": {
        "id": "iHTnddqS51Vx"
      },
      "execution_count": null,
      "outputs": []
    },
    {
      "cell_type": "code",
      "source": [
        "def remove_hashtags(text):\n",
        "  # Remove all hashtags\n",
        "  remove_hashtags =re.sub(\"#[A-Za-z0-9_]+\",\"\", text)\n",
        "  remove_hashtags_c =re.sub(\"@[A-Za-z0-9_]+\",\"\", remove_hashtags )\n",
        "  return remove_hashtags_c"
      ],
      "metadata": {
        "id": "yi6L5sHvRDS7"
      },
      "execution_count": null,
      "outputs": []
    },
    {
      "cell_type": "code",
      "source": [
        "def processing(text):\n",
        "    #text=regularization(text)\n",
        "    text=remove_links(text)\n",
        "    text=lower_case(text)\n",
        "    text=remove_hashtags(text)\n",
        "    #text=tokenize(text)\n",
        "    #print(text)\n",
        "    # text=removestopword(text)\n",
        "    # text=stemming(text)\n",
        "    # text=\" \".join(text)\n",
        "    return text"
      ],
      "metadata": {
        "id": "d9DltlvYJSxv"
      },
      "execution_count": null,
      "outputs": []
    },
    {
      "cell_type": "code",
      "source": [
        "processing(\"How https://www.freecodecamp.org/news/python-web-scraping-tutorial/ #tree #rammm @rammm\")"
      ],
      "metadata": {
        "colab": {
          "base_uri": "https://localhost:8080/",
          "height": 36
        },
        "id": "u-cNdcQaKcxw",
        "outputId": "0cf941da-c268-44a7-b6da-cdc0f41afeef"
      },
      "execution_count": null,
      "outputs": [
        {
          "output_type": "execute_result",
          "data": {
            "text/plain": [
              "'how    '"
            ],
            "application/vnd.google.colaboratory.intrinsic+json": {
              "type": "string"
            }
          },
          "metadata": {},
          "execution_count": 215
        }
      ]
    },
    {
      "cell_type": "code",
      "source": [
        "processed_data=[]\n",
        "for i in range(len(data)):\n",
        "      processed_data.append(processing(data['full_text'][i]))"
      ],
      "metadata": {
        "id": "WRQRjKA_iU9k"
      },
      "execution_count": null,
      "outputs": []
    },
    {
      "cell_type": "code",
      "source": [
        "processed_data[10]"
      ],
      "metadata": {
        "colab": {
          "base_uri": "https://localhost:8080/",
          "height": 36
        },
        "id": "2xDutx_q2j1B",
        "outputId": "9c894f0c-e491-4433-c258-e55ef308bfc2"
      },
      "execution_count": null,
      "outputs": [
        {
          "output_type": "execute_result",
          "data": {
            "text/plain": [
              "'मेरे #घर पर #परिवार का #राममंदिर, श्रीरामदरबार\\nमाता सीता,श्रीराम,लक्ष्मण,हनुमान,ठाकुर जी \\nजहां मेरे बाबा, मेरे पापा व परिवार दशकों से पूजा करते रहे है।\\n\\n \\n  '"
            ],
            "application/vnd.google.colaboratory.intrinsic+json": {
              "type": "string"
            }
          },
          "metadata": {},
          "execution_count": 228
        }
      ]
    },
    {
      "cell_type": "code",
      "source": [
        "# clone original repo and install dependencies\n",
        "# git clone https://github.com/irshadbhat/indic-trans.git\n",
        "# or\n",
        "!git clone https://github.com/libindic/indic-trans.git\n",
        "\n",
        "%cd indic-trans\n",
        "!pip install -r requirements.txt\n",
        "!pip install .\n",
        "\n",
        "%cd"
      ],
      "metadata": {
        "colab": {
          "base_uri": "https://localhost:8080/"
        },
        "id": "DmkFHwBjF7qm",
        "outputId": "585616a4-34b1-40c0-f55d-79af01e7a997"
      },
      "execution_count": null,
      "outputs": [
        {
          "output_type": "stream",
          "name": "stdout",
          "text": [
            "Cloning into 'indic-trans'...\n",
            "remote: Enumerating objects: 2225, done.\u001b[K\n",
            "remote: Counting objects: 100% (19/19), done.\u001b[K\n",
            "remote: Compressing objects: 100% (16/16), done.\u001b[K\n",
            "remote: Total 2225 (delta 8), reused 10 (delta 3), pack-reused 2206\u001b[K\n",
            "Receiving objects: 100% (2225/2225), 516.51 MiB | 18.75 MiB/s, done.\n",
            "Resolving deltas: 100% (1102/1102), done.\n",
            "Updating files: 100% (719/719), done.\n",
            "/content/indic-trans\n",
            "Looking in indexes: https://pypi.org/simple, https://us-python.pkg.dev/colab-wheels/public/simple/\n",
            "Collecting pbr\n",
            "  Downloading pbr-5.11.1-py2.py3-none-any.whl (112 kB)\n",
            "\u001b[2K     \u001b[90m━━━━━━━━━━━━━━━━━━━━━━━━━━━━━━━━━━━━━━━\u001b[0m \u001b[32m112.7/112.7 KB\u001b[0m \u001b[31m5.2 MB/s\u001b[0m eta \u001b[36m0:00:00\u001b[0m\n",
            "\u001b[?25hRequirement already satisfied: six in /usr/local/lib/python3.8/dist-packages (from -r requirements.txt (line 2)) (1.15.0)\n",
            "Requirement already satisfied: future in /usr/local/lib/python3.8/dist-packages (from -r requirements.txt (line 3)) (0.16.0)\n",
            "Requirement already satisfied: cython>=0.24.0a0 in /usr/local/lib/python3.8/dist-packages (from -r requirements.txt (line 4)) (0.29.33)\n",
            "Requirement already satisfied: numpy>=1.10.4 in /usr/local/lib/python3.8/dist-packages (from -r requirements.txt (line 5)) (1.22.4)\n",
            "Requirement already satisfied: scipy>=0.13.3 in /usr/local/lib/python3.8/dist-packages (from -r requirements.txt (line 6)) (1.7.3)\n",
            "Installing collected packages: pbr\n",
            "Successfully installed pbr-5.11.1\n",
            "Looking in indexes: https://pypi.org/simple, https://us-python.pkg.dev/colab-wheels/public/simple/\n",
            "Processing /content/indic-trans\n",
            "  Installing build dependencies ... \u001b[?25l\u001b[?25hdone\n",
            "  Getting requirements to build wheel ... \u001b[?25l\u001b[?25hdone\n",
            "  Installing backend dependencies ... \u001b[?25l\u001b[?25hdone\n",
            "  Preparing metadata (pyproject.toml) ... \u001b[?25l\u001b[?25hdone\n",
            "Requirement already satisfied: future in /usr/local/lib/python3.8/dist-packages (from indictrans==1.2.3) (0.16.0)\n",
            "Requirement already satisfied: cython>=0.24.0a0 in /usr/local/lib/python3.8/dist-packages (from indictrans==1.2.3) (0.29.33)\n",
            "Requirement already satisfied: six in /usr/local/lib/python3.8/dist-packages (from indictrans==1.2.3) (1.15.0)\n",
            "Requirement already satisfied: scipy>=0.13.3 in /usr/local/lib/python3.8/dist-packages (from indictrans==1.2.3) (1.7.3)\n",
            "Requirement already satisfied: numpy>=1.10.4 in /usr/local/lib/python3.8/dist-packages (from indictrans==1.2.3) (1.22.4)\n",
            "Requirement already satisfied: pbr in /usr/local/lib/python3.8/dist-packages (from indictrans==1.2.3) (5.11.1)\n",
            "Building wheels for collected packages: indictrans\n",
            "  Building wheel for indictrans (pyproject.toml) ... \u001b[?25l\u001b[?25hdone\n",
            "  Created wheel for indictrans: filename=indictrans-1.2.3-cp38-cp38-linux_x86_64.whl size=337642906 sha256=f0563ff092473d33447fb1b0404eefd2caee53f0262ee10254e5db976919d4aa\n",
            "  Stored in directory: /root/.cache/pip/wheels/71/8f/62/69993adcb1ff23516aef7040e04687ac6acfb32ffa0d559ce6\n",
            "Successfully built indictrans\n",
            "Installing collected packages: indictrans\n",
            "Successfully installed indictrans-1.2.3\n",
            "/root\n"
          ]
        }
      ]
    },
    {
      "cell_type": "code",
      "source": [
        "# build_lookup saves time for big corpus. Transliterate hindi text into english\n",
        "from indictrans import Transliterator\n",
        "trn = Transliterator(source='hin', target='eng', build_lookup=True)"
      ],
      "metadata": {
        "id": "VEZd0jABZIgJ"
      },
      "execution_count": null,
      "outputs": []
    },
    {
      "cell_type": "code",
      "source": [
        "#for i in range(len(processed_data)):\n",
        "eng_target=trn.transform(processed_data[10])\n",
        "print(eng_target)"
      ],
      "metadata": {
        "colab": {
          "base_uri": "https://localhost:8080/"
        },
        "id": "VEcCPwM_adVZ",
        "outputId": "4e651626-5ea5-4b2c-d7fd-4951eadf3ff3"
      },
      "execution_count": null,
      "outputs": [
        {
          "output_type": "stream",
          "name": "stdout",
          "text": [
            "mere #ghar par #parivaar kaa #ramamandir, shriramdrabar\n",
            "mata sita,shriram,lakshmana,hanuman,thakur ji \n",
            "jahaan mere baba, mere papa va parivaar dashakon se puja karte rahe he.\n",
            "\n",
            " \n",
            "  \n"
          ]
        }
      ]
    },
    {
      "cell_type": "code",
      "source": [
        "eng_target = trn.transform(processed_data)\n",
        "print(eng_target)"
      ],
      "metadata": {
        "colab": {
          "base_uri": "https://localhost:8080/",
          "height": 328
        },
        "id": "ZyhTC5LQZREs",
        "outputId": "14357af6-4039-4be1-b8e1-90692a539fca"
      },
      "execution_count": null,
      "outputs": [
        {
          "output_type": "error",
          "ename": "TypeError",
          "evalue": "ignored",
          "traceback": [
            "\u001b[0;31m---------------------------------------------------------------------------\u001b[0m",
            "\u001b[0;31mTypeError\u001b[0m                                 Traceback (most recent call last)",
            "\u001b[0;32m<ipython-input-221-29011aeb6856>\u001b[0m in \u001b[0;36m<module>\u001b[0;34m\u001b[0m\n\u001b[0;32m----> 1\u001b[0;31m \u001b[0meng_target\u001b[0m \u001b[0;34m=\u001b[0m \u001b[0mtrn\u001b[0m\u001b[0;34m.\u001b[0m\u001b[0mtransform\u001b[0m\u001b[0;34m(\u001b[0m\u001b[0mprocessed_data\u001b[0m\u001b[0;34m)\u001b[0m\u001b[0;34m\u001b[0m\u001b[0;34m\u001b[0m\u001b[0m\n\u001b[0m\u001b[1;32m      2\u001b[0m \u001b[0mprint\u001b[0m\u001b[0;34m(\u001b[0m\u001b[0meng_target\u001b[0m\u001b[0;34m)\u001b[0m\u001b[0;34m\u001b[0m\u001b[0;34m\u001b[0m\u001b[0m\n",
            "\u001b[0;32m/usr/local/lib/python3.8/dist-packages/indictrans/base.py\u001b[0m in \u001b[0;36mtransliterate\u001b[0;34m(self, text, k_best)\u001b[0m\n\u001b[1;32m    183\u001b[0m         \u001b[0;34m\"\"\"Single best transliteration using viterbi decoding.\"\"\"\u001b[0m\u001b[0;34m\u001b[0m\u001b[0;34m\u001b[0m\u001b[0m\n\u001b[1;32m    184\u001b[0m         \u001b[0mtrans_list\u001b[0m \u001b[0;34m=\u001b[0m \u001b[0;34m[\u001b[0m\u001b[0;34m]\u001b[0m\u001b[0;34m\u001b[0m\u001b[0;34m\u001b[0m\u001b[0m\n\u001b[0;32m--> 185\u001b[0;31m         \u001b[0mtext\u001b[0m \u001b[0;34m=\u001b[0m \u001b[0mself\u001b[0m\u001b[0;34m.\u001b[0m\u001b[0mconvert_to_wx\u001b[0m\u001b[0;34m(\u001b[0m\u001b[0mtext\u001b[0m\u001b[0;34m)\u001b[0m\u001b[0;34m\u001b[0m\u001b[0;34m\u001b[0m\u001b[0m\n\u001b[0m\u001b[1;32m    186\u001b[0m         \u001b[0mtext\u001b[0m \u001b[0;34m=\u001b[0m \u001b[0mtext\u001b[0m\u001b[0;34m.\u001b[0m\u001b[0mreplace\u001b[0m\u001b[0;34m(\u001b[0m\u001b[0;34m'\\t'\u001b[0m\u001b[0;34m,\u001b[0m \u001b[0mself\u001b[0m\u001b[0;34m.\u001b[0m\u001b[0mtab\u001b[0m\u001b[0;34m)\u001b[0m\u001b[0;34m\u001b[0m\u001b[0;34m\u001b[0m\u001b[0m\n\u001b[1;32m    187\u001b[0m         \u001b[0mtext\u001b[0m \u001b[0;34m=\u001b[0m \u001b[0mtext\u001b[0m\u001b[0;34m.\u001b[0m\u001b[0mreplace\u001b[0m\u001b[0;34m(\u001b[0m\u001b[0;34m' '\u001b[0m\u001b[0;34m,\u001b[0m \u001b[0mself\u001b[0m\u001b[0;34m.\u001b[0m\u001b[0mspace\u001b[0m\u001b[0;34m)\u001b[0m\u001b[0;34m\u001b[0m\u001b[0;34m\u001b[0m\u001b[0m\n",
            "\u001b[0;32m/usr/local/lib/python3.8/dist-packages/indictrans/base.py\u001b[0m in \u001b[0;36mconvert_to_wx\u001b[0;34m(self, text)\u001b[0m\n\u001b[1;32m    176\u001b[0m             \u001b[0;31m# Assamese `va` to Bengali `va`\u001b[0m\u001b[0;34m\u001b[0m\u001b[0;34m\u001b[0m\u001b[0;34m\u001b[0m\u001b[0m\n\u001b[1;32m    177\u001b[0m             \u001b[0mtext\u001b[0m \u001b[0;34m=\u001b[0m \u001b[0mtext\u001b[0m\u001b[0;34m.\u001b[0m\u001b[0mreplace\u001b[0m\u001b[0;34m(\u001b[0m\u001b[0;34m'\\u09f1'\u001b[0m\u001b[0;34m,\u001b[0m \u001b[0;34m'\\u09ac'\u001b[0m\u001b[0;34m)\u001b[0m\u001b[0;34m\u001b[0m\u001b[0;34m\u001b[0m\u001b[0m\n\u001b[0;32m--> 178\u001b[0;31m         \u001b[0mtext\u001b[0m \u001b[0;34m=\u001b[0m \u001b[0mself\u001b[0m\u001b[0;34m.\u001b[0m\u001b[0mmask_roman\u001b[0m\u001b[0;34m.\u001b[0m\u001b[0msub\u001b[0m\u001b[0;34m(\u001b[0m\u001b[0;34mr'%s\\1'\u001b[0m \u001b[0;34m%\u001b[0m \u001b[0;34m(\u001b[0m\u001b[0mself\u001b[0m\u001b[0;34m.\u001b[0m\u001b[0mesc_ch\u001b[0m\u001b[0;34m)\u001b[0m\u001b[0;34m,\u001b[0m \u001b[0mtext\u001b[0m\u001b[0;34m)\u001b[0m\u001b[0;34m\u001b[0m\u001b[0;34m\u001b[0m\u001b[0m\n\u001b[0m\u001b[1;32m    179\u001b[0m         \u001b[0mtext\u001b[0m \u001b[0;34m=\u001b[0m \u001b[0mself\u001b[0m\u001b[0;34m.\u001b[0m\u001b[0mwx_process\u001b[0m\u001b[0;34m(\u001b[0m\u001b[0mtext\u001b[0m\u001b[0;34m)\u001b[0m\u001b[0;34m\u001b[0m\u001b[0;34m\u001b[0m\u001b[0m\n\u001b[1;32m    180\u001b[0m         \u001b[0;32mreturn\u001b[0m \u001b[0mtext\u001b[0m\u001b[0;34m\u001b[0m\u001b[0;34m\u001b[0m\u001b[0m\n",
            "\u001b[0;31mTypeError\u001b[0m: expected string or bytes-like object"
          ]
        }
      ]
    },
    {
      "cell_type": "code",
      "source": [],
      "metadata": {
        "id": "Kd6cwe21aRtt"
      },
      "execution_count": null,
      "outputs": []
    }
  ]
}