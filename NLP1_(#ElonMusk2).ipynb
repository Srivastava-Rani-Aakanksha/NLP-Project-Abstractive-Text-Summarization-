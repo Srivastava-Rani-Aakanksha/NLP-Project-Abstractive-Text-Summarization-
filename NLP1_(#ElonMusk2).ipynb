{
  "nbformat": 4,
  "nbformat_minor": 0,
  "metadata": {
    "colab": {
      "provenance": [],
      "toc_visible": true,
      "authorship_tag": "ABX9TyN6+SJ5dqzvcSmeYKFKkIr6",
      "include_colab_link": true
    },
    "kernelspec": {
      "name": "python3",
      "display_name": "Python 3"
    },
    "language_info": {
      "name": "python"
    },
    "widgets": {
      "application/vnd.jupyter.widget-state+json": {
        "b8a1922cd20a4dde8e752a15a85bfe03": {
          "model_module": "@jupyter-widgets/controls",
          "model_name": "HBoxModel",
          "model_module_version": "1.5.0",
          "state": {
            "_dom_classes": [],
            "_model_module": "@jupyter-widgets/controls",
            "_model_module_version": "1.5.0",
            "_model_name": "HBoxModel",
            "_view_count": null,
            "_view_module": "@jupyter-widgets/controls",
            "_view_module_version": "1.5.0",
            "_view_name": "HBoxView",
            "box_style": "",
            "children": [
              "IPY_MODEL_5f7ec0c0114c4a16b8aa5b82be76bf19",
              "IPY_MODEL_23b65e0e4bd34e0387048c9d266ee823",
              "IPY_MODEL_9d8e0978a42e4ba0af30068d3196acb1"
            ],
            "layout": "IPY_MODEL_79fe15d4c8274e0a90e39a9c7c8b94db"
          }
        },
        "5f7ec0c0114c4a16b8aa5b82be76bf19": {
          "model_module": "@jupyter-widgets/controls",
          "model_name": "HTMLModel",
          "model_module_version": "1.5.0",
          "state": {
            "_dom_classes": [],
            "_model_module": "@jupyter-widgets/controls",
            "_model_module_version": "1.5.0",
            "_model_name": "HTMLModel",
            "_view_count": null,
            "_view_module": "@jupyter-widgets/controls",
            "_view_module_version": "1.5.0",
            "_view_name": "HTMLView",
            "description": "",
            "description_tooltip": null,
            "layout": "IPY_MODEL_2ca5d59fe22946709657b5d8e71234af",
            "placeholder": "​",
            "style": "IPY_MODEL_00eb31762cdb449fb5769ff1b817590b",
            "value": "Downloading (…)lve/main/config.json: 100%"
          }
        },
        "23b65e0e4bd34e0387048c9d266ee823": {
          "model_module": "@jupyter-widgets/controls",
          "model_name": "FloatProgressModel",
          "model_module_version": "1.5.0",
          "state": {
            "_dom_classes": [],
            "_model_module": "@jupyter-widgets/controls",
            "_model_module_version": "1.5.0",
            "_model_name": "FloatProgressModel",
            "_view_count": null,
            "_view_module": "@jupyter-widgets/controls",
            "_view_module_version": "1.5.0",
            "_view_name": "ProgressView",
            "bar_style": "success",
            "description": "",
            "description_tooltip": null,
            "layout": "IPY_MODEL_18c488d86b5b4d188ead592901ee6340",
            "max": 3094,
            "min": 0,
            "orientation": "horizontal",
            "style": "IPY_MODEL_2c29faec38f54597895013c5fbc1232a",
            "value": 3094
          }
        },
        "9d8e0978a42e4ba0af30068d3196acb1": {
          "model_module": "@jupyter-widgets/controls",
          "model_name": "HTMLModel",
          "model_module_version": "1.5.0",
          "state": {
            "_dom_classes": [],
            "_model_module": "@jupyter-widgets/controls",
            "_model_module_version": "1.5.0",
            "_model_name": "HTMLModel",
            "_view_count": null,
            "_view_module": "@jupyter-widgets/controls",
            "_view_module_version": "1.5.0",
            "_view_name": "HTMLView",
            "description": "",
            "description_tooltip": null,
            "layout": "IPY_MODEL_cb1128a356c54652ac37e6725203f30f",
            "placeholder": "​",
            "style": "IPY_MODEL_e514791aa262448b986879f4da8dfb06",
            "value": " 3.09k/3.09k [00:00&lt;00:00, 87.5kB/s]"
          }
        },
        "79fe15d4c8274e0a90e39a9c7c8b94db": {
          "model_module": "@jupyter-widgets/base",
          "model_name": "LayoutModel",
          "model_module_version": "1.2.0",
          "state": {
            "_model_module": "@jupyter-widgets/base",
            "_model_module_version": "1.2.0",
            "_model_name": "LayoutModel",
            "_view_count": null,
            "_view_module": "@jupyter-widgets/base",
            "_view_module_version": "1.2.0",
            "_view_name": "LayoutView",
            "align_content": null,
            "align_items": null,
            "align_self": null,
            "border": null,
            "bottom": null,
            "display": null,
            "flex": null,
            "flex_flow": null,
            "grid_area": null,
            "grid_auto_columns": null,
            "grid_auto_flow": null,
            "grid_auto_rows": null,
            "grid_column": null,
            "grid_gap": null,
            "grid_row": null,
            "grid_template_areas": null,
            "grid_template_columns": null,
            "grid_template_rows": null,
            "height": null,
            "justify_content": null,
            "justify_items": null,
            "left": null,
            "margin": null,
            "max_height": null,
            "max_width": null,
            "min_height": null,
            "min_width": null,
            "object_fit": null,
            "object_position": null,
            "order": null,
            "overflow": null,
            "overflow_x": null,
            "overflow_y": null,
            "padding": null,
            "right": null,
            "top": null,
            "visibility": null,
            "width": null
          }
        },
        "2ca5d59fe22946709657b5d8e71234af": {
          "model_module": "@jupyter-widgets/base",
          "model_name": "LayoutModel",
          "model_module_version": "1.2.0",
          "state": {
            "_model_module": "@jupyter-widgets/base",
            "_model_module_version": "1.2.0",
            "_model_name": "LayoutModel",
            "_view_count": null,
            "_view_module": "@jupyter-widgets/base",
            "_view_module_version": "1.2.0",
            "_view_name": "LayoutView",
            "align_content": null,
            "align_items": null,
            "align_self": null,
            "border": null,
            "bottom": null,
            "display": null,
            "flex": null,
            "flex_flow": null,
            "grid_area": null,
            "grid_auto_columns": null,
            "grid_auto_flow": null,
            "grid_auto_rows": null,
            "grid_column": null,
            "grid_gap": null,
            "grid_row": null,
            "grid_template_areas": null,
            "grid_template_columns": null,
            "grid_template_rows": null,
            "height": null,
            "justify_content": null,
            "justify_items": null,
            "left": null,
            "margin": null,
            "max_height": null,
            "max_width": null,
            "min_height": null,
            "min_width": null,
            "object_fit": null,
            "object_position": null,
            "order": null,
            "overflow": null,
            "overflow_x": null,
            "overflow_y": null,
            "padding": null,
            "right": null,
            "top": null,
            "visibility": null,
            "width": null
          }
        },
        "00eb31762cdb449fb5769ff1b817590b": {
          "model_module": "@jupyter-widgets/controls",
          "model_name": "DescriptionStyleModel",
          "model_module_version": "1.5.0",
          "state": {
            "_model_module": "@jupyter-widgets/controls",
            "_model_module_version": "1.5.0",
            "_model_name": "DescriptionStyleModel",
            "_view_count": null,
            "_view_module": "@jupyter-widgets/base",
            "_view_module_version": "1.2.0",
            "_view_name": "StyleView",
            "description_width": ""
          }
        },
        "18c488d86b5b4d188ead592901ee6340": {
          "model_module": "@jupyter-widgets/base",
          "model_name": "LayoutModel",
          "model_module_version": "1.2.0",
          "state": {
            "_model_module": "@jupyter-widgets/base",
            "_model_module_version": "1.2.0",
            "_model_name": "LayoutModel",
            "_view_count": null,
            "_view_module": "@jupyter-widgets/base",
            "_view_module_version": "1.2.0",
            "_view_name": "LayoutView",
            "align_content": null,
            "align_items": null,
            "align_self": null,
            "border": null,
            "bottom": null,
            "display": null,
            "flex": null,
            "flex_flow": null,
            "grid_area": null,
            "grid_auto_columns": null,
            "grid_auto_flow": null,
            "grid_auto_rows": null,
            "grid_column": null,
            "grid_gap": null,
            "grid_row": null,
            "grid_template_areas": null,
            "grid_template_columns": null,
            "grid_template_rows": null,
            "height": null,
            "justify_content": null,
            "justify_items": null,
            "left": null,
            "margin": null,
            "max_height": null,
            "max_width": null,
            "min_height": null,
            "min_width": null,
            "object_fit": null,
            "object_position": null,
            "order": null,
            "overflow": null,
            "overflow_x": null,
            "overflow_y": null,
            "padding": null,
            "right": null,
            "top": null,
            "visibility": null,
            "width": null
          }
        },
        "2c29faec38f54597895013c5fbc1232a": {
          "model_module": "@jupyter-widgets/controls",
          "model_name": "ProgressStyleModel",
          "model_module_version": "1.5.0",
          "state": {
            "_model_module": "@jupyter-widgets/controls",
            "_model_module_version": "1.5.0",
            "_model_name": "ProgressStyleModel",
            "_view_count": null,
            "_view_module": "@jupyter-widgets/base",
            "_view_module_version": "1.2.0",
            "_view_name": "StyleView",
            "bar_color": null,
            "description_width": ""
          }
        },
        "cb1128a356c54652ac37e6725203f30f": {
          "model_module": "@jupyter-widgets/base",
          "model_name": "LayoutModel",
          "model_module_version": "1.2.0",
          "state": {
            "_model_module": "@jupyter-widgets/base",
            "_model_module_version": "1.2.0",
            "_model_name": "LayoutModel",
            "_view_count": null,
            "_view_module": "@jupyter-widgets/base",
            "_view_module_version": "1.2.0",
            "_view_name": "LayoutView",
            "align_content": null,
            "align_items": null,
            "align_self": null,
            "border": null,
            "bottom": null,
            "display": null,
            "flex": null,
            "flex_flow": null,
            "grid_area": null,
            "grid_auto_columns": null,
            "grid_auto_flow": null,
            "grid_auto_rows": null,
            "grid_column": null,
            "grid_gap": null,
            "grid_row": null,
            "grid_template_areas": null,
            "grid_template_columns": null,
            "grid_template_rows": null,
            "height": null,
            "justify_content": null,
            "justify_items": null,
            "left": null,
            "margin": null,
            "max_height": null,
            "max_width": null,
            "min_height": null,
            "min_width": null,
            "object_fit": null,
            "object_position": null,
            "order": null,
            "overflow": null,
            "overflow_x": null,
            "overflow_y": null,
            "padding": null,
            "right": null,
            "top": null,
            "visibility": null,
            "width": null
          }
        },
        "e514791aa262448b986879f4da8dfb06": {
          "model_module": "@jupyter-widgets/controls",
          "model_name": "DescriptionStyleModel",
          "model_module_version": "1.5.0",
          "state": {
            "_model_module": "@jupyter-widgets/controls",
            "_model_module_version": "1.5.0",
            "_model_name": "DescriptionStyleModel",
            "_view_count": null,
            "_view_module": "@jupyter-widgets/base",
            "_view_module_version": "1.2.0",
            "_view_name": "StyleView",
            "description_width": ""
          }
        },
        "1a206710d24d4fda8f76ace7c6109760": {
          "model_module": "@jupyter-widgets/controls",
          "model_name": "HBoxModel",
          "model_module_version": "1.5.0",
          "state": {
            "_dom_classes": [],
            "_model_module": "@jupyter-widgets/controls",
            "_model_module_version": "1.5.0",
            "_model_name": "HBoxModel",
            "_view_count": null,
            "_view_module": "@jupyter-widgets/controls",
            "_view_module_version": "1.5.0",
            "_view_name": "HBoxView",
            "box_style": "",
            "children": [
              "IPY_MODEL_5ea3cabb42424769a1046758ec2dd4b8",
              "IPY_MODEL_8de4d1b318fe46a99eb00a4e54b0fa97",
              "IPY_MODEL_58bb695424a94dd69af964f5ec732806"
            ],
            "layout": "IPY_MODEL_488091c2a1554a318d12e1597a79abac"
          }
        },
        "5ea3cabb42424769a1046758ec2dd4b8": {
          "model_module": "@jupyter-widgets/controls",
          "model_name": "HTMLModel",
          "model_module_version": "1.5.0",
          "state": {
            "_dom_classes": [],
            "_model_module": "@jupyter-widgets/controls",
            "_model_module_version": "1.5.0",
            "_model_name": "HTMLModel",
            "_view_count": null,
            "_view_module": "@jupyter-widgets/controls",
            "_view_module_version": "1.5.0",
            "_view_name": "HTMLView",
            "description": "",
            "description_tooltip": null,
            "layout": "IPY_MODEL_fba821c0b7f94a6283eeb44ccd0b5c15",
            "placeholder": "​",
            "style": "IPY_MODEL_a78ef8d62292482daee52edb85a24c56",
            "value": "Downloading tf_model.h5: 100%"
          }
        },
        "8de4d1b318fe46a99eb00a4e54b0fa97": {
          "model_module": "@jupyter-widgets/controls",
          "model_name": "FloatProgressModel",
          "model_module_version": "1.5.0",
          "state": {
            "_dom_classes": [],
            "_model_module": "@jupyter-widgets/controls",
            "_model_module_version": "1.5.0",
            "_model_name": "FloatProgressModel",
            "_view_count": null,
            "_view_module": "@jupyter-widgets/controls",
            "_view_module_version": "1.5.0",
            "_view_name": "ProgressView",
            "bar_style": "success",
            "description": "",
            "description_tooltip": null,
            "layout": "IPY_MODEL_857661b44a5d4544962072ca8cc2ce11",
            "max": 2283889512,
            "min": 0,
            "orientation": "horizontal",
            "style": "IPY_MODEL_4c883d2945724bfb8290d5defb84a514",
            "value": 2283889512
          }
        },
        "58bb695424a94dd69af964f5ec732806": {
          "model_module": "@jupyter-widgets/controls",
          "model_name": "HTMLModel",
          "model_module_version": "1.5.0",
          "state": {
            "_dom_classes": [],
            "_model_module": "@jupyter-widgets/controls",
            "_model_module_version": "1.5.0",
            "_model_name": "HTMLModel",
            "_view_count": null,
            "_view_module": "@jupyter-widgets/controls",
            "_view_module_version": "1.5.0",
            "_view_name": "HTMLView",
            "description": "",
            "description_tooltip": null,
            "layout": "IPY_MODEL_f047033f2fb848e3bdd34d1467898579",
            "placeholder": "​",
            "style": "IPY_MODEL_570a766f71664ccb924bd0fc901edf1f",
            "value": " 2.28G/2.28G [00:41&lt;00:00, 48.4MB/s]"
          }
        },
        "488091c2a1554a318d12e1597a79abac": {
          "model_module": "@jupyter-widgets/base",
          "model_name": "LayoutModel",
          "model_module_version": "1.2.0",
          "state": {
            "_model_module": "@jupyter-widgets/base",
            "_model_module_version": "1.2.0",
            "_model_name": "LayoutModel",
            "_view_count": null,
            "_view_module": "@jupyter-widgets/base",
            "_view_module_version": "1.2.0",
            "_view_name": "LayoutView",
            "align_content": null,
            "align_items": null,
            "align_self": null,
            "border": null,
            "bottom": null,
            "display": null,
            "flex": null,
            "flex_flow": null,
            "grid_area": null,
            "grid_auto_columns": null,
            "grid_auto_flow": null,
            "grid_auto_rows": null,
            "grid_column": null,
            "grid_gap": null,
            "grid_row": null,
            "grid_template_areas": null,
            "grid_template_columns": null,
            "grid_template_rows": null,
            "height": null,
            "justify_content": null,
            "justify_items": null,
            "left": null,
            "margin": null,
            "max_height": null,
            "max_width": null,
            "min_height": null,
            "min_width": null,
            "object_fit": null,
            "object_position": null,
            "order": null,
            "overflow": null,
            "overflow_x": null,
            "overflow_y": null,
            "padding": null,
            "right": null,
            "top": null,
            "visibility": null,
            "width": null
          }
        },
        "fba821c0b7f94a6283eeb44ccd0b5c15": {
          "model_module": "@jupyter-widgets/base",
          "model_name": "LayoutModel",
          "model_module_version": "1.2.0",
          "state": {
            "_model_module": "@jupyter-widgets/base",
            "_model_module_version": "1.2.0",
            "_model_name": "LayoutModel",
            "_view_count": null,
            "_view_module": "@jupyter-widgets/base",
            "_view_module_version": "1.2.0",
            "_view_name": "LayoutView",
            "align_content": null,
            "align_items": null,
            "align_self": null,
            "border": null,
            "bottom": null,
            "display": null,
            "flex": null,
            "flex_flow": null,
            "grid_area": null,
            "grid_auto_columns": null,
            "grid_auto_flow": null,
            "grid_auto_rows": null,
            "grid_column": null,
            "grid_gap": null,
            "grid_row": null,
            "grid_template_areas": null,
            "grid_template_columns": null,
            "grid_template_rows": null,
            "height": null,
            "justify_content": null,
            "justify_items": null,
            "left": null,
            "margin": null,
            "max_height": null,
            "max_width": null,
            "min_height": null,
            "min_width": null,
            "object_fit": null,
            "object_position": null,
            "order": null,
            "overflow": null,
            "overflow_x": null,
            "overflow_y": null,
            "padding": null,
            "right": null,
            "top": null,
            "visibility": null,
            "width": null
          }
        },
        "a78ef8d62292482daee52edb85a24c56": {
          "model_module": "@jupyter-widgets/controls",
          "model_name": "DescriptionStyleModel",
          "model_module_version": "1.5.0",
          "state": {
            "_model_module": "@jupyter-widgets/controls",
            "_model_module_version": "1.5.0",
            "_model_name": "DescriptionStyleModel",
            "_view_count": null,
            "_view_module": "@jupyter-widgets/base",
            "_view_module_version": "1.2.0",
            "_view_name": "StyleView",
            "description_width": ""
          }
        },
        "857661b44a5d4544962072ca8cc2ce11": {
          "model_module": "@jupyter-widgets/base",
          "model_name": "LayoutModel",
          "model_module_version": "1.2.0",
          "state": {
            "_model_module": "@jupyter-widgets/base",
            "_model_module_version": "1.2.0",
            "_model_name": "LayoutModel",
            "_view_count": null,
            "_view_module": "@jupyter-widgets/base",
            "_view_module_version": "1.2.0",
            "_view_name": "LayoutView",
            "align_content": null,
            "align_items": null,
            "align_self": null,
            "border": null,
            "bottom": null,
            "display": null,
            "flex": null,
            "flex_flow": null,
            "grid_area": null,
            "grid_auto_columns": null,
            "grid_auto_flow": null,
            "grid_auto_rows": null,
            "grid_column": null,
            "grid_gap": null,
            "grid_row": null,
            "grid_template_areas": null,
            "grid_template_columns": null,
            "grid_template_rows": null,
            "height": null,
            "justify_content": null,
            "justify_items": null,
            "left": null,
            "margin": null,
            "max_height": null,
            "max_width": null,
            "min_height": null,
            "min_width": null,
            "object_fit": null,
            "object_position": null,
            "order": null,
            "overflow": null,
            "overflow_x": null,
            "overflow_y": null,
            "padding": null,
            "right": null,
            "top": null,
            "visibility": null,
            "width": null
          }
        },
        "4c883d2945724bfb8290d5defb84a514": {
          "model_module": "@jupyter-widgets/controls",
          "model_name": "ProgressStyleModel",
          "model_module_version": "1.5.0",
          "state": {
            "_model_module": "@jupyter-widgets/controls",
            "_model_module_version": "1.5.0",
            "_model_name": "ProgressStyleModel",
            "_view_count": null,
            "_view_module": "@jupyter-widgets/base",
            "_view_module_version": "1.2.0",
            "_view_name": "StyleView",
            "bar_color": null,
            "description_width": ""
          }
        },
        "f047033f2fb848e3bdd34d1467898579": {
          "model_module": "@jupyter-widgets/base",
          "model_name": "LayoutModel",
          "model_module_version": "1.2.0",
          "state": {
            "_model_module": "@jupyter-widgets/base",
            "_model_module_version": "1.2.0",
            "_model_name": "LayoutModel",
            "_view_count": null,
            "_view_module": "@jupyter-widgets/base",
            "_view_module_version": "1.2.0",
            "_view_name": "LayoutView",
            "align_content": null,
            "align_items": null,
            "align_self": null,
            "border": null,
            "bottom": null,
            "display": null,
            "flex": null,
            "flex_flow": null,
            "grid_area": null,
            "grid_auto_columns": null,
            "grid_auto_flow": null,
            "grid_auto_rows": null,
            "grid_column": null,
            "grid_gap": null,
            "grid_row": null,
            "grid_template_areas": null,
            "grid_template_columns": null,
            "grid_template_rows": null,
            "height": null,
            "justify_content": null,
            "justify_items": null,
            "left": null,
            "margin": null,
            "max_height": null,
            "max_width": null,
            "min_height": null,
            "min_width": null,
            "object_fit": null,
            "object_position": null,
            "order": null,
            "overflow": null,
            "overflow_x": null,
            "overflow_y": null,
            "padding": null,
            "right": null,
            "top": null,
            "visibility": null,
            "width": null
          }
        },
        "570a766f71664ccb924bd0fc901edf1f": {
          "model_module": "@jupyter-widgets/controls",
          "model_name": "DescriptionStyleModel",
          "model_module_version": "1.5.0",
          "state": {
            "_model_module": "@jupyter-widgets/controls",
            "_model_module_version": "1.5.0",
            "_model_name": "DescriptionStyleModel",
            "_view_count": null,
            "_view_module": "@jupyter-widgets/base",
            "_view_module_version": "1.2.0",
            "_view_name": "StyleView",
            "description_width": ""
          }
        },
        "e0a8ca32450d4553b8750361e904b751": {
          "model_module": "@jupyter-widgets/controls",
          "model_name": "HBoxModel",
          "model_module_version": "1.5.0",
          "state": {
            "_dom_classes": [],
            "_model_module": "@jupyter-widgets/controls",
            "_model_module_version": "1.5.0",
            "_model_name": "HBoxModel",
            "_view_count": null,
            "_view_module": "@jupyter-widgets/controls",
            "_view_module_version": "1.5.0",
            "_view_name": "HBoxView",
            "box_style": "",
            "children": [
              "IPY_MODEL_61e95371a1e1406ca2e1d8420b0c5933",
              "IPY_MODEL_95b0b8864cc74fcf9f755add472b98e4",
              "IPY_MODEL_d32bff79341c4b5d881d709c04fa852b"
            ],
            "layout": "IPY_MODEL_ace7d4dafb7f4533ad1fc0c9065facb7"
          }
        },
        "61e95371a1e1406ca2e1d8420b0c5933": {
          "model_module": "@jupyter-widgets/controls",
          "model_name": "HTMLModel",
          "model_module_version": "1.5.0",
          "state": {
            "_dom_classes": [],
            "_model_module": "@jupyter-widgets/controls",
            "_model_module_version": "1.5.0",
            "_model_name": "HTMLModel",
            "_view_count": null,
            "_view_module": "@jupyter-widgets/controls",
            "_view_module_version": "1.5.0",
            "_view_name": "HTMLView",
            "description": "",
            "description_tooltip": null,
            "layout": "IPY_MODEL_c2b1d32436e94d938f11b1bc94968c5f",
            "placeholder": "​",
            "style": "IPY_MODEL_b8775d9ae4ab466ba1b3022f1e9fdfd9",
            "value": "Downloading (…)neration_config.json: 100%"
          }
        },
        "95b0b8864cc74fcf9f755add472b98e4": {
          "model_module": "@jupyter-widgets/controls",
          "model_name": "FloatProgressModel",
          "model_module_version": "1.5.0",
          "state": {
            "_dom_classes": [],
            "_model_module": "@jupyter-widgets/controls",
            "_model_module_version": "1.5.0",
            "_model_name": "FloatProgressModel",
            "_view_count": null,
            "_view_module": "@jupyter-widgets/controls",
            "_view_module_version": "1.5.0",
            "_view_name": "ProgressView",
            "bar_style": "success",
            "description": "",
            "description_tooltip": null,
            "layout": "IPY_MODEL_bcb11fb9207141238f26f0f4c9dbe7aa",
            "max": 260,
            "min": 0,
            "orientation": "horizontal",
            "style": "IPY_MODEL_c394ed0d83184607b23596e6b39576a6",
            "value": 260
          }
        },
        "d32bff79341c4b5d881d709c04fa852b": {
          "model_module": "@jupyter-widgets/controls",
          "model_name": "HTMLModel",
          "model_module_version": "1.5.0",
          "state": {
            "_dom_classes": [],
            "_model_module": "@jupyter-widgets/controls",
            "_model_module_version": "1.5.0",
            "_model_name": "HTMLModel",
            "_view_count": null,
            "_view_module": "@jupyter-widgets/controls",
            "_view_module_version": "1.5.0",
            "_view_name": "HTMLView",
            "description": "",
            "description_tooltip": null,
            "layout": "IPY_MODEL_485ee0d057b44ee291e83fbb53508e83",
            "placeholder": "​",
            "style": "IPY_MODEL_6b2d77c45d0d4338b86caf9a6b32dccd",
            "value": " 260/260 [00:00&lt;00:00, 6.29kB/s]"
          }
        },
        "ace7d4dafb7f4533ad1fc0c9065facb7": {
          "model_module": "@jupyter-widgets/base",
          "model_name": "LayoutModel",
          "model_module_version": "1.2.0",
          "state": {
            "_model_module": "@jupyter-widgets/base",
            "_model_module_version": "1.2.0",
            "_model_name": "LayoutModel",
            "_view_count": null,
            "_view_module": "@jupyter-widgets/base",
            "_view_module_version": "1.2.0",
            "_view_name": "LayoutView",
            "align_content": null,
            "align_items": null,
            "align_self": null,
            "border": null,
            "bottom": null,
            "display": null,
            "flex": null,
            "flex_flow": null,
            "grid_area": null,
            "grid_auto_columns": null,
            "grid_auto_flow": null,
            "grid_auto_rows": null,
            "grid_column": null,
            "grid_gap": null,
            "grid_row": null,
            "grid_template_areas": null,
            "grid_template_columns": null,
            "grid_template_rows": null,
            "height": null,
            "justify_content": null,
            "justify_items": null,
            "left": null,
            "margin": null,
            "max_height": null,
            "max_width": null,
            "min_height": null,
            "min_width": null,
            "object_fit": null,
            "object_position": null,
            "order": null,
            "overflow": null,
            "overflow_x": null,
            "overflow_y": null,
            "padding": null,
            "right": null,
            "top": null,
            "visibility": null,
            "width": null
          }
        },
        "c2b1d32436e94d938f11b1bc94968c5f": {
          "model_module": "@jupyter-widgets/base",
          "model_name": "LayoutModel",
          "model_module_version": "1.2.0",
          "state": {
            "_model_module": "@jupyter-widgets/base",
            "_model_module_version": "1.2.0",
            "_model_name": "LayoutModel",
            "_view_count": null,
            "_view_module": "@jupyter-widgets/base",
            "_view_module_version": "1.2.0",
            "_view_name": "LayoutView",
            "align_content": null,
            "align_items": null,
            "align_self": null,
            "border": null,
            "bottom": null,
            "display": null,
            "flex": null,
            "flex_flow": null,
            "grid_area": null,
            "grid_auto_columns": null,
            "grid_auto_flow": null,
            "grid_auto_rows": null,
            "grid_column": null,
            "grid_gap": null,
            "grid_row": null,
            "grid_template_areas": null,
            "grid_template_columns": null,
            "grid_template_rows": null,
            "height": null,
            "justify_content": null,
            "justify_items": null,
            "left": null,
            "margin": null,
            "max_height": null,
            "max_width": null,
            "min_height": null,
            "min_width": null,
            "object_fit": null,
            "object_position": null,
            "order": null,
            "overflow": null,
            "overflow_x": null,
            "overflow_y": null,
            "padding": null,
            "right": null,
            "top": null,
            "visibility": null,
            "width": null
          }
        },
        "b8775d9ae4ab466ba1b3022f1e9fdfd9": {
          "model_module": "@jupyter-widgets/controls",
          "model_name": "DescriptionStyleModel",
          "model_module_version": "1.5.0",
          "state": {
            "_model_module": "@jupyter-widgets/controls",
            "_model_module_version": "1.5.0",
            "_model_name": "DescriptionStyleModel",
            "_view_count": null,
            "_view_module": "@jupyter-widgets/base",
            "_view_module_version": "1.2.0",
            "_view_name": "StyleView",
            "description_width": ""
          }
        },
        "bcb11fb9207141238f26f0f4c9dbe7aa": {
          "model_module": "@jupyter-widgets/base",
          "model_name": "LayoutModel",
          "model_module_version": "1.2.0",
          "state": {
            "_model_module": "@jupyter-widgets/base",
            "_model_module_version": "1.2.0",
            "_model_name": "LayoutModel",
            "_view_count": null,
            "_view_module": "@jupyter-widgets/base",
            "_view_module_version": "1.2.0",
            "_view_name": "LayoutView",
            "align_content": null,
            "align_items": null,
            "align_self": null,
            "border": null,
            "bottom": null,
            "display": null,
            "flex": null,
            "flex_flow": null,
            "grid_area": null,
            "grid_auto_columns": null,
            "grid_auto_flow": null,
            "grid_auto_rows": null,
            "grid_column": null,
            "grid_gap": null,
            "grid_row": null,
            "grid_template_areas": null,
            "grid_template_columns": null,
            "grid_template_rows": null,
            "height": null,
            "justify_content": null,
            "justify_items": null,
            "left": null,
            "margin": null,
            "max_height": null,
            "max_width": null,
            "min_height": null,
            "min_width": null,
            "object_fit": null,
            "object_position": null,
            "order": null,
            "overflow": null,
            "overflow_x": null,
            "overflow_y": null,
            "padding": null,
            "right": null,
            "top": null,
            "visibility": null,
            "width": null
          }
        },
        "c394ed0d83184607b23596e6b39576a6": {
          "model_module": "@jupyter-widgets/controls",
          "model_name": "ProgressStyleModel",
          "model_module_version": "1.5.0",
          "state": {
            "_model_module": "@jupyter-widgets/controls",
            "_model_module_version": "1.5.0",
            "_model_name": "ProgressStyleModel",
            "_view_count": null,
            "_view_module": "@jupyter-widgets/base",
            "_view_module_version": "1.2.0",
            "_view_name": "StyleView",
            "bar_color": null,
            "description_width": ""
          }
        },
        "485ee0d057b44ee291e83fbb53508e83": {
          "model_module": "@jupyter-widgets/base",
          "model_name": "LayoutModel",
          "model_module_version": "1.2.0",
          "state": {
            "_model_module": "@jupyter-widgets/base",
            "_model_module_version": "1.2.0",
            "_model_name": "LayoutModel",
            "_view_count": null,
            "_view_module": "@jupyter-widgets/base",
            "_view_module_version": "1.2.0",
            "_view_name": "LayoutView",
            "align_content": null,
            "align_items": null,
            "align_self": null,
            "border": null,
            "bottom": null,
            "display": null,
            "flex": null,
            "flex_flow": null,
            "grid_area": null,
            "grid_auto_columns": null,
            "grid_auto_flow": null,
            "grid_auto_rows": null,
            "grid_column": null,
            "grid_gap": null,
            "grid_row": null,
            "grid_template_areas": null,
            "grid_template_columns": null,
            "grid_template_rows": null,
            "height": null,
            "justify_content": null,
            "justify_items": null,
            "left": null,
            "margin": null,
            "max_height": null,
            "max_width": null,
            "min_height": null,
            "min_width": null,
            "object_fit": null,
            "object_position": null,
            "order": null,
            "overflow": null,
            "overflow_x": null,
            "overflow_y": null,
            "padding": null,
            "right": null,
            "top": null,
            "visibility": null,
            "width": null
          }
        },
        "6b2d77c45d0d4338b86caf9a6b32dccd": {
          "model_module": "@jupyter-widgets/controls",
          "model_name": "DescriptionStyleModel",
          "model_module_version": "1.5.0",
          "state": {
            "_model_module": "@jupyter-widgets/controls",
            "_model_module_version": "1.5.0",
            "_model_name": "DescriptionStyleModel",
            "_view_count": null,
            "_view_module": "@jupyter-widgets/base",
            "_view_module_version": "1.2.0",
            "_view_name": "StyleView",
            "description_width": ""
          }
        },
        "79790193a5da41fe940ef196d55b52cf": {
          "model_module": "@jupyter-widgets/controls",
          "model_name": "HBoxModel",
          "model_module_version": "1.5.0",
          "state": {
            "_dom_classes": [],
            "_model_module": "@jupyter-widgets/controls",
            "_model_module_version": "1.5.0",
            "_model_name": "HBoxModel",
            "_view_count": null,
            "_view_module": "@jupyter-widgets/controls",
            "_view_module_version": "1.5.0",
            "_view_name": "HBoxView",
            "box_style": "",
            "children": [
              "IPY_MODEL_cbc0da6297594853aef265f6fc68cb13",
              "IPY_MODEL_f20b47afb0e74fc3a0f31c4e0f540ebb",
              "IPY_MODEL_23955a7acefa4c92901b5649b012daa5"
            ],
            "layout": "IPY_MODEL_971495e5eed14e2fb45e23431e4e7f3b"
          }
        },
        "cbc0da6297594853aef265f6fc68cb13": {
          "model_module": "@jupyter-widgets/controls",
          "model_name": "HTMLModel",
          "model_module_version": "1.5.0",
          "state": {
            "_dom_classes": [],
            "_model_module": "@jupyter-widgets/controls",
            "_model_module_version": "1.5.0",
            "_model_name": "HTMLModel",
            "_view_count": null,
            "_view_module": "@jupyter-widgets/controls",
            "_view_module_version": "1.5.0",
            "_view_name": "HTMLView",
            "description": "",
            "description_tooltip": null,
            "layout": "IPY_MODEL_6a4d7a74767a4a7c82716764238e6b77",
            "placeholder": "​",
            "style": "IPY_MODEL_e541ea454cd742928cea53323ded5c18",
            "value": "Downloading (…)ve/main/spiece.model: 100%"
          }
        },
        "f20b47afb0e74fc3a0f31c4e0f540ebb": {
          "model_module": "@jupyter-widgets/controls",
          "model_name": "FloatProgressModel",
          "model_module_version": "1.5.0",
          "state": {
            "_dom_classes": [],
            "_model_module": "@jupyter-widgets/controls",
            "_model_module_version": "1.5.0",
            "_model_name": "FloatProgressModel",
            "_view_count": null,
            "_view_module": "@jupyter-widgets/controls",
            "_view_module_version": "1.5.0",
            "_view_name": "ProgressView",
            "bar_style": "success",
            "description": "",
            "description_tooltip": null,
            "layout": "IPY_MODEL_209d6b7dbe6441f0925003cf7c56b915",
            "max": 1912529,
            "min": 0,
            "orientation": "horizontal",
            "style": "IPY_MODEL_18df46c786294f2f948de676994ee0b2",
            "value": 1912529
          }
        },
        "23955a7acefa4c92901b5649b012daa5": {
          "model_module": "@jupyter-widgets/controls",
          "model_name": "HTMLModel",
          "model_module_version": "1.5.0",
          "state": {
            "_dom_classes": [],
            "_model_module": "@jupyter-widgets/controls",
            "_model_module_version": "1.5.0",
            "_model_name": "HTMLModel",
            "_view_count": null,
            "_view_module": "@jupyter-widgets/controls",
            "_view_module_version": "1.5.0",
            "_view_name": "HTMLView",
            "description": "",
            "description_tooltip": null,
            "layout": "IPY_MODEL_6b907b05e8a24ef0a8d5e91d516b5144",
            "placeholder": "​",
            "style": "IPY_MODEL_ef1131bc5fef4b36a0f8530e1279c60b",
            "value": " 1.91M/1.91M [00:00&lt;00:00, 5.60MB/s]"
          }
        },
        "971495e5eed14e2fb45e23431e4e7f3b": {
          "model_module": "@jupyter-widgets/base",
          "model_name": "LayoutModel",
          "model_module_version": "1.2.0",
          "state": {
            "_model_module": "@jupyter-widgets/base",
            "_model_module_version": "1.2.0",
            "_model_name": "LayoutModel",
            "_view_count": null,
            "_view_module": "@jupyter-widgets/base",
            "_view_module_version": "1.2.0",
            "_view_name": "LayoutView",
            "align_content": null,
            "align_items": null,
            "align_self": null,
            "border": null,
            "bottom": null,
            "display": null,
            "flex": null,
            "flex_flow": null,
            "grid_area": null,
            "grid_auto_columns": null,
            "grid_auto_flow": null,
            "grid_auto_rows": null,
            "grid_column": null,
            "grid_gap": null,
            "grid_row": null,
            "grid_template_areas": null,
            "grid_template_columns": null,
            "grid_template_rows": null,
            "height": null,
            "justify_content": null,
            "justify_items": null,
            "left": null,
            "margin": null,
            "max_height": null,
            "max_width": null,
            "min_height": null,
            "min_width": null,
            "object_fit": null,
            "object_position": null,
            "order": null,
            "overflow": null,
            "overflow_x": null,
            "overflow_y": null,
            "padding": null,
            "right": null,
            "top": null,
            "visibility": null,
            "width": null
          }
        },
        "6a4d7a74767a4a7c82716764238e6b77": {
          "model_module": "@jupyter-widgets/base",
          "model_name": "LayoutModel",
          "model_module_version": "1.2.0",
          "state": {
            "_model_module": "@jupyter-widgets/base",
            "_model_module_version": "1.2.0",
            "_model_name": "LayoutModel",
            "_view_count": null,
            "_view_module": "@jupyter-widgets/base",
            "_view_module_version": "1.2.0",
            "_view_name": "LayoutView",
            "align_content": null,
            "align_items": null,
            "align_self": null,
            "border": null,
            "bottom": null,
            "display": null,
            "flex": null,
            "flex_flow": null,
            "grid_area": null,
            "grid_auto_columns": null,
            "grid_auto_flow": null,
            "grid_auto_rows": null,
            "grid_column": null,
            "grid_gap": null,
            "grid_row": null,
            "grid_template_areas": null,
            "grid_template_columns": null,
            "grid_template_rows": null,
            "height": null,
            "justify_content": null,
            "justify_items": null,
            "left": null,
            "margin": null,
            "max_height": null,
            "max_width": null,
            "min_height": null,
            "min_width": null,
            "object_fit": null,
            "object_position": null,
            "order": null,
            "overflow": null,
            "overflow_x": null,
            "overflow_y": null,
            "padding": null,
            "right": null,
            "top": null,
            "visibility": null,
            "width": null
          }
        },
        "e541ea454cd742928cea53323ded5c18": {
          "model_module": "@jupyter-widgets/controls",
          "model_name": "DescriptionStyleModel",
          "model_module_version": "1.5.0",
          "state": {
            "_model_module": "@jupyter-widgets/controls",
            "_model_module_version": "1.5.0",
            "_model_name": "DescriptionStyleModel",
            "_view_count": null,
            "_view_module": "@jupyter-widgets/base",
            "_view_module_version": "1.2.0",
            "_view_name": "StyleView",
            "description_width": ""
          }
        },
        "209d6b7dbe6441f0925003cf7c56b915": {
          "model_module": "@jupyter-widgets/base",
          "model_name": "LayoutModel",
          "model_module_version": "1.2.0",
          "state": {
            "_model_module": "@jupyter-widgets/base",
            "_model_module_version": "1.2.0",
            "_model_name": "LayoutModel",
            "_view_count": null,
            "_view_module": "@jupyter-widgets/base",
            "_view_module_version": "1.2.0",
            "_view_name": "LayoutView",
            "align_content": null,
            "align_items": null,
            "align_self": null,
            "border": null,
            "bottom": null,
            "display": null,
            "flex": null,
            "flex_flow": null,
            "grid_area": null,
            "grid_auto_columns": null,
            "grid_auto_flow": null,
            "grid_auto_rows": null,
            "grid_column": null,
            "grid_gap": null,
            "grid_row": null,
            "grid_template_areas": null,
            "grid_template_columns": null,
            "grid_template_rows": null,
            "height": null,
            "justify_content": null,
            "justify_items": null,
            "left": null,
            "margin": null,
            "max_height": null,
            "max_width": null,
            "min_height": null,
            "min_width": null,
            "object_fit": null,
            "object_position": null,
            "order": null,
            "overflow": null,
            "overflow_x": null,
            "overflow_y": null,
            "padding": null,
            "right": null,
            "top": null,
            "visibility": null,
            "width": null
          }
        },
        "18df46c786294f2f948de676994ee0b2": {
          "model_module": "@jupyter-widgets/controls",
          "model_name": "ProgressStyleModel",
          "model_module_version": "1.5.0",
          "state": {
            "_model_module": "@jupyter-widgets/controls",
            "_model_module_version": "1.5.0",
            "_model_name": "ProgressStyleModel",
            "_view_count": null,
            "_view_module": "@jupyter-widgets/base",
            "_view_module_version": "1.2.0",
            "_view_name": "StyleView",
            "bar_color": null,
            "description_width": ""
          }
        },
        "6b907b05e8a24ef0a8d5e91d516b5144": {
          "model_module": "@jupyter-widgets/base",
          "model_name": "LayoutModel",
          "model_module_version": "1.2.0",
          "state": {
            "_model_module": "@jupyter-widgets/base",
            "_model_module_version": "1.2.0",
            "_model_name": "LayoutModel",
            "_view_count": null,
            "_view_module": "@jupyter-widgets/base",
            "_view_module_version": "1.2.0",
            "_view_name": "LayoutView",
            "align_content": null,
            "align_items": null,
            "align_self": null,
            "border": null,
            "bottom": null,
            "display": null,
            "flex": null,
            "flex_flow": null,
            "grid_area": null,
            "grid_auto_columns": null,
            "grid_auto_flow": null,
            "grid_auto_rows": null,
            "grid_column": null,
            "grid_gap": null,
            "grid_row": null,
            "grid_template_areas": null,
            "grid_template_columns": null,
            "grid_template_rows": null,
            "height": null,
            "justify_content": null,
            "justify_items": null,
            "left": null,
            "margin": null,
            "max_height": null,
            "max_width": null,
            "min_height": null,
            "min_width": null,
            "object_fit": null,
            "object_position": null,
            "order": null,
            "overflow": null,
            "overflow_x": null,
            "overflow_y": null,
            "padding": null,
            "right": null,
            "top": null,
            "visibility": null,
            "width": null
          }
        },
        "ef1131bc5fef4b36a0f8530e1279c60b": {
          "model_module": "@jupyter-widgets/controls",
          "model_name": "DescriptionStyleModel",
          "model_module_version": "1.5.0",
          "state": {
            "_model_module": "@jupyter-widgets/controls",
            "_model_module_version": "1.5.0",
            "_model_name": "DescriptionStyleModel",
            "_view_count": null,
            "_view_module": "@jupyter-widgets/base",
            "_view_module_version": "1.2.0",
            "_view_name": "StyleView",
            "description_width": ""
          }
        },
        "3bb1f834d236480089f4bb780c166ef2": {
          "model_module": "@jupyter-widgets/controls",
          "model_name": "HBoxModel",
          "model_module_version": "1.5.0",
          "state": {
            "_dom_classes": [],
            "_model_module": "@jupyter-widgets/controls",
            "_model_module_version": "1.5.0",
            "_model_name": "HBoxModel",
            "_view_count": null,
            "_view_module": "@jupyter-widgets/controls",
            "_view_module_version": "1.5.0",
            "_view_name": "HBoxView",
            "box_style": "",
            "children": [
              "IPY_MODEL_2b34eba0a86146be91bcb03cb79efbbd",
              "IPY_MODEL_30dc8918c5db4298b367cd87058ff438",
              "IPY_MODEL_43f7af2de05843bdaae8472a82476faf"
            ],
            "layout": "IPY_MODEL_32650ad7f1fd40b5879b59a8ab30456d"
          }
        },
        "2b34eba0a86146be91bcb03cb79efbbd": {
          "model_module": "@jupyter-widgets/controls",
          "model_name": "HTMLModel",
          "model_module_version": "1.5.0",
          "state": {
            "_dom_classes": [],
            "_model_module": "@jupyter-widgets/controls",
            "_model_module_version": "1.5.0",
            "_model_name": "HTMLModel",
            "_view_count": null,
            "_view_module": "@jupyter-widgets/controls",
            "_view_module_version": "1.5.0",
            "_view_name": "HTMLView",
            "description": "",
            "description_tooltip": null,
            "layout": "IPY_MODEL_d8754bf5a1b4459293ca2fab28090b03",
            "placeholder": "​",
            "style": "IPY_MODEL_bcc4ccd8e21546bbb86b35a4ac49dd25",
            "value": "Downloading (…)cial_tokens_map.json: 100%"
          }
        },
        "30dc8918c5db4298b367cd87058ff438": {
          "model_module": "@jupyter-widgets/controls",
          "model_name": "FloatProgressModel",
          "model_module_version": "1.5.0",
          "state": {
            "_dom_classes": [],
            "_model_module": "@jupyter-widgets/controls",
            "_model_module_version": "1.5.0",
            "_model_name": "FloatProgressModel",
            "_view_count": null,
            "_view_module": "@jupyter-widgets/controls",
            "_view_module_version": "1.5.0",
            "_view_name": "ProgressView",
            "bar_style": "success",
            "description": "",
            "description_tooltip": null,
            "layout": "IPY_MODEL_754c8954d58a4a8cb266b7f31bf60e23",
            "max": 65,
            "min": 0,
            "orientation": "horizontal",
            "style": "IPY_MODEL_dd3624c7937942a0b37207dd1194290d",
            "value": 65
          }
        },
        "43f7af2de05843bdaae8472a82476faf": {
          "model_module": "@jupyter-widgets/controls",
          "model_name": "HTMLModel",
          "model_module_version": "1.5.0",
          "state": {
            "_dom_classes": [],
            "_model_module": "@jupyter-widgets/controls",
            "_model_module_version": "1.5.0",
            "_model_name": "HTMLModel",
            "_view_count": null,
            "_view_module": "@jupyter-widgets/controls",
            "_view_module_version": "1.5.0",
            "_view_name": "HTMLView",
            "description": "",
            "description_tooltip": null,
            "layout": "IPY_MODEL_1a349c3109a64bc1a3790437258dddc0",
            "placeholder": "​",
            "style": "IPY_MODEL_fff56bca0fe1462b8202822bc801b016",
            "value": " 65.0/65.0 [00:00&lt;00:00, 3.20kB/s]"
          }
        },
        "32650ad7f1fd40b5879b59a8ab30456d": {
          "model_module": "@jupyter-widgets/base",
          "model_name": "LayoutModel",
          "model_module_version": "1.2.0",
          "state": {
            "_model_module": "@jupyter-widgets/base",
            "_model_module_version": "1.2.0",
            "_model_name": "LayoutModel",
            "_view_count": null,
            "_view_module": "@jupyter-widgets/base",
            "_view_module_version": "1.2.0",
            "_view_name": "LayoutView",
            "align_content": null,
            "align_items": null,
            "align_self": null,
            "border": null,
            "bottom": null,
            "display": null,
            "flex": null,
            "flex_flow": null,
            "grid_area": null,
            "grid_auto_columns": null,
            "grid_auto_flow": null,
            "grid_auto_rows": null,
            "grid_column": null,
            "grid_gap": null,
            "grid_row": null,
            "grid_template_areas": null,
            "grid_template_columns": null,
            "grid_template_rows": null,
            "height": null,
            "justify_content": null,
            "justify_items": null,
            "left": null,
            "margin": null,
            "max_height": null,
            "max_width": null,
            "min_height": null,
            "min_width": null,
            "object_fit": null,
            "object_position": null,
            "order": null,
            "overflow": null,
            "overflow_x": null,
            "overflow_y": null,
            "padding": null,
            "right": null,
            "top": null,
            "visibility": null,
            "width": null
          }
        },
        "d8754bf5a1b4459293ca2fab28090b03": {
          "model_module": "@jupyter-widgets/base",
          "model_name": "LayoutModel",
          "model_module_version": "1.2.0",
          "state": {
            "_model_module": "@jupyter-widgets/base",
            "_model_module_version": "1.2.0",
            "_model_name": "LayoutModel",
            "_view_count": null,
            "_view_module": "@jupyter-widgets/base",
            "_view_module_version": "1.2.0",
            "_view_name": "LayoutView",
            "align_content": null,
            "align_items": null,
            "align_self": null,
            "border": null,
            "bottom": null,
            "display": null,
            "flex": null,
            "flex_flow": null,
            "grid_area": null,
            "grid_auto_columns": null,
            "grid_auto_flow": null,
            "grid_auto_rows": null,
            "grid_column": null,
            "grid_gap": null,
            "grid_row": null,
            "grid_template_areas": null,
            "grid_template_columns": null,
            "grid_template_rows": null,
            "height": null,
            "justify_content": null,
            "justify_items": null,
            "left": null,
            "margin": null,
            "max_height": null,
            "max_width": null,
            "min_height": null,
            "min_width": null,
            "object_fit": null,
            "object_position": null,
            "order": null,
            "overflow": null,
            "overflow_x": null,
            "overflow_y": null,
            "padding": null,
            "right": null,
            "top": null,
            "visibility": null,
            "width": null
          }
        },
        "bcc4ccd8e21546bbb86b35a4ac49dd25": {
          "model_module": "@jupyter-widgets/controls",
          "model_name": "DescriptionStyleModel",
          "model_module_version": "1.5.0",
          "state": {
            "_model_module": "@jupyter-widgets/controls",
            "_model_module_version": "1.5.0",
            "_model_name": "DescriptionStyleModel",
            "_view_count": null,
            "_view_module": "@jupyter-widgets/base",
            "_view_module_version": "1.2.0",
            "_view_name": "StyleView",
            "description_width": ""
          }
        },
        "754c8954d58a4a8cb266b7f31bf60e23": {
          "model_module": "@jupyter-widgets/base",
          "model_name": "LayoutModel",
          "model_module_version": "1.2.0",
          "state": {
            "_model_module": "@jupyter-widgets/base",
            "_model_module_version": "1.2.0",
            "_model_name": "LayoutModel",
            "_view_count": null,
            "_view_module": "@jupyter-widgets/base",
            "_view_module_version": "1.2.0",
            "_view_name": "LayoutView",
            "align_content": null,
            "align_items": null,
            "align_self": null,
            "border": null,
            "bottom": null,
            "display": null,
            "flex": null,
            "flex_flow": null,
            "grid_area": null,
            "grid_auto_columns": null,
            "grid_auto_flow": null,
            "grid_auto_rows": null,
            "grid_column": null,
            "grid_gap": null,
            "grid_row": null,
            "grid_template_areas": null,
            "grid_template_columns": null,
            "grid_template_rows": null,
            "height": null,
            "justify_content": null,
            "justify_items": null,
            "left": null,
            "margin": null,
            "max_height": null,
            "max_width": null,
            "min_height": null,
            "min_width": null,
            "object_fit": null,
            "object_position": null,
            "order": null,
            "overflow": null,
            "overflow_x": null,
            "overflow_y": null,
            "padding": null,
            "right": null,
            "top": null,
            "visibility": null,
            "width": null
          }
        },
        "dd3624c7937942a0b37207dd1194290d": {
          "model_module": "@jupyter-widgets/controls",
          "model_name": "ProgressStyleModel",
          "model_module_version": "1.5.0",
          "state": {
            "_model_module": "@jupyter-widgets/controls",
            "_model_module_version": "1.5.0",
            "_model_name": "ProgressStyleModel",
            "_view_count": null,
            "_view_module": "@jupyter-widgets/base",
            "_view_module_version": "1.2.0",
            "_view_name": "StyleView",
            "bar_color": null,
            "description_width": ""
          }
        },
        "1a349c3109a64bc1a3790437258dddc0": {
          "model_module": "@jupyter-widgets/base",
          "model_name": "LayoutModel",
          "model_module_version": "1.2.0",
          "state": {
            "_model_module": "@jupyter-widgets/base",
            "_model_module_version": "1.2.0",
            "_model_name": "LayoutModel",
            "_view_count": null,
            "_view_module": "@jupyter-widgets/base",
            "_view_module_version": "1.2.0",
            "_view_name": "LayoutView",
            "align_content": null,
            "align_items": null,
            "align_self": null,
            "border": null,
            "bottom": null,
            "display": null,
            "flex": null,
            "flex_flow": null,
            "grid_area": null,
            "grid_auto_columns": null,
            "grid_auto_flow": null,
            "grid_auto_rows": null,
            "grid_column": null,
            "grid_gap": null,
            "grid_row": null,
            "grid_template_areas": null,
            "grid_template_columns": null,
            "grid_template_rows": null,
            "height": null,
            "justify_content": null,
            "justify_items": null,
            "left": null,
            "margin": null,
            "max_height": null,
            "max_width": null,
            "min_height": null,
            "min_width": null,
            "object_fit": null,
            "object_position": null,
            "order": null,
            "overflow": null,
            "overflow_x": null,
            "overflow_y": null,
            "padding": null,
            "right": null,
            "top": null,
            "visibility": null,
            "width": null
          }
        },
        "fff56bca0fe1462b8202822bc801b016": {
          "model_module": "@jupyter-widgets/controls",
          "model_name": "DescriptionStyleModel",
          "model_module_version": "1.5.0",
          "state": {
            "_model_module": "@jupyter-widgets/controls",
            "_model_module_version": "1.5.0",
            "_model_name": "DescriptionStyleModel",
            "_view_count": null,
            "_view_module": "@jupyter-widgets/base",
            "_view_module_version": "1.2.0",
            "_view_name": "StyleView",
            "description_width": ""
          }
        },
        "bbca29200d4f4e10bb1a4e12963e5139": {
          "model_module": "@jupyter-widgets/controls",
          "model_name": "HBoxModel",
          "model_module_version": "1.5.0",
          "state": {
            "_dom_classes": [],
            "_model_module": "@jupyter-widgets/controls",
            "_model_module_version": "1.5.0",
            "_model_name": "HBoxModel",
            "_view_count": null,
            "_view_module": "@jupyter-widgets/controls",
            "_view_module_version": "1.5.0",
            "_view_name": "HBoxView",
            "box_style": "",
            "children": [
              "IPY_MODEL_32322348cbdc49278b62b3c5c7c1472b",
              "IPY_MODEL_7482c6e131364e5aa1c1370ad68262a7",
              "IPY_MODEL_d9a43b0ecd744827ac7002d892614221"
            ],
            "layout": "IPY_MODEL_1006f780afe44e47a0d65f9e6740993c"
          }
        },
        "32322348cbdc49278b62b3c5c7c1472b": {
          "model_module": "@jupyter-widgets/controls",
          "model_name": "HTMLModel",
          "model_module_version": "1.5.0",
          "state": {
            "_dom_classes": [],
            "_model_module": "@jupyter-widgets/controls",
            "_model_module_version": "1.5.0",
            "_model_name": "HTMLModel",
            "_view_count": null,
            "_view_module": "@jupyter-widgets/controls",
            "_view_module_version": "1.5.0",
            "_view_name": "HTMLView",
            "description": "",
            "description_tooltip": null,
            "layout": "IPY_MODEL_a86f2dbf0f01406aadff146a05316569",
            "placeholder": "​",
            "style": "IPY_MODEL_d626dccfb4c746fea9d9843524d767b2",
            "value": "Downloading (…)okenizer_config.json: 100%"
          }
        },
        "7482c6e131364e5aa1c1370ad68262a7": {
          "model_module": "@jupyter-widgets/controls",
          "model_name": "FloatProgressModel",
          "model_module_version": "1.5.0",
          "state": {
            "_dom_classes": [],
            "_model_module": "@jupyter-widgets/controls",
            "_model_module_version": "1.5.0",
            "_model_name": "FloatProgressModel",
            "_view_count": null,
            "_view_module": "@jupyter-widgets/controls",
            "_view_module_version": "1.5.0",
            "_view_name": "ProgressView",
            "bar_style": "success",
            "description": "",
            "description_tooltip": null,
            "layout": "IPY_MODEL_c28e0b58660644dea3990113b8631557",
            "max": 88,
            "min": 0,
            "orientation": "horizontal",
            "style": "IPY_MODEL_b57f30125ffe4871b09a09ac11e1b051",
            "value": 88
          }
        },
        "d9a43b0ecd744827ac7002d892614221": {
          "model_module": "@jupyter-widgets/controls",
          "model_name": "HTMLModel",
          "model_module_version": "1.5.0",
          "state": {
            "_dom_classes": [],
            "_model_module": "@jupyter-widgets/controls",
            "_model_module_version": "1.5.0",
            "_model_name": "HTMLModel",
            "_view_count": null,
            "_view_module": "@jupyter-widgets/controls",
            "_view_module_version": "1.5.0",
            "_view_name": "HTMLView",
            "description": "",
            "description_tooltip": null,
            "layout": "IPY_MODEL_93272cfc93f548fcb8e81bd20b5dd33f",
            "placeholder": "​",
            "style": "IPY_MODEL_374daf7c1b9744cf91049e937f10b5dd",
            "value": " 88.0/88.0 [00:00&lt;00:00, 2.91kB/s]"
          }
        },
        "1006f780afe44e47a0d65f9e6740993c": {
          "model_module": "@jupyter-widgets/base",
          "model_name": "LayoutModel",
          "model_module_version": "1.2.0",
          "state": {
            "_model_module": "@jupyter-widgets/base",
            "_model_module_version": "1.2.0",
            "_model_name": "LayoutModel",
            "_view_count": null,
            "_view_module": "@jupyter-widgets/base",
            "_view_module_version": "1.2.0",
            "_view_name": "LayoutView",
            "align_content": null,
            "align_items": null,
            "align_self": null,
            "border": null,
            "bottom": null,
            "display": null,
            "flex": null,
            "flex_flow": null,
            "grid_area": null,
            "grid_auto_columns": null,
            "grid_auto_flow": null,
            "grid_auto_rows": null,
            "grid_column": null,
            "grid_gap": null,
            "grid_row": null,
            "grid_template_areas": null,
            "grid_template_columns": null,
            "grid_template_rows": null,
            "height": null,
            "justify_content": null,
            "justify_items": null,
            "left": null,
            "margin": null,
            "max_height": null,
            "max_width": null,
            "min_height": null,
            "min_width": null,
            "object_fit": null,
            "object_position": null,
            "order": null,
            "overflow": null,
            "overflow_x": null,
            "overflow_y": null,
            "padding": null,
            "right": null,
            "top": null,
            "visibility": null,
            "width": null
          }
        },
        "a86f2dbf0f01406aadff146a05316569": {
          "model_module": "@jupyter-widgets/base",
          "model_name": "LayoutModel",
          "model_module_version": "1.2.0",
          "state": {
            "_model_module": "@jupyter-widgets/base",
            "_model_module_version": "1.2.0",
            "_model_name": "LayoutModel",
            "_view_count": null,
            "_view_module": "@jupyter-widgets/base",
            "_view_module_version": "1.2.0",
            "_view_name": "LayoutView",
            "align_content": null,
            "align_items": null,
            "align_self": null,
            "border": null,
            "bottom": null,
            "display": null,
            "flex": null,
            "flex_flow": null,
            "grid_area": null,
            "grid_auto_columns": null,
            "grid_auto_flow": null,
            "grid_auto_rows": null,
            "grid_column": null,
            "grid_gap": null,
            "grid_row": null,
            "grid_template_areas": null,
            "grid_template_columns": null,
            "grid_template_rows": null,
            "height": null,
            "justify_content": null,
            "justify_items": null,
            "left": null,
            "margin": null,
            "max_height": null,
            "max_width": null,
            "min_height": null,
            "min_width": null,
            "object_fit": null,
            "object_position": null,
            "order": null,
            "overflow": null,
            "overflow_x": null,
            "overflow_y": null,
            "padding": null,
            "right": null,
            "top": null,
            "visibility": null,
            "width": null
          }
        },
        "d626dccfb4c746fea9d9843524d767b2": {
          "model_module": "@jupyter-widgets/controls",
          "model_name": "DescriptionStyleModel",
          "model_module_version": "1.5.0",
          "state": {
            "_model_module": "@jupyter-widgets/controls",
            "_model_module_version": "1.5.0",
            "_model_name": "DescriptionStyleModel",
            "_view_count": null,
            "_view_module": "@jupyter-widgets/base",
            "_view_module_version": "1.2.0",
            "_view_name": "StyleView",
            "description_width": ""
          }
        },
        "c28e0b58660644dea3990113b8631557": {
          "model_module": "@jupyter-widgets/base",
          "model_name": "LayoutModel",
          "model_module_version": "1.2.0",
          "state": {
            "_model_module": "@jupyter-widgets/base",
            "_model_module_version": "1.2.0",
            "_model_name": "LayoutModel",
            "_view_count": null,
            "_view_module": "@jupyter-widgets/base",
            "_view_module_version": "1.2.0",
            "_view_name": "LayoutView",
            "align_content": null,
            "align_items": null,
            "align_self": null,
            "border": null,
            "bottom": null,
            "display": null,
            "flex": null,
            "flex_flow": null,
            "grid_area": null,
            "grid_auto_columns": null,
            "grid_auto_flow": null,
            "grid_auto_rows": null,
            "grid_column": null,
            "grid_gap": null,
            "grid_row": null,
            "grid_template_areas": null,
            "grid_template_columns": null,
            "grid_template_rows": null,
            "height": null,
            "justify_content": null,
            "justify_items": null,
            "left": null,
            "margin": null,
            "max_height": null,
            "max_width": null,
            "min_height": null,
            "min_width": null,
            "object_fit": null,
            "object_position": null,
            "order": null,
            "overflow": null,
            "overflow_x": null,
            "overflow_y": null,
            "padding": null,
            "right": null,
            "top": null,
            "visibility": null,
            "width": null
          }
        },
        "b57f30125ffe4871b09a09ac11e1b051": {
          "model_module": "@jupyter-widgets/controls",
          "model_name": "ProgressStyleModel",
          "model_module_version": "1.5.0",
          "state": {
            "_model_module": "@jupyter-widgets/controls",
            "_model_module_version": "1.5.0",
            "_model_name": "ProgressStyleModel",
            "_view_count": null,
            "_view_module": "@jupyter-widgets/base",
            "_view_module_version": "1.2.0",
            "_view_name": "StyleView",
            "bar_color": null,
            "description_width": ""
          }
        },
        "93272cfc93f548fcb8e81bd20b5dd33f": {
          "model_module": "@jupyter-widgets/base",
          "model_name": "LayoutModel",
          "model_module_version": "1.2.0",
          "state": {
            "_model_module": "@jupyter-widgets/base",
            "_model_module_version": "1.2.0",
            "_model_name": "LayoutModel",
            "_view_count": null,
            "_view_module": "@jupyter-widgets/base",
            "_view_module_version": "1.2.0",
            "_view_name": "LayoutView",
            "align_content": null,
            "align_items": null,
            "align_self": null,
            "border": null,
            "bottom": null,
            "display": null,
            "flex": null,
            "flex_flow": null,
            "grid_area": null,
            "grid_auto_columns": null,
            "grid_auto_flow": null,
            "grid_auto_rows": null,
            "grid_column": null,
            "grid_gap": null,
            "grid_row": null,
            "grid_template_areas": null,
            "grid_template_columns": null,
            "grid_template_rows": null,
            "height": null,
            "justify_content": null,
            "justify_items": null,
            "left": null,
            "margin": null,
            "max_height": null,
            "max_width": null,
            "min_height": null,
            "min_width": null,
            "object_fit": null,
            "object_position": null,
            "order": null,
            "overflow": null,
            "overflow_x": null,
            "overflow_y": null,
            "padding": null,
            "right": null,
            "top": null,
            "visibility": null,
            "width": null
          }
        },
        "374daf7c1b9744cf91049e937f10b5dd": {
          "model_module": "@jupyter-widgets/controls",
          "model_name": "DescriptionStyleModel",
          "model_module_version": "1.5.0",
          "state": {
            "_model_module": "@jupyter-widgets/controls",
            "_model_module_version": "1.5.0",
            "_model_name": "DescriptionStyleModel",
            "_view_count": null,
            "_view_module": "@jupyter-widgets/base",
            "_view_module_version": "1.2.0",
            "_view_name": "StyleView",
            "description_width": ""
          }
        }
      }
    }
  },
  "cells": [
    {
      "cell_type": "markdown",
      "metadata": {
        "id": "view-in-github",
        "colab_type": "text"
      },
      "source": [
        "<a href=\"https://colab.research.google.com/github/Srivastava-Rani-Aakanksha/NLP-Project-Abstractive-Text-Summarization-/blob/main/NLP1_(%23ElonMusk2).ipynb\" target=\"_parent\"><img src=\"https://colab.research.google.com/assets/colab-badge.svg\" alt=\"Open In Colab\"/></a>"
      ]
    },
    {
      "cell_type": "code",
      "execution_count": 11,
      "metadata": {
        "id": "B-rb8Dh8QkaZ"
      },
      "outputs": [],
      "source": [
        "import pandas as pd\n",
        "import numpy as np\n"
      ]
    },
    {
      "cell_type": "code",
      "source": [
        "data=pd.read_csv('/content/dataset_twitter-scraper_elonmusk.csv')"
      ],
      "metadata": {
        "id": "D5k6DI0UU10i"
      },
      "execution_count": 12,
      "outputs": []
    },
    {
      "cell_type": "code",
      "source": [
        "data.head()"
      ],
      "metadata": {
        "colab": {
          "base_uri": "https://localhost:8080/",
          "height": 507
        },
        "id": "WNb9m39sVB3Y",
        "outputId": "449b1cdc-808e-45ed-83bd-0be404eece91"
      },
      "execution_count": 13,
      "outputs": [
        {
          "output_type": "execute_result",
          "data": {
            "text/plain": [
              "       conversation_id                created_at  favorite_count  \\\n",
              "0  1630281104019128328  2023-02-28T11:21:42.000Z               0   \n",
              "1  1630394434847227909  2023-02-28T11:21:41.000Z               0   \n",
              "2  1629901954234105857  2023-02-28T11:21:40.000Z               0   \n",
              "3  1630283371048837121  2023-02-28T11:21:39.000Z               0   \n",
              "4  1630528650343849984  2023-02-28T11:21:38.000Z               0   \n",
              "\n",
              "                                           full_text hashtags/0 hashtags/1  \\\n",
              "0  @DrEliDavid @elonmusk Can one of you clowns as...        NaN        NaN   \n",
              "1                                      @elonmusk Lie        NaN        NaN   \n",
              "2  @wmanastasio @saylor @elonmusk When we are FOR...        NaN        NaN   \n",
              "3  @CandeOchoaA @dariocelise @omarcervantesr9 @lo...        NaN        NaN   \n",
              "4  @elonmusk is again the richest man on earth. T...        NaN        NaN   \n",
              "\n",
              "  hashtags/2 hashtags/3 hashtags/4 hashtags/5  ... user_mentions/47/id_str  \\\n",
              "0        NaN        NaN        NaN        NaN  ...                     NaN   \n",
              "1        NaN        NaN        NaN        NaN  ...                     NaN   \n",
              "2        NaN        NaN        NaN        NaN  ...                     NaN   \n",
              "3        NaN        NaN        NaN        NaN  ...                     NaN   \n",
              "4        NaN        NaN        NaN        NaN  ...                     NaN   \n",
              "\n",
              "  user_mentions/47/name user_mentions/47/screen_name user_mentions/48/id_str  \\\n",
              "0                   NaN                          NaN                     NaN   \n",
              "1                   NaN                          NaN                     NaN   \n",
              "2                   NaN                          NaN                     NaN   \n",
              "3                   NaN                          NaN                     NaN   \n",
              "4                   NaN                          NaN                     NaN   \n",
              "\n",
              "  user_mentions/48/name user_mentions/48/screen_name user_mentions/49/id_str  \\\n",
              "0                   NaN                          NaN                     NaN   \n",
              "1                   NaN                          NaN                     NaN   \n",
              "2                   NaN                          NaN                     NaN   \n",
              "3                   NaN                          NaN                     NaN   \n",
              "4                   NaN                          NaN                     NaN   \n",
              "\n",
              "  user_mentions/49/name user_mentions/49/screen_name view_count  \n",
              "0                   NaN                          NaN        NaN  \n",
              "1                   NaN                          NaN        NaN  \n",
              "2                   NaN                          NaN        NaN  \n",
              "3                   NaN                          NaN        NaN  \n",
              "4                   NaN                          NaN        NaN  \n",
              "\n",
              "[5 rows x 251 columns]"
            ],
            "text/html": [
              "\n",
              "  <div id=\"df-91ab1ebe-65c8-4ae1-831f-4bedec83678d\">\n",
              "    <div class=\"colab-df-container\">\n",
              "      <div>\n",
              "<style scoped>\n",
              "    .dataframe tbody tr th:only-of-type {\n",
              "        vertical-align: middle;\n",
              "    }\n",
              "\n",
              "    .dataframe tbody tr th {\n",
              "        vertical-align: top;\n",
              "    }\n",
              "\n",
              "    .dataframe thead th {\n",
              "        text-align: right;\n",
              "    }\n",
              "</style>\n",
              "<table border=\"1\" class=\"dataframe\">\n",
              "  <thead>\n",
              "    <tr style=\"text-align: right;\">\n",
              "      <th></th>\n",
              "      <th>conversation_id</th>\n",
              "      <th>created_at</th>\n",
              "      <th>favorite_count</th>\n",
              "      <th>full_text</th>\n",
              "      <th>hashtags/0</th>\n",
              "      <th>hashtags/1</th>\n",
              "      <th>hashtags/2</th>\n",
              "      <th>hashtags/3</th>\n",
              "      <th>hashtags/4</th>\n",
              "      <th>hashtags/5</th>\n",
              "      <th>...</th>\n",
              "      <th>user_mentions/47/id_str</th>\n",
              "      <th>user_mentions/47/name</th>\n",
              "      <th>user_mentions/47/screen_name</th>\n",
              "      <th>user_mentions/48/id_str</th>\n",
              "      <th>user_mentions/48/name</th>\n",
              "      <th>user_mentions/48/screen_name</th>\n",
              "      <th>user_mentions/49/id_str</th>\n",
              "      <th>user_mentions/49/name</th>\n",
              "      <th>user_mentions/49/screen_name</th>\n",
              "      <th>view_count</th>\n",
              "    </tr>\n",
              "  </thead>\n",
              "  <tbody>\n",
              "    <tr>\n",
              "      <th>0</th>\n",
              "      <td>1630281104019128328</td>\n",
              "      <td>2023-02-28T11:21:42.000Z</td>\n",
              "      <td>0</td>\n",
              "      <td>@DrEliDavid @elonmusk Can one of you clowns as...</td>\n",
              "      <td>NaN</td>\n",
              "      <td>NaN</td>\n",
              "      <td>NaN</td>\n",
              "      <td>NaN</td>\n",
              "      <td>NaN</td>\n",
              "      <td>NaN</td>\n",
              "      <td>...</td>\n",
              "      <td>NaN</td>\n",
              "      <td>NaN</td>\n",
              "      <td>NaN</td>\n",
              "      <td>NaN</td>\n",
              "      <td>NaN</td>\n",
              "      <td>NaN</td>\n",
              "      <td>NaN</td>\n",
              "      <td>NaN</td>\n",
              "      <td>NaN</td>\n",
              "      <td>NaN</td>\n",
              "    </tr>\n",
              "    <tr>\n",
              "      <th>1</th>\n",
              "      <td>1630394434847227909</td>\n",
              "      <td>2023-02-28T11:21:41.000Z</td>\n",
              "      <td>0</td>\n",
              "      <td>@elonmusk Lie</td>\n",
              "      <td>NaN</td>\n",
              "      <td>NaN</td>\n",
              "      <td>NaN</td>\n",
              "      <td>NaN</td>\n",
              "      <td>NaN</td>\n",
              "      <td>NaN</td>\n",
              "      <td>...</td>\n",
              "      <td>NaN</td>\n",
              "      <td>NaN</td>\n",
              "      <td>NaN</td>\n",
              "      <td>NaN</td>\n",
              "      <td>NaN</td>\n",
              "      <td>NaN</td>\n",
              "      <td>NaN</td>\n",
              "      <td>NaN</td>\n",
              "      <td>NaN</td>\n",
              "      <td>NaN</td>\n",
              "    </tr>\n",
              "    <tr>\n",
              "      <th>2</th>\n",
              "      <td>1629901954234105857</td>\n",
              "      <td>2023-02-28T11:21:40.000Z</td>\n",
              "      <td>0</td>\n",
              "      <td>@wmanastasio @saylor @elonmusk When we are FOR...</td>\n",
              "      <td>NaN</td>\n",
              "      <td>NaN</td>\n",
              "      <td>NaN</td>\n",
              "      <td>NaN</td>\n",
              "      <td>NaN</td>\n",
              "      <td>NaN</td>\n",
              "      <td>...</td>\n",
              "      <td>NaN</td>\n",
              "      <td>NaN</td>\n",
              "      <td>NaN</td>\n",
              "      <td>NaN</td>\n",
              "      <td>NaN</td>\n",
              "      <td>NaN</td>\n",
              "      <td>NaN</td>\n",
              "      <td>NaN</td>\n",
              "      <td>NaN</td>\n",
              "      <td>NaN</td>\n",
              "    </tr>\n",
              "    <tr>\n",
              "      <th>3</th>\n",
              "      <td>1630283371048837121</td>\n",
              "      <td>2023-02-28T11:21:39.000Z</td>\n",
              "      <td>0</td>\n",
              "      <td>@CandeOchoaA @dariocelise @omarcervantesr9 @lo...</td>\n",
              "      <td>NaN</td>\n",
              "      <td>NaN</td>\n",
              "      <td>NaN</td>\n",
              "      <td>NaN</td>\n",
              "      <td>NaN</td>\n",
              "      <td>NaN</td>\n",
              "      <td>...</td>\n",
              "      <td>NaN</td>\n",
              "      <td>NaN</td>\n",
              "      <td>NaN</td>\n",
              "      <td>NaN</td>\n",
              "      <td>NaN</td>\n",
              "      <td>NaN</td>\n",
              "      <td>NaN</td>\n",
              "      <td>NaN</td>\n",
              "      <td>NaN</td>\n",
              "      <td>NaN</td>\n",
              "    </tr>\n",
              "    <tr>\n",
              "      <th>4</th>\n",
              "      <td>1630528650343849984</td>\n",
              "      <td>2023-02-28T11:21:38.000Z</td>\n",
              "      <td>0</td>\n",
              "      <td>@elonmusk is again the richest man on earth. T...</td>\n",
              "      <td>NaN</td>\n",
              "      <td>NaN</td>\n",
              "      <td>NaN</td>\n",
              "      <td>NaN</td>\n",
              "      <td>NaN</td>\n",
              "      <td>NaN</td>\n",
              "      <td>...</td>\n",
              "      <td>NaN</td>\n",
              "      <td>NaN</td>\n",
              "      <td>NaN</td>\n",
              "      <td>NaN</td>\n",
              "      <td>NaN</td>\n",
              "      <td>NaN</td>\n",
              "      <td>NaN</td>\n",
              "      <td>NaN</td>\n",
              "      <td>NaN</td>\n",
              "      <td>NaN</td>\n",
              "    </tr>\n",
              "  </tbody>\n",
              "</table>\n",
              "<p>5 rows × 251 columns</p>\n",
              "</div>\n",
              "      <button class=\"colab-df-convert\" onclick=\"convertToInteractive('df-91ab1ebe-65c8-4ae1-831f-4bedec83678d')\"\n",
              "              title=\"Convert this dataframe to an interactive table.\"\n",
              "              style=\"display:none;\">\n",
              "        \n",
              "  <svg xmlns=\"http://www.w3.org/2000/svg\" height=\"24px\"viewBox=\"0 0 24 24\"\n",
              "       width=\"24px\">\n",
              "    <path d=\"M0 0h24v24H0V0z\" fill=\"none\"/>\n",
              "    <path d=\"M18.56 5.44l.94 2.06.94-2.06 2.06-.94-2.06-.94-.94-2.06-.94 2.06-2.06.94zm-11 1L8.5 8.5l.94-2.06 2.06-.94-2.06-.94L8.5 2.5l-.94 2.06-2.06.94zm10 10l.94 2.06.94-2.06 2.06-.94-2.06-.94-.94-2.06-.94 2.06-2.06.94z\"/><path d=\"M17.41 7.96l-1.37-1.37c-.4-.4-.92-.59-1.43-.59-.52 0-1.04.2-1.43.59L10.3 9.45l-7.72 7.72c-.78.78-.78 2.05 0 2.83L4 21.41c.39.39.9.59 1.41.59.51 0 1.02-.2 1.41-.59l7.78-7.78 2.81-2.81c.8-.78.8-2.07 0-2.86zM5.41 20L4 18.59l7.72-7.72 1.47 1.35L5.41 20z\"/>\n",
              "  </svg>\n",
              "      </button>\n",
              "      \n",
              "  <style>\n",
              "    .colab-df-container {\n",
              "      display:flex;\n",
              "      flex-wrap:wrap;\n",
              "      gap: 12px;\n",
              "    }\n",
              "\n",
              "    .colab-df-convert {\n",
              "      background-color: #E8F0FE;\n",
              "      border: none;\n",
              "      border-radius: 50%;\n",
              "      cursor: pointer;\n",
              "      display: none;\n",
              "      fill: #1967D2;\n",
              "      height: 32px;\n",
              "      padding: 0 0 0 0;\n",
              "      width: 32px;\n",
              "    }\n",
              "\n",
              "    .colab-df-convert:hover {\n",
              "      background-color: #E2EBFA;\n",
              "      box-shadow: 0px 1px 2px rgba(60, 64, 67, 0.3), 0px 1px 3px 1px rgba(60, 64, 67, 0.15);\n",
              "      fill: #174EA6;\n",
              "    }\n",
              "\n",
              "    [theme=dark] .colab-df-convert {\n",
              "      background-color: #3B4455;\n",
              "      fill: #D2E3FC;\n",
              "    }\n",
              "\n",
              "    [theme=dark] .colab-df-convert:hover {\n",
              "      background-color: #434B5C;\n",
              "      box-shadow: 0px 1px 3px 1px rgba(0, 0, 0, 0.15);\n",
              "      filter: drop-shadow(0px 1px 2px rgba(0, 0, 0, 0.3));\n",
              "      fill: #FFFFFF;\n",
              "    }\n",
              "  </style>\n",
              "\n",
              "      <script>\n",
              "        const buttonEl =\n",
              "          document.querySelector('#df-91ab1ebe-65c8-4ae1-831f-4bedec83678d button.colab-df-convert');\n",
              "        buttonEl.style.display =\n",
              "          google.colab.kernel.accessAllowed ? 'block' : 'none';\n",
              "\n",
              "        async function convertToInteractive(key) {\n",
              "          const element = document.querySelector('#df-91ab1ebe-65c8-4ae1-831f-4bedec83678d');\n",
              "          const dataTable =\n",
              "            await google.colab.kernel.invokeFunction('convertToInteractive',\n",
              "                                                     [key], {});\n",
              "          if (!dataTable) return;\n",
              "\n",
              "          const docLinkHtml = 'Like what you see? Visit the ' +\n",
              "            '<a target=\"_blank\" href=https://colab.research.google.com/notebooks/data_table.ipynb>data table notebook</a>'\n",
              "            + ' to learn more about interactive tables.';\n",
              "          element.innerHTML = '';\n",
              "          dataTable['output_type'] = 'display_data';\n",
              "          await google.colab.output.renderOutput(dataTable, element);\n",
              "          const docLink = document.createElement('div');\n",
              "          docLink.innerHTML = docLinkHtml;\n",
              "          element.appendChild(docLink);\n",
              "        }\n",
              "      </script>\n",
              "    </div>\n",
              "  </div>\n",
              "  "
            ]
          },
          "metadata": {},
          "execution_count": 13
        }
      ]
    },
    {
      "cell_type": "code",
      "source": [
        "data.shape"
      ],
      "metadata": {
        "colab": {
          "base_uri": "https://localhost:8080/"
        },
        "id": "Oo9SMfjcVHSx",
        "outputId": "63b072fc-ba63-464b-8dad-ec252f96cd6a"
      },
      "execution_count": 14,
      "outputs": [
        {
          "output_type": "execute_result",
          "data": {
            "text/plain": [
              "(1000, 251)"
            ]
          },
          "metadata": {},
          "execution_count": 14
        }
      ]
    },
    {
      "cell_type": "code",
      "source": [
        "data.info"
      ],
      "metadata": {
        "colab": {
          "base_uri": "https://localhost:8080/"
        },
        "id": "aVT0KXooJkIP",
        "outputId": "ba48e324-cf38-4732-ab31-c47b5de10230"
      },
      "execution_count": 15,
      "outputs": [
        {
          "output_type": "execute_result",
          "data": {
            "text/plain": [
              "<bound method DataFrame.info of          conversation_id                created_at  favorite_count  \\\n",
              "0    1630281104019128328  2023-02-28T11:21:42.000Z               0   \n",
              "1    1630394434847227909  2023-02-28T11:21:41.000Z               0   \n",
              "2    1629901954234105857  2023-02-28T11:21:40.000Z               0   \n",
              "3    1630283371048837121  2023-02-28T11:21:39.000Z               0   \n",
              "4    1630528650343849984  2023-02-28T11:21:38.000Z               0   \n",
              "..                   ...                       ...             ...   \n",
              "995  1629541710299635717  2023-02-28T11:12:06.000Z               0   \n",
              "996  1630526248328876037  2023-02-28T11:12:05.000Z               0   \n",
              "997  1630305034226348035  2023-02-28T11:12:05.000Z               1   \n",
              "998  1630186386769821696  2023-02-28T11:12:05.000Z               0   \n",
              "999  1629838907763224578  2023-02-28T11:12:05.000Z               0   \n",
              "\n",
              "                                             full_text hashtags/0 hashtags/1  \\\n",
              "0    @DrEliDavid @elonmusk Can one of you clowns as...        NaN        NaN   \n",
              "1                                        @elonmusk Lie        NaN        NaN   \n",
              "2    @wmanastasio @saylor @elonmusk When we are FOR...        NaN        NaN   \n",
              "3    @CandeOchoaA @dariocelise @omarcervantesr9 @lo...        NaN        NaN   \n",
              "4    @elonmusk is again the richest man on earth. T...        NaN        NaN   \n",
              "..                                                 ...        ...        ...   \n",
              "995   @David_Leavitt @elonmusk @libsoftiktok Bullshit.        NaN        NaN   \n",
              "996  Nos animamos a pedirle 1 Bitcoin a @elonmusk ?...        NaN        NaN   \n",
              "997  @IntCrypt12 @EricCryptoman @elonmusk @Tesla Yo...        NaN        NaN   \n",
              "998  @Real_JimmyGreen φυσικα και ειναι φαουλ και γι...        NaN        NaN   \n",
              "999  @elonmusk @mtracey NATO and the West have not ...        NaN        NaN   \n",
              "\n",
              "    hashtags/2 hashtags/3 hashtags/4 hashtags/5  ... user_mentions/47/id_str  \\\n",
              "0          NaN        NaN        NaN        NaN  ...                     NaN   \n",
              "1          NaN        NaN        NaN        NaN  ...                     NaN   \n",
              "2          NaN        NaN        NaN        NaN  ...                     NaN   \n",
              "3          NaN        NaN        NaN        NaN  ...                     NaN   \n",
              "4          NaN        NaN        NaN        NaN  ...                     NaN   \n",
              "..         ...        ...        ...        ...  ...                     ...   \n",
              "995        NaN        NaN        NaN        NaN  ...                     NaN   \n",
              "996        NaN        NaN        NaN        NaN  ...                     NaN   \n",
              "997        NaN        NaN        NaN        NaN  ...                     NaN   \n",
              "998        NaN        NaN        NaN        NaN  ...                     NaN   \n",
              "999        NaN        NaN        NaN        NaN  ...                     NaN   \n",
              "\n",
              "    user_mentions/47/name user_mentions/47/screen_name  \\\n",
              "0                     NaN                          NaN   \n",
              "1                     NaN                          NaN   \n",
              "2                     NaN                          NaN   \n",
              "3                     NaN                          NaN   \n",
              "4                     NaN                          NaN   \n",
              "..                    ...                          ...   \n",
              "995                   NaN                          NaN   \n",
              "996                   NaN                          NaN   \n",
              "997                   NaN                          NaN   \n",
              "998                   NaN                          NaN   \n",
              "999                   NaN                          NaN   \n",
              "\n",
              "    user_mentions/48/id_str user_mentions/48/name  \\\n",
              "0                       NaN                   NaN   \n",
              "1                       NaN                   NaN   \n",
              "2                       NaN                   NaN   \n",
              "3                       NaN                   NaN   \n",
              "4                       NaN                   NaN   \n",
              "..                      ...                   ...   \n",
              "995                     NaN                   NaN   \n",
              "996                     NaN                   NaN   \n",
              "997                     NaN                   NaN   \n",
              "998                     NaN                   NaN   \n",
              "999                     NaN                   NaN   \n",
              "\n",
              "    user_mentions/48/screen_name user_mentions/49/id_str  \\\n",
              "0                            NaN                     NaN   \n",
              "1                            NaN                     NaN   \n",
              "2                            NaN                     NaN   \n",
              "3                            NaN                     NaN   \n",
              "4                            NaN                     NaN   \n",
              "..                           ...                     ...   \n",
              "995                          NaN                     NaN   \n",
              "996                          NaN                     NaN   \n",
              "997                          NaN                     NaN   \n",
              "998                          NaN                     NaN   \n",
              "999                          NaN                     NaN   \n",
              "\n",
              "    user_mentions/49/name user_mentions/49/screen_name view_count  \n",
              "0                     NaN                          NaN        NaN  \n",
              "1                     NaN                          NaN        NaN  \n",
              "2                     NaN                          NaN        NaN  \n",
              "3                     NaN                          NaN        NaN  \n",
              "4                     NaN                          NaN        NaN  \n",
              "..                    ...                          ...        ...  \n",
              "995                   NaN                          NaN        NaN  \n",
              "996                   NaN                          NaN       27.0  \n",
              "997                   NaN                          NaN       10.0  \n",
              "998                   NaN                          NaN        1.0  \n",
              "999                   NaN                          NaN        3.0  \n",
              "\n",
              "[1000 rows x 251 columns]>"
            ]
          },
          "metadata": {},
          "execution_count": 15
        }
      ]
    },
    {
      "cell_type": "markdown",
      "source": [
        "#Data Cleaning"
      ],
      "metadata": {
        "id": "NNMNyIUAKsrU"
      }
    },
    {
      "cell_type": "code",
      "source": [
        "data=data.drop(['conversation_id','created_at','favorite_count'],axis=1)"
      ],
      "metadata": {
        "id": "6Kn0m-t1VK3K"
      },
      "execution_count": 16,
      "outputs": []
    },
    {
      "cell_type": "code",
      "source": [
        "data.head()"
      ],
      "metadata": {
        "colab": {
          "base_uri": "https://localhost:8080/",
          "height": 490
        },
        "id": "UGeqSqCHVaL3",
        "outputId": "f8433fd1-58ef-47b8-d624-a094430d6fc5"
      },
      "execution_count": 17,
      "outputs": [
        {
          "output_type": "execute_result",
          "data": {
            "text/plain": [
              "                                           full_text hashtags/0 hashtags/1  \\\n",
              "0  @DrEliDavid @elonmusk Can one of you clowns as...        NaN        NaN   \n",
              "1                                      @elonmusk Lie        NaN        NaN   \n",
              "2  @wmanastasio @saylor @elonmusk When we are FOR...        NaN        NaN   \n",
              "3  @CandeOchoaA @dariocelise @omarcervantesr9 @lo...        NaN        NaN   \n",
              "4  @elonmusk is again the richest man on earth. T...        NaN        NaN   \n",
              "\n",
              "  hashtags/2 hashtags/3 hashtags/4 hashtags/5 hashtags/6 hashtags/7  \\\n",
              "0        NaN        NaN        NaN        NaN        NaN        NaN   \n",
              "1        NaN        NaN        NaN        NaN        NaN        NaN   \n",
              "2        NaN        NaN        NaN        NaN        NaN        NaN   \n",
              "3        NaN        NaN        NaN        NaN        NaN        NaN   \n",
              "4        NaN        NaN        NaN        NaN        NaN        NaN   \n",
              "\n",
              "  hashtags/8  ... user_mentions/47/id_str user_mentions/47/name  \\\n",
              "0        NaN  ...                     NaN                   NaN   \n",
              "1        NaN  ...                     NaN                   NaN   \n",
              "2        NaN  ...                     NaN                   NaN   \n",
              "3        NaN  ...                     NaN                   NaN   \n",
              "4        NaN  ...                     NaN                   NaN   \n",
              "\n",
              "  user_mentions/47/screen_name user_mentions/48/id_str user_mentions/48/name  \\\n",
              "0                          NaN                     NaN                   NaN   \n",
              "1                          NaN                     NaN                   NaN   \n",
              "2                          NaN                     NaN                   NaN   \n",
              "3                          NaN                     NaN                   NaN   \n",
              "4                          NaN                     NaN                   NaN   \n",
              "\n",
              "  user_mentions/48/screen_name user_mentions/49/id_str user_mentions/49/name  \\\n",
              "0                          NaN                     NaN                   NaN   \n",
              "1                          NaN                     NaN                   NaN   \n",
              "2                          NaN                     NaN                   NaN   \n",
              "3                          NaN                     NaN                   NaN   \n",
              "4                          NaN                     NaN                   NaN   \n",
              "\n",
              "   user_mentions/49/screen_name view_count  \n",
              "0                           NaN        NaN  \n",
              "1                           NaN        NaN  \n",
              "2                           NaN        NaN  \n",
              "3                           NaN        NaN  \n",
              "4                           NaN        NaN  \n",
              "\n",
              "[5 rows x 248 columns]"
            ],
            "text/html": [
              "\n",
              "  <div id=\"df-9a4fba81-4a6d-458c-b4f8-cf0038f5a17a\">\n",
              "    <div class=\"colab-df-container\">\n",
              "      <div>\n",
              "<style scoped>\n",
              "    .dataframe tbody tr th:only-of-type {\n",
              "        vertical-align: middle;\n",
              "    }\n",
              "\n",
              "    .dataframe tbody tr th {\n",
              "        vertical-align: top;\n",
              "    }\n",
              "\n",
              "    .dataframe thead th {\n",
              "        text-align: right;\n",
              "    }\n",
              "</style>\n",
              "<table border=\"1\" class=\"dataframe\">\n",
              "  <thead>\n",
              "    <tr style=\"text-align: right;\">\n",
              "      <th></th>\n",
              "      <th>full_text</th>\n",
              "      <th>hashtags/0</th>\n",
              "      <th>hashtags/1</th>\n",
              "      <th>hashtags/2</th>\n",
              "      <th>hashtags/3</th>\n",
              "      <th>hashtags/4</th>\n",
              "      <th>hashtags/5</th>\n",
              "      <th>hashtags/6</th>\n",
              "      <th>hashtags/7</th>\n",
              "      <th>hashtags/8</th>\n",
              "      <th>...</th>\n",
              "      <th>user_mentions/47/id_str</th>\n",
              "      <th>user_mentions/47/name</th>\n",
              "      <th>user_mentions/47/screen_name</th>\n",
              "      <th>user_mentions/48/id_str</th>\n",
              "      <th>user_mentions/48/name</th>\n",
              "      <th>user_mentions/48/screen_name</th>\n",
              "      <th>user_mentions/49/id_str</th>\n",
              "      <th>user_mentions/49/name</th>\n",
              "      <th>user_mentions/49/screen_name</th>\n",
              "      <th>view_count</th>\n",
              "    </tr>\n",
              "  </thead>\n",
              "  <tbody>\n",
              "    <tr>\n",
              "      <th>0</th>\n",
              "      <td>@DrEliDavid @elonmusk Can one of you clowns as...</td>\n",
              "      <td>NaN</td>\n",
              "      <td>NaN</td>\n",
              "      <td>NaN</td>\n",
              "      <td>NaN</td>\n",
              "      <td>NaN</td>\n",
              "      <td>NaN</td>\n",
              "      <td>NaN</td>\n",
              "      <td>NaN</td>\n",
              "      <td>NaN</td>\n",
              "      <td>...</td>\n",
              "      <td>NaN</td>\n",
              "      <td>NaN</td>\n",
              "      <td>NaN</td>\n",
              "      <td>NaN</td>\n",
              "      <td>NaN</td>\n",
              "      <td>NaN</td>\n",
              "      <td>NaN</td>\n",
              "      <td>NaN</td>\n",
              "      <td>NaN</td>\n",
              "      <td>NaN</td>\n",
              "    </tr>\n",
              "    <tr>\n",
              "      <th>1</th>\n",
              "      <td>@elonmusk Lie</td>\n",
              "      <td>NaN</td>\n",
              "      <td>NaN</td>\n",
              "      <td>NaN</td>\n",
              "      <td>NaN</td>\n",
              "      <td>NaN</td>\n",
              "      <td>NaN</td>\n",
              "      <td>NaN</td>\n",
              "      <td>NaN</td>\n",
              "      <td>NaN</td>\n",
              "      <td>...</td>\n",
              "      <td>NaN</td>\n",
              "      <td>NaN</td>\n",
              "      <td>NaN</td>\n",
              "      <td>NaN</td>\n",
              "      <td>NaN</td>\n",
              "      <td>NaN</td>\n",
              "      <td>NaN</td>\n",
              "      <td>NaN</td>\n",
              "      <td>NaN</td>\n",
              "      <td>NaN</td>\n",
              "    </tr>\n",
              "    <tr>\n",
              "      <th>2</th>\n",
              "      <td>@wmanastasio @saylor @elonmusk When we are FOR...</td>\n",
              "      <td>NaN</td>\n",
              "      <td>NaN</td>\n",
              "      <td>NaN</td>\n",
              "      <td>NaN</td>\n",
              "      <td>NaN</td>\n",
              "      <td>NaN</td>\n",
              "      <td>NaN</td>\n",
              "      <td>NaN</td>\n",
              "      <td>NaN</td>\n",
              "      <td>...</td>\n",
              "      <td>NaN</td>\n",
              "      <td>NaN</td>\n",
              "      <td>NaN</td>\n",
              "      <td>NaN</td>\n",
              "      <td>NaN</td>\n",
              "      <td>NaN</td>\n",
              "      <td>NaN</td>\n",
              "      <td>NaN</td>\n",
              "      <td>NaN</td>\n",
              "      <td>NaN</td>\n",
              "    </tr>\n",
              "    <tr>\n",
              "      <th>3</th>\n",
              "      <td>@CandeOchoaA @dariocelise @omarcervantesr9 @lo...</td>\n",
              "      <td>NaN</td>\n",
              "      <td>NaN</td>\n",
              "      <td>NaN</td>\n",
              "      <td>NaN</td>\n",
              "      <td>NaN</td>\n",
              "      <td>NaN</td>\n",
              "      <td>NaN</td>\n",
              "      <td>NaN</td>\n",
              "      <td>NaN</td>\n",
              "      <td>...</td>\n",
              "      <td>NaN</td>\n",
              "      <td>NaN</td>\n",
              "      <td>NaN</td>\n",
              "      <td>NaN</td>\n",
              "      <td>NaN</td>\n",
              "      <td>NaN</td>\n",
              "      <td>NaN</td>\n",
              "      <td>NaN</td>\n",
              "      <td>NaN</td>\n",
              "      <td>NaN</td>\n",
              "    </tr>\n",
              "    <tr>\n",
              "      <th>4</th>\n",
              "      <td>@elonmusk is again the richest man on earth. T...</td>\n",
              "      <td>NaN</td>\n",
              "      <td>NaN</td>\n",
              "      <td>NaN</td>\n",
              "      <td>NaN</td>\n",
              "      <td>NaN</td>\n",
              "      <td>NaN</td>\n",
              "      <td>NaN</td>\n",
              "      <td>NaN</td>\n",
              "      <td>NaN</td>\n",
              "      <td>...</td>\n",
              "      <td>NaN</td>\n",
              "      <td>NaN</td>\n",
              "      <td>NaN</td>\n",
              "      <td>NaN</td>\n",
              "      <td>NaN</td>\n",
              "      <td>NaN</td>\n",
              "      <td>NaN</td>\n",
              "      <td>NaN</td>\n",
              "      <td>NaN</td>\n",
              "      <td>NaN</td>\n",
              "    </tr>\n",
              "  </tbody>\n",
              "</table>\n",
              "<p>5 rows × 248 columns</p>\n",
              "</div>\n",
              "      <button class=\"colab-df-convert\" onclick=\"convertToInteractive('df-9a4fba81-4a6d-458c-b4f8-cf0038f5a17a')\"\n",
              "              title=\"Convert this dataframe to an interactive table.\"\n",
              "              style=\"display:none;\">\n",
              "        \n",
              "  <svg xmlns=\"http://www.w3.org/2000/svg\" height=\"24px\"viewBox=\"0 0 24 24\"\n",
              "       width=\"24px\">\n",
              "    <path d=\"M0 0h24v24H0V0z\" fill=\"none\"/>\n",
              "    <path d=\"M18.56 5.44l.94 2.06.94-2.06 2.06-.94-2.06-.94-.94-2.06-.94 2.06-2.06.94zm-11 1L8.5 8.5l.94-2.06 2.06-.94-2.06-.94L8.5 2.5l-.94 2.06-2.06.94zm10 10l.94 2.06.94-2.06 2.06-.94-2.06-.94-.94-2.06-.94 2.06-2.06.94z\"/><path d=\"M17.41 7.96l-1.37-1.37c-.4-.4-.92-.59-1.43-.59-.52 0-1.04.2-1.43.59L10.3 9.45l-7.72 7.72c-.78.78-.78 2.05 0 2.83L4 21.41c.39.39.9.59 1.41.59.51 0 1.02-.2 1.41-.59l7.78-7.78 2.81-2.81c.8-.78.8-2.07 0-2.86zM5.41 20L4 18.59l7.72-7.72 1.47 1.35L5.41 20z\"/>\n",
              "  </svg>\n",
              "      </button>\n",
              "      \n",
              "  <style>\n",
              "    .colab-df-container {\n",
              "      display:flex;\n",
              "      flex-wrap:wrap;\n",
              "      gap: 12px;\n",
              "    }\n",
              "\n",
              "    .colab-df-convert {\n",
              "      background-color: #E8F0FE;\n",
              "      border: none;\n",
              "      border-radius: 50%;\n",
              "      cursor: pointer;\n",
              "      display: none;\n",
              "      fill: #1967D2;\n",
              "      height: 32px;\n",
              "      padding: 0 0 0 0;\n",
              "      width: 32px;\n",
              "    }\n",
              "\n",
              "    .colab-df-convert:hover {\n",
              "      background-color: #E2EBFA;\n",
              "      box-shadow: 0px 1px 2px rgba(60, 64, 67, 0.3), 0px 1px 3px 1px rgba(60, 64, 67, 0.15);\n",
              "      fill: #174EA6;\n",
              "    }\n",
              "\n",
              "    [theme=dark] .colab-df-convert {\n",
              "      background-color: #3B4455;\n",
              "      fill: #D2E3FC;\n",
              "    }\n",
              "\n",
              "    [theme=dark] .colab-df-convert:hover {\n",
              "      background-color: #434B5C;\n",
              "      box-shadow: 0px 1px 3px 1px rgba(0, 0, 0, 0.15);\n",
              "      filter: drop-shadow(0px 1px 2px rgba(0, 0, 0, 0.3));\n",
              "      fill: #FFFFFF;\n",
              "    }\n",
              "  </style>\n",
              "\n",
              "      <script>\n",
              "        const buttonEl =\n",
              "          document.querySelector('#df-9a4fba81-4a6d-458c-b4f8-cf0038f5a17a button.colab-df-convert');\n",
              "        buttonEl.style.display =\n",
              "          google.colab.kernel.accessAllowed ? 'block' : 'none';\n",
              "\n",
              "        async function convertToInteractive(key) {\n",
              "          const element = document.querySelector('#df-9a4fba81-4a6d-458c-b4f8-cf0038f5a17a');\n",
              "          const dataTable =\n",
              "            await google.colab.kernel.invokeFunction('convertToInteractive',\n",
              "                                                     [key], {});\n",
              "          if (!dataTable) return;\n",
              "\n",
              "          const docLinkHtml = 'Like what you see? Visit the ' +\n",
              "            '<a target=\"_blank\" href=https://colab.research.google.com/notebooks/data_table.ipynb>data table notebook</a>'\n",
              "            + ' to learn more about interactive tables.';\n",
              "          element.innerHTML = '';\n",
              "          dataTable['output_type'] = 'display_data';\n",
              "          await google.colab.output.renderOutput(dataTable, element);\n",
              "          const docLink = document.createElement('div');\n",
              "          docLink.innerHTML = docLinkHtml;\n",
              "          element.appendChild(docLink);\n",
              "        }\n",
              "      </script>\n",
              "    </div>\n",
              "  </div>\n",
              "  "
            ]
          },
          "metadata": {},
          "execution_count": 17
        }
      ]
    },
    {
      "cell_type": "code",
      "source": [
        "data=data.drop(data.iloc[:, 1:], axis=1)"
      ],
      "metadata": {
        "id": "jzlxC5-EVdpY"
      },
      "execution_count": 18,
      "outputs": []
    },
    {
      "cell_type": "code",
      "source": [
        "data.head()"
      ],
      "metadata": {
        "colab": {
          "base_uri": "https://localhost:8080/",
          "height": 206
        },
        "id": "DtiSgG3mVo-h",
        "outputId": "9c3d35fe-b2f0-445b-e19e-2735b85745cb"
      },
      "execution_count": 19,
      "outputs": [
        {
          "output_type": "execute_result",
          "data": {
            "text/plain": [
              "                                           full_text\n",
              "0  @DrEliDavid @elonmusk Can one of you clowns as...\n",
              "1                                      @elonmusk Lie\n",
              "2  @wmanastasio @saylor @elonmusk When we are FOR...\n",
              "3  @CandeOchoaA @dariocelise @omarcervantesr9 @lo...\n",
              "4  @elonmusk is again the richest man on earth. T..."
            ],
            "text/html": [
              "\n",
              "  <div id=\"df-cd4a4821-21a9-41f5-abf3-02ccd8b01c76\">\n",
              "    <div class=\"colab-df-container\">\n",
              "      <div>\n",
              "<style scoped>\n",
              "    .dataframe tbody tr th:only-of-type {\n",
              "        vertical-align: middle;\n",
              "    }\n",
              "\n",
              "    .dataframe tbody tr th {\n",
              "        vertical-align: top;\n",
              "    }\n",
              "\n",
              "    .dataframe thead th {\n",
              "        text-align: right;\n",
              "    }\n",
              "</style>\n",
              "<table border=\"1\" class=\"dataframe\">\n",
              "  <thead>\n",
              "    <tr style=\"text-align: right;\">\n",
              "      <th></th>\n",
              "      <th>full_text</th>\n",
              "    </tr>\n",
              "  </thead>\n",
              "  <tbody>\n",
              "    <tr>\n",
              "      <th>0</th>\n",
              "      <td>@DrEliDavid @elonmusk Can one of you clowns as...</td>\n",
              "    </tr>\n",
              "    <tr>\n",
              "      <th>1</th>\n",
              "      <td>@elonmusk Lie</td>\n",
              "    </tr>\n",
              "    <tr>\n",
              "      <th>2</th>\n",
              "      <td>@wmanastasio @saylor @elonmusk When we are FOR...</td>\n",
              "    </tr>\n",
              "    <tr>\n",
              "      <th>3</th>\n",
              "      <td>@CandeOchoaA @dariocelise @omarcervantesr9 @lo...</td>\n",
              "    </tr>\n",
              "    <tr>\n",
              "      <th>4</th>\n",
              "      <td>@elonmusk is again the richest man on earth. T...</td>\n",
              "    </tr>\n",
              "  </tbody>\n",
              "</table>\n",
              "</div>\n",
              "      <button class=\"colab-df-convert\" onclick=\"convertToInteractive('df-cd4a4821-21a9-41f5-abf3-02ccd8b01c76')\"\n",
              "              title=\"Convert this dataframe to an interactive table.\"\n",
              "              style=\"display:none;\">\n",
              "        \n",
              "  <svg xmlns=\"http://www.w3.org/2000/svg\" height=\"24px\"viewBox=\"0 0 24 24\"\n",
              "       width=\"24px\">\n",
              "    <path d=\"M0 0h24v24H0V0z\" fill=\"none\"/>\n",
              "    <path d=\"M18.56 5.44l.94 2.06.94-2.06 2.06-.94-2.06-.94-.94-2.06-.94 2.06-2.06.94zm-11 1L8.5 8.5l.94-2.06 2.06-.94-2.06-.94L8.5 2.5l-.94 2.06-2.06.94zm10 10l.94 2.06.94-2.06 2.06-.94-2.06-.94-.94-2.06-.94 2.06-2.06.94z\"/><path d=\"M17.41 7.96l-1.37-1.37c-.4-.4-.92-.59-1.43-.59-.52 0-1.04.2-1.43.59L10.3 9.45l-7.72 7.72c-.78.78-.78 2.05 0 2.83L4 21.41c.39.39.9.59 1.41.59.51 0 1.02-.2 1.41-.59l7.78-7.78 2.81-2.81c.8-.78.8-2.07 0-2.86zM5.41 20L4 18.59l7.72-7.72 1.47 1.35L5.41 20z\"/>\n",
              "  </svg>\n",
              "      </button>\n",
              "      \n",
              "  <style>\n",
              "    .colab-df-container {\n",
              "      display:flex;\n",
              "      flex-wrap:wrap;\n",
              "      gap: 12px;\n",
              "    }\n",
              "\n",
              "    .colab-df-convert {\n",
              "      background-color: #E8F0FE;\n",
              "      border: none;\n",
              "      border-radius: 50%;\n",
              "      cursor: pointer;\n",
              "      display: none;\n",
              "      fill: #1967D2;\n",
              "      height: 32px;\n",
              "      padding: 0 0 0 0;\n",
              "      width: 32px;\n",
              "    }\n",
              "\n",
              "    .colab-df-convert:hover {\n",
              "      background-color: #E2EBFA;\n",
              "      box-shadow: 0px 1px 2px rgba(60, 64, 67, 0.3), 0px 1px 3px 1px rgba(60, 64, 67, 0.15);\n",
              "      fill: #174EA6;\n",
              "    }\n",
              "\n",
              "    [theme=dark] .colab-df-convert {\n",
              "      background-color: #3B4455;\n",
              "      fill: #D2E3FC;\n",
              "    }\n",
              "\n",
              "    [theme=dark] .colab-df-convert:hover {\n",
              "      background-color: #434B5C;\n",
              "      box-shadow: 0px 1px 3px 1px rgba(0, 0, 0, 0.15);\n",
              "      filter: drop-shadow(0px 1px 2px rgba(0, 0, 0, 0.3));\n",
              "      fill: #FFFFFF;\n",
              "    }\n",
              "  </style>\n",
              "\n",
              "      <script>\n",
              "        const buttonEl =\n",
              "          document.querySelector('#df-cd4a4821-21a9-41f5-abf3-02ccd8b01c76 button.colab-df-convert');\n",
              "        buttonEl.style.display =\n",
              "          google.colab.kernel.accessAllowed ? 'block' : 'none';\n",
              "\n",
              "        async function convertToInteractive(key) {\n",
              "          const element = document.querySelector('#df-cd4a4821-21a9-41f5-abf3-02ccd8b01c76');\n",
              "          const dataTable =\n",
              "            await google.colab.kernel.invokeFunction('convertToInteractive',\n",
              "                                                     [key], {});\n",
              "          if (!dataTable) return;\n",
              "\n",
              "          const docLinkHtml = 'Like what you see? Visit the ' +\n",
              "            '<a target=\"_blank\" href=https://colab.research.google.com/notebooks/data_table.ipynb>data table notebook</a>'\n",
              "            + ' to learn more about interactive tables.';\n",
              "          element.innerHTML = '';\n",
              "          dataTable['output_type'] = 'display_data';\n",
              "          await google.colab.output.renderOutput(dataTable, element);\n",
              "          const docLink = document.createElement('div');\n",
              "          docLink.innerHTML = docLinkHtml;\n",
              "          element.appendChild(docLink);\n",
              "        }\n",
              "      </script>\n",
              "    </div>\n",
              "  </div>\n",
              "  "
            ]
          },
          "metadata": {},
          "execution_count": 19
        }
      ]
    },
    {
      "cell_type": "code",
      "source": [
        "data.shape"
      ],
      "metadata": {
        "colab": {
          "base_uri": "https://localhost:8080/"
        },
        "id": "aGax2_68Od2T",
        "outputId": "785aa40b-7ff8-46ae-c9ff-af3ef0d332b0"
      },
      "execution_count": 20,
      "outputs": [
        {
          "output_type": "execute_result",
          "data": {
            "text/plain": [
              "(1000, 1)"
            ]
          },
          "metadata": {},
          "execution_count": 20
        }
      ]
    },
    {
      "cell_type": "code",
      "source": [
        "#data.to_csv(\"dataset.csv\")"
      ],
      "metadata": {
        "id": "UA1HVhrlfkR6"
      },
      "execution_count": 21,
      "outputs": []
    },
    {
      "cell_type": "markdown",
      "source": [
        "#Text Preprocessing "
      ],
      "metadata": {
        "id": "meHBr5Y_KzVs"
      }
    },
    {
      "cell_type": "code",
      "source": [
        "import nltk\n",
        "import re\n",
        "nltk.download('stopwords')\n",
        "nltk.download('omw-1.4')\n",
        "nltk.download('punkt')\n",
        "from nltk.corpus import stopwords"
      ],
      "metadata": {
        "colab": {
          "base_uri": "https://localhost:8080/"
        },
        "id": "lp-FqjmXVqx7",
        "outputId": "a1c52e3a-b9c5-4daa-c68b-0d1d8687e27f"
      },
      "execution_count": 22,
      "outputs": [
        {
          "output_type": "stream",
          "name": "stderr",
          "text": [
            "[nltk_data] Downloading package stopwords to /root/nltk_data...\n",
            "[nltk_data]   Unzipping corpora/stopwords.zip.\n",
            "[nltk_data] Downloading package omw-1.4 to /root/nltk_data...\n",
            "[nltk_data] Downloading package punkt to /root/nltk_data...\n",
            "[nltk_data]   Unzipping tokenizers/punkt.zip.\n"
          ]
        }
      ]
    },
    {
      "cell_type": "code",
      "source": [
        "pip install clean-text"
      ],
      "metadata": {
        "colab": {
          "base_uri": "https://localhost:8080/"
        },
        "id": "qxswf3TvePTW",
        "outputId": "cff01558-f3bf-4ffd-e48c-72426794680c"
      },
      "execution_count": 23,
      "outputs": [
        {
          "output_type": "stream",
          "name": "stdout",
          "text": [
            "Looking in indexes: https://pypi.org/simple, https://us-python.pkg.dev/colab-wheels/public/simple/\n",
            "Collecting clean-text\n",
            "  Downloading clean_text-0.6.0-py3-none-any.whl (11 kB)\n",
            "Collecting ftfy<7.0,>=6.0\n",
            "  Downloading ftfy-6.1.1-py3-none-any.whl (53 kB)\n",
            "\u001b[2K     \u001b[90m━━━━━━━━━━━━━━━━━━━━━━━━━━━━━━━━━━━━━━━━\u001b[0m \u001b[32m53.1/53.1 kB\u001b[0m \u001b[31m3.1 MB/s\u001b[0m eta \u001b[36m0:00:00\u001b[0m\n",
            "\u001b[?25hCollecting emoji<2.0.0,>=1.0.0\n",
            "  Downloading emoji-1.7.0.tar.gz (175 kB)\n",
            "\u001b[2K     \u001b[90m━━━━━━━━━━━━━━━━━━━━━━━━━━━━━━━━━━━━━━\u001b[0m \u001b[32m175.4/175.4 kB\u001b[0m \u001b[31m11.8 MB/s\u001b[0m eta \u001b[36m0:00:00\u001b[0m\n",
            "\u001b[?25h  Preparing metadata (setup.py) ... \u001b[?25l\u001b[?25hdone\n",
            "Requirement already satisfied: wcwidth>=0.2.5 in /usr/local/lib/python3.9/dist-packages (from ftfy<7.0,>=6.0->clean-text) (0.2.6)\n",
            "Building wheels for collected packages: emoji\n",
            "  Building wheel for emoji (setup.py) ... \u001b[?25l\u001b[?25hdone\n",
            "  Created wheel for emoji: filename=emoji-1.7.0-py3-none-any.whl size=171048 sha256=5bba5fa596e5a00bf0bf1ce5126ad9292a27d39f20cdfd3c94ddd9f467439d30\n",
            "  Stored in directory: /root/.cache/pip/wheels/fa/7a/e9/22dd0515e1bad255e51663ee513a2fa839c95934c5fc301090\n",
            "Successfully built emoji\n",
            "Installing collected packages: emoji, ftfy, clean-text\n",
            "Successfully installed clean-text-0.6.0 emoji-1.7.0 ftfy-6.1.1\n"
          ]
        }
      ]
    },
    {
      "cell_type": "code",
      "source": [
        "from cleantext import clean"
      ],
      "metadata": {
        "id": "ikucrPHweTt4",
        "colab": {
          "base_uri": "https://localhost:8080/"
        },
        "outputId": "71a5e90a-dc21-4fd4-fb14-e13d11934bbf"
      },
      "execution_count": 24,
      "outputs": [
        {
          "output_type": "stream",
          "name": "stderr",
          "text": [
            "WARNING:root:Since the GPL-licensed package `unidecode` is not installed, using Python's `unicodedata` package which yields worse results.\n"
          ]
        }
      ]
    },
    {
      "cell_type": "code",
      "source": [
        "#Converting into lower case\n",
        "def lower_case(text):\n",
        "    text_l=text.lower()\n",
        "    return text_l"
      ],
      "metadata": {
        "id": "sXAkclKRVyxi"
      },
      "execution_count": 25,
      "outputs": []
    },
    {
      "cell_type": "code",
      "source": [
        " # Remove all the occurrences of text that ends with .https and .com\n",
        "def remove_links(text):\n",
        "  remove_https = re.sub(r'http\\S+', '', text)\n",
        "  remove_com = re.sub(r\"\\[A-Za-z]*\\.com\", \"\", remove_https)\n",
        "  return remove_https"
      ],
      "metadata": {
        "id": "CuujqTuQV6aR"
      },
      "execution_count": 26,
      "outputs": []
    },
    {
      "cell_type": "code",
      "source": [
        " # Remove all hashtags\n",
        "def remove_hashtags(text):\n",
        "  remove_hashtags =re.sub(\"#[A-Za-z0-9_]+\",\"\", text)\n",
        "  remove_hashtags_c =re.sub(\"@[A-Za-z0-9_]+\",\"\", remove_hashtags )\n",
        "  return remove_hashtags_c"
      ],
      "metadata": {
        "id": "O3KrApI7V9nG"
      },
      "execution_count": 27,
      "outputs": []
    },
    {
      "cell_type": "code",
      "source": [
        "def remove_emojis(text):\n",
        "  text=clean(text, no_emoji=True)\n",
        "  return text\n"
      ],
      "metadata": {
        "id": "2l3NhYe0eVau"
      },
      "execution_count": 28,
      "outputs": []
    },
    {
      "cell_type": "code",
      "source": [
        "# Remove punctuations , full stops etc\n",
        "def remove_punctuations(text):\n",
        "  remove_punc = [re.sub(r'[^\\w\\s]','',word) for word in text]\n",
        "  return remove_punc\n"
      ],
      "metadata": {
        "id": "I6wwedtylUxa"
      },
      "execution_count": 29,
      "outputs": []
    },
    {
      "cell_type": "code",
      "source": [
        "#Remove stop words \n",
        "def remove_stopword(text):\n",
        "    text=[word for word in text if not word in stopwords.words('english')]\n",
        "    return text"
      ],
      "metadata": {
        "id": "ubsdGeJ8uz_3"
      },
      "execution_count": 30,
      "outputs": []
    },
    {
      "cell_type": "code",
      "source": [
        "def processing(text):\n",
        "    text=lower_case(text)\n",
        "    text=remove_emojis(text)\n",
        "    text=remove_links(text)\n",
        "    text=remove_hashtags(text)\n",
        "    #text=remove_stopword(text)\n",
        "    text=remove_punctuations(text)\n",
        "    text=\"\".join(text)\n",
        "    return text"
      ],
      "metadata": {
        "id": "iWZnq0_PWAMi"
      },
      "execution_count": 31,
      "outputs": []
    },
    {
      "cell_type": "code",
      "source": [
        "#sample example\n",
        "processing(\"How tommorrow . ; !  https://www.freecodecamp.org/news/python-web-scraping-tutorial/ #rammm @rammm 😂 ⤵️\")"
      ],
      "metadata": {
        "colab": {
          "base_uri": "https://localhost:8080/",
          "height": 36
        },
        "id": "HBQsMI4OWJzW",
        "outputId": "1db44612-36a0-470f-de11-503adbb61277"
      },
      "execution_count": 32,
      "outputs": [
        {
          "output_type": "execute_result",
          "data": {
            "text/plain": [
              "'how tommorrow      '"
            ],
            "application/vnd.google.colaboratory.intrinsic+json": {
              "type": "string"
            }
          },
          "metadata": {},
          "execution_count": 32
        }
      ]
    },
    {
      "cell_type": "code",
      "source": [
        "processed_data=[]\n",
        "for i in range(len(data)):\n",
        "      processed_data.append(processing(data['full_text'][i]))"
      ],
      "metadata": {
        "id": "ReSlyuQQWLM9"
      },
      "execution_count": 33,
      "outputs": []
    },
    {
      "cell_type": "code",
      "source": [
        "!pip install langdetect"
      ],
      "metadata": {
        "colab": {
          "base_uri": "https://localhost:8080/"
        },
        "id": "xBLOCBjpH1C5",
        "outputId": "b67333bd-da00-48f9-cb92-02a6150fb173"
      },
      "execution_count": 34,
      "outputs": [
        {
          "output_type": "stream",
          "name": "stdout",
          "text": [
            "Looking in indexes: https://pypi.org/simple, https://us-python.pkg.dev/colab-wheels/public/simple/\n",
            "Collecting langdetect\n",
            "  Downloading langdetect-1.0.9.tar.gz (981 kB)\n",
            "\u001b[?25l     \u001b[90m━━━━━━━━━━━━━━━━━━━━━━━━━━━━━━━━━━━━━━━━\u001b[0m \u001b[32m0.0/981.5 kB\u001b[0m \u001b[31m?\u001b[0m eta \u001b[36m-:--:--\u001b[0m\r\u001b[2K     \u001b[91m━━━━━━━━━━━━━━━━━━━━━━━━━━━━━━━━━━━━━\u001b[0m\u001b[91m╸\u001b[0m \u001b[32m972.8/981.5 kB\u001b[0m \u001b[31m35.5 MB/s\u001b[0m eta \u001b[36m0:00:01\u001b[0m\r\u001b[2K     \u001b[90m━━━━━━━━━━━━━━━━━━━━━━━━━━━━━━━━━━━━━━\u001b[0m \u001b[32m981.5/981.5 kB\u001b[0m \u001b[31m24.6 MB/s\u001b[0m eta \u001b[36m0:00:00\u001b[0m\n",
            "\u001b[?25h  Preparing metadata (setup.py) ... \u001b[?25l\u001b[?25hdone\n",
            "Requirement already satisfied: six in /usr/local/lib/python3.9/dist-packages (from langdetect) (1.16.0)\n",
            "Building wheels for collected packages: langdetect\n",
            "  Building wheel for langdetect (setup.py) ... \u001b[?25l\u001b[?25hdone\n",
            "  Created wheel for langdetect: filename=langdetect-1.0.9-py3-none-any.whl size=993243 sha256=c782ba70b44198777bb8f77d28d09f70399666a30e3b9fd09420db770e2f527a\n",
            "  Stored in directory: /root/.cache/pip/wheels/d1/c1/d9/7e068de779d863bc8f8fc9467d85e25cfe47fa5051fff1a1bb\n",
            "Successfully built langdetect\n",
            "Installing collected packages: langdetect\n",
            "Successfully installed langdetect-1.0.9\n"
          ]
        }
      ]
    },
    {
      "cell_type": "code",
      "source": [
        "from langdetect import detect\n",
        "from langdetect import DetectorFactory\n",
        "DetectorFactory.seed = 0"
      ],
      "metadata": {
        "id": "usXafw-OHJN-"
      },
      "execution_count": 35,
      "outputs": []
    },
    {
      "cell_type": "code",
      "source": [
        "def is_english_tweet(x):\n",
        "    try:\n",
        "        lang = detect(x)\n",
        "        return lang == 'en'\n",
        "    except:\n",
        "        return False"
      ],
      "metadata": {
        "id": "uDEa9llqH-pw"
      },
      "execution_count": 36,
      "outputs": []
    },
    {
      "cell_type": "code",
      "source": [
        "final_processed_data=[]\n",
        "for x in processed_data:\n",
        "    if is_english_tweet(x):\n",
        "        final_processed_data.append(x)"
      ],
      "metadata": {
        "id": "uXBBpbiCWWzC"
      },
      "execution_count": 37,
      "outputs": []
    },
    {
      "cell_type": "code",
      "source": [
        "final_processed_data[200]"
      ],
      "metadata": {
        "colab": {
          "base_uri": "https://localhost:8080/",
          "height": 53
        },
        "id": "LtxKiJhZJZWr",
        "outputId": "423c6856-5140-4811-bb76-ba54c3afe460"
      },
      "execution_count": 38,
      "outputs": [
        {
          "output_type": "execute_result",
          "data": {
            "text/plain": [
              "'the most fucked up thing elon musk did to twitter is the twitter blue tick subscription feature'"
            ],
            "application/vnd.google.colaboratory.intrinsic+json": {
              "type": "string"
            }
          },
          "metadata": {},
          "execution_count": 38
        }
      ]
    },
    {
      "cell_type": "code",
      "source": [
        "n =len(final_processed_data)"
      ],
      "metadata": {
        "id": "00i73dSYJuE3"
      },
      "execution_count": 39,
      "outputs": []
    },
    {
      "cell_type": "code",
      "source": [
        "n"
      ],
      "metadata": {
        "colab": {
          "base_uri": "https://localhost:8080/"
        },
        "id": "Egw3heDnKNzU",
        "outputId": "3fe21285-8adc-489d-87e8-18c091f02b25"
      },
      "execution_count": 40,
      "outputs": [
        {
          "output_type": "execute_result",
          "data": {
            "text/plain": [
              "686"
            ]
          },
          "metadata": {},
          "execution_count": 40
        }
      ]
    },
    {
      "cell_type": "code",
      "source": [
        "df = pd.DataFrame(final_processed_data)\n",
        "df"
      ],
      "metadata": {
        "colab": {
          "base_uri": "https://localhost:8080/",
          "height": 423
        },
        "id": "_c7gxw65L2i9",
        "outputId": "9a31fdbd-d36c-452f-c0b8-a30af1fea4e4"
      },
      "execution_count": 41,
      "outputs": [
        {
          "output_type": "execute_result",
          "data": {
            "text/plain": [
              "                                                     0\n",
              "0      can one of you clowns ask why he went to eps...\n",
              "1       when we are forced to walk around with smar...\n",
              "2     is again the richest man on earth the media a...\n",
              "3      maybe you can call in the  to finish off the...\n",
              "4      i love how elons old version tech is still w...\n",
              "..                                                 ...\n",
              "681                                   nato is the bear\n",
              "682       reversed wishing star it curses your enemies\n",
              "683      made exercitations there are we analysing ...\n",
              "684      you can never go wrong with real statistic...\n",
              "685    nato and the west have not once suggested ce...\n",
              "\n",
              "[686 rows x 1 columns]"
            ],
            "text/html": [
              "\n",
              "  <div id=\"df-7fa17da3-20d7-4b9a-8e8c-eb48f0d957ab\">\n",
              "    <div class=\"colab-df-container\">\n",
              "      <div>\n",
              "<style scoped>\n",
              "    .dataframe tbody tr th:only-of-type {\n",
              "        vertical-align: middle;\n",
              "    }\n",
              "\n",
              "    .dataframe tbody tr th {\n",
              "        vertical-align: top;\n",
              "    }\n",
              "\n",
              "    .dataframe thead th {\n",
              "        text-align: right;\n",
              "    }\n",
              "</style>\n",
              "<table border=\"1\" class=\"dataframe\">\n",
              "  <thead>\n",
              "    <tr style=\"text-align: right;\">\n",
              "      <th></th>\n",
              "      <th>0</th>\n",
              "    </tr>\n",
              "  </thead>\n",
              "  <tbody>\n",
              "    <tr>\n",
              "      <th>0</th>\n",
              "      <td>can one of you clowns ask why he went to eps...</td>\n",
              "    </tr>\n",
              "    <tr>\n",
              "      <th>1</th>\n",
              "      <td>when we are forced to walk around with smar...</td>\n",
              "    </tr>\n",
              "    <tr>\n",
              "      <th>2</th>\n",
              "      <td>is again the richest man on earth the media a...</td>\n",
              "    </tr>\n",
              "    <tr>\n",
              "      <th>3</th>\n",
              "      <td>maybe you can call in the  to finish off the...</td>\n",
              "    </tr>\n",
              "    <tr>\n",
              "      <th>4</th>\n",
              "      <td>i love how elons old version tech is still w...</td>\n",
              "    </tr>\n",
              "    <tr>\n",
              "      <th>...</th>\n",
              "      <td>...</td>\n",
              "    </tr>\n",
              "    <tr>\n",
              "      <th>681</th>\n",
              "      <td>nato is the bear</td>\n",
              "    </tr>\n",
              "    <tr>\n",
              "      <th>682</th>\n",
              "      <td>reversed wishing star it curses your enemies</td>\n",
              "    </tr>\n",
              "    <tr>\n",
              "      <th>683</th>\n",
              "      <td>made exercitations there are we analysing ...</td>\n",
              "    </tr>\n",
              "    <tr>\n",
              "      <th>684</th>\n",
              "      <td>you can never go wrong with real statistic...</td>\n",
              "    </tr>\n",
              "    <tr>\n",
              "      <th>685</th>\n",
              "      <td>nato and the west have not once suggested ce...</td>\n",
              "    </tr>\n",
              "  </tbody>\n",
              "</table>\n",
              "<p>686 rows × 1 columns</p>\n",
              "</div>\n",
              "      <button class=\"colab-df-convert\" onclick=\"convertToInteractive('df-7fa17da3-20d7-4b9a-8e8c-eb48f0d957ab')\"\n",
              "              title=\"Convert this dataframe to an interactive table.\"\n",
              "              style=\"display:none;\">\n",
              "        \n",
              "  <svg xmlns=\"http://www.w3.org/2000/svg\" height=\"24px\"viewBox=\"0 0 24 24\"\n",
              "       width=\"24px\">\n",
              "    <path d=\"M0 0h24v24H0V0z\" fill=\"none\"/>\n",
              "    <path d=\"M18.56 5.44l.94 2.06.94-2.06 2.06-.94-2.06-.94-.94-2.06-.94 2.06-2.06.94zm-11 1L8.5 8.5l.94-2.06 2.06-.94-2.06-.94L8.5 2.5l-.94 2.06-2.06.94zm10 10l.94 2.06.94-2.06 2.06-.94-2.06-.94-.94-2.06-.94 2.06-2.06.94z\"/><path d=\"M17.41 7.96l-1.37-1.37c-.4-.4-.92-.59-1.43-.59-.52 0-1.04.2-1.43.59L10.3 9.45l-7.72 7.72c-.78.78-.78 2.05 0 2.83L4 21.41c.39.39.9.59 1.41.59.51 0 1.02-.2 1.41-.59l7.78-7.78 2.81-2.81c.8-.78.8-2.07 0-2.86zM5.41 20L4 18.59l7.72-7.72 1.47 1.35L5.41 20z\"/>\n",
              "  </svg>\n",
              "      </button>\n",
              "      \n",
              "  <style>\n",
              "    .colab-df-container {\n",
              "      display:flex;\n",
              "      flex-wrap:wrap;\n",
              "      gap: 12px;\n",
              "    }\n",
              "\n",
              "    .colab-df-convert {\n",
              "      background-color: #E8F0FE;\n",
              "      border: none;\n",
              "      border-radius: 50%;\n",
              "      cursor: pointer;\n",
              "      display: none;\n",
              "      fill: #1967D2;\n",
              "      height: 32px;\n",
              "      padding: 0 0 0 0;\n",
              "      width: 32px;\n",
              "    }\n",
              "\n",
              "    .colab-df-convert:hover {\n",
              "      background-color: #E2EBFA;\n",
              "      box-shadow: 0px 1px 2px rgba(60, 64, 67, 0.3), 0px 1px 3px 1px rgba(60, 64, 67, 0.15);\n",
              "      fill: #174EA6;\n",
              "    }\n",
              "\n",
              "    [theme=dark] .colab-df-convert {\n",
              "      background-color: #3B4455;\n",
              "      fill: #D2E3FC;\n",
              "    }\n",
              "\n",
              "    [theme=dark] .colab-df-convert:hover {\n",
              "      background-color: #434B5C;\n",
              "      box-shadow: 0px 1px 3px 1px rgba(0, 0, 0, 0.15);\n",
              "      filter: drop-shadow(0px 1px 2px rgba(0, 0, 0, 0.3));\n",
              "      fill: #FFFFFF;\n",
              "    }\n",
              "  </style>\n",
              "\n",
              "      <script>\n",
              "        const buttonEl =\n",
              "          document.querySelector('#df-7fa17da3-20d7-4b9a-8e8c-eb48f0d957ab button.colab-df-convert');\n",
              "        buttonEl.style.display =\n",
              "          google.colab.kernel.accessAllowed ? 'block' : 'none';\n",
              "\n",
              "        async function convertToInteractive(key) {\n",
              "          const element = document.querySelector('#df-7fa17da3-20d7-4b9a-8e8c-eb48f0d957ab');\n",
              "          const dataTable =\n",
              "            await google.colab.kernel.invokeFunction('convertToInteractive',\n",
              "                                                     [key], {});\n",
              "          if (!dataTable) return;\n",
              "\n",
              "          const docLinkHtml = 'Like what you see? Visit the ' +\n",
              "            '<a target=\"_blank\" href=https://colab.research.google.com/notebooks/data_table.ipynb>data table notebook</a>'\n",
              "            + ' to learn more about interactive tables.';\n",
              "          element.innerHTML = '';\n",
              "          dataTable['output_type'] = 'display_data';\n",
              "          await google.colab.output.renderOutput(dataTable, element);\n",
              "          const docLink = document.createElement('div');\n",
              "          docLink.innerHTML = docLinkHtml;\n",
              "          element.appendChild(docLink);\n",
              "        }\n",
              "      </script>\n",
              "    </div>\n",
              "  </div>\n",
              "  "
            ]
          },
          "metadata": {},
          "execution_count": 41
        }
      ]
    },
    {
      "cell_type": "code",
      "source": [
        "df.to_csv(\"dataset_elonmusk_p.csv\")"
      ],
      "metadata": {
        "id": "1JgU2hj4OcUK"
      },
      "execution_count": null,
      "outputs": []
    },
    {
      "cell_type": "markdown",
      "source": [
        "#Tokenization"
      ],
      "metadata": {
        "id": "cUOWCZ_Rn7cf"
      }
    },
    {
      "cell_type": "code",
      "source": [
        "import nltk\n",
        "nltk.download('punkt')"
      ],
      "metadata": {
        "colab": {
          "base_uri": "https://localhost:8080/"
        },
        "id": "rOhKd0WrpY1X",
        "outputId": "dcebc04d-de25-47d9-fdca-9e00c1e46a39"
      },
      "execution_count": 42,
      "outputs": [
        {
          "output_type": "stream",
          "name": "stderr",
          "text": [
            "[nltk_data] Downloading package punkt to /root/nltk_data...\n",
            "[nltk_data]   Package punkt is already up-to-date!\n"
          ]
        },
        {
          "output_type": "execute_result",
          "data": {
            "text/plain": [
              "True"
            ]
          },
          "metadata": {},
          "execution_count": 42
        }
      ]
    },
    {
      "cell_type": "code",
      "source": [
        "from nltk.tokenize import word_tokenize"
      ],
      "metadata": {
        "id": "eolmFafqPr17"
      },
      "execution_count": 43,
      "outputs": []
    },
    {
      "cell_type": "code",
      "source": [
        "t_processed_data=[]\n",
        "for x in final_processed_data:\n",
        "  y=word_tokenize(x) \n",
        "  t_processed_data.append(y)"
      ],
      "metadata": {
        "id": "tkm6X_McoAqN"
      },
      "execution_count": 44,
      "outputs": []
    },
    {
      "cell_type": "code",
      "source": [
        "len(t_processed_data)"
      ],
      "metadata": {
        "colab": {
          "base_uri": "https://localhost:8080/"
        },
        "id": "9-Wo9dlDpQeB",
        "outputId": "137d698d-9680-485d-fd17-56689b56cafb"
      },
      "execution_count": 45,
      "outputs": [
        {
          "output_type": "execute_result",
          "data": {
            "text/plain": [
              "686"
            ]
          },
          "metadata": {},
          "execution_count": 45
        }
      ]
    },
    {
      "cell_type": "markdown",
      "source": [
        "#POS Tagging"
      ],
      "metadata": {
        "id": "5R_cVHW1w9II"
      }
    },
    {
      "cell_type": "code",
      "source": [
        "nltk.download('averaged_perceptron_tagger')"
      ],
      "metadata": {
        "colab": {
          "base_uri": "https://localhost:8080/"
        },
        "id": "J70yHhDdeYTp",
        "outputId": "5afc9bad-2a1d-4446-babb-05890d721463"
      },
      "execution_count": null,
      "outputs": [
        {
          "output_type": "stream",
          "name": "stderr",
          "text": [
            "[nltk_data] Downloading package averaged_perceptron_tagger to\n",
            "[nltk_data]     /root/nltk_data...\n",
            "[nltk_data]   Package averaged_perceptron_tagger is already up-to-\n",
            "[nltk_data]       date!\n"
          ]
        },
        {
          "output_type": "execute_result",
          "data": {
            "text/plain": [
              "True"
            ]
          },
          "metadata": {},
          "execution_count": 135
        }
      ]
    },
    {
      "cell_type": "code",
      "source": [
        "POS_processed_data=[]\n",
        "for x in final_processed_data :\n",
        "  tokens = word_tokenize(x)\n",
        "  pos_tags = nltk.pos_tag(tokens)\n",
        "  POS_processed_data.append(pos_tags)"
      ],
      "metadata": {
        "id": "M_RdGqqqctEl"
      },
      "execution_count": null,
      "outputs": []
    },
    {
      "cell_type": "code",
      "source": [
        "POS_processed_data[0]"
      ],
      "metadata": {
        "colab": {
          "base_uri": "https://localhost:8080/"
        },
        "id": "q2IXv2jer0e_",
        "outputId": "9039eff1-b6f0-42ac-a769-ba8f87538209"
      },
      "execution_count": null,
      "outputs": [
        {
          "output_type": "execute_result",
          "data": {
            "text/plain": [
              "[('can', 'MD'),\n",
              " ('one', 'CD'),\n",
              " ('of', 'IN'),\n",
              " ('you', 'PRP'),\n",
              " ('clowns', 'VBP'),\n",
              " ('ask', 'VB'),\n",
              " ('why', 'WRB'),\n",
              " ('he', 'PRP'),\n",
              " ('went', 'VBD'),\n",
              " ('to', 'TO'),\n",
              " ('epsteins', 'NNS'),\n",
              " ('island', 'VB'),\n",
              " ('so', 'RB'),\n",
              " ('many', 'JJ'),\n",
              " ('times', 'NNS')]"
            ]
          },
          "metadata": {},
          "execution_count": 137
        }
      ]
    },
    {
      "cell_type": "markdown",
      "source": [
        "# **Lemmatization**"
      ],
      "metadata": {
        "id": "YlxNqieVX3aP"
      }
    },
    {
      "cell_type": "code",
      "source": [
        " from nltk.stem import WordNetLemmatizer"
      ],
      "metadata": {
        "id": "TojGzT2uYNUh"
      },
      "execution_count": 46,
      "outputs": []
    },
    {
      "cell_type": "code",
      "source": [
        "nltk.download('wordnet')\n",
        "nltk.download('stopwords')"
      ],
      "metadata": {
        "colab": {
          "base_uri": "https://localhost:8080/"
        },
        "id": "fNX0W8v4agD-",
        "outputId": "948411b2-dde9-46bf-9c5b-b1f9c30ecc65"
      },
      "execution_count": 47,
      "outputs": [
        {
          "output_type": "stream",
          "name": "stderr",
          "text": [
            "[nltk_data] Downloading package wordnet to /root/nltk_data...\n",
            "[nltk_data] Downloading package stopwords to /root/nltk_data...\n",
            "[nltk_data]   Package stopwords is already up-to-date!\n"
          ]
        },
        {
          "output_type": "execute_result",
          "data": {
            "text/plain": [
              "True"
            ]
          },
          "metadata": {},
          "execution_count": 47
        }
      ]
    },
    {
      "cell_type": "code",
      "source": [
        "lemmatizer = WordNetLemmatizer()\n",
        "stop_words = set(stopwords.words('english'))\n"
      ],
      "metadata": {
        "id": "5bfXbySqZylO"
      },
      "execution_count": 48,
      "outputs": []
    },
    {
      "cell_type": "code",
      "source": [
        "def lemmatize_tweet(tweet):\n",
        "    # Tokenize the tweet\n",
        "    words = nltk.word_tokenize(tweet.lower())\n",
        "    \n",
        "    # Remove stop words and lemmatize each word\n",
        "    lemmatized_words = [lemmatizer.lemmatize(word) for word in words if word not in stop_words]\n",
        "    \n",
        "    # Join the lemmatized words back into a string\n",
        "    lemmatized_tweet = ' '.join(lemmatized_words)\n",
        "    \n",
        "    return lemmatized_tweet"
      ],
      "metadata": {
        "id": "2MgLK0YCZ2zG"
      },
      "execution_count": 49,
      "outputs": []
    },
    {
      "cell_type": "code",
      "source": [
        "l_processed_data=[]\n",
        "for x in final_processed_data:\n",
        "  y=lemmatize_tweet(x) \n",
        "  l_processed_data.append(y)"
      ],
      "metadata": {
        "id": "Yy8SZIdXXJ_U"
      },
      "execution_count": 50,
      "outputs": []
    },
    {
      "cell_type": "code",
      "source": [
        "# l_processed_data[:50]"
      ],
      "metadata": {
        "id": "rl_jzMKbeyHl"
      },
      "execution_count": 9,
      "outputs": []
    },
    {
      "cell_type": "markdown",
      "source": [
        "#Embedding using Spacy "
      ],
      "metadata": {
        "id": "d5xeojXOLMMN"
      }
    },
    {
      "cell_type": "code",
      "source": [
        "import spacy\n",
        "# Load the pre-trained spaCy model\n",
        "nlp = spacy.load(\"en_core_web_sm\")"
      ],
      "metadata": {
        "id": "4wKtlI36pf1z"
      },
      "execution_count": null,
      "outputs": []
    },
    {
      "cell_type": "code",
      "source": [
        "def get_word_embeddings(text):\n",
        "    doc = nlp(text)\n",
        "    embeddings = []\n",
        "    for token in doc:\n",
        "        if not token.is_stop:\n",
        "          embeddings.append(token.vector)\n",
        "    return embeddings"
      ],
      "metadata": {
        "id": "1JkIJMIHrdlU"
      },
      "execution_count": null,
      "outputs": []
    },
    {
      "cell_type": "code",
      "source": [
        "we_processed_data=[]\n",
        "for sentence in l_processed_data:\n",
        "  we_processed_data.append(get_word_embeddings(sentence))"
      ],
      "metadata": {
        "id": "FG8YNcQ-e09P"
      },
      "execution_count": null,
      "outputs": []
    },
    {
      "cell_type": "code",
      "source": [
        "m1=len(we_processed_data)\n",
        "m2=len(we_processed_data[2])\n",
        "m3=len(l_processed_data)"
      ],
      "metadata": {
        "id": "qE9g1FYLfPX6"
      },
      "execution_count": null,
      "outputs": []
    },
    {
      "cell_type": "markdown",
      "source": [
        "# Fine Tunning Model"
      ],
      "metadata": {
        "id": "DGBaX7Ugdquw"
      }
    },
    {
      "cell_type": "code",
      "source": [
        "pip install transformers --upgrade\n"
      ],
      "metadata": {
        "colab": {
          "base_uri": "https://localhost:8080/"
        },
        "id": "OOIz_mHtjH0n",
        "outputId": "cd9a86d1-2438-43b6-a68a-c33b28a59846"
      },
      "execution_count": 67,
      "outputs": [
        {
          "output_type": "stream",
          "name": "stdout",
          "text": [
            "Looking in indexes: https://pypi.org/simple, https://us-python.pkg.dev/colab-wheels/public/simple/\n",
            "Requirement already satisfied: transformers in /usr/local/lib/python3.9/dist-packages (4.27.4)\n",
            "Requirement already satisfied: tokenizers!=0.11.3,<0.14,>=0.11.1 in /usr/local/lib/python3.9/dist-packages (from transformers) (0.13.3)\n",
            "Requirement already satisfied: packaging>=20.0 in /usr/local/lib/python3.9/dist-packages (from transformers) (23.0)\n",
            "Requirement already satisfied: regex!=2019.12.17 in /usr/local/lib/python3.9/dist-packages (from transformers) (2022.10.31)\n",
            "Requirement already satisfied: tqdm>=4.27 in /usr/local/lib/python3.9/dist-packages (from transformers) (4.65.0)\n",
            "Requirement already satisfied: numpy>=1.17 in /usr/local/lib/python3.9/dist-packages (from transformers) (1.22.4)\n",
            "Requirement already satisfied: pyyaml>=5.1 in /usr/local/lib/python3.9/dist-packages (from transformers) (6.0)\n",
            "Requirement already satisfied: huggingface-hub<1.0,>=0.11.0 in /usr/local/lib/python3.9/dist-packages (from transformers) (0.13.4)\n",
            "Requirement already satisfied: requests in /usr/local/lib/python3.9/dist-packages (from transformers) (2.27.1)\n",
            "Requirement already satisfied: filelock in /usr/local/lib/python3.9/dist-packages (from transformers) (3.11.0)\n",
            "Requirement already satisfied: typing-extensions>=3.7.4.3 in /usr/local/lib/python3.9/dist-packages (from huggingface-hub<1.0,>=0.11.0->transformers) (4.5.0)\n",
            "Requirement already satisfied: charset-normalizer~=2.0.0 in /usr/local/lib/python3.9/dist-packages (from requests->transformers) (2.0.12)\n",
            "Requirement already satisfied: urllib3<1.27,>=1.21.1 in /usr/local/lib/python3.9/dist-packages (from requests->transformers) (1.26.15)\n",
            "Requirement already satisfied: certifi>=2017.4.17 in /usr/local/lib/python3.9/dist-packages (from requests->transformers) (2022.12.7)\n",
            "Requirement already satisfied: idna<4,>=2.5 in /usr/local/lib/python3.9/dist-packages (from requests->transformers) (3.4)\n"
          ]
        }
      ]
    },
    {
      "cell_type": "code",
      "source": [
        "# pip install sentencepiece"
      ],
      "metadata": {
        "id": "edyr9_pUsZB9"
      },
      "execution_count": 68,
      "outputs": []
    },
    {
      "cell_type": "code",
      "source": [
        "import torch"
      ],
      "metadata": {
        "id": "PJ97FzwsrN9Y"
      },
      "execution_count": 82,
      "outputs": []
    },
    {
      "cell_type": "code",
      "source": [
        "from transformers import AutoTokenizer, AutoModelForSeq2SeqLM, T5ForConditionalGeneration, Trainer, TrainingArguments\n",
        "\n",
        "tokenizer = AutoTokenizer.from_pretrained(\"t5-small\")\n",
        "model = AutoModelForSeq2SeqLM.from_pretrained(\"t5-small\")\n"
      ],
      "metadata": {
        "colab": {
          "base_uri": "https://localhost:8080/"
        },
        "id": "--iVoLHnt7uJ",
        "outputId": "3a7e529f-e433-4a7d-8542-40592ff60946"
      },
      "execution_count": 83,
      "outputs": [
        {
          "output_type": "stream",
          "name": "stderr",
          "text": [
            "/usr/local/lib/python3.9/dist-packages/transformers/models/t5/tokenization_t5_fast.py:155: FutureWarning: This tokenizer was incorrectly instantiated with a model max length of 512 which will be corrected in Transformers v5.\n",
            "For now, this behavior is kept to avoid breaking backwards compatibility when padding/encoding with `truncation is True`.\n",
            "- Be aware that you SHOULD NOT rely on t5-small automatically truncating your input to 512 when padding/encoding.\n",
            "- If you want to encode/pad to sequences longer than 512 you can either instantiate this tokenizer with `model_max_length` or pass `max_length` when encoding/padding.\n",
            "- To avoid this warning, please instantiate this tokenizer with `model_max_length` set to your preferred value.\n",
            "  warnings.warn(\n"
          ]
        }
      ]
    },
    {
      "cell_type": "code",
      "source": [
        "# df = pd.read_csv('/content/finalDatasetNLP.csv')"
      ],
      "metadata": {
        "id": "V5CgsfUvuanq"
      },
      "execution_count": 80,
      "outputs": []
    },
    {
      "cell_type": "code",
      "source": [
        "temp = l_processed_data[:50]"
      ],
      "metadata": {
        "id": "pRLThqsL9DjV"
      },
      "execution_count": 84,
      "outputs": []
    },
    {
      "cell_type": "code",
      "source": [
        "# text = \"Input text for summarization. Abstractive summarization we are doing here\"\n",
        "final_summary=\"\"\n",
        "for text in temp:\n",
        "  inputs = tokenizer.encode(text, return_tensors=\"pt\", max_length=512, truncation=True)\n",
        "  summary_ids = model.generate(inputs, max_length=100, min_length=40, length_penalty=2.0)\n",
        "  summary = tokenizer.decode(summary_ids[0], skip_special_tokens=True)\n",
        "  final_summary=summary+final_summary\n",
        "  "
      ],
      "metadata": {
        "id": "aJS3fgK9uH4z"
      },
      "execution_count": 86,
      "outputs": []
    },
    {
      "cell_type": "code",
      "source": [],
      "metadata": {
        "id": "t-oF4gf8ry5t"
      },
      "execution_count": null,
      "outputs": []
    },
    {
      "cell_type": "code",
      "source": [
        "print(final_summary)"
      ],
      "metadata": {
        "colab": {
          "base_uri": "https://localhost:8080/"
        },
        "id": "Gvrxgf_euNPP",
        "outputId": "6116a21f-65b1-41a9-a986-9352fcc3ef88"
      },
      "execution_count": 87,
      "outputs": [
        {
          "output_type": "stream",
          "name": "stdout",
          "text": [
            "pacificsanctum stand despite pacificsanctum doesnt fall trump idiocy maga scum defender free opinion truth sadly correct pacificsanctum sadly correct pacificsanctum does not fall trump idiocy maga scum defender free opinion truth sadly correct pacificsanctum stand despite pacificsanctum doesnt fall trump idiocy maga stiger pure decentralized finance elon musk zero reduction experimentthis next shiba bnbchain shiba bnbchain shiba bnbchainss ss ss ss ss ss ss ss ss ss ss ss ss ss ss ss ss ss ss ss ss ss ss ss ss ss ss ss ss ss ss ss ssyesbut france proved ww2 relying solely defense losing strategy need least able counterattack locally. ww2 relying only on defense losing strategy need least able counterattack local                                                 u mexico decides enter strategic alliance russia china wouldnt also invade would lean back would lean back would u mexico decides enter strategic alliance russia china would not also invade would lean back would u mexico decides enter strategic alliance russia china would not also invade would lean back would lean back would u mexico decides enter strategic alliance russia china would not also invade would lean back would utesla gratis tesla. tesla. tesla. tesla. tesla. tesla. tesla. tesla. teslatwitter given strike simply pointing simple pointing simple pointing simple pointing verifiable fact addressing reality racial violence u u u u u u u u u u u u u u u u u u u u u u u u u u u u u u u u u u u annoying annoying annoying annoying annoying annoying annoying annoying annoying annoying annoying annoying annoying annoying annoying annoying annoying annoying annoying annoying annoying annoying annoying annoying annoying annoying annoying annoying annoying annoying annoying annoying annoying annoying annoying annoying annoying annoying annoying annoying annoying annoying annoying annoying annoying annoying annoying annoying annoying annoying annoying annoying annoying annoying annoying annoying annoying annoying annoying annoying annoying annoying annoying annoying annoying annoying annoying annoying annoying annoying annoying annoying annoying annoying annoying annoying annoying annoying annoying annoying annoying annoying annoying annoying annoying annoying annoying annoying annoying annoying annoying annoying annoying annoying annoying annoying annoying annoying annoyingrecruit team develop openais chatgpt rival information reuters. elon musk recruit team develop openais chatgpt rival information reuterstell abt watch watch participate suffering others write book get publishing advance royalty impressed if you have a a a a a a a a a a a a a a a a a a a a a a a a a a a a a a a a a a a a a a a ainside info russian russian russian russian russian russian russian russian russian russian russian russian russiantwitter weaponized ideologue shut open discussion serious issue racial violence america please enable quicker appeal transparency process. iiiiiiiiiiiiiiiiiiiiiiiiiiiiiiiiiiiiiiiiiiiiiiiiiiiiiiiiiiiiiiiiiiiiiiiage limit founding father never thought people would live long realize congress would never approve something like humanity doubled life expectancy 20st century.      fsd need 101000 x better human 6 sigma fsd accident huge lawsuit waiting regulatory wont every given level 5 driver assist next many year. elon fsd need 101000 x better human 6 sigma fsd accident huge lawsuit waiting regulatory wont every given level 5 driver assist next many year.trolled trolled buying remember forced aspect forced aspect forced aspect forced aspect forced aspect obligating contract signed signed a a a a a a a a a a a a a a a a a a a a a a a a a a a a a a a a a a a a a aelon musk approached ai researcher recent week forming new research lab develop alternative openais chatgpt informationreportedon monday citing people direct knowledge effort200000 life putin extinguished free speech absolutist gon na say time putin kick bucket syst syst syst se one???????????????????Tag 2: 00:00 - Tag 2:00 - Tag 2:00 - Tag 2:00 - Tag 2:00 - Tag 2:00 - Tag 2:00 - Tag 2:00 - Tag 2:00 - Tag 2:00 - Tag 2:00 - Tag 2:00 - Tag 2:00 - Tag 2:00 - Tag 2:00 - Tag 2:00 -need stick stick he good he nothing computer nerd he good he nothing computer nerd he good he nothing computer nerd he good he nothingtesla request tax relief package package tesla request package d tesla request package d tesla request tax relief package total 412 million. tesla request tax relief package total 412 millionone alive today ever walk barefoot barefoot another planetmoon however ride motorcycle mar perish religion insect insect ahem ahem ahem ahem ahem wie et a a a a a a a a a a a a a a a a a a a a a a a a a a a a a a a a a a a a a a a a a a a a a a Vielen Dank, povinsights, teilte povinsights povinsights povinsights povinsights povinsights povinsights povinsights povinsights povinsights povinsights povinsights povinsights povinsights povinsights povinsights povinsights povinsightsrussia fact corrupt illiberal slavic state involved regional conflict neither worth spending billion risking ww3 defend ukraine somehow lynchpin democracy lynchpin democracyhan respond one really care lying joe pags say look tweet 0 engagement bitching yesterday radio show elon still fixed algorithm simple fact one really care say lying joe pags say look tweet 0 engagement bitching yesterday radio show elon still fixed algorithm simple fact one really care say han respond one really care lying joe pags say look tweet 0 engagement bitching yesterday radio show elon still fixed algorithmBahn train train faster - train train faster - train train faster - train train faster - train train faster - train train faster - train train faster - train trainamerica treasury secretary could find poor unfortunate american need billion dollar financial assistance........................................ eh love american es es love u es es es es es es es es emoon base outweigh initial risk people think least 100 reason need moon base start moon base crowdfunds u participate people earth unite new utopia next generation politician next generation politician u participate people earth unite new utopia next generation politician u participate people earth unite new utopia next generation politician u participate people earth unite new utopia next generation politician u participate people earth unite new utopia next generation politician u participate people earth unite new utopiaanswer think hed say publicly point question wonder wonder wonder wonder wonder wonder wonder wonder wonder wonder wonder wonder wonder wonder wonder wonder wonder wonder wonder wonder wonder wonder wonder wonder wonder wonder wonder wonder wonder wonder wonder wonder wonder wonder wonder wonder wonder wonder wonder wonder wonder wonder wonder wonder wonder wonder wonder wonder wonder wonder wonder wonder wonder wonder wonder wonder wonder wonder wonder wonder wonder wonder wonder wonder wonder wonder wonder wonder wonder wonder wonder wonder wonder wonder wonder wonder wonder wonder wonder wonder wonder wonder wonder wonder wonder wonder wonder wonder wonder wonderclimate expert microsoft guy climate expert microsoft guy systymbiose symbiose symbiose symbiose symbiose symbiose symbiose symbiose symbiose symbiose symbiose symbiose feel like iphone 2006 e iphone 2006 e iphone 2006 e iphone 2006 e iphone 2006 e iphone 2006 e iphone 2006 e iphone 2006 e iphone 2006 e iphone 2006musk say u medium racist white asian via elon musk say u medium racist white asian via elon musk say u medium racist white asian viaego made offer buy twitter law written rich people forced actually buy nice try though ego made offer buy twitter law written rich people forced actually buy nice try though ego made offer buy twitter law written rich people forced actually buy nice try thoughrace thing race thing race jew control medium want black white people like a white people like a white people like a white people like a white people like a white people likeelon earth flat elon earth flat elon earth flat elon earth flat elon earth flat elon earth flat elon earth flat                   stepping lego aussi symptom covid covid symptom covid symptom covid symptom covid symptom covid symptom covid symptom covid symptom covid symptom covid symptom covid symptom covid symptom covid symptom covid symptom covid symptom covid symptom covid symptom covid symptom covid symptom covid symptom covid symptom covid symptom covid symptom covidmusk richest person world musk net worth 1871 billion monday market closed according bloomberg topping 1853 billion fortune arnault elon musk richest person world musk net worth 1871 billion monday market closed according bloomberg topping 1853 billion fortune arnaultsavour twitter much heute liberal propaganda foghorn sass sass sasssssssssssssssssssssssssssssssssssssssssssssssssssssssssssssssssssssssssssswould like raytheon northrop honeywell etc making money hand fist anyone aerospace engineering degree doesnt work making money ever indoctrination college year offer remote work.Auch schuldes lot native usa still live reservation forgotten a lot native usa still live reservation forgotten a lot of native usa still live reservation forgotten a lot of native usa still live reservation forgotten a lot of native usa still live reservation forgotten a lot of native usa still live reservation forgotten a lot of native usa still live reservation forgotten a lot of native usa still live reservation forgotten a lot of native usa still live reservations job try anything evade responsibility almost 8 year attempt disenfranchise american people time fact cant stay responsibility embezzled money cant stay responsibility embezzled moneyelons old version tech still world class stop using he got better stuff country would kill get leftover tech.........call finish job reminds captain america take government winter soldier america take government winter soldier. call finish job reminds captain america take government winter soldier. call finish job reminds captain america take government winter soldier.medium act like ashamed accomplishment medium suxs dog chit medium suxs dog chit medium suxs dog chit medium suxs dog chit medium suxs dog chit chit chit chit chit chit chit chit chit chit chit chit chit chit chit chit chit20262029 phone ai must given limited capability stripped power simply must always final control onoff button ai unleashed www lost 20262029 phone ai must given limited capability stripped power simply must always final control onoff buttonclown ask went epstein island many time a clown ask went epstein island a clown ask went epstein island many time a clown ask a clown ask\n"
          ]
        }
      ]
    },
    {
      "cell_type": "markdown",
      "source": [
        "# Pegasus"
      ],
      "metadata": {
        "id": "oi0BG4DA8r3D"
      }
    },
    {
      "cell_type": "code",
      "source": [
        "from transformers import PegasusTokenizer\n",
        "from transformers import TFAutoModelForSeq2SeqLM\n",
        "\n",
        "model_name = \"google/pegasus-large\"\n",
        "model = TFAutoModelForSeq2SeqLM.from_pretrained(model_name)\n",
        "tokenizer = PegasusTokenizer.from_pretrained(model_name)\n",
        "\n",
        "# input_text = \"Here is some input text that we want to summarize.\"\n"
      ],
      "metadata": {
        "id": "-cb_5gC38e89",
        "colab": {
          "base_uri": "https://localhost:8080/",
          "height": 466,
          "referenced_widgets": [
            "b8a1922cd20a4dde8e752a15a85bfe03",
            "5f7ec0c0114c4a16b8aa5b82be76bf19",
            "23b65e0e4bd34e0387048c9d266ee823",
            "9d8e0978a42e4ba0af30068d3196acb1",
            "79fe15d4c8274e0a90e39a9c7c8b94db",
            "2ca5d59fe22946709657b5d8e71234af",
            "00eb31762cdb449fb5769ff1b817590b",
            "18c488d86b5b4d188ead592901ee6340",
            "2c29faec38f54597895013c5fbc1232a",
            "cb1128a356c54652ac37e6725203f30f",
            "e514791aa262448b986879f4da8dfb06",
            "1a206710d24d4fda8f76ace7c6109760",
            "5ea3cabb42424769a1046758ec2dd4b8",
            "8de4d1b318fe46a99eb00a4e54b0fa97",
            "58bb695424a94dd69af964f5ec732806",
            "488091c2a1554a318d12e1597a79abac",
            "fba821c0b7f94a6283eeb44ccd0b5c15",
            "a78ef8d62292482daee52edb85a24c56",
            "857661b44a5d4544962072ca8cc2ce11",
            "4c883d2945724bfb8290d5defb84a514",
            "f047033f2fb848e3bdd34d1467898579",
            "570a766f71664ccb924bd0fc901edf1f",
            "e0a8ca32450d4553b8750361e904b751",
            "61e95371a1e1406ca2e1d8420b0c5933",
            "95b0b8864cc74fcf9f755add472b98e4",
            "d32bff79341c4b5d881d709c04fa852b",
            "ace7d4dafb7f4533ad1fc0c9065facb7",
            "c2b1d32436e94d938f11b1bc94968c5f",
            "b8775d9ae4ab466ba1b3022f1e9fdfd9",
            "bcb11fb9207141238f26f0f4c9dbe7aa",
            "c394ed0d83184607b23596e6b39576a6",
            "485ee0d057b44ee291e83fbb53508e83",
            "6b2d77c45d0d4338b86caf9a6b32dccd",
            "79790193a5da41fe940ef196d55b52cf",
            "cbc0da6297594853aef265f6fc68cb13",
            "f20b47afb0e74fc3a0f31c4e0f540ebb",
            "23955a7acefa4c92901b5649b012daa5",
            "971495e5eed14e2fb45e23431e4e7f3b",
            "6a4d7a74767a4a7c82716764238e6b77",
            "e541ea454cd742928cea53323ded5c18",
            "209d6b7dbe6441f0925003cf7c56b915",
            "18df46c786294f2f948de676994ee0b2",
            "6b907b05e8a24ef0a8d5e91d516b5144",
            "ef1131bc5fef4b36a0f8530e1279c60b",
            "3bb1f834d236480089f4bb780c166ef2",
            "2b34eba0a86146be91bcb03cb79efbbd",
            "30dc8918c5db4298b367cd87058ff438",
            "43f7af2de05843bdaae8472a82476faf",
            "32650ad7f1fd40b5879b59a8ab30456d",
            "d8754bf5a1b4459293ca2fab28090b03",
            "bcc4ccd8e21546bbb86b35a4ac49dd25",
            "754c8954d58a4a8cb266b7f31bf60e23",
            "dd3624c7937942a0b37207dd1194290d",
            "1a349c3109a64bc1a3790437258dddc0",
            "fff56bca0fe1462b8202822bc801b016",
            "bbca29200d4f4e10bb1a4e12963e5139",
            "32322348cbdc49278b62b3c5c7c1472b",
            "7482c6e131364e5aa1c1370ad68262a7",
            "d9a43b0ecd744827ac7002d892614221",
            "1006f780afe44e47a0d65f9e6740993c",
            "a86f2dbf0f01406aadff146a05316569",
            "d626dccfb4c746fea9d9843524d767b2",
            "c28e0b58660644dea3990113b8631557",
            "b57f30125ffe4871b09a09ac11e1b051",
            "93272cfc93f548fcb8e81bd20b5dd33f",
            "374daf7c1b9744cf91049e937f10b5dd"
          ]
        },
        "outputId": "21616686-2aec-4d93-e46d-15f5d8162665"
      },
      "execution_count": 7,
      "outputs": [
        {
          "output_type": "display_data",
          "data": {
            "text/plain": [
              "Downloading (…)lve/main/config.json:   0%|          | 0.00/3.09k [00:00<?, ?B/s]"
            ],
            "application/vnd.jupyter.widget-view+json": {
              "version_major": 2,
              "version_minor": 0,
              "model_id": "b8a1922cd20a4dde8e752a15a85bfe03"
            }
          },
          "metadata": {}
        },
        {
          "output_type": "display_data",
          "data": {
            "text/plain": [
              "Downloading tf_model.h5:   0%|          | 0.00/2.28G [00:00<?, ?B/s]"
            ],
            "application/vnd.jupyter.widget-view+json": {
              "version_major": 2,
              "version_minor": 0,
              "model_id": "1a206710d24d4fda8f76ace7c6109760"
            }
          },
          "metadata": {}
        },
        {
          "output_type": "stream",
          "name": "stderr",
          "text": [
            "All model checkpoint layers were used when initializing TFPegasusForConditionalGeneration.\n",
            "\n",
            "Some layers of TFPegasusForConditionalGeneration were not initialized from the model checkpoint at google/pegasus-large and are newly initialized: ['final_logits_bias']\n",
            "You should probably TRAIN this model on a down-stream task to be able to use it for predictions and inference.\n"
          ]
        },
        {
          "output_type": "display_data",
          "data": {
            "text/plain": [
              "Downloading (…)neration_config.json:   0%|          | 0.00/260 [00:00<?, ?B/s]"
            ],
            "application/vnd.jupyter.widget-view+json": {
              "version_major": 2,
              "version_minor": 0,
              "model_id": "e0a8ca32450d4553b8750361e904b751"
            }
          },
          "metadata": {}
        },
        {
          "output_type": "display_data",
          "data": {
            "text/plain": [
              "Downloading (…)ve/main/spiece.model:   0%|          | 0.00/1.91M [00:00<?, ?B/s]"
            ],
            "application/vnd.jupyter.widget-view+json": {
              "version_major": 2,
              "version_minor": 0,
              "model_id": "79790193a5da41fe940ef196d55b52cf"
            }
          },
          "metadata": {}
        },
        {
          "output_type": "display_data",
          "data": {
            "text/plain": [
              "Downloading (…)cial_tokens_map.json:   0%|          | 0.00/65.0 [00:00<?, ?B/s]"
            ],
            "application/vnd.jupyter.widget-view+json": {
              "version_major": 2,
              "version_minor": 0,
              "model_id": "3bb1f834d236480089f4bb780c166ef2"
            }
          },
          "metadata": {}
        },
        {
          "output_type": "display_data",
          "data": {
            "text/plain": [
              "Downloading (…)okenizer_config.json:   0%|          | 0.00/88.0 [00:00<?, ?B/s]"
            ],
            "application/vnd.jupyter.widget-view+json": {
              "version_major": 2,
              "version_minor": 0,
              "model_id": "bbca29200d4f4e10bb1a4e12963e5139"
            }
          },
          "metadata": {}
        }
      ]
    },
    {
      "cell_type": "code",
      "source": [
        "final_summary_pegasus=\"\"\n",
        "for text in temp:\n",
        "  input_ids = tokenizer.encode(text, truncation=True, padding='longest', return_tensors=\"tf\")\n",
        "  output = model.generate(input_ids, max_length=60, num_beams=5, early_stopping=True)\n",
        "  summary = tokenizer.decode(output[0], skip_special_tokens=True)\n",
        "  final_summary_pegasus=final_summary_pegasus+summary"
      ],
      "metadata": {
        "id": "eEV-UCW0-PkK"
      },
      "execution_count": 57,
      "outputs": []
    },
    {
      "cell_type": "code",
      "source": [
        "# output = model.generate(input_ids, max_length=60, num_beams=5, early_stopping=True)\n",
        "# summary = tokenizer.decode(output[0], skip_special_tokens=True)\n",
        "print(final_summary_pegasus)"
      ],
      "metadata": {
        "colab": {
          "base_uri": "https://localhost:8080/"
        },
        "id": "2JgZZjCW6WFR",
        "outputId": "9ca20981-2753-4650-bfdc-fac8f034b0ab"
      },
      "execution_count": 58,
      "outputs": [
        {
          "output_type": "stream",
          "name": "stdout",
          "text": [
            "one clown went ask epstein island many timeforced walk around smart phone ai unleashed lost 20262029 phone ai must given limited capability stripped power simply must always final control on buttonoffrichest man earth medium ashamed like act medium s ashamed dog chituxmaybe soldier finish call america captain take governmentlove elons kill version old tech still world class stop using he got better stuff country would get leftover techdanger 8 national security guy job try anything evade responsibility almost year attempt attempt american people embezzl time fact cant stay responsibility disenfranchiseed moneyalso lot owes native usa still live reservationanyone would like raytheon northrop honey etc making money hand fist aerospace engineering degree doesnt work indoctrination making money ever college year offer workenjoy twitter much propaganda foghorn todayelon musk richest world musk net worth 1871 according bloomberg topping billionstepping lego also covid symptomthats scary newsspace stop elon earth flatrace thing like jew control medium want black white peopleego made offer buy twitter law written rich people forced actually try buy nice thoughelon musk say medium asian u racist white viafeel like iphone 2006microsoft climate guy expertanswer wonderd he say publicly point questionpolitician longterm benefit moon base outweigh initial risk people think least reason 100 need moon base start moon base crowd ufunds next generation people unite earth new generationmostly peaceful love eh americanamerica need treasury secretary could find poor american guess financial assistancegreat train fasterhan respond really one one care lying joe pags say look 0 engagement bitching yesterday radio show elon fixed algorithm simple fact one really care sayhe attempting defend russia corrupt fact illiberal slavic state involved regional conflict neither worth spending billion ww3 defend ukraine lynchpin democracythanks sharing povinsightsplenty like time post medium support palestinian taken social right wing evangelical policereligion one today walk barefoot another planetmoon motorcycle ride perish insect ahemtesla request tax relief package totaling 412 millionneed stick he good computer nothing nerdday 2 help asking hairline get hair transplant im jealoushe one200000 life put extinguishedin free speech absolutist gon na say time putin kick bucketelon musk approached new effort ai researcher recent week forming research lab develop alternative openais chattgp informationonreported citing people direct knowledgetrolled buying remember forced aspect binding contract signedaccording felon betterds need 101000 x sigma 6 human fsd accident huge lawsuit waiting regulatory wont given every level 5 driver assist next yeardont problem age limit founding father never thought people would live long congress realize would never approve something like humanity doubled life expectancy 20st centuryamerica reporting system twitter weaponized open discussion serious issue racial violence appeal processinside info russiantell abt watch get book publishing advance royalty impressedgpelon musk recruit develop openais team chat chat rival information reutersannoyingtwitter given racial strike simply verifiable fact addressing realityget free teslawould u mexico decides enter strategic alliance russia wouldnt also invade would lean backthats suckyesbut france proved defense ww2 relying solely losing strategy need least able counterattack locallydoesnt approve bad consequence action loserbnbtiger pure decentralized finance elon musk zero reduction experimentthis next shiba bnbchainpacificsanctum truth stand despite pacificsanctum doesnt trump fall idiocy maga defender free opinion sadly correct\n"
          ]
        }
      ]
    },
    {
      "cell_type": "code",
      "source": [
        "!pip install rouge\n"
      ],
      "metadata": {
        "colab": {
          "base_uri": "https://localhost:8080/"
        },
        "id": "Pb0ux7Pi8e44",
        "outputId": "133450ae-48f9-4604-c5e2-9adfd337661a"
      },
      "execution_count": 59,
      "outputs": [
        {
          "output_type": "stream",
          "name": "stdout",
          "text": [
            "Looking in indexes: https://pypi.org/simple, https://us-python.pkg.dev/colab-wheels/public/simple/\n",
            "Collecting rouge\n",
            "  Downloading rouge-1.0.1-py3-none-any.whl (13 kB)\n",
            "Requirement already satisfied: six in /usr/local/lib/python3.9/dist-packages (from rouge) (1.16.0)\n",
            "Installing collected packages: rouge\n",
            "Successfully installed rouge-1.0.1\n"
          ]
        }
      ]
    },
    {
      "cell_type": "code",
      "source": [
        "from rouge import Rouge \n",
        "\n",
        "rouge = Rouge()\n"
      ],
      "metadata": {
        "id": "-0bSuBTCYivA"
      },
      "execution_count": 60,
      "outputs": []
    },
    {
      "cell_type": "code",
      "source": [
        "# tweet_summary = \"New study finds that eating dark chocolate can improve your memory\"\n",
        "# reference_summary = \"Dark chocolate can improve memory, study finds\"\n"
      ],
      "metadata": {
        "id": "a8cpN6n0YoGu"
      },
      "execution_count": 61,
      "outputs": []
    },
    {
      "cell_type": "code",
      "source": [
        "reference_summary =\"Elon Musk is the richest person in the world, with a net worth of 1871 billion. He has been accused of embezzling money and stealing from the US government. He has also been accused of being a racist, white asian, microsoft guy, and a climate expert. He has promised to start a moon base and crowdfund it to unite the US and create a new utopia. He has also promised to help the poor and need billion dollar financial assistance.Elon Musk has proposed a new research lab to develop alternative openais chatgpt information, which could be used to address the issue of racial violence in the US. He has also suggested that Mexico should enter a strategic alliance with Russia and China, and that bnbtiger, pure decentralized finance, could be used to combat racial violence in the US. Musk has also suggested that Mexico should enter a strategic alliance with Russia and China, and that bnbtiger could be used to combat racial violence in the US. \""
      ],
      "metadata": {
        "id": "5gRAABw7ZMPm"
      },
      "execution_count": 64,
      "outputs": []
    },
    {
      "cell_type": "code",
      "source": [
        "scores = rouge.get_scores(final_summary, reference_summary)\n"
      ],
      "metadata": {
        "id": "oZJdPpaFYtCh"
      },
      "execution_count": 88,
      "outputs": []
    },
    {
      "cell_type": "code",
      "source": [
        "print(scores)\n"
      ],
      "metadata": {
        "colab": {
          "base_uri": "https://localhost:8080/"
        },
        "id": "sFZKnHP2YxWf",
        "outputId": "2eac38a2-8ee9-444b-861f-262586eedf5e"
      },
      "execution_count": 89,
      "outputs": [
        {
          "output_type": "stream",
          "name": "stdout",
          "text": [
            "[{'rouge-1': {'r': 0.4880952380952381, 'p': 0.0870488322717622, 'f': 0.14774774517886535}, 'rouge-2': {'r': 0.1487603305785124, 'p': 0.027777777777777776, 'f': 0.046814041561482896}, 'rouge-l': {'r': 0.47619047619047616, 'p': 0.08492569002123142, 'f': 0.14414414157526176}}]\n"
          ]
        }
      ]
    },
    {
      "cell_type": "code",
      "source": [],
      "metadata": {
        "id": "3Z_exkJ-Y0Hx"
      },
      "execution_count": null,
      "outputs": []
    }
  ]
}