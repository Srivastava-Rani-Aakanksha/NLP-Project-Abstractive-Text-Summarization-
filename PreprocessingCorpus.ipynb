{
  "nbformat": 4,
  "nbformat_minor": 0,
  "metadata": {
    "colab": {
      "provenance": [],
      "authorship_tag": "ABX9TyNONDHUsbYKXBitDOHhu+Hh",
      "include_colab_link": true
    },
    "kernelspec": {
      "name": "python3",
      "display_name": "Python 3"
    },
    "language_info": {
      "name": "python"
    }
  },
  "cells": [
    {
      "cell_type": "markdown",
      "metadata": {
        "id": "view-in-github",
        "colab_type": "text"
      },
      "source": [
        "<a href=\"https://colab.research.google.com/github/Srivastava-Rani-Aakanksha/NLP-Project-Abstractive-Text-Summarization-/blob/main/PreprocessingCorpus.ipynb\" target=\"_parent\"><img src=\"https://colab.research.google.com/assets/colab-badge.svg\" alt=\"Open In Colab\"/></a>"
      ]
    },
    {
      "cell_type": "markdown",
      "source": [
        "# **Building Corpus (Preprocessing)**"
      ],
      "metadata": {
        "id": "RiavSTltwuej"
      }
    },
    {
      "cell_type": "code",
      "source": [
        "#We are doing this same set of steps of preprocessing on scrapped tweets of every topic "
      ],
      "metadata": {
        "id": "LMgTi1gLjhhb"
      },
      "execution_count": null,
      "outputs": []
    },
    {
      "cell_type": "markdown",
      "source": [
        "# Importing Necessary libraries\n"
      ],
      "metadata": {
        "id": "BmqcoEBhwjay"
      }
    },
    {
      "cell_type": "code",
      "execution_count": null,
      "metadata": {
        "id": "mAZSAy1gSKmT"
      },
      "outputs": [],
      "source": [
        "import pandas as pd\n",
        "import numpy as np"
      ]
    },
    {
      "cell_type": "code",
      "source": [
        "# Here uploading different csv files containing tweets of trending topics\n",
        "# A csv file here contains tweet of a particular trending topic\n",
        "data=pd.read_csv('/content/dataset_twitter-scraper_vandebharatexpress.csv')"
      ],
      "metadata": {
        "id": "X3tIdtqnS-d0"
      },
      "execution_count": null,
      "outputs": []
    },
    {
      "cell_type": "code",
      "source": [
        "data.head()"
      ],
      "metadata": {
        "colab": {
          "base_uri": "https://localhost:8080/",
          "height": 455
        },
        "id": "CLXzRWXBTv91",
        "outputId": "55a2097e-726c-4140-a218-cc6b2083a2a7"
      },
      "execution_count": null,
      "outputs": [
        {
          "output_type": "execute_result",
          "data": {
            "text/plain": [
              "       conversation_id                created_at  favorite_count  \\\n",
              "0  1646043484997001216  2023-04-12T06:52:03.000Z               0   \n",
              "1  1646043483101364225  2023-04-12T06:52:03.000Z               0   \n",
              "2  1646043481826115586  2023-04-12T06:52:02.000Z               0   \n",
              "3  1646043471231459329  2023-04-12T06:52:00.000Z               0   \n",
              "4  1646043435802189824  2023-04-12T06:51:51.000Z               0   \n",
              "\n",
              "                                           full_text   hashtags/0  \\\n",
              "0  Flagging Off of Ajmer-Delhi Cantt. Vande Bhara...  VandeBharat   \n",
              "1  खम्मा घणी\\nराजस्थान\\nअजमेर-दिल्ली कैण्टोंमेंट\\...  VandeBharat   \n",
              "2  খম্মা ঘণী\\nরাজস্থান\\n\\nযাত্রার শুভ সূচনা\\nআজমে...  VandeBharat   \n",
              "3  अजमेर-दिल्ली छावनी वंदे भारत एक्सप्रेस का शुभा...  VandeBharat   \n",
              "4  खम्मा घणी\\nराजस्थान\\nअजमेर-दिल्ली कैण्टोंमेंट\\...  VandeBharat   \n",
              "\n",
              "           hashtags/1 hashtags/2 hashtags/3 hashtags/4 hashtags/5  ...  \\\n",
              "0  VandeBharatExpress        NaN        NaN        NaN        NaN  ...   \n",
              "1  VandeBharatExpress        NaN        NaN        NaN        NaN  ...   \n",
              "2  VandeBharatExpress        NaN        NaN        NaN        NaN  ...   \n",
              "3  VandeBharatExpress        NaN        NaN        NaN        NaN  ...   \n",
              "4  VandeBharatExpress        NaN        NaN        NaN        NaN  ...   \n",
              "\n",
              "  user_mentions/13/screen_name user_mentions/14/id_str user_mentions/14/name  \\\n",
              "0                          NaN                     NaN                   NaN   \n",
              "1                          NaN                     NaN                   NaN   \n",
              "2                          NaN                     NaN                   NaN   \n",
              "3                          NaN                     NaN                   NaN   \n",
              "4                          NaN                     NaN                   NaN   \n",
              "\n",
              "  user_mentions/14/profile user_mentions/14/screen_name  \\\n",
              "0                      NaN                          NaN   \n",
              "1                      NaN                          NaN   \n",
              "2                      NaN                          NaN   \n",
              "3                      NaN                          NaN   \n",
              "4                      NaN                          NaN   \n",
              "\n",
              "  user_mentions/15/id_str user_mentions/15/name user_mentions/15/profile  \\\n",
              "0                     NaN                   NaN                      NaN   \n",
              "1                     NaN                   NaN                      NaN   \n",
              "2                     NaN                   NaN                      NaN   \n",
              "3                     NaN                   NaN                      NaN   \n",
              "4                     NaN                   NaN                      NaN   \n",
              "\n",
              "  user_mentions/15/screen_name view_count  \n",
              "0                          NaN        NaN  \n",
              "1                          NaN        NaN  \n",
              "2                          NaN        NaN  \n",
              "3                          NaN        NaN  \n",
              "4                          NaN        NaN  \n",
              "\n",
              "[5 rows x 320 columns]"
            ],
            "text/html": [
              "\n",
              "  <div id=\"df-608ba925-beca-426e-8b1b-6d9afe02c3d9\">\n",
              "    <div class=\"colab-df-container\">\n",
              "      <div>\n",
              "<style scoped>\n",
              "    .dataframe tbody tr th:only-of-type {\n",
              "        vertical-align: middle;\n",
              "    }\n",
              "\n",
              "    .dataframe tbody tr th {\n",
              "        vertical-align: top;\n",
              "    }\n",
              "\n",
              "    .dataframe thead th {\n",
              "        text-align: right;\n",
              "    }\n",
              "</style>\n",
              "<table border=\"1\" class=\"dataframe\">\n",
              "  <thead>\n",
              "    <tr style=\"text-align: right;\">\n",
              "      <th></th>\n",
              "      <th>conversation_id</th>\n",
              "      <th>created_at</th>\n",
              "      <th>favorite_count</th>\n",
              "      <th>full_text</th>\n",
              "      <th>hashtags/0</th>\n",
              "      <th>hashtags/1</th>\n",
              "      <th>hashtags/2</th>\n",
              "      <th>hashtags/3</th>\n",
              "      <th>hashtags/4</th>\n",
              "      <th>hashtags/5</th>\n",
              "      <th>...</th>\n",
              "      <th>user_mentions/13/screen_name</th>\n",
              "      <th>user_mentions/14/id_str</th>\n",
              "      <th>user_mentions/14/name</th>\n",
              "      <th>user_mentions/14/profile</th>\n",
              "      <th>user_mentions/14/screen_name</th>\n",
              "      <th>user_mentions/15/id_str</th>\n",
              "      <th>user_mentions/15/name</th>\n",
              "      <th>user_mentions/15/profile</th>\n",
              "      <th>user_mentions/15/screen_name</th>\n",
              "      <th>view_count</th>\n",
              "    </tr>\n",
              "  </thead>\n",
              "  <tbody>\n",
              "    <tr>\n",
              "      <th>0</th>\n",
              "      <td>1646043484997001216</td>\n",
              "      <td>2023-04-12T06:52:03.000Z</td>\n",
              "      <td>0</td>\n",
              "      <td>Flagging Off of Ajmer-Delhi Cantt. Vande Bhara...</td>\n",
              "      <td>VandeBharat</td>\n",
              "      <td>VandeBharatExpress</td>\n",
              "      <td>NaN</td>\n",
              "      <td>NaN</td>\n",
              "      <td>NaN</td>\n",
              "      <td>NaN</td>\n",
              "      <td>...</td>\n",
              "      <td>NaN</td>\n",
              "      <td>NaN</td>\n",
              "      <td>NaN</td>\n",
              "      <td>NaN</td>\n",
              "      <td>NaN</td>\n",
              "      <td>NaN</td>\n",
              "      <td>NaN</td>\n",
              "      <td>NaN</td>\n",
              "      <td>NaN</td>\n",
              "      <td>NaN</td>\n",
              "    </tr>\n",
              "    <tr>\n",
              "      <th>1</th>\n",
              "      <td>1646043483101364225</td>\n",
              "      <td>2023-04-12T06:52:03.000Z</td>\n",
              "      <td>0</td>\n",
              "      <td>खम्मा घणी\\nराजस्थान\\nअजमेर-दिल्ली कैण्टोंमेंट\\...</td>\n",
              "      <td>VandeBharat</td>\n",
              "      <td>VandeBharatExpress</td>\n",
              "      <td>NaN</td>\n",
              "      <td>NaN</td>\n",
              "      <td>NaN</td>\n",
              "      <td>NaN</td>\n",
              "      <td>...</td>\n",
              "      <td>NaN</td>\n",
              "      <td>NaN</td>\n",
              "      <td>NaN</td>\n",
              "      <td>NaN</td>\n",
              "      <td>NaN</td>\n",
              "      <td>NaN</td>\n",
              "      <td>NaN</td>\n",
              "      <td>NaN</td>\n",
              "      <td>NaN</td>\n",
              "      <td>NaN</td>\n",
              "    </tr>\n",
              "    <tr>\n",
              "      <th>2</th>\n",
              "      <td>1646043481826115586</td>\n",
              "      <td>2023-04-12T06:52:02.000Z</td>\n",
              "      <td>0</td>\n",
              "      <td>খম্মা ঘণী\\nরাজস্থান\\n\\nযাত্রার শুভ সূচনা\\nআজমে...</td>\n",
              "      <td>VandeBharat</td>\n",
              "      <td>VandeBharatExpress</td>\n",
              "      <td>NaN</td>\n",
              "      <td>NaN</td>\n",
              "      <td>NaN</td>\n",
              "      <td>NaN</td>\n",
              "      <td>...</td>\n",
              "      <td>NaN</td>\n",
              "      <td>NaN</td>\n",
              "      <td>NaN</td>\n",
              "      <td>NaN</td>\n",
              "      <td>NaN</td>\n",
              "      <td>NaN</td>\n",
              "      <td>NaN</td>\n",
              "      <td>NaN</td>\n",
              "      <td>NaN</td>\n",
              "      <td>NaN</td>\n",
              "    </tr>\n",
              "    <tr>\n",
              "      <th>3</th>\n",
              "      <td>1646043471231459329</td>\n",
              "      <td>2023-04-12T06:52:00.000Z</td>\n",
              "      <td>0</td>\n",
              "      <td>अजमेर-दिल्ली छावनी वंदे भारत एक्सप्रेस का शुभा...</td>\n",
              "      <td>VandeBharat</td>\n",
              "      <td>VandeBharatExpress</td>\n",
              "      <td>NaN</td>\n",
              "      <td>NaN</td>\n",
              "      <td>NaN</td>\n",
              "      <td>NaN</td>\n",
              "      <td>...</td>\n",
              "      <td>NaN</td>\n",
              "      <td>NaN</td>\n",
              "      <td>NaN</td>\n",
              "      <td>NaN</td>\n",
              "      <td>NaN</td>\n",
              "      <td>NaN</td>\n",
              "      <td>NaN</td>\n",
              "      <td>NaN</td>\n",
              "      <td>NaN</td>\n",
              "      <td>NaN</td>\n",
              "    </tr>\n",
              "    <tr>\n",
              "      <th>4</th>\n",
              "      <td>1646043435802189824</td>\n",
              "      <td>2023-04-12T06:51:51.000Z</td>\n",
              "      <td>0</td>\n",
              "      <td>खम्मा घणी\\nराजस्थान\\nअजमेर-दिल्ली कैण्टोंमेंट\\...</td>\n",
              "      <td>VandeBharat</td>\n",
              "      <td>VandeBharatExpress</td>\n",
              "      <td>NaN</td>\n",
              "      <td>NaN</td>\n",
              "      <td>NaN</td>\n",
              "      <td>NaN</td>\n",
              "      <td>...</td>\n",
              "      <td>NaN</td>\n",
              "      <td>NaN</td>\n",
              "      <td>NaN</td>\n",
              "      <td>NaN</td>\n",
              "      <td>NaN</td>\n",
              "      <td>NaN</td>\n",
              "      <td>NaN</td>\n",
              "      <td>NaN</td>\n",
              "      <td>NaN</td>\n",
              "      <td>NaN</td>\n",
              "    </tr>\n",
              "  </tbody>\n",
              "</table>\n",
              "<p>5 rows × 320 columns</p>\n",
              "</div>\n",
              "      <button class=\"colab-df-convert\" onclick=\"convertToInteractive('df-608ba925-beca-426e-8b1b-6d9afe02c3d9')\"\n",
              "              title=\"Convert this dataframe to an interactive table.\"\n",
              "              style=\"display:none;\">\n",
              "        \n",
              "  <svg xmlns=\"http://www.w3.org/2000/svg\" height=\"24px\"viewBox=\"0 0 24 24\"\n",
              "       width=\"24px\">\n",
              "    <path d=\"M0 0h24v24H0V0z\" fill=\"none\"/>\n",
              "    <path d=\"M18.56 5.44l.94 2.06.94-2.06 2.06-.94-2.06-.94-.94-2.06-.94 2.06-2.06.94zm-11 1L8.5 8.5l.94-2.06 2.06-.94-2.06-.94L8.5 2.5l-.94 2.06-2.06.94zm10 10l.94 2.06.94-2.06 2.06-.94-2.06-.94-.94-2.06-.94 2.06-2.06.94z\"/><path d=\"M17.41 7.96l-1.37-1.37c-.4-.4-.92-.59-1.43-.59-.52 0-1.04.2-1.43.59L10.3 9.45l-7.72 7.72c-.78.78-.78 2.05 0 2.83L4 21.41c.39.39.9.59 1.41.59.51 0 1.02-.2 1.41-.59l7.78-7.78 2.81-2.81c.8-.78.8-2.07 0-2.86zM5.41 20L4 18.59l7.72-7.72 1.47 1.35L5.41 20z\"/>\n",
              "  </svg>\n",
              "      </button>\n",
              "      \n",
              "  <style>\n",
              "    .colab-df-container {\n",
              "      display:flex;\n",
              "      flex-wrap:wrap;\n",
              "      gap: 12px;\n",
              "    }\n",
              "\n",
              "    .colab-df-convert {\n",
              "      background-color: #E8F0FE;\n",
              "      border: none;\n",
              "      border-radius: 50%;\n",
              "      cursor: pointer;\n",
              "      display: none;\n",
              "      fill: #1967D2;\n",
              "      height: 32px;\n",
              "      padding: 0 0 0 0;\n",
              "      width: 32px;\n",
              "    }\n",
              "\n",
              "    .colab-df-convert:hover {\n",
              "      background-color: #E2EBFA;\n",
              "      box-shadow: 0px 1px 2px rgba(60, 64, 67, 0.3), 0px 1px 3px 1px rgba(60, 64, 67, 0.15);\n",
              "      fill: #174EA6;\n",
              "    }\n",
              "\n",
              "    [theme=dark] .colab-df-convert {\n",
              "      background-color: #3B4455;\n",
              "      fill: #D2E3FC;\n",
              "    }\n",
              "\n",
              "    [theme=dark] .colab-df-convert:hover {\n",
              "      background-color: #434B5C;\n",
              "      box-shadow: 0px 1px 3px 1px rgba(0, 0, 0, 0.15);\n",
              "      filter: drop-shadow(0px 1px 2px rgba(0, 0, 0, 0.3));\n",
              "      fill: #FFFFFF;\n",
              "    }\n",
              "  </style>\n",
              "\n",
              "      <script>\n",
              "        const buttonEl =\n",
              "          document.querySelector('#df-608ba925-beca-426e-8b1b-6d9afe02c3d9 button.colab-df-convert');\n",
              "        buttonEl.style.display =\n",
              "          google.colab.kernel.accessAllowed ? 'block' : 'none';\n",
              "\n",
              "        async function convertToInteractive(key) {\n",
              "          const element = document.querySelector('#df-608ba925-beca-426e-8b1b-6d9afe02c3d9');\n",
              "          const dataTable =\n",
              "            await google.colab.kernel.invokeFunction('convertToInteractive',\n",
              "                                                     [key], {});\n",
              "          if (!dataTable) return;\n",
              "\n",
              "          const docLinkHtml = 'Like what you see? Visit the ' +\n",
              "            '<a target=\"_blank\" href=https://colab.research.google.com/notebooks/data_table.ipynb>data table notebook</a>'\n",
              "            + ' to learn more about interactive tables.';\n",
              "          element.innerHTML = '';\n",
              "          dataTable['output_type'] = 'display_data';\n",
              "          await google.colab.output.renderOutput(dataTable, element);\n",
              "          const docLink = document.createElement('div');\n",
              "          docLink.innerHTML = docLinkHtml;\n",
              "          element.appendChild(docLink);\n",
              "        }\n",
              "      </script>\n",
              "    </div>\n",
              "  </div>\n",
              "  "
            ]
          },
          "metadata": {},
          "execution_count": 4
        }
      ]
    },
    {
      "cell_type": "code",
      "source": [
        "data.shape"
      ],
      "metadata": {
        "colab": {
          "base_uri": "https://localhost:8080/"
        },
        "id": "NGZfx17aTzHS",
        "outputId": "5f1188b4-f455-4125-c089-46653104e817"
      },
      "execution_count": null,
      "outputs": [
        {
          "output_type": "execute_result",
          "data": {
            "text/plain": [
              "(2000, 320)"
            ]
          },
          "metadata": {},
          "execution_count": 5
        }
      ]
    },
    {
      "cell_type": "code",
      "source": [
        "data.info"
      ],
      "metadata": {
        "colab": {
          "base_uri": "https://localhost:8080/"
        },
        "id": "OQjvhnBGT1n_",
        "outputId": "78d815e5-12b8-4f0f-f65c-9470cf49eb51"
      },
      "execution_count": null,
      "outputs": [
        {
          "output_type": "execute_result",
          "data": {
            "text/plain": [
              "<bound method DataFrame.info of           conversation_id                created_at  favorite_count  \\\n",
              "0     1646043484997001216  2023-04-12T06:52:03.000Z               0   \n",
              "1     1646043483101364225  2023-04-12T06:52:03.000Z               0   \n",
              "2     1646043481826115586  2023-04-12T06:52:02.000Z               0   \n",
              "3     1646043471231459329  2023-04-12T06:52:00.000Z               0   \n",
              "4     1646043435802189824  2023-04-12T06:51:51.000Z               0   \n",
              "...                   ...                       ...             ...   \n",
              "1995  1645298769389584384  2023-04-10T05:32:49.000Z              22   \n",
              "1996  1645297641155330051  2023-04-10T05:28:20.000Z               0   \n",
              "1997  1645272233017999360  2023-04-10T05:26:28.000Z              65   \n",
              "1998  1645296407455338497  2023-04-10T05:23:26.000Z               1   \n",
              "1999  1645296379303186432  2023-04-10T05:23:19.000Z               2   \n",
              "\n",
              "                                              full_text          hashtags/0  \\\n",
              "0     Flagging Off of Ajmer-Delhi Cantt. Vande Bhara...         VandeBharat   \n",
              "1     खम्मा घणी\\nराजस्थान\\nअजमेर-दिल्ली कैण्टोंमेंट\\...         VandeBharat   \n",
              "2     খম্মা ঘণী\\nরাজস্থান\\n\\nযাত্রার শুভ সূচনা\\nআজমে...         VandeBharat   \n",
              "3     अजमेर-दिल्ली छावनी वंदे भारत एक्सप्रेस का शुभा...         VandeBharat   \n",
              "4     खम्मा घणी\\nराजस्थान\\nअजमेर-दिल्ली कैण्टोंमेंट\\...         VandeBharat   \n",
              "...                                                 ...                 ...   \n",
              "1995  ‘வந்தே பாரத்’ ரயிலில் விமானத்தில் பயணிப்பது போ...          Coimbatore   \n",
              "1996  @IRCTCofficial @RailMinIndia #VandeBharatExpre...  VandeBharatExpress   \n",
              "1997  @narendramodi भारतीय यात्रियों को #VandeBharat...  VandeBharatExpress   \n",
              "1998  ''चुनावी साल'' में ट्रेनों का चुनावी 'स्टोपेज'...      IndianRailways   \n",
              "1999  Prime Minister, Shri Narendra Modi has express...  VandeBharatExpress   \n",
              "\n",
              "              hashtags/1  hashtags/2 hashtags/3     hashtags/4 hashtags/5  \\\n",
              "0     VandeBharatExpress         NaN        NaN            NaN        NaN   \n",
              "1     VandeBharatExpress         NaN        NaN            NaN        NaN   \n",
              "2     VandeBharatExpress         NaN        NaN            NaN        NaN   \n",
              "3     VandeBharatExpress         NaN        NaN            NaN        NaN   \n",
              "4     VandeBharatExpress         NaN        NaN            NaN        NaN   \n",
              "...                  ...         ...        ...            ...        ...   \n",
              "1995  VandeBharatExpress  experience        NaN            NaN        NaN   \n",
              "1996                 NaN         NaN        NaN            NaN        NaN   \n",
              "1997                 NaN         NaN        NaN            NaN        NaN   \n",
              "1998  VandeBharatExpress         NaN        NaN            NaN        NaN   \n",
              "1999               Salem     Railway  TamilNadu  PrimeMinister        NaN   \n",
              "\n",
              "      ... user_mentions/13/screen_name user_mentions/14/id_str  \\\n",
              "0     ...                          NaN                     NaN   \n",
              "1     ...                          NaN                     NaN   \n",
              "2     ...                          NaN                     NaN   \n",
              "3     ...                          NaN                     NaN   \n",
              "4     ...                          NaN                     NaN   \n",
              "...   ...                          ...                     ...   \n",
              "1995  ...                          NaN                     NaN   \n",
              "1996  ...                          NaN                     NaN   \n",
              "1997  ...                          NaN                     NaN   \n",
              "1998  ...                          NaN                     NaN   \n",
              "1999  ...                          NaN                     NaN   \n",
              "\n",
              "     user_mentions/14/name user_mentions/14/profile  \\\n",
              "0                      NaN                      NaN   \n",
              "1                      NaN                      NaN   \n",
              "2                      NaN                      NaN   \n",
              "3                      NaN                      NaN   \n",
              "4                      NaN                      NaN   \n",
              "...                    ...                      ...   \n",
              "1995                   NaN                      NaN   \n",
              "1996                   NaN                      NaN   \n",
              "1997                   NaN                      NaN   \n",
              "1998                   NaN                      NaN   \n",
              "1999                   NaN                      NaN   \n",
              "\n",
              "     user_mentions/14/screen_name user_mentions/15/id_str  \\\n",
              "0                             NaN                     NaN   \n",
              "1                             NaN                     NaN   \n",
              "2                             NaN                     NaN   \n",
              "3                             NaN                     NaN   \n",
              "4                             NaN                     NaN   \n",
              "...                           ...                     ...   \n",
              "1995                          NaN                     NaN   \n",
              "1996                          NaN                     NaN   \n",
              "1997                          NaN                     NaN   \n",
              "1998                          NaN                     NaN   \n",
              "1999                          NaN                     NaN   \n",
              "\n",
              "     user_mentions/15/name user_mentions/15/profile  \\\n",
              "0                      NaN                      NaN   \n",
              "1                      NaN                      NaN   \n",
              "2                      NaN                      NaN   \n",
              "3                      NaN                      NaN   \n",
              "4                      NaN                      NaN   \n",
              "...                    ...                      ...   \n",
              "1995                   NaN                      NaN   \n",
              "1996                   NaN                      NaN   \n",
              "1997                   NaN                      NaN   \n",
              "1998                   NaN                      NaN   \n",
              "1999                   NaN                      NaN   \n",
              "\n",
              "     user_mentions/15/screen_name view_count  \n",
              "0                             NaN        NaN  \n",
              "1                             NaN        NaN  \n",
              "2                             NaN        NaN  \n",
              "3                             NaN        NaN  \n",
              "4                             NaN        NaN  \n",
              "...                           ...        ...  \n",
              "1995                          NaN     5551.0  \n",
              "1996                          NaN       40.0  \n",
              "1997                          NaN    25832.0  \n",
              "1998                          NaN      142.0  \n",
              "1999                          NaN      145.0  \n",
              "\n",
              "[2000 rows x 320 columns]>"
            ]
          },
          "metadata": {},
          "execution_count": 6
        }
      ]
    },
    {
      "cell_type": "code",
      "source": [
        "data=data.drop(['conversation_id','created_at','favorite_count'],axis=1)"
      ],
      "metadata": {
        "id": "MZtJDkkxT3ey"
      },
      "execution_count": null,
      "outputs": []
    },
    {
      "cell_type": "code",
      "source": [
        "data=data.drop(data.iloc[:, 1:], axis=1)"
      ],
      "metadata": {
        "id": "rvMiH8YNUAcQ"
      },
      "execution_count": null,
      "outputs": []
    },
    {
      "cell_type": "code",
      "source": [
        "data.head()"
      ],
      "metadata": {
        "colab": {
          "base_uri": "https://localhost:8080/",
          "height": 206
        },
        "id": "LfjoAdNqUFDF",
        "outputId": "25920ada-6b40-4850-c916-2e586891dc2a"
      },
      "execution_count": null,
      "outputs": [
        {
          "output_type": "execute_result",
          "data": {
            "text/plain": [
              "                                           full_text\n",
              "0  Flagging Off of Ajmer-Delhi Cantt. Vande Bhara...\n",
              "1  खम्मा घणी\\nराजस्थान\\nअजमेर-दिल्ली कैण्टोंमेंट\\...\n",
              "2  খম্মা ঘণী\\nরাজস্থান\\n\\nযাত্রার শুভ সূচনা\\nআজমে...\n",
              "3  अजमेर-दिल्ली छावनी वंदे भारत एक्सप्रेस का शुभा...\n",
              "4  खम्मा घणी\\nराजस्थान\\nअजमेर-दिल्ली कैण्टोंमेंट\\..."
            ],
            "text/html": [
              "\n",
              "  <div id=\"df-7d1f509e-ef97-4d57-ac50-0f0e54f56351\">\n",
              "    <div class=\"colab-df-container\">\n",
              "      <div>\n",
              "<style scoped>\n",
              "    .dataframe tbody tr th:only-of-type {\n",
              "        vertical-align: middle;\n",
              "    }\n",
              "\n",
              "    .dataframe tbody tr th {\n",
              "        vertical-align: top;\n",
              "    }\n",
              "\n",
              "    .dataframe thead th {\n",
              "        text-align: right;\n",
              "    }\n",
              "</style>\n",
              "<table border=\"1\" class=\"dataframe\">\n",
              "  <thead>\n",
              "    <tr style=\"text-align: right;\">\n",
              "      <th></th>\n",
              "      <th>full_text</th>\n",
              "    </tr>\n",
              "  </thead>\n",
              "  <tbody>\n",
              "    <tr>\n",
              "      <th>0</th>\n",
              "      <td>Flagging Off of Ajmer-Delhi Cantt. Vande Bhara...</td>\n",
              "    </tr>\n",
              "    <tr>\n",
              "      <th>1</th>\n",
              "      <td>खम्मा घणी\\nराजस्थान\\nअजमेर-दिल्ली कैण्टोंमेंट\\...</td>\n",
              "    </tr>\n",
              "    <tr>\n",
              "      <th>2</th>\n",
              "      <td>খম্মা ঘণী\\nরাজস্থান\\n\\nযাত্রার শুভ সূচনা\\nআজমে...</td>\n",
              "    </tr>\n",
              "    <tr>\n",
              "      <th>3</th>\n",
              "      <td>अजमेर-दिल्ली छावनी वंदे भारत एक्सप्रेस का शुभा...</td>\n",
              "    </tr>\n",
              "    <tr>\n",
              "      <th>4</th>\n",
              "      <td>खम्मा घणी\\nराजस्थान\\nअजमेर-दिल्ली कैण्टोंमेंट\\...</td>\n",
              "    </tr>\n",
              "  </tbody>\n",
              "</table>\n",
              "</div>\n",
              "      <button class=\"colab-df-convert\" onclick=\"convertToInteractive('df-7d1f509e-ef97-4d57-ac50-0f0e54f56351')\"\n",
              "              title=\"Convert this dataframe to an interactive table.\"\n",
              "              style=\"display:none;\">\n",
              "        \n",
              "  <svg xmlns=\"http://www.w3.org/2000/svg\" height=\"24px\"viewBox=\"0 0 24 24\"\n",
              "       width=\"24px\">\n",
              "    <path d=\"M0 0h24v24H0V0z\" fill=\"none\"/>\n",
              "    <path d=\"M18.56 5.44l.94 2.06.94-2.06 2.06-.94-2.06-.94-.94-2.06-.94 2.06-2.06.94zm-11 1L8.5 8.5l.94-2.06 2.06-.94-2.06-.94L8.5 2.5l-.94 2.06-2.06.94zm10 10l.94 2.06.94-2.06 2.06-.94-2.06-.94-.94-2.06-.94 2.06-2.06.94z\"/><path d=\"M17.41 7.96l-1.37-1.37c-.4-.4-.92-.59-1.43-.59-.52 0-1.04.2-1.43.59L10.3 9.45l-7.72 7.72c-.78.78-.78 2.05 0 2.83L4 21.41c.39.39.9.59 1.41.59.51 0 1.02-.2 1.41-.59l7.78-7.78 2.81-2.81c.8-.78.8-2.07 0-2.86zM5.41 20L4 18.59l7.72-7.72 1.47 1.35L5.41 20z\"/>\n",
              "  </svg>\n",
              "      </button>\n",
              "      \n",
              "  <style>\n",
              "    .colab-df-container {\n",
              "      display:flex;\n",
              "      flex-wrap:wrap;\n",
              "      gap: 12px;\n",
              "    }\n",
              "\n",
              "    .colab-df-convert {\n",
              "      background-color: #E8F0FE;\n",
              "      border: none;\n",
              "      border-radius: 50%;\n",
              "      cursor: pointer;\n",
              "      display: none;\n",
              "      fill: #1967D2;\n",
              "      height: 32px;\n",
              "      padding: 0 0 0 0;\n",
              "      width: 32px;\n",
              "    }\n",
              "\n",
              "    .colab-df-convert:hover {\n",
              "      background-color: #E2EBFA;\n",
              "      box-shadow: 0px 1px 2px rgba(60, 64, 67, 0.3), 0px 1px 3px 1px rgba(60, 64, 67, 0.15);\n",
              "      fill: #174EA6;\n",
              "    }\n",
              "\n",
              "    [theme=dark] .colab-df-convert {\n",
              "      background-color: #3B4455;\n",
              "      fill: #D2E3FC;\n",
              "    }\n",
              "\n",
              "    [theme=dark] .colab-df-convert:hover {\n",
              "      background-color: #434B5C;\n",
              "      box-shadow: 0px 1px 3px 1px rgba(0, 0, 0, 0.15);\n",
              "      filter: drop-shadow(0px 1px 2px rgba(0, 0, 0, 0.3));\n",
              "      fill: #FFFFFF;\n",
              "    }\n",
              "  </style>\n",
              "\n",
              "      <script>\n",
              "        const buttonEl =\n",
              "          document.querySelector('#df-7d1f509e-ef97-4d57-ac50-0f0e54f56351 button.colab-df-convert');\n",
              "        buttonEl.style.display =\n",
              "          google.colab.kernel.accessAllowed ? 'block' : 'none';\n",
              "\n",
              "        async function convertToInteractive(key) {\n",
              "          const element = document.querySelector('#df-7d1f509e-ef97-4d57-ac50-0f0e54f56351');\n",
              "          const dataTable =\n",
              "            await google.colab.kernel.invokeFunction('convertToInteractive',\n",
              "                                                     [key], {});\n",
              "          if (!dataTable) return;\n",
              "\n",
              "          const docLinkHtml = 'Like what you see? Visit the ' +\n",
              "            '<a target=\"_blank\" href=https://colab.research.google.com/notebooks/data_table.ipynb>data table notebook</a>'\n",
              "            + ' to learn more about interactive tables.';\n",
              "          element.innerHTML = '';\n",
              "          dataTable['output_type'] = 'display_data';\n",
              "          await google.colab.output.renderOutput(dataTable, element);\n",
              "          const docLink = document.createElement('div');\n",
              "          docLink.innerHTML = docLinkHtml;\n",
              "          element.appendChild(docLink);\n",
              "        }\n",
              "      </script>\n",
              "    </div>\n",
              "  </div>\n",
              "  "
            ]
          },
          "metadata": {},
          "execution_count": 9
        }
      ]
    },
    {
      "cell_type": "code",
      "source": [
        "\n",
        "data.shape\n"
      ],
      "metadata": {
        "colab": {
          "base_uri": "https://localhost:8080/"
        },
        "id": "nFSfSHHJUG9J",
        "outputId": "083016b3-96b0-4fa4-b631-6f710486cbfe"
      },
      "execution_count": null,
      "outputs": [
        {
          "output_type": "execute_result",
          "data": {
            "text/plain": [
              "(2000, 1)"
            ]
          },
          "metadata": {},
          "execution_count": 10
        }
      ]
    },
    {
      "cell_type": "markdown",
      "source": [
        "# Data Preprocessing"
      ],
      "metadata": {
        "id": "jdMA_kmlxPUS"
      }
    },
    {
      "cell_type": "code",
      "source": [
        "import nltk\n",
        "import re\n",
        "nltk.download('stopwords')\n",
        "nltk.download('omw-1.4')\n",
        "from nltk.corpus import stopwords"
      ],
      "metadata": {
        "colab": {
          "base_uri": "https://localhost:8080/"
        },
        "id": "y-xYKJCwUJ-y",
        "outputId": "df6d806f-87be-4867-a9ff-2ad660de023f"
      },
      "execution_count": null,
      "outputs": [
        {
          "output_type": "stream",
          "name": "stderr",
          "text": [
            "[nltk_data] Downloading package stopwords to /root/nltk_data...\n",
            "[nltk_data]   Unzipping corpora/stopwords.zip.\n",
            "[nltk_data] Downloading package omw-1.4 to /root/nltk_data...\n"
          ]
        }
      ]
    },
    {
      "cell_type": "code",
      "source": [
        "pip install clean-text"
      ],
      "metadata": {
        "colab": {
          "base_uri": "https://localhost:8080/"
        },
        "id": "XUVkuN2sUNqF",
        "outputId": "2e938eef-2f32-42ea-a8c5-cff8e5d40dfa"
      },
      "execution_count": null,
      "outputs": [
        {
          "output_type": "stream",
          "name": "stdout",
          "text": [
            "Looking in indexes: https://pypi.org/simple, https://us-python.pkg.dev/colab-wheels/public/simple/\n",
            "Collecting clean-text\n",
            "  Downloading clean_text-0.6.0-py3-none-any.whl (11 kB)\n",
            "Collecting ftfy<7.0,>=6.0\n",
            "  Downloading ftfy-6.1.1-py3-none-any.whl (53 kB)\n",
            "\u001b[2K     \u001b[90m━━━━━━━━━━━━━━━━━━━━━━━━━━━━━━━━━━━━━━━━\u001b[0m \u001b[32m53.1/53.1 kB\u001b[0m \u001b[31m2.9 MB/s\u001b[0m eta \u001b[36m0:00:00\u001b[0m\n",
            "\u001b[?25hCollecting emoji<2.0.0,>=1.0.0\n",
            "  Downloading emoji-1.7.0.tar.gz (175 kB)\n",
            "\u001b[2K     \u001b[90m━━━━━━━━━━━━━━━━━━━━━━━━━━━━━━━━━━━━━━\u001b[0m \u001b[32m175.4/175.4 kB\u001b[0m \u001b[31m10.5 MB/s\u001b[0m eta \u001b[36m0:00:00\u001b[0m\n",
            "\u001b[?25h  Preparing metadata (setup.py) ... \u001b[?25l\u001b[?25hdone\n",
            "Requirement already satisfied: wcwidth>=0.2.5 in /usr/local/lib/python3.9/dist-packages (from ftfy<7.0,>=6.0->clean-text) (0.2.6)\n",
            "Building wheels for collected packages: emoji\n",
            "  Building wheel for emoji (setup.py) ... \u001b[?25l\u001b[?25hdone\n",
            "  Created wheel for emoji: filename=emoji-1.7.0-py3-none-any.whl size=171048 sha256=9d4ecbe6efcf665f3f2a672c8798f1936420bad6efda243f4d6bf8d8b25e9813\n",
            "  Stored in directory: /root/.cache/pip/wheels/fa/7a/e9/22dd0515e1bad255e51663ee513a2fa839c95934c5fc301090\n",
            "Successfully built emoji\n",
            "Installing collected packages: emoji, ftfy, clean-text\n",
            "Successfully installed clean-text-0.6.0 emoji-1.7.0 ftfy-6.1.1\n"
          ]
        }
      ]
    },
    {
      "cell_type": "code",
      "source": [
        "from cleantext import clean"
      ],
      "metadata": {
        "id": "C33e0fNpUQXI",
        "colab": {
          "base_uri": "https://localhost:8080/"
        },
        "outputId": "39e5c48f-b1c8-49e1-a644-b6b63e3126dd"
      },
      "execution_count": null,
      "outputs": [
        {
          "output_type": "stream",
          "name": "stderr",
          "text": [
            "WARNING:root:Since the GPL-licensed package `unidecode` is not installed, using Python's `unicodedata` package which yields worse results.\n"
          ]
        }
      ]
    },
    {
      "cell_type": "code",
      "source": [
        "#Converting into lower case\n",
        "def lower_case(text):\n",
        "    text_l=text.lower()\n",
        "    return text_l"
      ],
      "metadata": {
        "id": "j7nNPi1xUS7S"
      },
      "execution_count": null,
      "outputs": []
    },
    {
      "cell_type": "code",
      "source": [
        " # Remove all the occurrences of text that ends with .https and .com\n",
        "def remove_links(text):\n",
        "  remove_https = re.sub(r'http\\S+', '', text)\n",
        "  remove_com = re.sub(r\"\\[A-Za-z]*\\.com\", \"\", remove_https)\n",
        "  return remove_https"
      ],
      "metadata": {
        "id": "ww6aF3U7UUxi"
      },
      "execution_count": null,
      "outputs": []
    },
    {
      "cell_type": "code",
      "source": [
        " # Remove all hashtags\n",
        "def remove_hashtags(text):\n",
        "  remove_hashtags =re.sub(\"#[A-Za-z0-9_]+\",\"\", text)\n",
        "  remove_hashtags_c =re.sub(\"@[A-Za-z0-9_]+\",\"\", remove_hashtags )\n",
        "  return remove_hashtags_c"
      ],
      "metadata": {
        "id": "gqYCIn3UUXGh"
      },
      "execution_count": null,
      "outputs": []
    },
    {
      "cell_type": "code",
      "source": [
        "# Remove all emojis\n",
        "def remove_emojis(text):\n",
        "  text=clean(text, no_emoji=True)\n",
        "  return text\n"
      ],
      "metadata": {
        "id": "Io-DR3nRUZDi"
      },
      "execution_count": null,
      "outputs": []
    },
    {
      "cell_type": "code",
      "source": [
        "#Remove stop words \n",
        "def remove_stopword(text):\n",
        "    text=[word for word in text if not word in stopwords.words('english')]\n",
        "    return text"
      ],
      "metadata": {
        "id": "mVlkeP3nUa0u"
      },
      "execution_count": null,
      "outputs": []
    },
    {
      "cell_type": "code",
      "source": [
        "# Remove punctuations , full stops etc\n",
        "def remove_punctuations(text):\n",
        "  remove_punc = [re.sub(r'[^\\w\\s]','',word) for word in text]\n",
        "  return remove_punc\n"
      ],
      "metadata": {
        "id": "gWmu5hv_v_t-"
      },
      "execution_count": null,
      "outputs": []
    },
    {
      "cell_type": "code",
      "source": [
        "def processing(text):\n",
        "    text=lower_case(text)\n",
        "    text=remove_emojis(text)\n",
        "    text=remove_links(text)\n",
        "    text=remove_hashtags(text)\n",
        "    text=remove_punctuations(text)\n",
        "    text=\"\".join(text)\n",
        "    return text"
      ],
      "metadata": {
        "id": "cvqVFJiXUc3Z"
      },
      "execution_count": null,
      "outputs": []
    },
    {
      "cell_type": "code",
      "source": [
        "#sample example\n",
        "processing(\"How tommorrow ? ,  https://www.freecodecamp.org/news/python-web-scraping-tutorial/ #rammm @rammm 😂 ⤵️\")"
      ],
      "metadata": {
        "colab": {
          "base_uri": "https://localhost:8080/",
          "height": 36
        },
        "id": "1-JLYRWnUe6E",
        "outputId": "f7fb4bbf-e2d2-499d-c80e-4e9edf62ec35"
      },
      "execution_count": null,
      "outputs": [
        {
          "output_type": "execute_result",
          "data": {
            "text/plain": [
              "'how tommorrow     '"
            ],
            "application/vnd.google.colaboratory.intrinsic+json": {
              "type": "string"
            }
          },
          "metadata": {},
          "execution_count": 21
        }
      ]
    },
    {
      "cell_type": "code",
      "source": [
        "processed_data=[]\n",
        "for i in range(len(data)):\n",
        "      processed_data.append(processing(data['full_text'][i]))"
      ],
      "metadata": {
        "id": "ZqokXPBsUhRe"
      },
      "execution_count": null,
      "outputs": []
    },
    {
      "cell_type": "code",
      "source": [
        "!pip install langdetect"
      ],
      "metadata": {
        "colab": {
          "base_uri": "https://localhost:8080/"
        },
        "id": "rwYcXpv1UjkR",
        "outputId": "dde7b8da-c2ee-4d7f-c479-3fc861d53067"
      },
      "execution_count": null,
      "outputs": [
        {
          "output_type": "stream",
          "name": "stdout",
          "text": [
            "Looking in indexes: https://pypi.org/simple, https://us-python.pkg.dev/colab-wheels/public/simple/\n",
            "Collecting langdetect\n",
            "  Downloading langdetect-1.0.9.tar.gz (981 kB)\n",
            "\u001b[2K     \u001b[90m━━━━━━━━━━━━━━━━━━━━━━━━━━━━━━━━━━━━━━\u001b[0m \u001b[32m981.5/981.5 kB\u001b[0m \u001b[31m24.9 MB/s\u001b[0m eta \u001b[36m0:00:00\u001b[0m\n",
            "\u001b[?25h  Preparing metadata (setup.py) ... \u001b[?25l\u001b[?25hdone\n",
            "Requirement already satisfied: six in /usr/local/lib/python3.9/dist-packages (from langdetect) (1.16.0)\n",
            "Building wheels for collected packages: langdetect\n",
            "  Building wheel for langdetect (setup.py) ... \u001b[?25l\u001b[?25hdone\n",
            "  Created wheel for langdetect: filename=langdetect-1.0.9-py3-none-any.whl size=993243 sha256=c0463e2a80d4ce31194cd35d89ef0ee7f2f075b5909e7d0fc6cc3164d7de6314\n",
            "  Stored in directory: /root/.cache/pip/wheels/d1/c1/d9/7e068de779d863bc8f8fc9467d85e25cfe47fa5051fff1a1bb\n",
            "Successfully built langdetect\n",
            "Installing collected packages: langdetect\n",
            "Successfully installed langdetect-1.0.9\n"
          ]
        }
      ]
    },
    {
      "cell_type": "code",
      "source": [
        "from langdetect import detect\n",
        "from langdetect import DetectorFactory\n",
        "DetectorFactory.seed = 0"
      ],
      "metadata": {
        "id": "nJy_zUcdUl-5"
      },
      "execution_count": null,
      "outputs": []
    },
    {
      "cell_type": "code",
      "source": [
        "# To select only tweets written in english language from all tweets \n",
        "def is_english_tweet(x):\n",
        "    try:\n",
        "        lang = detect(x)\n",
        "        return lang == 'en'\n",
        "    except:\n",
        "        return False"
      ],
      "metadata": {
        "id": "HssdeyhcUog9"
      },
      "execution_count": null,
      "outputs": []
    },
    {
      "cell_type": "code",
      "source": [
        "final_processed_data=[]\n",
        "for x in processed_data:\n",
        "    if is_english_tweet(x):\n",
        "        final_processed_data.append(x)"
      ],
      "metadata": {
        "id": "52D-M1aIUqWR"
      },
      "execution_count": null,
      "outputs": []
    },
    {
      "cell_type": "code",
      "source": [
        "len(final_processed_data)"
      ],
      "metadata": {
        "id": "5aXX6RAjUumJ",
        "colab": {
          "base_uri": "https://localhost:8080/"
        },
        "outputId": "94387460-1c6f-4a74-8341-09c43a33ff64"
      },
      "execution_count": null,
      "outputs": [
        {
          "output_type": "execute_result",
          "data": {
            "text/plain": [
              "865"
            ]
          },
          "metadata": {},
          "execution_count": 27
        }
      ]
    },
    {
      "cell_type": "code",
      "source": [
        "# Converting the final processed data into dataframe\n",
        "df = pd.DataFrame(final_processed_data)\n",
        "df"
      ],
      "metadata": {
        "colab": {
          "base_uri": "https://localhost:8080/",
          "height": 423
        },
        "id": "Q1z8bDlDU2I5",
        "outputId": "67d87a05-545a-4a79-b507-85474fcd151e"
      },
      "execution_count": null,
      "outputs": [
        {
          "output_type": "execute_result",
          "data": {
            "text/plain": [
              "                                                     0\n",
              "0    flagging off of ajmerdelhi cantt vande bharat ...\n",
              "1    operating 6 days a week except wednesday the  ...\n",
              "2    journey through the heart of india from the ho...\n",
              "3    the honble pm shri\\n\\nji virtually flagsoff aj...\n",
              "4    15th vande bharat express train between ajmer ...\n",
              "..                                                 ...\n",
              "860  why should we fear when there is  ji  exclaime...\n",
              "861       effect of cambridge university degree\\n     \n",
              "862   from   soon\\nbjp leaders and workers have bee...\n",
              "863     a great experience amazing hospitality in t...\n",
              "864  prime minister shri narendra modi has expresse...\n",
              "\n",
              "[865 rows x 1 columns]"
            ],
            "text/html": [
              "\n",
              "  <div id=\"df-d2f62873-5950-4fcd-be9a-58c0f9fc4800\">\n",
              "    <div class=\"colab-df-container\">\n",
              "      <div>\n",
              "<style scoped>\n",
              "    .dataframe tbody tr th:only-of-type {\n",
              "        vertical-align: middle;\n",
              "    }\n",
              "\n",
              "    .dataframe tbody tr th {\n",
              "        vertical-align: top;\n",
              "    }\n",
              "\n",
              "    .dataframe thead th {\n",
              "        text-align: right;\n",
              "    }\n",
              "</style>\n",
              "<table border=\"1\" class=\"dataframe\">\n",
              "  <thead>\n",
              "    <tr style=\"text-align: right;\">\n",
              "      <th></th>\n",
              "      <th>0</th>\n",
              "    </tr>\n",
              "  </thead>\n",
              "  <tbody>\n",
              "    <tr>\n",
              "      <th>0</th>\n",
              "      <td>flagging off of ajmerdelhi cantt vande bharat ...</td>\n",
              "    </tr>\n",
              "    <tr>\n",
              "      <th>1</th>\n",
              "      <td>operating 6 days a week except wednesday the  ...</td>\n",
              "    </tr>\n",
              "    <tr>\n",
              "      <th>2</th>\n",
              "      <td>journey through the heart of india from the ho...</td>\n",
              "    </tr>\n",
              "    <tr>\n",
              "      <th>3</th>\n",
              "      <td>the honble pm shri\\n\\nji virtually flagsoff aj...</td>\n",
              "    </tr>\n",
              "    <tr>\n",
              "      <th>4</th>\n",
              "      <td>15th vande bharat express train between ajmer ...</td>\n",
              "    </tr>\n",
              "    <tr>\n",
              "      <th>...</th>\n",
              "      <td>...</td>\n",
              "    </tr>\n",
              "    <tr>\n",
              "      <th>860</th>\n",
              "      <td>why should we fear when there is  ji  exclaime...</td>\n",
              "    </tr>\n",
              "    <tr>\n",
              "      <th>861</th>\n",
              "      <td>effect of cambridge university degree\\n</td>\n",
              "    </tr>\n",
              "    <tr>\n",
              "      <th>862</th>\n",
              "      <td>from   soon\\nbjp leaders and workers have bee...</td>\n",
              "    </tr>\n",
              "    <tr>\n",
              "      <th>863</th>\n",
              "      <td>a great experience amazing hospitality in t...</td>\n",
              "    </tr>\n",
              "    <tr>\n",
              "      <th>864</th>\n",
              "      <td>prime minister shri narendra modi has expresse...</td>\n",
              "    </tr>\n",
              "  </tbody>\n",
              "</table>\n",
              "<p>865 rows × 1 columns</p>\n",
              "</div>\n",
              "      <button class=\"colab-df-convert\" onclick=\"convertToInteractive('df-d2f62873-5950-4fcd-be9a-58c0f9fc4800')\"\n",
              "              title=\"Convert this dataframe to an interactive table.\"\n",
              "              style=\"display:none;\">\n",
              "        \n",
              "  <svg xmlns=\"http://www.w3.org/2000/svg\" height=\"24px\"viewBox=\"0 0 24 24\"\n",
              "       width=\"24px\">\n",
              "    <path d=\"M0 0h24v24H0V0z\" fill=\"none\"/>\n",
              "    <path d=\"M18.56 5.44l.94 2.06.94-2.06 2.06-.94-2.06-.94-.94-2.06-.94 2.06-2.06.94zm-11 1L8.5 8.5l.94-2.06 2.06-.94-2.06-.94L8.5 2.5l-.94 2.06-2.06.94zm10 10l.94 2.06.94-2.06 2.06-.94-2.06-.94-.94-2.06-.94 2.06-2.06.94z\"/><path d=\"M17.41 7.96l-1.37-1.37c-.4-.4-.92-.59-1.43-.59-.52 0-1.04.2-1.43.59L10.3 9.45l-7.72 7.72c-.78.78-.78 2.05 0 2.83L4 21.41c.39.39.9.59 1.41.59.51 0 1.02-.2 1.41-.59l7.78-7.78 2.81-2.81c.8-.78.8-2.07 0-2.86zM5.41 20L4 18.59l7.72-7.72 1.47 1.35L5.41 20z\"/>\n",
              "  </svg>\n",
              "      </button>\n",
              "      \n",
              "  <style>\n",
              "    .colab-df-container {\n",
              "      display:flex;\n",
              "      flex-wrap:wrap;\n",
              "      gap: 12px;\n",
              "    }\n",
              "\n",
              "    .colab-df-convert {\n",
              "      background-color: #E8F0FE;\n",
              "      border: none;\n",
              "      border-radius: 50%;\n",
              "      cursor: pointer;\n",
              "      display: none;\n",
              "      fill: #1967D2;\n",
              "      height: 32px;\n",
              "      padding: 0 0 0 0;\n",
              "      width: 32px;\n",
              "    }\n",
              "\n",
              "    .colab-df-convert:hover {\n",
              "      background-color: #E2EBFA;\n",
              "      box-shadow: 0px 1px 2px rgba(60, 64, 67, 0.3), 0px 1px 3px 1px rgba(60, 64, 67, 0.15);\n",
              "      fill: #174EA6;\n",
              "    }\n",
              "\n",
              "    [theme=dark] .colab-df-convert {\n",
              "      background-color: #3B4455;\n",
              "      fill: #D2E3FC;\n",
              "    }\n",
              "\n",
              "    [theme=dark] .colab-df-convert:hover {\n",
              "      background-color: #434B5C;\n",
              "      box-shadow: 0px 1px 3px 1px rgba(0, 0, 0, 0.15);\n",
              "      filter: drop-shadow(0px 1px 2px rgba(0, 0, 0, 0.3));\n",
              "      fill: #FFFFFF;\n",
              "    }\n",
              "  </style>\n",
              "\n",
              "      <script>\n",
              "        const buttonEl =\n",
              "          document.querySelector('#df-d2f62873-5950-4fcd-be9a-58c0f9fc4800 button.colab-df-convert');\n",
              "        buttonEl.style.display =\n",
              "          google.colab.kernel.accessAllowed ? 'block' : 'none';\n",
              "\n",
              "        async function convertToInteractive(key) {\n",
              "          const element = document.querySelector('#df-d2f62873-5950-4fcd-be9a-58c0f9fc4800');\n",
              "          const dataTable =\n",
              "            await google.colab.kernel.invokeFunction('convertToInteractive',\n",
              "                                                     [key], {});\n",
              "          if (!dataTable) return;\n",
              "\n",
              "          const docLinkHtml = 'Like what you see? Visit the ' +\n",
              "            '<a target=\"_blank\" href=https://colab.research.google.com/notebooks/data_table.ipynb>data table notebook</a>'\n",
              "            + ' to learn more about interactive tables.';\n",
              "          element.innerHTML = '';\n",
              "          dataTable['output_type'] = 'display_data';\n",
              "          await google.colab.output.renderOutput(dataTable, element);\n",
              "          const docLink = document.createElement('div');\n",
              "          docLink.innerHTML = docLinkHtml;\n",
              "          element.appendChild(docLink);\n",
              "        }\n",
              "      </script>\n",
              "    </div>\n",
              "  </div>\n",
              "  "
            ]
          },
          "metadata": {},
          "execution_count": 28
        }
      ]
    },
    {
      "cell_type": "code",
      "source": [
        "df.to_csv(\"dataset_vandebharatexpress_p.csv\")"
      ],
      "metadata": {
        "id": "FzOrLbikU4u1"
      },
      "execution_count": null,
      "outputs": []
    },
    {
      "cell_type": "markdown",
      "source": [
        "# Tokenization"
      ],
      "metadata": {
        "id": "RhfBeNiMyCYF"
      }
    },
    {
      "cell_type": "code",
      "source": [
        "import nltk\n",
        "nltk.download('punkt')"
      ],
      "metadata": {
        "colab": {
          "base_uri": "https://localhost:8080/"
        },
        "id": "RAVtL98jVANG",
        "outputId": "1a7d9497-9469-4dcf-ca1a-80ef1a91007d"
      },
      "execution_count": null,
      "outputs": [
        {
          "output_type": "stream",
          "name": "stderr",
          "text": [
            "[nltk_data] Downloading package punkt to /root/nltk_data...\n",
            "[nltk_data]   Unzipping tokenizers/punkt.zip.\n"
          ]
        },
        {
          "output_type": "execute_result",
          "data": {
            "text/plain": [
              "True"
            ]
          },
          "metadata": {},
          "execution_count": 30
        }
      ]
    },
    {
      "cell_type": "code",
      "source": [
        "from nltk.tokenize import word_tokenize"
      ],
      "metadata": {
        "id": "N4BnD7W_VG6V"
      },
      "execution_count": null,
      "outputs": []
    },
    {
      "cell_type": "code",
      "source": [
        "t_processed_data=[]\n",
        "for x in final_processed_data:\n",
        "  y=word_tokenize(x) \n",
        "  t_processed_data.append(y)"
      ],
      "metadata": {
        "id": "U2IcrZrvVJb4"
      },
      "execution_count": null,
      "outputs": []
    },
    {
      "cell_type": "code",
      "source": [
        "len(t_processed_data)"
      ],
      "metadata": {
        "colab": {
          "base_uri": "https://localhost:8080/"
        },
        "id": "3vMe-6SlVLZy",
        "outputId": "93733a1e-a051-47be-ebb2-cd3802097cd6"
      },
      "execution_count": null,
      "outputs": [
        {
          "output_type": "execute_result",
          "data": {
            "text/plain": [
              "865"
            ]
          },
          "metadata": {},
          "execution_count": 33
        }
      ]
    },
    {
      "cell_type": "code",
      "source": [
        "t_processed_data[0]"
      ],
      "metadata": {
        "colab": {
          "base_uri": "https://localhost:8080/"
        },
        "id": "RDaRCkRcVNsu",
        "outputId": "6d0480a8-aa31-4f93-bf66-9976e7273189"
      },
      "execution_count": null,
      "outputs": [
        {
          "output_type": "execute_result",
          "data": {
            "text/plain": [
              "['flagging',\n",
              " 'off',\n",
              " 'of',\n",
              " 'ajmerdelhi',\n",
              " 'cantt',\n",
              " 'vande',\n",
              " 'bharat',\n",
              " 'express',\n",
              " 'by',\n",
              " 'honble',\n",
              " 'prime',\n",
              " 'minister',\n",
              " 'shri',\n",
              " 'narendra',\n",
              " 'modi',\n",
              " 'on',\n",
              " '12042023',\n",
              " 'via',\n",
              " 'video',\n",
              " 'conferencing']"
            ]
          },
          "metadata": {},
          "execution_count": 34
        }
      ]
    },
    {
      "cell_type": "markdown",
      "source": [
        "# POS tagging"
      ],
      "metadata": {
        "id": "6gaYBo7zwojg"
      }
    },
    {
      "cell_type": "code",
      "source": [
        "nltk.download('averaged_perceptron_tagger')"
      ],
      "metadata": {
        "colab": {
          "base_uri": "https://localhost:8080/"
        },
        "id": "R7PtuJ63VQA9",
        "outputId": "d79ab0f8-2268-4cba-9502-433c1246321b"
      },
      "execution_count": null,
      "outputs": [
        {
          "output_type": "stream",
          "name": "stderr",
          "text": [
            "[nltk_data] Downloading package averaged_perceptron_tagger to\n",
            "[nltk_data]     /root/nltk_data...\n",
            "[nltk_data]   Unzipping taggers/averaged_perceptron_tagger.zip.\n"
          ]
        },
        {
          "output_type": "execute_result",
          "data": {
            "text/plain": [
              "True"
            ]
          },
          "metadata": {},
          "execution_count": 35
        }
      ]
    },
    {
      "cell_type": "code",
      "source": [
        "POS_processed_data=[]\n",
        "for x in final_processed_data :\n",
        "  tokens = word_tokenize(x)\n",
        "  pos_tags = nltk.pos_tag(tokens)\n",
        "  POS_processed_data.append(pos_tags)"
      ],
      "metadata": {
        "id": "0guDk-lOVSxD"
      },
      "execution_count": null,
      "outputs": []
    },
    {
      "cell_type": "code",
      "source": [
        "POS_processed_data[0]"
      ],
      "metadata": {
        "colab": {
          "base_uri": "https://localhost:8080/"
        },
        "id": "yla0QH-xVVV_",
        "outputId": "525ae3e7-2c60-4438-fcd4-3cab63d1a463"
      },
      "execution_count": null,
      "outputs": [
        {
          "output_type": "execute_result",
          "data": {
            "text/plain": [
              "[('flagging', 'VBG'),\n",
              " ('off', 'IN'),\n",
              " ('of', 'IN'),\n",
              " ('ajmerdelhi', 'NN'),\n",
              " ('cantt', 'NN'),\n",
              " ('vande', 'NN'),\n",
              " ('bharat', 'NN'),\n",
              " ('express', 'NN'),\n",
              " ('by', 'IN'),\n",
              " ('honble', 'JJ'),\n",
              " ('prime', 'JJ'),\n",
              " ('minister', 'NN'),\n",
              " ('shri', 'NN'),\n",
              " ('narendra', 'FW'),\n",
              " ('modi', 'NN'),\n",
              " ('on', 'IN'),\n",
              " ('12042023', 'CD'),\n",
              " ('via', 'IN'),\n",
              " ('video', 'NN'),\n",
              " ('conferencing', 'VBG')]"
            ]
          },
          "metadata": {},
          "execution_count": 38
        }
      ]
    },
    {
      "cell_type": "markdown",
      "source": [
        "# Lemmatization"
      ],
      "metadata": {
        "id": "5439Qok-yLa8"
      }
    },
    {
      "cell_type": "code",
      "source": [
        " from nltk.stem import WordNetLemmatizer"
      ],
      "metadata": {
        "id": "1N8BXIMEw3pv"
      },
      "execution_count": null,
      "outputs": []
    },
    {
      "cell_type": "code",
      "source": [
        "nltk.download('wordnet')\n",
        "nltk.download('stopwords')"
      ],
      "metadata": {
        "colab": {
          "base_uri": "https://localhost:8080/"
        },
        "id": "2dg2wTaDw4-i",
        "outputId": "064d473e-6261-43ae-e8ae-9909e7617eef"
      },
      "execution_count": null,
      "outputs": [
        {
          "output_type": "stream",
          "name": "stderr",
          "text": [
            "[nltk_data] Downloading package wordnet to /root/nltk_data...\n",
            "[nltk_data] Downloading package stopwords to /root/nltk_data...\n",
            "[nltk_data]   Package stopwords is already up-to-date!\n"
          ]
        },
        {
          "output_type": "execute_result",
          "data": {
            "text/plain": [
              "True"
            ]
          },
          "metadata": {},
          "execution_count": 40
        }
      ]
    },
    {
      "cell_type": "code",
      "source": [
        "lemmatizer = WordNetLemmatizer()\n",
        "stop_words = set(stopwords.words('english'))\n"
      ],
      "metadata": {
        "id": "X27O7Notw_zB"
      },
      "execution_count": null,
      "outputs": []
    },
    {
      "cell_type": "code",
      "source": [
        "def lemmatize_tweet(tweet):\n",
        "    # Tokenize the tweet\n",
        "    words = nltk.word_tokenize(tweet.lower())\n",
        "    \n",
        "    # Remove stop words and lemmatize each word\n",
        "    lemmatized_words = [lemmatizer.lemmatize(word) for word in words if word not in stop_words]\n",
        "    \n",
        "    # Join the lemmatized words back into a string\n",
        "    lemmatized_tweet = ' '.join(lemmatized_words)\n",
        "    \n",
        "    return lemmatized_tweet"
      ],
      "metadata": {
        "id": "P-0rEAqZw_mT"
      },
      "execution_count": null,
      "outputs": []
    },
    {
      "cell_type": "code",
      "source": [
        "l_processed_data=[]\n",
        "for x in final_processed_data:\n",
        "  y=lemmatize_tweet(x) \n",
        "  l_processed_data.append(y)"
      ],
      "metadata": {
        "id": "PgMoDYUsxGdO"
      },
      "execution_count": null,
      "outputs": []
    },
    {
      "cell_type": "code",
      "source": [
        "# l_processed_data[300:400]"
      ],
      "metadata": {
        "id": "hPcYyiD7xJ-l"
      },
      "execution_count": null,
      "outputs": []
    },
    {
      "cell_type": "markdown",
      "source": [
        "# Vectorization (Using Spacy)"
      ],
      "metadata": {
        "id": "9KoQiz0txUG8"
      }
    },
    {
      "cell_type": "code",
      "source": [
        "import spacy\n",
        "\n",
        "# Load the pre-trained spaCy model\n",
        "nlp = spacy.load(\"en_core_web_sm\")"
      ],
      "metadata": {
        "id": "8UC5IkhYVX4J"
      },
      "execution_count": null,
      "outputs": []
    },
    {
      "cell_type": "code",
      "source": [
        "def get_word_embeddings(text):\n",
        "    doc = nlp(text)\n",
        "    embeddings = []\n",
        "    for token in doc:\n",
        "        if not token.is_stop:\n",
        "          embeddings.append(token.vector)\n",
        "    return embeddings"
      ],
      "metadata": {
        "id": "22ejNO_dVbmv"
      },
      "execution_count": null,
      "outputs": []
    },
    {
      "cell_type": "code",
      "source": [
        "we_processed_data=[]\n",
        "for sentence in l_processed_data:\n",
        "  we_processed_data.append(get_word_embeddings(sentence))"
      ],
      "metadata": {
        "id": "VpAmcAtAVhZG"
      },
      "execution_count": null,
      "outputs": []
    },
    {
      "cell_type": "markdown",
      "source": [
        "\n",
        "\n",
        "1. final_processed_data - List of english tweets of one hastag after preprocessing\n",
        "\n",
        "2. t_processed_data - List of tokens after converting tweets into tokens \n",
        "3. l_processed_data - List after lemmatizing the tokens\n",
        "4. POS_processed_data - List containing token along with POS tags \n",
        "5. we_processed_data - List after vectorizing \n"
      ],
      "metadata": {
        "id": "vTKTfb1BhE-Q"
      }
    }
  ]
}